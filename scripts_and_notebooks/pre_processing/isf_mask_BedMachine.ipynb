{
 "cells": [
  {
   "cell_type": "code",
   "execution_count": null,
   "id": "round-comparative",
   "metadata": {},
   "outputs": [],
   "source": [
    "\"\"\"\n",
    "Created on Wed Feb 19 11:49 2022\n",
    "\n",
    "This script computes the ice shelf mask, and box and plume characteristics from the BedMachine data for Figure 8.\n",
    "It uses functions from the package multimelt.\n",
    "\n",
    "@author: Clara Burgard\n",
    "\"\"\""
   ]
  },
  {
   "cell_type": "code",
   "execution_count": null,
   "id": "noble-yorkshire",
   "metadata": {},
   "outputs": [],
   "source": [
    "import xarray as xr\n",
    "import numpy as np\n",
    "from pyproj import Transformer\n",
    "import pandas as pd\n",
    "from tqdm.notebook import trange, tqdm\n",
    "\n",
    "import assess_param_funcs.plume_functions as pf\n",
    "import assess_param_funcs.box_functions as bf\n",
    "import assess_param_funcs.useful_functions as uf\n",
    "import assess_param_funcs.create_isf_mask_functions as isfmf\n",
    "\n",
    "import distributed\n"
   ]
  },
  {
   "cell_type": "code",
   "execution_count": null,
   "id": "738e9b00-b824-45f8-af5e-b987e226e84a",
   "metadata": {},
   "outputs": [],
   "source": [
    "#client = distributed.Client(n_workers=8, dashboard_address=':8795', local_directory='/tmp', memory_limit='4GB')"
   ]
  },
  {
   "cell_type": "code",
   "execution_count": null,
   "id": "involved-pearl",
   "metadata": {},
   "outputs": [],
   "source": [
    "%matplotlib qt5"
   ]
  },
  {
   "cell_type": "code",
   "execution_count": null,
   "id": "naked-expense",
   "metadata": {},
   "outputs": [],
   "source": [
    "map_lim = [-3000000,3000000]\n",
    "\n",
    "#chunk_size = 700\n",
    "chunk_size = False"
   ]
  },
  {
   "cell_type": "code",
   "execution_count": null,
   "id": "568ead46-6a6a-4080-ab49-3667bb2baf5a",
   "metadata": {},
   "outputs": [],
   "source": [
    "BedMachine_folder = '' #_reduced5 # reduced 5 would be smaller file, sampling only every 5th point"
   ]
  },
  {
   "cell_type": "code",
   "execution_count": null,
   "id": "foster-beauty",
   "metadata": {},
   "outputs": [],
   "source": [
    "######\n",
    "###### READ IN DATA\n",
    "######\n",
    "\n",
    "inputpath_data='/bettik/burgardc/DATA/BASAL_MELT_PARAM/raw/BEDMACHINE_RTOPO/'\n",
    "inputpath_metadata='/bettik/burgardc/SCRIPTS/basal_melt_param/data/raw/MASK_METADATA/'\n",
    "outputpath_mask ='/bettik/burgardc/DATA/BASAL_MELT_PARAM/interim/ANTARCTICA_IS_MASKS/BedMachine_for_comparison'+BedMachine_folder+'/'\n",
    "outputpath_boxes = '/bettik/burgardc/DATA/BASAL_MELT_PARAM/interim/BOXES/BedMachine_for_comparison'+BedMachine_folder+'/'\n",
    "outputpath_plumes = '/bettik/burgardc/DATA/BASAL_MELT_PARAM/interim/PLUMES/BedMachine_for_comparison'+BedMachine_folder+'/'\n",
    "\n",
    "\n",
    "file_mask_orig = xr.open_dataset(inputpath_data+'BedMachineAntarctica_2020-07-15_v02'+BedMachine_folder+'.nc')\n",
    "file_mask_orig_cut = uf.cut_domain_stereo(file_mask_orig, map_lim, map_lim)"
   ]
  },
  {
   "cell_type": "code",
   "execution_count": null,
   "id": "0fcc1fc7-ba01-431c-ab99-2b99ff805cd5",
   "metadata": {},
   "outputs": [],
   "source": [
    "file_msk = file_mask_orig_cut['mask'].where(file_mask_orig_cut['mask']!=3,-1)\n",
    "file_msk = file_msk.where(file_msk < 1, 2)\n",
    "file_msk = file_msk.where(file_msk != -1, 1) #0 = ocean, 1 = ice shelves, 2 = grounded ice"
   ]
  },
  {
   "cell_type": "code",
   "execution_count": null,
   "id": "chief-benefit",
   "metadata": {},
   "outputs": [],
   "source": [
    "file_bed_orig = -1*file_mask_orig_cut['bed']\n",
    "file_draft = (file_mask_orig_cut['thickness'] - file_mask_orig_cut['surface']).where(file_msk==1)\n",
    "file_isf_conc = file_draft*0 + 1\n",
    "\n",
    "xx = file_msk['x']\n",
    "yy = file_msk['y']\n"
   ]
  },
  {
   "cell_type": "markdown",
   "id": "sublime-davis",
   "metadata": {},
   "source": [
    "Create the masks for ice shelves/ground/pinning points/grounding line"
   ]
  },
  {
   "cell_type": "code",
   "execution_count": null,
   "id": "passing-expression",
   "metadata": {},
   "outputs": [],
   "source": [
    "whole_ds = isfmf.create_mask_and_metadata_isf(file_msk, -1*file_bed_orig, file_msk, -1*file_draft, file_isf_conc, False, \n",
    "                                              inputpath_metadata+'lonlat_masks.txt', outputpath_mask, \n",
    "                                              inputpath_metadata + 'iceshelves_metadata_Nico.txt', \n",
    "                                              ground_point ='no',write_ismask = 'no', write_groundmask = 'no', write_outfile='no', dist=120, add_fac=500)\n",
    "\n",
    "# Write to netcdf\n",
    "print('------- WRITE TO NETCDF -----------')\n",
    "whole_ds.to_netcdf(outputpath_mask + 'BedMachine'+BedMachine_folder+'_isf_masks_and_info_and_distance_new.nc','w')"
   ]
  },
  {
   "cell_type": "markdown",
   "id": "friendly-annual",
   "metadata": {},
   "source": [
    "Prepare the box characteristics (writes the output directly to files)"
   ]
  },
  {
   "cell_type": "code",
   "execution_count": null,
   "id": "dense-empty",
   "metadata": {},
   "outputs": [],
   "source": [
    "whole_ds = xr.open_dataset(outputpath_mask + 'BedMachine'+BedMachine_folder+'_isf_masks_and_info_and_distance_new.nc')\n",
    "\n",
    "nonnan_Nisf = whole_ds['Nisf'].where(np.isfinite(whole_ds['front_bot_depth_max']), drop=True).astype(int)\n",
    "file_isf_nonnan = whole_ds.sel(Nisf=nonnan_Nisf)\n",
    "large_isf = file_isf_nonnan['Nisf'].where(file_isf_nonnan['isf_area_here'] >= 2500, drop=True)\n",
    "#file_isf = file_isf_nonnan.sel(Nisf=large_isf)\n",
    "file_isf = file_isf_nonnan.sel(Nisf=[66]) # we only need Pine Island for our application"
   ]
  },
  {
   "cell_type": "code",
   "execution_count": null,
   "id": "ceramic-feature",
   "metadata": {},
   "outputs": [],
   "source": [
    "isf_var_of_int = whole_ds[['ISF_mask', 'GL_mask', 'dGL', 'dIF', 'latitude', 'longitude', 'isf_name']]\n",
    "out_2D, out_1D = bf.box_charac_file(file_isf['Nisf'],isf_var_of_int, -1*file_draft, file_isf_conc, outputpath_boxes, max_nb_box=10)\n",
    "out_2D.to_netcdf(outputpath_boxes + 'BedMachine'+BedMachine_folder+'_boxes_2D.nc') #reduced5_\n",
    "out_1D.to_netcdf(outputpath_boxes + 'BedMachine'+BedMachine_folder+'_boxes_1D.nc') #reduced5_"
   ]
  },
  {
   "cell_type": "markdown",
   "id": "unique-ukraine",
   "metadata": {},
   "source": [
    "Prepare the plume characteristics"
   ]
  },
  {
   "cell_type": "code",
   "execution_count": null,
   "id": "authorized-grocery",
   "metadata": {},
   "outputs": [],
   "source": [
    "plume_param_options = ['simple','lazero', 'appenB']\n",
    "\n",
    "plume_var_of_int = file_isf[['ISF_mask', 'GL_mask', 'IF_mask', 'dIF', 'dGL_dIF', 'latitude', 'longitude', 'front_ice_depth_avg']]\n",
    "\n",
    "# Compute the ice draft\n",
    "ice_draft_pos = file_draft\n",
    "# Be careful with ice shelf 178 and 195 - they have a negative ice draft\n",
    "# I don't know how to fix it at the moment so I put it to nan\n",
    "#ice_draft_pos = ice_draft_pos.where(plume_var_of_int['ISF_mask'] != 178, np.nan)\n",
    "#ice_draft_pos = ice_draft_pos.where(plume_var_of_int['ISF_mask'] != 195, np.nan)\n",
    "\n",
    "ice_draft_neg = -1*ice_draft_pos\n",
    "\n",
    "\n",
    "plume_charac = pf.prepare_plume_charac(plume_param_options, ice_draft_pos, plume_var_of_int)\n",
    "print('------ WRITE TO NETCDF -------')\n",
    "plume_charac.to_netcdf(outputpath_plumes+'BedMachine'+BedMachine_folder+'_plume_characteristics.nc')"
   ]
  },
  {
   "cell_type": "markdown",
   "id": "distinct-watershed",
   "metadata": {},
   "source": [
    "CHECK RESULTS"
   ]
  },
  {
   "cell_type": "code",
   "execution_count": null,
   "id": "distinct-turkey",
   "metadata": {},
   "outputs": [],
   "source": [
    "whole_ds = xr.open_dataset(outputpath_mask + 'BedMachine'+BedMachine_folder+'_isf_masks_and_info_and_distance_new.nc')"
   ]
  }
 ],
 "metadata": {
  "kernelspec": {
   "display_name": "ice_shelf_mask",
   "language": "python",
   "name": "ice_shelf_mask"
  },
  "language_info": {
   "codemirror_mode": {
    "name": "ipython",
    "version": 3
   },
   "file_extension": ".py",
   "mimetype": "text/x-python",
   "name": "python",
   "nbconvert_exporter": "python",
   "pygments_lexer": "ipython3",
   "version": "3.8.5"
  }
 },
 "nbformat": 4,
 "nbformat_minor": 5
}
