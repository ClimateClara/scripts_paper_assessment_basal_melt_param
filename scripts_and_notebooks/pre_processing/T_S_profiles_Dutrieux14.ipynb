{
 "cells": [
  {
   "cell_type": "code",
   "execution_count": null,
   "id": "ce727664-5248-4d61-8992-ffedd673939b",
   "metadata": {},
   "outputs": [],
   "source": [
    "\"\"\"\n",
    "Created on Wed Feb 19 15:34 2022\n",
    "\n",
    "This is to prepare the temperature and salinity profiles from Dutrieux et al., 2014 for Figure 8.\n",
    "\n",
    "@author: Clara Burgard\n",
    "\n",
    "\"\"\""
   ]
  },
  {
   "cell_type": "code",
   "execution_count": null,
   "id": "6699c88a-903a-410e-a4a3-963806683665",
   "metadata": {},
   "outputs": [],
   "source": [
    "import xarray as xr\n",
    "import numpy as np\n",
    "import pandas as pd\n",
    "from tqdm.notebook import tqdm\n",
    "import matplotlib.pyplot as plt\n",
    "import assess_param_funcs.useful_functions as uf\n",
    "import assess_param_funcs.T_S_profile_functions as tspf\n",
    "import assess_param_funcs.melt_functions as meltf\n",
    "import assess_param_funcs.box_functions as bf\n",
    "\n",
    "import itertools\n",
    "\n",
    "import distributed\n",
    "import glob"
   ]
  },
  {
   "cell_type": "code",
   "execution_count": null,
   "id": "fb6742d9-72dd-427e-8529-8b2afbfefe41",
   "metadata": {},
   "outputs": [],
   "source": [
    "inputpath_profiles='/bettik/burgardc/SCRIPTS/basal_melt_param/data/raw/T_S_PROF/DUTRIEUX_2014/'\n",
    "outputpath_profiles='/bettik/burgardc/SCRIPTS/basal_melt_param/data/interim/T_S_PROF/dutrieux_2014/'"
   ]
  },
  {
   "cell_type": "code",
   "execution_count": null,
   "id": "675f7f1e-cdc9-4132-87f9-07d9a4d04929",
   "metadata": {},
   "outputs": [],
   "source": [
    "data = np.load(inputpath_profiles+'profile_Dutrieux_S_1994.npy')"
   ]
  },
  {
   "cell_type": "code",
   "execution_count": null,
   "id": "1ba99765-a317-424a-8b50-4381bdc065ab",
   "metadata": {},
   "outputs": [],
   "source": [
    "depth_to_interp = np.arange(10,1400,10)"
   ]
  },
  {
   "cell_type": "code",
   "execution_count": null,
   "id": "a43ab494-b96d-46e9-8df1-fb68fe9ed7db",
   "metadata": {},
   "outputs": [],
   "source": [
    "dates_Dutrieux = [1994,2000,2007,2009,2010,2012]\n",
    "\n",
    "T_list = []\n",
    "S_list = []\n",
    "for yy in dates_Dutrieux:\n",
    "    depth_S_year = np.load(inputpath_profiles+'profile_Dutrieux_S_plev_'+str(yy)+'.npy')\n",
    "    S_year = xr.DataArray(data=np.load(inputpath_profiles+'profile_Dutrieux_S_'+str(yy)+'.npy'), dims={'depth'})\n",
    "    S_year = S_year.assign_coords({'depth': depth_S_year}).expand_dims({'Nisf':1})\n",
    "    S_year_interp = S_year.interp({'depth': depth_to_interp})\n",
    "    S_list.append(S_year_interp)\n",
    "\n",
    "    depth_T_year = np.load(inputpath_profiles+'profile_Dutrieux_T_plev_'+str(yy)+'.npy')\n",
    "    T_year = xr.DataArray(data=np.load(inputpath_profiles+'profile_Dutrieux_T_'+str(yy)+'.npy'), dims={'depth'})\n",
    "    T_year = T_year.assign_coords({'depth': depth_T_year}).expand_dims({'Nisf':1})\n",
    "    T_year_interp = T_year.interp({'depth': depth_to_interp})\n",
    "    T_list.append(T_year_interp)\n",
    "\n",
    "T_all = xr.concat(T_list, dim='time')\n",
    "T_all = T_all.assign_coords({'time': dates_Dutrieux}).rename('theta_ocean')\n",
    "S_all = xr.concat(S_list, dim='time')\n",
    "S_all = S_all.assign_coords({'time': dates_Dutrieux}).rename('salinity_ocean')\n",
    "\n",
    "dutrieux_obs = xr.merge([T_all, S_all]).assign_coords({'Nisf': [66]})"
   ]
  },
  {
   "cell_type": "code",
   "execution_count": null,
   "id": "f557cb0c-4964-43b7-a7fd-be53c38cd338",
   "metadata": {},
   "outputs": [],
   "source": [
    "dutrieux_obs.to_netcdf(outputpath_profiles+'T_S_profiles_dutrieux2014_PIGL.nc')"
   ]
  },
  {
   "cell_type": "code",
   "execution_count": null,
   "id": "9dda2f43-6dd8-412f-960b-8e8bffe0946f",
   "metadata": {},
   "outputs": [],
   "source": []
  }
 ],
 "metadata": {
  "kernelspec": {
   "display_name": "ice_shelf_mask",
   "language": "python",
   "name": "ice_shelf_mask"
  },
  "language_info": {
   "codemirror_mode": {
    "name": "ipython",
    "version": 3
   },
   "file_extension": ".py",
   "mimetype": "text/x-python",
   "name": "python",
   "nbconvert_exporter": "python",
   "pygments_lexer": "ipython3",
   "version": "3.8.5"
  }
 },
 "nbformat": 4,
 "nbformat_minor": 5
}
