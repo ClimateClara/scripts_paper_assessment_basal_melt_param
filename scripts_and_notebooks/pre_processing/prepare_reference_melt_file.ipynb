{
 "cells": [
  {
   "cell_type": "code",
   "execution_count": null,
   "id": "48a4f118-5c0b-4ac3-975b-d57631642043",
   "metadata": {},
   "outputs": [],
   "source": [
    "\"\"\"\n",
    "Created on Fri Apr 8 10:29 2022\n",
    "\n",
    "Prepare reference metrics in NEMO for tuning and evaluation\n",
    "\n",
    "@author: Clara Burgard\n",
    "\"\"\""
   ]
  },
  {
   "cell_type": "code",
   "execution_count": null,
   "id": "d21425c4-9233-4042-a62d-13046ef1afd9",
   "metadata": {},
   "outputs": [],
   "source": [
    "import xarray as xr\n",
    "import numpy as np\n",
    "import pandas as pd\n",
    "from tqdm.notebook import tqdm\n",
    "import matplotlib.pyplot as plt\n",
    "import basal_melt_param.useful_functions as uf\n",
    "from basal_melt_param.constants import *\n",
    "import matplotlib as mpl\n",
    "import glob"
   ]
  },
  {
   "cell_type": "code",
   "execution_count": null,
   "id": "516b2665-0086-4c4a-b95b-043215ccf9c7",
   "metadata": {},
   "outputs": [],
   "source": [
    "# make the domain a little smaller to make the computation even more efficient - file isf has already been made smaller at its creation\n",
    "map_lim = [-3000000,3000000]"
   ]
  },
  {
   "cell_type": "code",
   "execution_count": null,
   "id": "e802d65f-2f24-4f62-8793-2c23bc1ce8e7",
   "metadata": {},
   "outputs": [],
   "source": [
    "nemo_run = 'OPM021'\n",
    "\n",
    "if nemo_run == 'OPM006':\n",
    "    yy_start = 1980\n",
    "    yy_end = 2018\n",
    "elif nemo_run == 'OPM021':\n",
    "    yy_start = 1989\n",
    "    yy_end = 2018\n",
    "elif nemo_run == 'OPM016' or nemo_run == 'OPM018':\n",
    "    yy_start = 1980\n",
    "    yy_end = 2008"
   ]
  },
  {
   "cell_type": "markdown",
   "id": "7c008fde-844f-42c0-b7c8-ad6746b88e7e",
   "metadata": {},
   "source": [
    "READ IN DATA"
   ]
  },
  {
   "cell_type": "code",
   "execution_count": null,
   "id": "3666d6a0-45fd-482b-859e-f39bdf25934f",
   "metadata": {},
   "outputs": [],
   "source": [
    "inputpath_data='/bettik/burgardc/SCRIPTS/basal_melt_param/data/interim/NEMO_eORCA025.L121_'+nemo_run+'_ANT_STEREO/'\n",
    "inputpath_mask = '/bettik/burgardc/SCRIPTS/basal_melt_param/data/interim/ANTARCTICA_IS_MASKS/nemo_5km_'+nemo_run+'/'\n",
    "inputpath_profiles = '/bettik/burgardc/SCRIPTS/basal_melt_param/data/interim/T_S_PROF/nemo_5km_'+nemo_run+'/'\n",
    "inputpath_boxes = '/bettik/burgardc/SCRIPTS/basal_melt_param/data/interim/BOXES/nemo_5km_'+nemo_run+'/'\n",
    "path_simple = '/bettik/burgardc/SCRIPTS/basal_melt_param/data/interim/SIMPLE/nemo_5km_'+nemo_run+'/'\n",
    "path_plumes = '/bettik/burgardc/SCRIPTS/basal_melt_param/data/interim/PLUMES/nemo_5km_'+nemo_run+'/'\n",
    "path_boxes = '/bettik/burgardc/SCRIPTS/basal_melt_param/data/interim/BOXES/nemo_5km_'+nemo_run+'/'\n",
    "outputpath_melt = '/bettik/burgardc/SCRIPTS/basal_melt_param/data/processed/MELT_RATE/nemo_5km_'+nemo_run+'/'\n",
    "outputpath = '/bettik/burgardc/SCRIPTS/basal_melt_param/data/interim/'\n",
    "plot_path = '/bettik/burgardc/PLOTS/generic_plots/'"
   ]
  },
  {
   "cell_type": "code",
   "execution_count": null,
   "id": "f417b4a8-576c-44c2-96d6-2199f80bbf66",
   "metadata": {},
   "outputs": [],
   "source": [
    "file_isf_orig = xr.open_mfdataset(inputpath_mask+'nemo_5km_isf_masks_and_info_and_distance_new_oneFRIS.nc')\n",
    "nonnan_Nisf = file_isf_orig['Nisf'].where(np.isfinite(file_isf_orig['front_bot_depth_max']), drop=True).astype(int)\n",
    "file_isf_nonnan = file_isf_orig.sel(Nisf=nonnan_Nisf)\n",
    "large_isf = file_isf_nonnan['Nisf'].where(file_isf_nonnan['isf_area_here'] >= 2500, drop=True)\n",
    "file_isf = file_isf_nonnan.sel(Nisf=large_isf)\n",
    "\n",
    "file_conc = xr.open_mfdataset(inputpath_data+'isfdraft_conc_Ant_stereo.nc')\n",
    "file_conc_cut = uf.cut_domain_stereo(file_conc, map_lim, map_lim)#.chunk(chunks={'x': chunk_size, 'y': chunk_size})"
   ]
  },
  {
   "cell_type": "code",
   "execution_count": null,
   "id": "8e49ae39-e86a-4f8b-b6af-af38ea5df4df",
   "metadata": {},
   "outputs": [],
   "source": [
    "isf_mask = (file_isf['ISF_mask'] == file_isf.Nisf)"
   ]
  },
  {
   "cell_type": "code",
   "execution_count": null,
   "id": "c99f84ca-c41e-4fc0-8bb4-c8690d745ff3",
   "metadata": {},
   "outputs": [],
   "source": [
    "xx = file_isf.x\n",
    "yy = file_isf.y\n",
    "dx = (xx[2] - xx[1]).values\n",
    "dy = (yy[2] - yy[1]).values\n",
    "grid_cell_area = abs(dx*dy)"
   ]
  },
  {
   "cell_type": "markdown",
   "id": "ecde40ce-8e08-4420-b50d-bda0eac1c908",
   "metadata": {},
   "source": [
    "only do once"
   ]
  },
  {
   "cell_type": "code",
   "execution_count": null,
   "id": "c2f84880-a597-4b42-9cb8-c3ea30f435d2",
   "metadata": {},
   "outputs": [],
   "source": [
    "melt_files = list(sorted(glob.glob(inputpath_data+'cavity_melt_*_Ant_stereo.nc')))\n",
    "ds_melt  = xr.open_mfdataset(melt_files, concat_dim='new_time', combine='nested')#, chunks={'x': chunksize, 'y': chunksize})\n",
    "ds_melt = ds_melt.squeeze('time')\n",
    "ds_melt = ds_melt.rename({'new_time': 'time'})\n",
    "ds_melt = ds_melt.assign_coords(time=np.arange(yy_start, yy_end+1))\n",
    "ds_melt_cut = uf.cut_domain_stereo(ds_melt, map_lim, map_lim)"
   ]
  },
  {
   "cell_type": "code",
   "execution_count": null,
   "id": "f700d77b-91ce-481c-8b22-150a46276daf",
   "metadata": {},
   "outputs": [],
   "source": [
    "ds_melt_cut.to_netcdf(inputpath_data+'cavity_melt_'+str(yy_start)+'-'+str(yy_end)+'_Ant_stereo.nc')"
   ]
  },
  {
   "cell_type": "markdown",
   "id": "2a8d1c40-2e89-47fc-a052-b6803a942c85",
   "metadata": {},
   "source": [
    "2D m ice per y"
   ]
  },
  {
   "cell_type": "code",
   "execution_count": null,
   "id": "2c61f7da-4695-4d21-9efd-9757f369500d",
   "metadata": {},
   "outputs": [],
   "source": [
    "ds_melt_cut = xr.open_mfdataset(inputpath_data+'cavity_melt_'+str(yy_start)+'-'+str(yy_end)+'_Ant_stereo.nc')"
   ]
  },
  {
   "cell_type": "code",
   "execution_count": null,
   "id": "ba1494a6-87fd-4cc4-b970-21bd09f408eb",
   "metadata": {},
   "outputs": [],
   "source": [
    "melt_m_ice_per_y_whole_cell = -1*(ds_melt_cut['melt_cavity']*yearinsec/rho_i) # convert from kg/m2/s\n",
    "melt_m_ice_per_y = melt_m_ice_per_y_whole_cell/file_conc_cut['isfdraft_conc'] # correct by ice shelf concentration"
   ]
  },
  {
   "cell_type": "code",
   "execution_count": null,
   "id": "7d19b775-b731-447d-939c-9ba42024e6f2",
   "metadata": {},
   "outputs": [],
   "source": [
    "melt_m_ice_per_y.to_dataset(name='melt_m_ice_per_y').to_netcdf(outputpath_melt+'melt_rates_2D_NEMO.nc')"
   ]
  },
  {
   "cell_type": "markdown",
   "id": "eb997c74-6a9e-4f15-be52-99bd686d166a",
   "metadata": {},
   "source": [
    "1D in Gt per y"
   ]
  },
  {
   "cell_type": "code",
   "execution_count": null,
   "id": "a4865ba7-0153-4fe1-921a-a92024556355",
   "metadata": {},
   "outputs": [],
   "source": [
    "chunked_mask = isf_mask.chunk({'x': 500, 'y': 500})\n",
    "file_isf_conc = file_conc['isfdraft_conc'].where(chunked_mask)\n",
    "melt_m_ice_per_y_avg = melt_m_ice_per_y_whole_cell.where(chunked_mask).mean(['x','y'])"
   ]
  },
  {
   "cell_type": "code",
   "execution_count": null,
   "id": "0558f068-82b6-499f-be3f-f51814f87798",
   "metadata": {},
   "outputs": [],
   "source": [
    "NEMO_melt_rates_1D = xr.Dataset({'melt_m_ice_per_y_avg': (melt_m_ice_per_y_avg.dims, melt_m_ice_per_y_avg.data)}, \n",
    "                                coords=melt_m_ice_per_y_avg.coords)"
   ]
  },
  {
   "cell_type": "code",
   "execution_count": null,
   "id": "a61b0460-81dd-415d-8e55-e672d30645ae",
   "metadata": {},
   "outputs": [],
   "source": [
    "NEMO_melt_rates_1D['melt_Gt_per_y_tot'] = -1*ds_melt_cut['melt_cavity'].where(chunked_mask).sum(['x','y']) * grid_cell_area * yearinsec / 10**12\n",
    "\n",
    "NEMO_melt_rates_1D['isf_area'] = (isf_mask*file_isf_conc).sum(['x','y'])*grid_cell_area"
   ]
  },
  {
   "cell_type": "code",
   "execution_count": null,
   "id": "5464d81c-fa8e-4096-8bff-9ca8d02d3ce6",
   "metadata": {},
   "outputs": [],
   "source": [
    "NEMO_melt_rates_1D.to_netcdf(outputpath_melt+'melt_rates_1D_NEMO_oneFRIS.nc','w')"
   ]
  },
  {
   "cell_type": "markdown",
   "id": "701067af-eb2b-4b0a-8af9-b215e5bfad83",
   "metadata": {},
   "source": [
    "Time mean 2D"
   ]
  },
  {
   "cell_type": "code",
   "execution_count": null,
   "id": "ef3f5742-25cc-4a56-918f-f5d9c245e891",
   "metadata": {},
   "outputs": [],
   "source": [
    "NEMO_melt_rates_2D = xr.open_mfdataset(outputpath_melt+'melt_rates_2D_NEMO.nc')"
   ]
  },
  {
   "cell_type": "code",
   "execution_count": null,
   "id": "b5e4868b-4bc4-4f68-8651-972a12a7e1eb",
   "metadata": {},
   "outputs": [],
   "source": [
    "NEMO_melt_rates_2D_timmean = NEMO_melt_rates_2D.mean('time')\n",
    "NEMO_melt_rates_2D_timmean.to_netcdf(outputpath_melt+'melt_rates_2D_NEMO_timmean.nc')"
   ]
  },
  {
   "cell_type": "markdown",
   "id": "c8cddbd1-6e2a-45a5-8325-ff770203b8a7",
   "metadata": {},
   "source": [
    "Box 1 "
   ]
  },
  {
   "cell_type": "code",
   "execution_count": null,
   "id": "d43dc2bf-1f40-4a16-8037-0d61abbd6229",
   "metadata": {},
   "outputs": [],
   "source": [
    "grid_cell_area = abs(dx*dy)  \n",
    "grid_cell_area_weighted = file_isf_conc * grid_cell_area\n",
    "\n",
    "isf_stack_mask = uf.create_stacked_mask(file_isf['ISF_mask'], file_isf.Nisf, ['y','x'], 'mask_coord')"
   ]
  },
  {
   "cell_type": "code",
   "execution_count": null,
   "id": "ce3a3844-b863-4035-b9a0-fa0c164471cf",
   "metadata": {},
   "outputs": [],
   "source": [
    "# Box characteristics\n",
    "box_charac_all_2D = xr.open_dataset(inputpath_boxes + 'nemo_5km_boxes_2D_oneFRIS.nc')\n",
    "box_charac_all_1D = xr.open_dataset(inputpath_boxes + 'nemo_5km_boxes_1D_oneFRIS.nc')\n",
    "box_loc_config2 = box_charac_all_2D['box_location'].sel(box_nb_tot=box_charac_all_1D['nD_config'].sel(config=2))\n",
    "\n",
    "box1 = box_loc_config2.where(box_loc_config2==1).isel(Nisf=0).drop('Nisf')\n",
    "\n",
    "file_isf_conc = file_conc['isfdraft_conc']\n",
    "\n",
    "# Reference 2D \n",
    "ref_melt_2D = xr.open_dataset(outputpath_melt+'melt_rates_2D_NEMO.nc')\n",
    "\n",
    "# Reference (in m/yr)\n",
    "box1_list = []\n",
    "ref_box1_myr_list = []\n",
    "    \n",
    "for kisf in tqdm(file_isf.Nisf.values):\n",
    "    isf_conc_isf = uf.choose_isf(file_isf_conc, isf_stack_mask, kisf)\n",
    "    box_loc_config_stacked = uf.choose_isf(box1, isf_stack_mask, kisf)\n",
    "    ref_melt_2D_box1_isf = uf.choose_isf(ref_melt_2D['melt_m_ice_per_y'], isf_stack_mask, kisf).where(np.isfinite(box_loc_config_stacked))\n",
    "    ref_melt_2D_box1_isf_mean = uf.weighted_mean(ref_melt_2D_box1_isf,['mask_coord'], isf_conc_isf)\n",
    "    ref_box1_myr_list.append(ref_melt_2D_box1_isf_mean)\n",
    "\n",
    "ref_box1_myr_all = xr.concat(ref_box1_myr_list, dim='Nisf')\n",
    "\n",
    "ref_box1_myr_all.to_dataset(name='mean_melt_box1_myr').to_netcdf(outputpath_melt+'melt_rates_box1_NEMO_oneFRIS.nc')"
   ]
  }
 ],
 "metadata": {
  "kernelspec": {
   "display_name": "ice_shelf_mask",
   "language": "python",
   "name": "ice_shelf_mask"
  },
  "language_info": {
   "codemirror_mode": {
    "name": "ipython",
    "version": 3
   },
   "file_extension": ".py",
   "mimetype": "text/x-python",
   "name": "python",
   "nbconvert_exporter": "python",
   "pygments_lexer": "ipython3",
   "version": "3.8.5"
  }
 },
 "nbformat": 4,
 "nbformat_minor": 5
}
