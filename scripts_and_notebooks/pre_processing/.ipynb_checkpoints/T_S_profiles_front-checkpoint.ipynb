{
 "cells": [
  {
   "cell_type": "code",
   "execution_count": null,
   "id": "junior-special",
   "metadata": {},
   "outputs": [],
   "source": [
    "\"\"\"\n",
    "Created on Wed Mar 24 16:18 2020\n",
    "\n",
    "This is a script to cut out the T and S and average them over the domains of 10, 25, 50, 100 km in front of the ice shelf and an offshore domain\n",
    "\n",
    "@author: Clara Burgard\n",
    "\"\"\""
   ]
  },
  {
   "cell_type": "code",
   "execution_count": null,
   "id": "unavailable-brain",
   "metadata": {},
   "outputs": [],
   "source": [
    "import xarray as xr\n",
    "import numpy as np\n",
    "import pandas as pd\n",
    "from tqdm import tqdm\n",
    "import matplotlib.pyplot as plt\n",
    "import assess_param_funcs.useful_functions as uf\n",
    "import assess_param_funcs.T_S_profile_functions as tspf\n",
    "import assess_param_funcs.melt_functions as meltf\n",
    "import assess_param_funcs.box_functions as bf\n",
    "\n",
    "from scipy.spatial import cKDTree\n",
    "\n",
    "\n",
    "import itertools\n",
    "\n",
    "import distributed\n",
    "import glob"
   ]
  },
  {
   "cell_type": "markdown",
   "id": "grave-technical",
   "metadata": {},
   "source": [
    "READ IN THE DATA"
   ]
  },
  {
   "cell_type": "code",
   "execution_count": null,
   "id": "fbf02249-4960-461f-9a78-c91b904c4db9",
   "metadata": {},
   "outputs": [],
   "source": [
    "nemo_run = 'OPM006'\n",
    "\n",
    "if nemo_run == 'OPM006':\n",
    "    yy_start = 1989\n",
    "    yy_end = 2018\n",
    "elif nemo_run == 'OPM021':\n",
    "    yy_start = 1989\n",
    "    yy_end = 2018\n",
    "elif nemo_run == 'OPM016' or nemo_run == 'OPM018':\n",
    "    yy_start = 1980\n",
    "    yy_end = 2008"
   ]
  },
  {
   "cell_type": "code",
   "execution_count": null,
   "id": "fewer-nightlife",
   "metadata": {},
   "outputs": [],
   "source": [
    "inputpath_data='/bettik/burgardc/SCRIPTS/basal_melt_param/data/interim/NEMO_eORCA025.L121_'+nemo_run+'_ANT_STEREO/'\n",
    "inputpath_profiles='/bettik/burgardc/SCRIPTS/basal_melt_param/data/interim/T_S_PROF/nemo_5km_'+nemo_run+'/'\n",
    "inputpath_isf='/bettik/burgardc/SCRIPTS/basal_melt_param/data/interim/ANTARCTICA_IS_MASKS/nemo_5km_'+nemo_run+'/'\n",
    "\n",
    "# make the domain a little smaller to make the computation even more efficient - file isf has already been made smaller at its creation\n",
    "map_lim = [-3000000,3000000]"
   ]
  },
  {
   "cell_type": "markdown",
   "id": "mighty-minnesota",
   "metadata": {},
   "source": [
    "PREPARE MASK AROUND FRONT (TO RUN WITHOUT DASK!)"
   ]
  },
  {
   "cell_type": "code",
   "execution_count": null,
   "id": "scenic-import",
   "metadata": {},
   "outputs": [],
   "source": [
    "T_S_ocean_1980 = xr.open_dataset(inputpath_profiles+'T_S_theta_ocean_corrected_2000.nc')\n",
    "file_isf_orig = xr.open_dataset(inputpath_isf+'nemo_5km_isf_masks_and_info_and_distance_new.nc')\n",
    "nonnan_Nisf = file_isf_orig['Nisf'].where(np.isfinite(file_isf_orig['front_bot_depth_max']), drop=True).astype(int)\n",
    "file_isf = file_isf_orig.sel(Nisf=nonnan_Nisf)"
   ]
  },
  {
   "cell_type": "code",
   "execution_count": null,
   "id": "running-gothic",
   "metadata": {},
   "outputs": [],
   "source": [
    "file_mask_orig = xr.open_dataset(inputpath_data+'mask_variables_of_interest_Ant_stereo.nc')\n",
    "file_mask = uf.cut_domain_stereo(file_mask_orig, map_lim, map_lim).squeeze().drop('time')"
   ]
  },
  {
   "cell_type": "code",
   "execution_count": null,
   "id": "numerical-annotation",
   "metadata": {},
   "outputs": [],
   "source": [
    "lon = file_isf['longitude']\n",
    "lat = file_isf['latitude']"
   ]
  },
  {
   "cell_type": "code",
   "execution_count": null,
   "id": "divine-silence",
   "metadata": {},
   "outputs": [],
   "source": [
    "ocean = np.isfinite(T_S_ocean_1980['theta_ocean'].isel(time=0,depth=0)).drop('time').drop('depth')\n",
    "# only points below 1500 m\n",
    "offshore = file_mask['bathy_metry'] > 1500 # .drop('lon').drop('lat')\n",
    "# only points above 1500 m\n",
    "contshelf = file_mask['bathy_metry'] <= 1500 # .drop('lon').drop('lat')"
   ]
  },
  {
   "cell_type": "code",
   "execution_count": null,
   "id": "closed-organic",
   "metadata": {},
   "outputs": [],
   "source": [
    "#mask_domains = (ocean & contshelf).load() #<= checked if it does what it should and it does! :)\n",
    "#mask_domains = (ocean).load()\n",
    "# NB: 5.0 x 1.75 is the effective resolution at 70S for a model of 1 degree resolution in longitude (assuming 5 delta X and a Mercator grid)\n",
    "mask_domains = xr.DataArray([(ocean & contshelf), (ocean & offshore)],\n",
    "                            dims={'profile_domain': ['close_cont_shelf','offshore'], 'y': contshelf.y, 'x': contshelf.x}).load()\n",
    "\n",
    "lon_box = xr.DataArray(np.array([10.0, 10.0]), coords=[('profile_domain', ['close_cont_shelf','offshore'])])\n",
    "lat_box = xr.DataArray(np.array([3.5, 3.5]), coords=[('profile_domain', ['close_cont_shelf','offshore'])])  "
   ]
  },
  {
   "cell_type": "code",
   "execution_count": null,
   "id": "prepared-argument",
   "metadata": {},
   "outputs": [],
   "source": [
    "close_region_around_isf_mask = tspf.mask_boxes_around_IF_new(lon, lat, mask_domains, \n",
    "                                    file_isf['front_min_lon'], file_isf['front_max_lon'], \n",
    "                                    file_isf['front_min_lat'], file_isf['front_max_lat'],  \n",
    "                                    lon_box, lat_box, \n",
    "                                    file_isf['isf_name'])"
   ]
  },
  {
   "cell_type": "code",
   "execution_count": null,
   "id": "superior-giant",
   "metadata": {},
   "outputs": [],
   "source": [
    "dist_list = [ ]\n",
    "for kisf in tqdm(file_isf['Nisf']):\n",
    "        \n",
    "        if (file_isf['IF_mask']==kisf).sum() > 0:\n",
    "            region_to_cut_out = close_region_around_isf_mask.sel(profile_domain='close_cont_shelf').sel(Nisf=kisf)\n",
    "            region_to_cut_out = region_to_cut_out.where(region_to_cut_out > 0, drop=True)\n",
    "            IF_region = file_isf['IF_mask'].where(file_isf['IF_mask']==kisf, drop=True)\n",
    "\n",
    "            dist_from_front = tspf.distance_isf_points_from_line_small_domain(region_to_cut_out,IF_region)\n",
    "            dist_list.append(dist_from_front)\n",
    "    \n",
    "dist_all = xr.concat(dist_list, dim='Nisf').reindex_like(file_isf)"
   ]
  },
  {
   "cell_type": "code",
   "execution_count": null,
   "id": "early-coral",
   "metadata": {},
   "outputs": [],
   "source": [
    "dist_all.to_dataset(name='dist_from_front').to_netcdf(inputpath_profiles+'dist_to_ice_front_only_contshelf.nc')\n",
    "#dist_all.to_dataset(name='dist_from_front').to_netcdf(inputpath_profiles+'dist_to_ice_front_whole_domain.nc')"
   ]
  },
  {
   "cell_type": "code",
   "execution_count": null,
   "id": "registered-captain",
   "metadata": {},
   "outputs": [],
   "source": [
    "close_region_around_isf_mask.sel(profile_domain='offshore').to_dataset(name='mask').to_netcdf(inputpath_profiles+'mask_offshore.nc')"
   ]
  },
  {
   "cell_type": "markdown",
   "id": "streaming-flood",
   "metadata": {},
   "source": [
    "COMPUTING THE MEAN PROFILES (TO RUN WITH DASK)"
   ]
  },
  {
   "cell_type": "code",
   "execution_count": null,
   "id": "vietnamese-tribe",
   "metadata": {},
   "outputs": [],
   "source": [
    "client = distributed.Client(n_workers=24, dashboard_address=':8795', local_directory='/tmp', memory_limit='6GB')"
   ]
  },
  {
   "cell_type": "code",
   "execution_count": null,
   "id": "boolean-provincial",
   "metadata": {},
   "outputs": [],
   "source": [
    "client"
   ]
  },
  {
   "cell_type": "markdown",
   "id": "blond-stamp",
   "metadata": {},
   "source": [
    "CONTINENTAL SHELF"
   ]
  },
  {
   "cell_type": "code",
   "execution_count": null,
   "id": "presidential-administration",
   "metadata": {},
   "outputs": [],
   "source": [
    "bbox_da = xr.DataArray(np.array([10000., 25000., 50000., 100000.]), coords=[('dist_from_front', [10,25,50,100])])"
   ]
  },
  {
   "cell_type": "markdown",
   "id": "overall-retro",
   "metadata": {},
   "source": [
    "If workers don't die (with 12 cores, took approx 1hour), if workers die, divide work by years"
   ]
  },
  {
   "cell_type": "code",
   "execution_count": null,
   "id": "compact-fleet",
   "metadata": {},
   "outputs": [],
   "source": [
    "all_in_one = False # False if worker die, True if workers don't die\n",
    "if all_in_one:\n",
    "    dist_to_front_file = xr.open_mfdataset(inputpath_profiles+'dist_to_ice_front_only_contshelf.nc',chunks={'x': 50, 'y': 50})\n",
    "    T_S_ocean_files = xr.open_mfdataset(inputpath_profiles+'T_S_theta_ocean_corrected_*.nc', concat_dim='time', chunks={'x': 50, 'y': 50, 'depth': 50}, parallel=True)\n",
    "    #T_S_ocean_1980 = xr.open_mfdataset(inputpath_profiles+'T_S_theta_ocean_corrected_1990.nc',chunks={'x': 50, 'y': 50, 'depth': 50})\n",
    "    T_S_ocean_1980 = xr.open_mfdataset(inputpath_profiles+'T_S_theta_ocean_corrected_2000.nc',chunks={'x': 50, 'y': 50, 'depth': 50})\n",
    "else:\n",
    "    dist_to_front_file = xr.open_mfdataset(inputpath_profiles+'dist_to_ice_front_only_contshelf.nc',chunks={'x': 100, 'y': 100})\n",
    "    T_S_ocean_files = xr.open_mfdataset(inputpath_profiles+'T_S_theta_ocean_corrected_*.nc', concat_dim='time', chunks={'x': 100, 'y': 100, 'depth': 50}, parallel=True)\n",
    "    #T_S_ocean_1980 = xr.open_mfdataset(inputpath_profiles+'T_S_theta_ocean_corrected_1990.nc',chunks={'x': 100, 'y': 100, 'depth': 50})\n",
    "    T_S_ocean_1980 = xr.open_mfdataset(inputpath_profiles+'T_S_theta_ocean_corrected_2000.nc',chunks={'x': 100, 'y': 100, 'depth': 50})\n",
    "dist_to_front = dist_to_front_file['dist_from_front']"
   ]
  },
  {
   "cell_type": "markdown",
   "id": "written-stockholm",
   "metadata": {},
   "source": [
    "Prepare sum"
   ]
  },
  {
   "cell_type": "code",
   "execution_count": null,
   "id": "saving-avatar",
   "metadata": {},
   "outputs": [],
   "source": [
    "mask_km = dist_to_front <= bbox_da"
   ]
  },
  {
   "cell_type": "code",
   "execution_count": null,
   "id": "floating-steam",
   "metadata": {},
   "outputs": [],
   "source": [
    "ds_sum = (T_S_ocean_files * mask_km).sum(['x','y'])"
   ]
  },
  {
   "cell_type": "code",
   "execution_count": null,
   "id": "canadian-briefing",
   "metadata": {},
   "outputs": [],
   "source": [
    "if all_in_one:\n",
    "    ds_sum = ds_sum.load()\n",
    "    ds_sum.to_netcdf(inputpath_profiles+'ds_sum_for_mean_contshelf.nc')\n",
    "else:\n",
    "    yearly_datasets = list(tspf.split_by_chunks(ds_sum.unify_chunks(),'time'))\n",
    "    paths = [tspf.create_filepath(ds, 'ds_sum_for_mean_contshelf', inputpath_profiles, ds.time[0].values) for ds in yearly_datasets]\n",
    "    xr.save_mfdataset(datasets=yearly_datasets, paths=paths)"
   ]
  },
  {
   "cell_type": "markdown",
   "id": "through-graph",
   "metadata": {},
   "source": [
    "Prepare number of points by which you divide"
   ]
  },
  {
   "cell_type": "code",
   "execution_count": null,
   "id": "freelance-involvement",
   "metadata": {},
   "outputs": [],
   "source": [
    "if all_in_one:\n",
    "    ds_sum = xr.open_mfdataset(inputpath_profiles+'ds_sum_for_mean_contshelf.nc')\n",
    "else:\n",
    "    ds_sum = xr.open_mfdataset(inputpath_profiles+'ds_sum_for_mean_contshelf_*.nc', concat_dim='time', parallel=True).drop('profile_domain')"
   ]
  },
  {
   "cell_type": "code",
   "execution_count": null,
   "id": "suburban-wedding",
   "metadata": {},
   "outputs": [],
   "source": [
    "mask_depth = T_S_ocean_1980['salinity_ocean'].squeeze().drop('time') >0\n",
    "mask_all = mask_km & mask_depth"
   ]
  },
  {
   "cell_type": "code",
   "execution_count": null,
   "id": "cooperative-renewal",
   "metadata": {},
   "outputs": [],
   "source": [
    "mask_sum = mask_all.sum(['x','y'])"
   ]
  },
  {
   "cell_type": "code",
   "execution_count": null,
   "id": "adapted-display",
   "metadata": {},
   "outputs": [],
   "source": [
    "mask_sum = mask_sum.load()"
   ]
  },
  {
   "cell_type": "markdown",
   "id": "excessive-dividend",
   "metadata": {},
   "source": [
    "Make the mean"
   ]
  },
  {
   "cell_type": "code",
   "execution_count": null,
   "id": "reserved-category",
   "metadata": {},
   "outputs": [],
   "source": [
    "ds_mean = ds_sum/mask_sum"
   ]
  },
  {
   "cell_type": "code",
   "execution_count": null,
   "id": "017240a3-741c-4283-90d6-7fbbc4946498",
   "metadata": {},
   "outputs": [],
   "source": [
    "ds_mean.drop('profile_domain')"
   ]
  },
  {
   "cell_type": "code",
   "execution_count": null,
   "id": "tough-burns",
   "metadata": {},
   "outputs": [],
   "source": [
    "ds_mean = ds_mean.drop('profile_domain').rename({'dist_from_front': 'profile_domain'})"
   ]
  },
  {
   "cell_type": "code",
   "execution_count": null,
   "id": "guilty-belize",
   "metadata": {},
   "outputs": [],
   "source": [
    "ds_mean.to_netcdf(inputpath_profiles+'T_S_mean_prof_corrected_km_contshelf_1980-2018.nc')"
   ]
  },
  {
   "cell_type": "markdown",
   "id": "sharing-destiny",
   "metadata": {},
   "source": [
    "OFFSHORE PROFILES"
   ]
  },
  {
   "cell_type": "code",
   "execution_count": null,
   "id": "accredited-principal",
   "metadata": {},
   "outputs": [],
   "source": [
    "T_S_ocean_files = xr.open_mfdataset(inputpath_profiles+'T_S_theta_ocean_corrected_*.nc', concat_dim='time', chunks={'x': 50, 'y': 50, 'depth': 50}, parallel=True)\n",
    "T_S_ocean_1980 = xr.open_mfdataset(inputpath_profiles+'T_S_theta_ocean_corrected_2000.nc',chunks={'x': 50, 'y': 50, 'depth': 50})"
   ]
  },
  {
   "cell_type": "code",
   "execution_count": null,
   "id": "fundamental-needle",
   "metadata": {},
   "outputs": [],
   "source": [
    "mask_offshore_file = xr.open_mfdataset(inputpath_profiles+'mask_offshore.nc')\n",
    "mask_offshore = mask_offshore_file['mask'].drop('profile_domain')\n",
    "mask_depth = T_S_ocean_1980['salinity_ocean'].squeeze().drop('time') >0\n",
    "mask_all_offshore = mask_offshore & mask_depth"
   ]
  },
  {
   "cell_type": "code",
   "execution_count": null,
   "id": "gorgeous-norfolk",
   "metadata": {},
   "outputs": [],
   "source": [
    "ds_sum_offshore = (T_S_ocean_files * mask_offshore).sum(['x','y'])\n",
    "ds_sum_offshore['profile_domain'] = np.array([1000])"
   ]
  },
  {
   "cell_type": "code",
   "execution_count": null,
   "id": "constant-excess",
   "metadata": {},
   "outputs": [],
   "source": [
    "ds_sum_offshore = ds_sum_offshore.load()\n",
    "ds_sum_offshore.to_netcdf(inputpath_profiles+'ds_sum_for_mean_offshore.nc')"
   ]
  },
  {
   "cell_type": "code",
   "execution_count": null,
   "id": "noticed-peripheral",
   "metadata": {},
   "outputs": [],
   "source": [
    "mask_sum_offshore = mask_all_offshore.sum(['x','y'])"
   ]
  },
  {
   "cell_type": "code",
   "execution_count": null,
   "id": "unusual-blood",
   "metadata": {},
   "outputs": [],
   "source": [
    "mask_sum_offshore = mask_sum_offshore.load()"
   ]
  },
  {
   "cell_type": "code",
   "execution_count": null,
   "id": "healthy-grenada",
   "metadata": {},
   "outputs": [],
   "source": [
    "ds_mean_offshore = ds_sum_offshore/mask_sum_offshore"
   ]
  },
  {
   "cell_type": "code",
   "execution_count": null,
   "id": "suspended-english",
   "metadata": {},
   "outputs": [],
   "source": [
    "ds_mean_offshore.to_netcdf(inputpath_profiles+'T_S_mean_prof_corrected_km_offshore_1980-2018.nc')"
   ]
  },
  {
   "cell_type": "markdown",
   "id": "blank-security",
   "metadata": {},
   "source": [
    "COMBINE BOTH"
   ]
  },
  {
   "cell_type": "code",
   "execution_count": null,
   "id": "sacred-particular",
   "metadata": {},
   "outputs": [],
   "source": [
    "ds_mean_offshore = xr.open_dataset(inputpath_profiles+'T_S_mean_prof_corrected_km_offshore_1980-2018.nc')\n",
    "ds_mean = xr.open_dataset(inputpath_profiles+'T_S_mean_prof_corrected_km_contshelf_1980-2018.nc')#.drop('profile_domain').rename({'dist_from_front':'profile_domain'})"
   ]
  },
  {
   "cell_type": "code",
   "execution_count": null,
   "id": "contemporary-hostel",
   "metadata": {},
   "outputs": [],
   "source": [
    "ds_mean_both = xr.concat([ds_mean, ds_mean_offshore], dim='profile_domain')\n",
    "ds_mean_both.to_netcdf(inputpath_profiles+'T_S_mean_prof_corrected_km_contshelf_and_offshore_1980-2018_oneFRIS.nc')"
   ]
  }
 ],
 "metadata": {
  "kernelspec": {
   "display_name": "ice_shelf_mask",
   "language": "python",
   "name": "ice_shelf_mask"
  },
  "language_info": {
   "codemirror_mode": {
    "name": "ipython",
    "version": 3
   },
   "file_extension": ".py",
   "mimetype": "text/x-python",
   "name": "python",
   "nbconvert_exporter": "python",
   "pygments_lexer": "ipython3",
   "version": "3.8.5"
  }
 },
 "nbformat": 4,
 "nbformat_minor": 5
}
