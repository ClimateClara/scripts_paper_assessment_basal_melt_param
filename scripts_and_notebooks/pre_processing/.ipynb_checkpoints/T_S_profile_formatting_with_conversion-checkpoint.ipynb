{
 "cells": [
  {
   "cell_type": "code",
   "execution_count": null,
   "id": "terminal-playback",
   "metadata": {},
   "outputs": [],
   "source": [
    "\"\"\"\n",
    "Created on Fri Jun 4 15:50 2020\n",
    "\n",
    "This is a script to convert the NEMO temperature and salinity to potential temperature and practical salinity\n",
    "\n",
    "@author: Clara Burgard\n",
    "\"\"\""
   ]
  },
  {
   "cell_type": "code",
   "execution_count": null,
   "id": "ongoing-qualification",
   "metadata": {},
   "outputs": [],
   "source": [
    "import xarray as xr\n",
    "import numpy as np\n",
    "import pandas as pd\n",
    "from tqdm.notebook import tqdm\n",
    "import gsw\n",
    "import matplotlib.pyplot as plt\n",
    "import assess_param_funcs.useful_functions as uf\n",
    "import assess_param_funcs.T_S_profile_functions as tspf\n",
    "import assess_param_funcs.melt_functions as meltf\n",
    "\n",
    "import itertools\n",
    "\n",
    "import distributed\n",
    "import glob"
   ]
  },
  {
   "cell_type": "code",
   "execution_count": null,
   "id": "early-appliance",
   "metadata": {},
   "outputs": [],
   "source": [
    "client = distributed.Client(n_workers=4, dashboard_address=':8795', local_directory='/tmp', memory_limit='6GB')\n"
   ]
  },
  {
   "cell_type": "code",
   "execution_count": null,
   "id": "greatest-whole",
   "metadata": {},
   "outputs": [],
   "source": [
    "client"
   ]
  },
  {
   "cell_type": "code",
   "execution_count": null,
   "id": "legal-builder",
   "metadata": {},
   "outputs": [],
   "source": [
    "%matplotlib qt5"
   ]
  },
  {
   "cell_type": "markdown",
   "id": "moral-median",
   "metadata": {},
   "source": [
    "READ IN DATA"
   ]
  },
  {
   "cell_type": "code",
   "execution_count": null,
   "id": "b6b2c5aa-01a5-4198-973d-545929b687bd",
   "metadata": {},
   "outputs": [],
   "source": [
    "nemo_run = 'OPM021'\n",
    "\n",
    "if nemo_run == 'OPM006':\n",
    "    yy_start = 1989\n",
    "    yy_end = 2018\n",
    "elif nemo_run == 'OPM021':\n",
    "    yy_start = 1989\n",
    "    yy_end = 2018\n",
    "elif nemo_run == 'OPM016' or nemo_run == 'OPM018':\n",
    "    yy_start = 1980\n",
    "    yy_end = 2008"
   ]
  },
  {
   "cell_type": "code",
   "execution_count": null,
   "id": "favorite-denial",
   "metadata": {},
   "outputs": [],
   "source": [
    "inputpath_data='/bettik/burgardc/SCRIPTS/basal_melt_param/data/interim/NEMO_eORCA025.L121_'+nemo_run+'_ANT_STEREO/'\n",
    "inputpath_profiles='/bettik/burgardc/SCRIPTS/basal_melt_param/data/interim/T_S_PROF/nemo_5km_'+nemo_run+'/'\n",
    "inputpath_isf='/bettik/burgardc/SCRIPTS/basal_melt_param/data/interim/ANTARCTICA_IS_MASKS/nemo_5km_'+nemo_run+'/'\n",
    "\n",
    "# make the domain a little smaller to make the computation even more efficient - file isf has already been made smaller at its creation\n",
    "map_lim = [-3000000,3000000]"
   ]
  },
  {
   "cell_type": "code",
   "execution_count": null,
   "id": "developed-broad",
   "metadata": {},
   "outputs": [],
   "source": [
    "file_mask = xr.open_mfdataset(inputpath_data+'mask_variables_of_interest_Ant_stereo.nc', chunks={'x': 600, 'y': 600})\n",
    "file_mask2 = xr.open_mfdataset(inputpath_data+'mask_depth_coord_Ant_stereo.nc')\n",
    "file_isf = xr.open_mfdataset(inputpath_isf+'nemo_5km_isf_masks_and_info_and_distance_new.nc', chunks={'x': 533, 'y': 533})\n",
    "file_mask_cutted = uf.cut_domain_stereo(file_mask, map_lim, map_lim).squeeze().drop('time')\n",
    "file_isf_cutted = uf.cut_domain_stereo(file_isf, map_lim, map_lim)#.squeeze().drop('time')\n",
    "\n",
    "file_TS_orig  = xr.open_mfdataset(inputpath_data+'variables_of_interest_2000_Ant_stereo.nc', chunks={'x': 600, 'y': 600})\n",
    "file_TS_orig_cutted = uf.cut_domain_stereo(file_TS_orig, map_lim, map_lim).squeeze().drop('time')"
   ]
  },
  {
   "cell_type": "code",
   "execution_count": null,
   "id": "secure-dancing",
   "metadata": {},
   "outputs": [],
   "source": [
    "lon = file_isf_cutted['longitude']\n",
    "lat = file_isf_cutted['latitude']"
   ]
  },
  {
   "cell_type": "code",
   "execution_count": null,
   "id": "nearby-forum",
   "metadata": {},
   "outputs": [],
   "source": [
    "ts_files = list(sorted(glob.glob(inputpath_data+'variables_of_interest_*_Ant_stereo.nc')))\n",
    "ds_ts  = xr.open_mfdataset(ts_files, concat_dim='new_time', combine='nested', chunks={'x': 600, 'y': 600})\n",
    "ds_ts = ds_ts[['votemper', 'vosaline', 'sosst']]\n",
    "ds_ts = ds_ts.squeeze('time')\n",
    "ds_ts = ds_ts.rename({'new_time': 'time'})\n",
    "ds_ts = ds_ts.assign_coords(time=np.arange(yy_start, yy_end+1))\n",
    "ds_ts_cutted = uf.cut_domain_stereo(ds_ts, map_lim, map_lim)"
   ]
  },
  {
   "cell_type": "markdown",
   "id": "respiratory-replica",
   "metadata": {},
   "source": [
    "Prepare the depth axis"
   ]
  },
  {
   "cell_type": "code",
   "execution_count": null,
   "id": "thorough-deposit",
   "metadata": {},
   "outputs": [],
   "source": [
    "nemo_depth = np.round(file_mask2['gdept_0'].squeeze(dim=['lon','lat']), 3) # round to mm scale - should be enough"
   ]
  },
  {
   "cell_type": "markdown",
   "id": "binding-thread",
   "metadata": {},
   "source": [
    "Cut out the temperature and salinity and assign the new depth axis"
   ]
  },
  {
   "cell_type": "code",
   "execution_count": null,
   "id": "handled-imaging",
   "metadata": {},
   "outputs": [],
   "source": [
    "ds_temp_saline_input = ds_ts_cutted[['votemper', 'vosaline']]\n",
    "ds_temp_saline_input = ds_temp_saline_input.rename({'votemper': 'temperature', 'vosaline': 'salinity'})\n",
    "ds_temp_saline_input = ds_temp_saline_input.rename({'deptht': 'depth'})\n",
    "ds_temp_saline_input['depth'] = np.round(ds_temp_saline_input.depth, 3)\n",
    "ds_temp_saline_input = ds_temp_saline_input.assign_coords(depth=nemo_depth.values)"
   ]
  },
  {
   "cell_type": "code",
   "execution_count": null,
   "id": "50e1035a-0e96-41f4-b97b-8b54296cc88f",
   "metadata": {},
   "outputs": [],
   "source": [
    "ds_temp_saline_input = ds_temp_saline_input.assign_coords(depth=nemo_depth.values).sel(time=range(1999,2011))"
   ]
  },
  {
   "cell_type": "code",
   "execution_count": null,
   "id": "immediate-mainland",
   "metadata": {},
   "outputs": [],
   "source": [
    "## only points where there is no bedrock - I think not needed for NEMO data\n",
    "#vert_mask = file_in_T['z_bnds'][:,1] > interp_bed['bed'] \n",
    "# only points of open ocean\n",
    "mask_ocean = np.isfinite(file_TS_orig_cutted['sosst']).squeeze()# == 1  #ocean without ice shelf cavity"
   ]
  },
  {
   "cell_type": "markdown",
   "id": "purple-wednesday",
   "metadata": {},
   "source": [
    "CONVERT CONSERVATIVE TEMPERATURE FOR OPEN OCEAN REGIONS TO POTENTIAL TEMPERATURE \n",
    "AND ABSOLUTE SALIINITY TO PRACTICAL SALINITY"
   ]
  },
  {
   "cell_type": "code",
   "execution_count": null,
   "id": "bacterial-certificate",
   "metadata": {},
   "outputs": [],
   "source": [
    "ds_temp_saline_input['theta_ocean'] = xr.apply_ufunc(gsw.pt_from_CT, ds_temp_saline_input['salinity'].where(mask_ocean), ds_temp_saline_input['temperature'].where(mask_ocean), dask = 'allowed')\n",
    "ds_temp_saline_input['salinity_ocean'] = xr.apply_ufunc(gsw.SP_from_SA, ds_temp_saline_input['salinity'].where(mask_ocean), ds_temp_saline_input['depth'], lon, lat, dask = 'allowed')\n",
    "ds_temp_saline_output = ds_temp_saline_input[['theta_ocean', 'salinity_ocean']]"
   ]
  },
  {
   "cell_type": "markdown",
   "id": "trying-efficiency",
   "metadata": {},
   "source": [
    "Write the results to multiple files (1 per year)"
   ]
  },
  {
   "cell_type": "code",
   "execution_count": null,
   "id": "approximate-failure",
   "metadata": {},
   "outputs": [],
   "source": [
    "yearly_datasets = list(tspf.split_by_chunks(ds_temp_saline_output.unify_chunks(),'time'))\n",
    "paths = [tspf.create_filepath(ds, 'T_S_theta_ocean_corrected', inputpath_profiles, ds.time[0].values) for ds in yearly_datasets]"
   ]
  },
  {
   "cell_type": "markdown",
   "id": "seven-genius",
   "metadata": {},
   "source": [
    "this takes approximately 1 min per year"
   ]
  },
  {
   "cell_type": "code",
   "execution_count": null,
   "id": "technological-arthritis",
   "metadata": {},
   "outputs": [],
   "source": [
    "xr.save_mfdataset(datasets=yearly_datasets, paths=paths)"
   ]
  }
 ],
 "metadata": {
  "kernelspec": {
   "display_name": "ice_shelf_mask",
   "language": "python",
   "name": "ice_shelf_mask"
  },
  "language_info": {
   "codemirror_mode": {
    "name": "ipython",
    "version": 3
   },
   "file_extension": ".py",
   "mimetype": "text/x-python",
   "name": "python",
   "nbconvert_exporter": "python",
   "pygments_lexer": "ipython3",
   "version": "3.8.5"
  }
 },
 "nbformat": 4,
 "nbformat_minor": 5
}
