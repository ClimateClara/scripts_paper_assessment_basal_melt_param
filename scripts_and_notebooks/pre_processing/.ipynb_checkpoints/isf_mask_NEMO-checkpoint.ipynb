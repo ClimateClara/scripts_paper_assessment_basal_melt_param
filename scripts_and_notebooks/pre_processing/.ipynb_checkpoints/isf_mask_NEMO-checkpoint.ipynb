{
 "cells": [
  {
   "cell_type": "code",
   "execution_count": null,
   "id": "round-comparative",
   "metadata": {},
   "outputs": [],
   "source": [
    "\"\"\"\n",
    "Created on Fri Feb 15 11:43 2021\n",
    "\n",
    "This script computes the ice shelf mask, and box and plume characteristics from the NEMO data for futher procedure.\n",
    "It uses functions from the package multimelt.\n",
    "\n",
    "@author: Clara Burgard\n",
    "\"\"\""
   ]
  },
  {
   "cell_type": "code",
   "execution_count": null,
   "id": "noble-yorkshire",
   "metadata": {},
   "outputs": [],
   "source": [
    "import xarray as xr\n",
    "import numpy as np\n",
    "from pyproj import Transformer\n",
    "import pandas as pd\n",
    "from tqdm.notebook import trange, tqdm\n",
    "import assess_param_funcs.plume_functions as pf\n",
    "import assess_param_funcs.box_functions as bf\n",
    "import assess_param_funcs.useful_functions as uf\n",
    "import assess_param_funcs.create_isf_mask_functions as isfmf"
   ]
  },
  {
   "cell_type": "code",
   "execution_count": null,
   "id": "involved-pearl",
   "metadata": {},
   "outputs": [],
   "source": [
    "%matplotlib qt5"
   ]
  },
  {
   "cell_type": "code",
   "execution_count": null,
   "id": "naked-expense",
   "metadata": {},
   "outputs": [],
   "source": [
    "map_lim = [-3000000,3000000]\n",
    "\n",
    "# if using dask, put this to True. But no guarantee that it works, I tried it out but was not very satisfied with it\n",
    "chunk_size = False"
   ]
  },
  {
   "cell_type": "code",
   "execution_count": null,
   "id": "648b12b8-3089-42cf-9d35-0487c31e43dd",
   "metadata": {},
   "outputs": [],
   "source": [
    "nemo_run = 'OPM021'"
   ]
  },
  {
   "cell_type": "markdown",
   "id": "e48cfd57-737c-4cd9-ae91-ee6e8b8081ce",
   "metadata": {},
   "source": [
    "READ IN DATA"
   ]
  },
  {
   "cell_type": "code",
   "execution_count": null,
   "id": "foster-beauty",
   "metadata": {},
   "outputs": [],
   "source": [
    "inputpath_data='/bettik/burgardc/SCRIPTS/basal_melt_param/data/interim/NEMO_eORCA025.L121_'+nemo_run+'_ANT_STEREO/'\n",
    "inputpath_metadata='/bettik/burgardc/SCRIPTS/basal_melt_param/data/raw/MASK_METADATA/'\n",
    "outputpath_mask='/bettik/burgardc/SCRIPTS/basal_melt_param/data/interim/ANTARCTICA_IS_MASKS/nemo_5km_'+nemo_run+'/'\n",
    "outputpath_mask_orig='/bettik/burgardc/SCRIPTS/basal_melt_param/data/interim/ANTARCTICA_IS_MASKS/nemo_5km/'\n",
    "outputpath_boxes = '/bettik/burgardc/SCRIPTS/basal_melt_param/data/interim/BOXES/nemo_5km_'+nemo_run+'/'\n",
    "outputpath_plumes = '/bettik/burgardc/SCRIPTS/basal_melt_param/data/interim/PLUMES/nemo_5km_'+nemo_run+'/'\n",
    "\n",
    "file_mask_orig = xr.open_dataset(inputpath_data+'other_mask_vars_Ant_stereo.nc')\n",
    "file_mask_orig_cut = uf.cut_domain_stereo(file_mask_orig, map_lim, map_lim)\n",
    "file_mask = xr.open_dataset(inputpath_data+'custom_lsmask_Ant_stereo_clean.nc')#, chunks={'x': chunk_size, 'y': chunk_size})\n",
    "file_mask_cut = uf.cut_domain_stereo(file_mask, map_lim, map_lim)\n",
    "file_other = xr.open_dataset(inputpath_data+'corrected_draft_bathy_isf.nc')#, chunks={'x': chunk_size, 'y': chunk_size})\n",
    "file_other_cut = uf.cut_domain_stereo(file_other, map_lim, map_lim)\n",
    "file_conc = xr.open_dataset(inputpath_data+'isfdraft_conc_Ant_stereo.nc')\n",
    "file_conc_cut = uf.cut_domain_stereo(file_conc, map_lim, map_lim)"
   ]
  },
  {
   "cell_type": "code",
   "execution_count": null,
   "id": "chief-benefit",
   "metadata": {},
   "outputs": [],
   "source": [
    "file_bed_orig = file_mask_orig_cut['bathy_metry'] \n",
    "file_draft = file_other_cut['corrected_isfdraft'] \n",
    "file_msk = file_mask_cut['ls_mask012'] #0 = ocean, 1 = ice shelves, 2 = grounded ice\n",
    "file_isf_conc = file_conc_cut['isfdraft_conc']\n",
    "\n",
    "xx = file_mask_cut['x']\n",
    "yy = file_mask_cut['y']\n"
   ]
  },
  {
   "cell_type": "markdown",
   "id": "sublime-davis",
   "metadata": {},
   "source": [
    "Create the masks for ice shelves/ground/pinning points/grounding line"
   ]
  },
  {
   "cell_type": "code",
   "execution_count": null,
   "id": "passing-expression",
   "metadata": {},
   "outputs": [],
   "source": [
    "whole_ds = isfmf.create_mask_and_metadata_isf(file_msk, -1*file_bed_orig, file_msk, -1*file_draft, file_isf_conc, False, \n",
    "                                              inputpath_metadata+'lonlat_masks.txt', outputpath_mask, \n",
    "                                              inputpath_metadata + 'iceshelves_metadata_Nico.txt', \n",
    "                                              inputpath_metadata+'GL_flux_rignot13.csv',\n",
    "                                              ground_point ='no',dist=40, add_fac=120)\n",
    "\n",
    "# Write to netcdf\n",
    "print('------- WRITE TO NETCDF -----------')\n",
    "#whole_ds.to_netcdf(outputpath_mask + 'nemo_5km_isf_masks_and_info_and_distance_new.nc','w') # separated Filchner and Ronne (before review)\n",
    "whole_ds.to_netcdf(outputpath_mask + 'nemo_5km_isf_masks_and_info_and_distance_new_oneFRIS.nc','w')"
   ]
  },
  {
   "cell_type": "markdown",
   "id": "friendly-annual",
   "metadata": {},
   "source": [
    "Prepare the box characteristics (writes the output directly to files)"
   ]
  },
  {
   "cell_type": "code",
   "execution_count": null,
   "id": "dense-empty",
   "metadata": {},
   "outputs": [],
   "source": [
    "#whole_ds = xr.open_dataset(outputpath_mask + 'nemo_5km_isf_masks_and_info_and_distance_new.nc') # separated Filchner and Ronne (before review)\n",
    "whole_ds = xr.open_dataset(outputpath_mask + 'nemo_5km_isf_masks_and_info_and_distance_new_oneFRIS.nc')\n",
    "\n",
    "nonnan_Nisf = whole_ds['Nisf'].where(np.isfinite(whole_ds['front_bot_depth_max']), drop=True).astype(int)\n",
    "file_isf_nonnan = whole_ds.sel(Nisf=nonnan_Nisf)\n",
    "large_isf = file_isf_nonnan['Nisf'].where(file_isf_nonnan['isf_area_here'] >= 2500, drop=True)\n",
    "file_isf = file_isf_nonnan.sel(Nisf=large_isf)"
   ]
  },
  {
   "cell_type": "code",
   "execution_count": null,
   "id": "ceramic-feature",
   "metadata": {},
   "outputs": [],
   "source": [
    "isf_var_of_int = whole_ds[['ISF_mask', 'GL_mask', 'dGL', 'dIF', 'latitude', 'longitude', 'isf_name']]\n",
    "out_2D, out_1D = bf.box_charac_file(file_isf['Nisf'],isf_var_of_int, -1*file_draft, file_isf_conc, outputpath_boxes, max_nb_box=10)\n",
    "#out_2D.to_netcdf(outputpath_boxes + 'nemo_5km_boxes_2D.nc') # separated Filchner and Ronne (before review)\n",
    "#out_1D.to_netcdf(outputpath_boxes + 'nemo_5km_boxes_1D.nc') # separated Filchner and Ronne (before review)\n",
    "out_2D.to_netcdf(outputpath_boxes + 'nemo_5km_boxes_2D_oneFRIS.nc')\n",
    "out_1D.to_netcdf(outputpath_boxes + 'nemo_5km_boxes_1D_oneFRIS.nc')"
   ]
  },
  {
   "cell_type": "markdown",
   "id": "unique-ukraine",
   "metadata": {},
   "source": [
    "Prepare the plume characteristics"
   ]
  },
  {
   "cell_type": "code",
   "execution_count": null,
   "id": "authorized-grocery",
   "metadata": {},
   "outputs": [],
   "source": [
    "plume_param_options = ['simple','lazero', 'appenB']\n",
    "\n",
    "plume_var_of_int = file_isf[['ISF_mask', 'GL_mask', 'IF_mask', 'dIF', 'dGL_dIF', 'latitude', 'longitude', 'front_ice_depth_avg']]\n",
    "\n",
    "# Compute the ice draft\n",
    "ice_draft_pos = file_draft\n",
    "ice_draft_neg = -1*ice_draft_pos\n",
    "\n",
    "\n",
    "plume_charac = pf.prepare_plume_charac(plume_param_options, ice_draft_pos, plume_var_of_int)\n",
    "print('------ WRITE TO NETCDF -------')\n",
    "#plume_charac.to_netcdf(outputpath_plumes+'nemo_5km_plume_characteristics.nc')\n",
    "plume_charac.to_netcdf(outputpath_plumes+'nemo_5km_plume_characteristics_oneFRIS.nc')"
   ]
  },
  {
   "cell_type": "markdown",
   "id": "distinct-watershed",
   "metadata": {},
   "source": [
    "CHECK RESULTS"
   ]
  },
  {
   "cell_type": "code",
   "execution_count": null,
   "id": "1dab85c2-744d-4b54-9eac-33a268307396",
   "metadata": {},
   "outputs": [],
   "source": [
    "whole_ds = xr.open_dataset(outputpath_mask + 'nemo_5km_isf_masks_and_info_and_distance_new_oneFRIS.nc')\n"
   ]
  },
  {
   "cell_type": "code",
   "execution_count": null,
   "id": "b5b2f63f-9dfa-4eb4-a7a9-88e34fb68905",
   "metadata": {},
   "outputs": [],
   "source": [
    "nonnan_Nisf = whole_ds['Nisf'].where(np.isfinite(whole_ds['front_bot_depth_max']), drop=True).astype(int)\n",
    "file_isf_nonnan = whole_ds.sel(Nisf=nonnan_Nisf)\n",
    "large_isf = file_isf_nonnan['Nisf'].where(file_isf_nonnan['isf_area_here'] >= 2500, drop=True)\n",
    "file_isf = file_isf_nonnan.sel(Nisf=large_isf)"
   ]
  },
  {
   "cell_type": "code",
   "execution_count": null,
   "id": "14723d99-bbce-4aa2-9b0f-7412df6f3117",
   "metadata": {},
   "outputs": [],
   "source": [
    "isf_mask = file_isf['ISF_mask'].where(file_isf['ISF_mask'] == file_isf.Nisf).sum('Nisf')\n",
    "isf_mask = isf_mask.where(isf_mask)"
   ]
  },
  {
   "cell_type": "code",
   "execution_count": null,
   "id": "962c4d54-0b17-4864-ab2e-45c118367935",
   "metadata": {},
   "outputs": [],
   "source": [
    "GL_flux = file_isf['GL_flux']"
   ]
  },
  {
   "cell_type": "code",
   "execution_count": null,
   "id": "19c47a59-ce93-45bc-8bb3-450011e4d85c",
   "metadata": {},
   "outputs": [],
   "source": [
    "GL_flux_new = GL_flux.where(isf_mask==file_isf.Nisf).sum('Nisf')\n",
    "GL_flux_new = GL_flux_new.where(GL_flux_new)"
   ]
  }
 ],
 "metadata": {
  "kernelspec": {
   "display_name": "ice_shelf_mask",
   "language": "python",
   "name": "ice_shelf_mask"
  },
  "language_info": {
   "codemirror_mode": {
    "name": "ipython",
    "version": 3
   },
   "file_extension": ".py",
   "mimetype": "text/x-python",
   "name": "python",
   "nbconvert_exporter": "python",
   "pygments_lexer": "ipython3",
   "version": "3.8.5"
  }
 },
 "nbformat": 4,
 "nbformat_minor": 5
}
