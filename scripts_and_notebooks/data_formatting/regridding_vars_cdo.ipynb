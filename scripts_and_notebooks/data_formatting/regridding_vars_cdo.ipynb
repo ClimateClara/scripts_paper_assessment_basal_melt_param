{
 "cells": [
  {
   "cell_type": "code",
   "execution_count": null,
   "id": "hundred-eclipse",
   "metadata": {},
   "outputs": [],
   "source": [
    "\"\"\"\n",
    "Created on Fri Feb 12 14:27 2021\n",
    "\n",
    "Use cdo to regrid the variables to stereographic grid with cdo\n",
    "to be used after \"custom_lsmask.ipynb\"\n",
    "\n",
    "@author: Clara Burgard\n",
    "\"\"\""
   ]
  },
  {
   "cell_type": "code",
   "execution_count": null,
   "id": "primary-principal",
   "metadata": {},
   "outputs": [],
   "source": [
    "import xarray as xr\n",
    "import numpy as np\n",
    "import matplotlib.pyplot as plt\n",
    "from pyproj import Transformer\n",
    "import pandas as pd\n",
    "import sys,os\n",
    "from cdo import Cdo\n",
    "import time\n",
    "from tqdm.notebook import tqdm"
   ]
  },
  {
   "cell_type": "code",
   "execution_count": null,
   "id": "roman-frontier",
   "metadata": {},
   "outputs": [],
   "source": [
    "%matplotlib qt5"
   ]
  },
  {
   "cell_type": "code",
   "execution_count": null,
   "id": "technological-doctrine",
   "metadata": {},
   "outputs": [],
   "source": [
    "cdo = Cdo()\n",
    "print('this is CDO version %s'%(cdo.version()))"
   ]
  },
  {
   "cell_type": "markdown",
   "id": "5cbbe124-1a43-4dad-8a6b-c10fae12298e",
   "metadata": {},
   "source": [
    "PREPARE PATH AND CONTEXT"
   ]
  },
  {
   "cell_type": "code",
   "execution_count": null,
   "id": "3b7e8ad1-a8f0-4576-aa86-64551ee6ef6d",
   "metadata": {},
   "outputs": [],
   "source": [
    "nemo_run = 'OPM021'\n",
    "yy_start = 1980\n",
    "yy_end = 2018\n",
    "\n",
    "#nemo_run = 'OPM016'\n",
    "#yy_start = 1980\n",
    "#yy_end = 2008\n",
    "\n",
    "#nemo_run = 'OPM018'\n",
    "#yy_start = 1980\n",
    "#yy_end = 2008\n",
    "\n",
    "#nemo_run = 'OPM006'\n",
    "#yy_start = 1980\n",
    "#yy_end = 2018"
   ]
  },
  {
   "cell_type": "code",
   "execution_count": null,
   "id": "grateful-register",
   "metadata": {},
   "outputs": [],
   "source": [
    "inputpath_mask = '/bettik/mathiotp/NEMO/DRAKKAR/eORCA025.L121/eORCA025.L121-'+nemo_run+'-MSH/'\n",
    "inputpath_data = '/bettik/mathiotp/NEMO/DRAKKAR/eORCA025.L121/eORCA025.L121-'+nemo_run+'-S/'\n",
    "outputpath = '/bettik/burgardc/DATA/BASAL_MELT_PARAM/interim/NEMO_eORCA025.L121_'+nemo_run+'_ANT_STEREO/'"
   ]
  },
  {
   "cell_type": "markdown",
   "id": "aebf28ab-f064-4752-b19d-f7d8d0ad88d5",
   "metadata": {},
   "source": [
    "REGRIDDING THE MELT"
   ]
  },
  {
   "cell_type": "code",
   "execution_count": null,
   "id": "unauthorized-concrete",
   "metadata": {},
   "outputs": [],
   "source": [
    "# write melt to its own file\n",
    "for yy in range(yy_start,yy_end+1):\n",
    "    check = xr.open_dataset(outputpath+'variables_of_interest_'+str(yy)+'_Ant.nc')\n",
    "    check['melt_cavity'] = check['sowflisf_cav'].where(np.isfinite(check['sowflisf_cav']),0)\n",
    "    check2 = check[['melt_cavity']]\n",
    "    check2.to_netcdf(outputpath+'cavity_melt_'+str(yy)+'_Ant.nc')"
   ]
  },
  {
   "cell_type": "code",
   "execution_count": null,
   "id": "accomplished-photographer",
   "metadata": {},
   "outputs": [],
   "source": [
    "# regrid to stereographic\n",
    "for yy in tqdm(range(yy_start,yy_end+1)):\n",
    "    print('computing ',yy)\n",
    "    time_start = time.time()\n",
    "    cdo.remapbil(outputpath+'stereo_grid.nc', input = outputpath+'cavity_melt_'+str(yy)+'_Ant.nc', output = outputpath+'cavity_melt_'+str(yy)+'_Ant_stereo.nc')\n",
    "    timelength = time.time() - time_start\n",
    "    print(timelength)"
   ]
  },
  {
   "cell_type": "markdown",
   "id": "1dac0174-7a66-4284-977a-f6da83fdbe8a",
   "metadata": {},
   "source": [
    "REGRIDDING ALL OTHER VARIABLES OF INTEREST"
   ]
  },
  {
   "cell_type": "code",
   "execution_count": null,
   "id": "photographic-drawing",
   "metadata": {},
   "outputs": [],
   "source": [
    "for yy in tqdm(range(yy_start,yy_end+1)): \n",
    "    print('computing ',yy)\n",
    "    time_start = time.time()\n",
    "    cdo.remapbil(outputpath+'stereo_grid.nc', input = outputpath+'variables_of_interest_'+str(yy)+'_Ant.nc', output = outputpath+'variables_of_interest_'+str(yy)+'_Ant_stereo.nc')\n",
    "    timelength = time.time() - time_start\n",
    "    print(timelength)"
   ]
  },
  {
   "cell_type": "code",
   "execution_count": null,
   "id": "98fdef38-ede2-4ca1-a3b1-d3f5abb0e192",
   "metadata": {},
   "outputs": [],
   "source": [
    "print('computing mask')\n",
    "time_start = time.time()\n",
    "cdo.remapbil(outputpath+'stereo_grid.nc', input = outputpath+'mask_variables_of_interest_Ant.nc', output = outputpath+'mask_variables_of_interest_Ant_stereo.nc')\n",
    "timelength = time.time() - time_start\n",
    "print(timelength)"
   ]
  },
  {
   "cell_type": "markdown",
   "id": "f460bdfe-8cb4-4a50-9410-94f0bb3a7937",
   "metadata": {},
   "source": [
    "FINISHED? GOOD! THEN YOU ARE READY TO GO TO THE PRE-PROCESSING OF THE MASKS AND TEMPERATURE & SALINITY PROFILES =)"
   ]
  },
  {
   "cell_type": "markdown",
   "id": "2783e4d1-3900-42b8-af65-03ceaf7571b7",
   "metadata": {},
   "source": [
    "-------------\n",
    "NOT RELEVANT ANYMORE FROM HERE ON - I WAS TRYING OUT DIFFERENT REMAP METHODS"
   ]
  },
  {
   "cell_type": "code",
   "execution_count": null,
   "id": "reasonable-finding",
   "metadata": {},
   "outputs": [],
   "source": [
    "yy = 1980\n",
    "print('computing ',yy)\n",
    "time_start = time.time()\n",
    "cdo.remapdis(outputpath+'stereo_grid.nc', input = outputpath+'variables_of_interest_'+str(yy)+'_Ant.nc', output = outputpath+'variables_of_interest_'+str(yy)+'_Ant_stereo_remapdis.nc')\n",
    "timelength = time.time() - time_start\n",
    "print(timelength)"
   ]
  },
  {
   "cell_type": "code",
   "execution_count": null,
   "id": "permanent-asbestos",
   "metadata": {},
   "outputs": [],
   "source": [
    "yy = 1980\n",
    "print('computing ',yy)\n",
    "time_start = time.time()\n",
    "cdo.remapnn(outputpath+'stereo_grid.nc', input = outputpath+'variables_of_interest_'+str(yy)+'_Ant.nc', output = outputpath+'variables_of_interest_'+str(yy)+'_Ant_stereo_remapnn.nc')\n",
    "timelength = time.time() - time_start\n",
    "print(timelength)"
   ]
  },
  {
   "cell_type": "code",
   "execution_count": null,
   "id": "early-joseph",
   "metadata": {},
   "outputs": [],
   "source": [
    "print('computing mask')\n",
    "time_start = time.time()\n",
    "cdo.remapbil(outputpath+'stereo_grid.nc', input = outputpath+'mask_variables_of_interest_Ant.nc', output = outputpath+'mask_variables_of_interest_Ant_stereo.nc')\n",
    "timelength = time.time() - time_start\n",
    "print(timelength)"
   ]
  },
  {
   "cell_type": "code",
   "execution_count": null,
   "id": "expanded-theme",
   "metadata": {},
   "outputs": [],
   "source": [
    "print('computing mask')\n",
    "time_start = time.time()\n",
    "cdo.remapdis(outputpath+'stereo_grid.nc', input = outputpath+'mask_variables_of_interest_Ant.nc', output = outputpath+'mask_variables_of_interest_Ant_stereo_remapdis.nc')\n",
    "timelength = time.time() - time_start\n",
    "print(timelength)"
   ]
  },
  {
   "cell_type": "code",
   "execution_count": null,
   "id": "foster-governor",
   "metadata": {},
   "outputs": [],
   "source": [
    "print('computing mask')\n",
    "time_start = time.time()\n",
    "cdo.remapnn(outputpath+'stereo_grid.nc', input = outputpath+'mask_variables_of_interest_Ant.nc', output = outputpath+'mask_variables_of_interest_Ant_stereo_remapnn.nc')\n",
    "timelength = time.time() - time_start\n",
    "print(timelength)"
   ]
  },
  {
   "cell_type": "code",
   "execution_count": null,
   "id": "breathing-clear",
   "metadata": {},
   "outputs": [],
   "source": [
    "print('computing mask')\n",
    "time_start = time.time()\n",
    "cdo.remapbil(outputpath+'stereo_grid.nc', input = outputpath+'NEMO_isf_mask_Ant.nc', output = outputpath+'NEMO_isf_mask_Ant_stereo.nc')\n",
    "timelength = time.time() - time_start\n",
    "print(timelength)"
   ]
  },
  {
   "cell_type": "code",
   "execution_count": null,
   "id": "known-reproduction",
   "metadata": {},
   "outputs": [],
   "source": [
    "print('computing mask')\n",
    "time_start = time.time()\n",
    "cdo.remapdis(outputpath+'stereo_grid.nc', input = outputpath+'NEMO_isf_mask_Ant.nc', output = outputpath+'NEMO_isf_mask_Ant_stereo_remapdis.nc')\n",
    "timelength = time.time() - time_start\n",
    "print(timelength)"
   ]
  },
  {
   "cell_type": "code",
   "execution_count": null,
   "id": "accessible-theology",
   "metadata": {},
   "outputs": [],
   "source": [
    "print('computing mask')\n",
    "time_start = time.time()\n",
    "cdo.remapnn(outputpath+'stereo_grid.nc', input = outputpath+'NEMO_isf_mask_Ant.nc', output = outputpath+'NEMO_isf_mask_Ant_stereo_remapnn.nc')\n",
    "timelength = time.time() - time_start\n",
    "print(timelength)"
   ]
  },
  {
   "cell_type": "code",
   "execution_count": null,
   "id": "crucial-collar",
   "metadata": {},
   "outputs": [],
   "source": [
    "print('adding mean depth coordinate to mask')\n",
    "time_start = time.time()\n",
    "cdo.fldmean(input=' -selvar,gdept_0 '+outputpath+'/mask_variables_of_interest_Ant_stereo.nc', \n",
    "          output = outputpath+'/mask_depth_coord_Ant_stereo.nc') \n",
    "timelength = time.time() - time_start\n",
    "print(timelength)"
   ]
  },
  {
   "cell_type": "code",
   "execution_count": null,
   "id": "attached-crawford",
   "metadata": {},
   "outputs": [],
   "source": [
    "remapped_bil = xr.open_dataset(outputpath+'NEMO_isf_mask_Ant_stereo.nc')\n",
    "remapped_dis_mask = xr.open_dataset(outputpath+'NEMO_isf_mask_Ant_stereo_remapdis.nc')\n",
    "remapped_dis = xr.open_dataset(outputpath+'mask_variables_of_interest_Ant_stereo_remapdis.nc')\n",
    "remapped_nn_mask = xr.open_dataset(outputpath+'NEMO_isf_mask_Ant_stereo_remapnn.nc')\n",
    "remapped_nn = xr.open_dataset(outputpath+'mask_variables_of_interest_Ant_stereo_remapnn.nc')\n"
   ]
  },
  {
   "cell_type": "code",
   "execution_count": null,
   "id": "bearing-candidate",
   "metadata": {},
   "outputs": [],
   "source": [
    "mask = remapped_nn_mask['mask_isf']\n",
    "#mask.where(mask==-28,drop=True).plot()"
   ]
  },
  {
   "cell_type": "code",
   "execution_count": null,
   "id": "crude-argentina",
   "metadata": {},
   "outputs": [],
   "source": [
    "remapped_nn['isfdraft'].where(mask==-28,drop=True).plot()"
   ]
  },
  {
   "cell_type": "code",
   "execution_count": null,
   "id": "lucky-heather",
   "metadata": {},
   "outputs": [],
   "source": [
    "remapped_data['deptht']"
   ]
  },
  {
   "cell_type": "code",
   "execution_count": null,
   "id": "written-filing",
   "metadata": {},
   "outputs": [],
   "source": [
    "mask_file = xr.open_dataset(outputpath+'mask_variables_of_interest_Ant.nc')"
   ]
  },
  {
   "cell_type": "code",
   "execution_count": null,
   "id": "thick-minute",
   "metadata": {},
   "outputs": [],
   "source": [
    "mask_file['isfdraft'].plot()"
   ]
  },
  {
   "cell_type": "code",
   "execution_count": null,
   "id": "micro-device",
   "metadata": {},
   "outputs": [],
   "source": [
    "mask_file"
   ]
  },
  {
   "cell_type": "code",
   "execution_count": null,
   "id": "adolescent-realtor",
   "metadata": {},
   "outputs": [],
   "source": [
    "mask_stereo = xr.open_dataset(outputpath+'mask_variables_of_interest_Ant_stereo.nc')"
   ]
  },
  {
   "cell_type": "code",
   "execution_count": null,
   "id": "hindu-documentary",
   "metadata": {},
   "outputs": [],
   "source": [
    "mask_stereo['lsmask_float'].plot()"
   ]
  },
  {
   "cell_type": "code",
   "execution_count": null,
   "id": "criminal-strength",
   "metadata": {},
   "outputs": [],
   "source": [
    "variables = xr.open_dataset(outputpath+'variables_of_interest_1980_Ant_stereo.nc')"
   ]
  },
  {
   "cell_type": "code",
   "execution_count": null,
   "id": "informal-spotlight",
   "metadata": {},
   "outputs": [],
   "source": [
    "variables['sowflisf_cav'].plot()"
   ]
  }
 ],
 "metadata": {
  "kernelspec": {
   "display_name": "ice_shelf_mask",
   "language": "python",
   "name": "ice_shelf_mask"
  },
  "language_info": {
   "codemirror_mode": {
    "name": "ipython",
    "version": 3
   },
   "file_extension": ".py",
   "mimetype": "text/x-python",
   "name": "python",
   "nbconvert_exporter": "python",
   "pygments_lexer": "ipython3",
   "version": "3.8.5"
  }
 },
 "nbformat": 4,
 "nbformat_minor": 5
}
