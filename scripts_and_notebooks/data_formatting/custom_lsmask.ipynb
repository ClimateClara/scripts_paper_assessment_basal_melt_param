{
 "cells": [
  {
   "cell_type": "code",
   "execution_count": null,
   "id": "wooden-singles",
   "metadata": {},
   "outputs": [],
   "source": [
    "\"\"\"\n",
    "Created on Tue Mar 16 10:57 2021\n",
    "\n",
    "reformat basic mask to give 0-1-2 and floats \n",
    "to be used after \"prepare_data_NEMO.sh\"\n",
    "\n",
    "@author: Clara Burgard\n",
    "\"\"\""
   ]
  },
  {
   "cell_type": "code",
   "execution_count": null,
   "id": "hungry-share",
   "metadata": {},
   "outputs": [],
   "source": [
    "import xarray as xr\n",
    "import numpy as np\n",
    "import matplotlib.pyplot as plt\n",
    "from cdo import Cdo\n",
    "import time"
   ]
  },
  {
   "cell_type": "code",
   "execution_count": null,
   "id": "greatest-chamber",
   "metadata": {},
   "outputs": [],
   "source": [
    "%matplotlib qt5"
   ]
  },
  {
   "cell_type": "code",
   "execution_count": null,
   "id": "substantial-charm",
   "metadata": {},
   "outputs": [],
   "source": [
    "cdo = Cdo()\n",
    "print('this is CDO version %s'%(cdo.version()))"
   ]
  },
  {
   "cell_type": "code",
   "execution_count": null,
   "id": "c9fc4baa-4b50-456f-be43-17b905984f64",
   "metadata": {},
   "outputs": [],
   "source": [
    "nemo_run = 'OPM021'"
   ]
  },
  {
   "cell_type": "code",
   "execution_count": null,
   "id": "single-viking",
   "metadata": {},
   "outputs": [],
   "source": [
    "inputpath_data='/bettik/burgardc/SCRIPTS/basal_melt_param/data/interim/NEMO_eORCA025.L121_'+nemo_run+'_ANT_STEREO/'"
   ]
  },
  {
   "cell_type": "markdown",
   "id": "metropolitan-trademark",
   "metadata": {},
   "source": [
    "PREPARE THE FLOAT MASK (0 = ocean, 1 = ice shelf, 2 = ground)"
   ]
  },
  {
   "cell_type": "code",
   "execution_count": null,
   "id": "clear-product",
   "metadata": {},
   "outputs": [],
   "source": [
    "mask_file = xr.open_dataset(inputpath_data+'lsmask_0-1-2_Ant.nc')\n",
    "file_map_orig = xr.open_dataset(inputpath_data+'mask_variables_of_interest_Ant.nc')"
   ]
  },
  {
   "cell_type": "code",
   "execution_count": null,
   "id": "previous-stack",
   "metadata": {},
   "outputs": [],
   "source": [
    "ls_mask012 = mask_file['tmask'].squeeze().drop('time').astype('float')"
   ]
  },
  {
   "cell_type": "code",
   "execution_count": null,
   "id": "postal-exhibition",
   "metadata": {},
   "outputs": [],
   "source": [
    "ls_mask012.to_dataset(name='ls_mask012').to_netcdf(inputpath_data+'custom_lsmask_Ant.nc')"
   ]
  },
  {
   "cell_type": "markdown",
   "id": "warming-honolulu",
   "metadata": {},
   "source": [
    "SEPARATE OTHER VARIABLES"
   ]
  },
  {
   "cell_type": "code",
   "execution_count": null,
   "id": "insured-converter",
   "metadata": {},
   "outputs": [],
   "source": [
    "isfdraft = file_map_orig['isfdraft'].squeeze().drop('time')\n",
    "isfdraft.to_dataset().to_netcdf(inputpath_data+'isfdraft_Ant.nc')"
   ]
  },
  {
   "cell_type": "code",
   "execution_count": null,
   "id": "formed-thanks",
   "metadata": {},
   "outputs": [],
   "source": [
    "other_mask_vars = file_map_orig[['gdept_0', 'bathy_metry', 'misf']].squeeze().drop('time')\n",
    "other_mask_vars.to_netcdf(inputpath_data+'other_mask_vars_Ant.nc')"
   ]
  },
  {
   "cell_type": "markdown",
   "id": "biblical-surge",
   "metadata": {},
   "source": [
    "INTERPOLATE TO STEREOGRAPHIC GRID"
   ]
  },
  {
   "cell_type": "code",
   "execution_count": null,
   "id": "distinguished-awareness",
   "metadata": {},
   "outputs": [],
   "source": [
    "print('interpolate float mask')\n",
    "time_start = time.time()\n",
    "cdo.remapbil(inputpath_data+'stereo_grid.nc', input = inputpath_data+'custom_lsmask_Ant.nc', output = inputpath_data+'custom_lsmask_Ant_stereo.nc')\n",
    "timelength = time.time() - time_start\n",
    "print(timelength)"
   ]
  },
  {
   "cell_type": "code",
   "execution_count": null,
   "id": "patient-experience",
   "metadata": {},
   "outputs": [],
   "source": [
    "print('interpolate isfdraft')\n",
    "time_start = time.time()\n",
    "cdo.remapbil(inputpath_data+'stereo_grid.nc', input = inputpath_data+'isfdraft_Ant.nc', output = inputpath_data+'isfdraft_Ant_stereo.nc')\n",
    "timelength = time.time() - time_start\n",
    "print(timelength)"
   ]
  },
  {
   "cell_type": "markdown",
   "id": "6beb6292-5ab1-461c-9c14-67189347b46c",
   "metadata": {},
   "source": [
    "PREPARE AN ICE SHELF CONCENTRATION"
   ]
  },
  {
   "cell_type": "code",
   "execution_count": null,
   "id": "renewable-stick",
   "metadata": {},
   "outputs": [],
   "source": [
    "isfdraft = xr.open_dataset(inputpath_data+'isfdraft_Ant_stereo.nc')\n",
    "float_ls_mask = xr.open_dataset(inputpath_data+'custom_lsmask_Ant_stereo.nc')"
   ]
  },
  {
   "cell_type": "code",
   "execution_count": null,
   "id": "extended-carolina",
   "metadata": {},
   "outputs": [],
   "source": [
    "# where NaN, set to 2 => land\n",
    "lsmask_012_withcenter = float_ls_mask['ls_mask012'].where(np.isfinite(float_ls_mask['ls_mask012']),2)\n",
    "# everything that is not ocean (0) or has a non-zero ice draft, set to 2 => land\n",
    "should_not_be_ground = (float_ls_mask['ls_mask012']==0) | (isfdraft['isfdraft']>0)\n",
    "lsmask_below2 = float_ls_mask['ls_mask012'].where(should_not_be_ground,2)"
   ]
  },
  {
   "cell_type": "code",
   "execution_count": null,
   "id": "elementary-macro",
   "metadata": {},
   "outputs": [],
   "source": [
    "lsmask_below2.to_dataset(name='ls_mask012').to_netcdf(inputpath_data+'custom_lsmask_Ant_stereo_clean.nc')"
   ]
  },
  {
   "cell_type": "code",
   "execution_count": null,
   "id": "baking-aging",
   "metadata": {},
   "outputs": [],
   "source": [
    "# take only points where there is non-zero ice draft (to get rid of ocean-land transitions)\n",
    "first_isfdraft_mask = float_ls_mask['ls_mask012'].where(isfdraft['isfdraft']>0,0) \n",
    "# if conc is between 0 and 1, that's a transition between ocean and ice so it is an ice-shelf concentration already\n",
    "# if conc is between 1 and 2, that's transition between ice and land, need to convert it to sth between 0 and 1\n",
    "isfdraft_conc = first_isfdraft_mask.where(first_isfdraft_mask <= 1,(2 - first_isfdraft_mask))"
   ]
  },
  {
   "cell_type": "code",
   "execution_count": null,
   "id": "natural-kelly",
   "metadata": {},
   "outputs": [],
   "source": [
    "isfdraft_conc.to_dataset(name='isfdraft_conc').to_netcdf(inputpath_data+'isfdraft_conc_Ant_stereo.nc')"
   ]
  },
  {
   "cell_type": "code",
   "execution_count": null,
   "id": "outside-bulgaria",
   "metadata": {},
   "outputs": [],
   "source": [
    "# corrected ice draft with ice concentration to come back to the non-smoothed out ice draft\n",
    "corrected_isfdraft_raw = isfdraft['isfdraft']/isfdraft_conc\n",
    "# cut unrealistically high drafts\n",
    "corrected_isfdraft = corrected_isfdraft_raw.where(corrected_isfdraft_raw<=3000,3000).where(corrected_isfdraft_raw>0) "
   ]
  },
  {
   "cell_type": "code",
   "execution_count": null,
   "id": "assigned-train",
   "metadata": {},
   "outputs": [],
   "source": [
    "corrections = corrected_isfdraft.to_dataset(name='corrected_isfdraft')"
   ]
  },
  {
   "cell_type": "markdown",
   "id": "vertical-negative",
   "metadata": {},
   "source": [
    "REGRIDDING THESE NEW MASK VARIABLES OF INTEREST"
   ]
  },
  {
   "cell_type": "code",
   "execution_count": null,
   "id": "distant-parameter",
   "metadata": {},
   "outputs": [],
   "source": [
    "print('computing mask')\n",
    "time_start = time.time()\n",
    "cdo.remapbil(inputpath_data+'stereo_grid.nc', input = inputpath_data+'other_mask_vars_Ant.nc', output = inputpath_data+'other_mask_vars_Ant_stereo.nc')\n",
    "timelength = time.time() - time_start\n",
    "print(timelength)"
   ]
  },
  {
   "cell_type": "code",
   "execution_count": null,
   "id": "knowing-narrative",
   "metadata": {},
   "outputs": [],
   "source": [
    "print('creating mean depth coordinate')\n",
    "time_start = time.time()\n",
    "cdo.fldmean(input=' -selvar,gdept_0 '+inputpath_data+'other_mask_vars_Ant_stereo.nc', \n",
    "          output = inputpath_data+'mask_depth_coord_Ant_stereo.nc') \n",
    "timelength = time.time() - time_start\n",
    "print(timelength)"
   ]
  },
  {
   "cell_type": "code",
   "execution_count": null,
   "id": "stable-access",
   "metadata": {},
   "outputs": [],
   "source": [
    "mask_vars = xr.open_dataset(inputpath_data+'other_mask_vars_Ant_stereo.nc')"
   ]
  },
  {
   "cell_type": "markdown",
   "id": "46ee9f5c-0e78-4330-8f89-9006dd0b668f",
   "metadata": {},
   "source": [
    "Also correcting the bathymetry but this is not what is used in the study"
   ]
  },
  {
   "cell_type": "code",
   "execution_count": null,
   "id": "blessed-arizona",
   "metadata": {},
   "outputs": [],
   "source": [
    "corrected_bathy_raw = mask_vars['bathy_metry']/isfdraft_conc # not realistically cuttable because bathymetry is set to 0 on land...\n",
    "corrected_bathy = corrected_bathy_raw.where(corrected_bathy_raw<=3000,3000).where(corrected_bathy_raw>0)"
   ]
  },
  {
   "cell_type": "code",
   "execution_count": null,
   "id": "58263518-c0be-4022-9603-99b8479f9611",
   "metadata": {},
   "outputs": [],
   "source": [
    "corrected_bathy_raw.where(corrected_bathy_raw>10000).plot()"
   ]
  },
  {
   "cell_type": "code",
   "execution_count": null,
   "id": "alpine-uzbekistan",
   "metadata": {},
   "outputs": [],
   "source": [
    "corrections['corrected_isf_bathy'] = corrected_bathy"
   ]
  },
  {
   "cell_type": "code",
   "execution_count": null,
   "id": "wound-national",
   "metadata": {},
   "outputs": [],
   "source": [
    "corrections.to_netcdf(inputpath_data+'corrected_draft_bathy_isf.nc')"
   ]
  },
  {
   "cell_type": "markdown",
   "id": "3521fd22-033e-43db-a522-0ef5cc6c6016",
   "metadata": {},
   "source": [
    "FINISHED? THEN MOVE TO \"regridding_vars_cdo.ipynb\""
   ]
  }
 ],
 "metadata": {
  "kernelspec": {
   "display_name": "ice_shelf_mask",
   "language": "python",
   "name": "ice_shelf_mask"
  },
  "language_info": {
   "codemirror_mode": {
    "name": "ipython",
    "version": 3
   },
   "file_extension": ".py",
   "mimetype": "text/x-python",
   "name": "python",
   "nbconvert_exporter": "python",
   "pygments_lexer": "ipython3",
   "version": "3.8.5"
  }
 },
 "nbformat": 4,
 "nbformat_minor": 5
}
