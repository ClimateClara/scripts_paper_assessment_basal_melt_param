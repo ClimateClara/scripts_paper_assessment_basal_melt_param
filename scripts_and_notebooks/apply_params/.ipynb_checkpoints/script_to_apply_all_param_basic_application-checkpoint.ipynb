{
 "cells": [
  {
   "cell_type": "code",
   "execution_count": null,
   "id": "1e58d535",
   "metadata": {},
   "outputs": [],
   "source": [
    "\"\"\"\n",
    "Created on Fri May 21 14:29 2021\n",
    "\n",
    "This is a basic script to apply some parameters (e.g. originally proposed ones or tuned ones) \n",
    "to the different parameterisations resulting into 2D and 1D information about the melt\n",
    "\n",
    "@author: Clara Burgard\n",
    "\"\"\""
   ]
  },
  {
   "cell_type": "code",
   "execution_count": null,
   "id": "c3af0757",
   "metadata": {},
   "outputs": [],
   "source": [
    "import xarray as xr\n",
    "import numpy as np\n",
    "import matplotlib.pyplot as plt\n",
    "import pandas as pd \n",
    "from tqdm.notebook import trange, tqdm\n",
    "import time\n",
    "import assess_param_funcs.melt_functions as meltf\n",
    "import assess_param_funcs.useful_functions as uf\n",
    "from assess_param_funcs.constants import *\n",
    "import os, glob"
   ]
  },
  {
   "cell_type": "code",
   "execution_count": null,
   "id": "87149ad7",
   "metadata": {},
   "outputs": [],
   "source": [
    "%matplotlib qt5"
   ]
  },
  {
   "cell_type": "markdown",
   "id": "7d35c78a",
   "metadata": {},
   "source": [
    "READ IN DATA"
   ]
  },
  {
   "cell_type": "code",
   "execution_count": null,
   "id": "bd5ece5f-2b46-4271-96f0-d1850aee04ce",
   "metadata": {},
   "outputs": [],
   "source": [
    "home_path='/bettik/burgardc/'"
   ]
  },
  {
   "cell_type": "code",
   "execution_count": null,
   "id": "5750f502",
   "metadata": {},
   "outputs": [],
   "source": [
    "nemo_run = 'OPM021'"
   ]
  },
  {
   "cell_type": "code",
   "execution_count": null,
   "id": "84bf814a",
   "metadata": {},
   "outputs": [],
   "source": [
    "inputpath_data=home_path+'/DATA/BASAL_MELT_PARAM/interim/NEMO_eORCA025.L121_'+nemo_run+'_ANT_STEREO/'\n",
    "inputpath_mask = home_path+'/DATA/BASAL_MELT_PARAM/interim/ANTARCTICA_IS_MASKS/nemo_5km_'+nemo_run+'/'\n",
    "inputpath_profiles = home_path+'/DATA/BASAL_MELT_PARAM/interim/T_S_PROF/nemo_5km_'+nemo_run+'/'\n",
    "outputpath_simple = home_path+'/DATA/BASAL_MELT_PARAM/interim/SIMPLE/nemo_5km_'+nemo_run+'/'\n",
    "outputpath_simple_all = home_path+'/DATA/BASAL_MELT_PARAM/interim/SIMPLE/nemo_5km_06161821_oneFRIS/'\n",
    "inputpath_plumes = home_path+'/DATA/BASAL_MELT_PARAM/interim/PLUMES/nemo_5km_'+nemo_run+'/'\n",
    "outputpath_plumes = home_path+'/DATA/BASAL_MELT_PARAM/interim/PLUMES/nemo_5km_'+nemo_run+'/'\n",
    "inputpath_boxes = home_path+'/DATA/BASAL_MELT_PARAM/interim/BOXES/nemo_5km_'+nemo_run+'/'\n",
    "outputpath_boxes = home_path+'/DATA/BASAL_MELT_PARAM/interim/BOXES/nemo_5km_'+nemo_run+'/'\n",
    "outputpath_melt = home_path+'/DATA/BASAL_MELT_PARAM/processed/MELT_RATE/nemo_5km_'+nemo_run+'/'\n",
    "outputpath = home_path+'/DATA/BASAL_MELT_PARAM/interim/'\n",
    "plot_path = home_path+'/PLOTS/first-look/'"
   ]
  },
  {
   "cell_type": "code",
   "execution_count": null,
   "id": "28150260",
   "metadata": {},
   "outputs": [],
   "source": [
    "# make the domain a little smaller to make the computation even more efficient - file isf has already been made smaller at its creation\n",
    "map_lim = [-3000000,3000000]"
   ]
  },
  {
   "cell_type": "code",
   "execution_count": null,
   "id": "8c2bb84f",
   "metadata": {},
   "outputs": [],
   "source": [
    "file_other = xr.open_dataset(inputpath_data+'corrected_draft_bathy_isf.nc')#, chunks={'x': chunk_size, 'y': chunk_size})\n",
    "file_other_cut = uf.cut_domain_stereo(file_other, map_lim, map_lim)\n",
    "file_conc = xr.open_dataset(inputpath_data+'isfdraft_conc_Ant_stereo.nc')\n",
    "file_conc_cut = uf.cut_domain_stereo(file_conc, map_lim, map_lim)"
   ]
  },
  {
   "cell_type": "code",
   "execution_count": null,
   "id": "74ceea72",
   "metadata": {},
   "outputs": [],
   "source": [
    "file_isf_orig = xr.open_dataset(inputpath_mask+'nemo_5km_isf_masks_and_info_and_distance_new_oneFRIS.nc')\n",
    "nonnan_Nisf = file_isf_orig['Nisf'].where(np.isfinite(file_isf_orig['front_bot_depth_max']), drop=True).astype(int)\n",
    "file_isf_nonnan = file_isf_orig.sel(Nisf=nonnan_Nisf)\n",
    "large_isf = file_isf_nonnan['Nisf'].where(file_isf_nonnan['isf_area_here'] >= 2500, drop=True)\n",
    "file_isf = file_isf_nonnan.sel(Nisf=large_isf)\n",
    "file_isf['isf_name'] = file_isf['isf_name'].astype(str)\n",
    "file_isf['region'] = file_isf['region'].astype(str)\n",
    "\n",
    "file_TS_orig = xr.open_dataset(inputpath_profiles+'T_S_mean_prof_corrected_km_contshelf_and_offshore_1980-2018_oneFRIS.nc')\n",
    "file_TS = file_TS_orig.sel(Nisf=large_isf).sel(profile_domain=[50,1000]).isel(time=range(40,70))"
   ]
  },
  {
   "cell_type": "code",
   "execution_count": null,
   "id": "71eef0e5",
   "metadata": {},
   "outputs": [],
   "source": [
    "lon = file_isf.longitude\n",
    "lat = file_isf.latitude"
   ]
  },
  {
   "cell_type": "code",
   "execution_count": null,
   "id": "c3851f86",
   "metadata": {},
   "outputs": [],
   "source": [
    "file_isf_conc = file_conc_cut['isfdraft_conc']\n",
    "\n",
    "xx = file_isf.x\n",
    "yy = file_isf.y\n",
    "dx = (xx[2] - xx[1]).values\n",
    "dy = (yy[2] - yy[1]).values\n",
    "grid_cell_area = abs(dx*dy)  \n",
    "grid_cell_area_weighted = file_isf_conc * grid_cell_area"
   ]
  },
  {
   "cell_type": "code",
   "execution_count": null,
   "id": "bccdb716",
   "metadata": {},
   "outputs": [],
   "source": [
    "ice_draft_pos = file_other_cut['corrected_isfdraft']\n",
    "ice_draft_neg = -ice_draft_pos"
   ]
  },
  {
   "cell_type": "code",
   "execution_count": null,
   "id": "f8c4a9af",
   "metadata": {},
   "outputs": [],
   "source": [
    "isf_stack_mask = uf.create_stacked_mask(file_isf['ISF_mask'], file_isf.Nisf, ['y','x'], 'mask_coord')"
   ]
  },
  {
   "cell_type": "code",
   "execution_count": null,
   "id": "6f5fbce5",
   "metadata": {
    "tags": []
   },
   "outputs": [],
   "source": [
    "box_charac_all_2D = xr.open_dataset(inputpath_boxes + 'nemo_5km_boxes_2D_oneFRIS.nc')\n",
    "box_charac_all_1D = xr.open_dataset(inputpath_boxes + 'nemo_5km_boxes_1D_oneFRIS.nc')\n",
    "plume_charac = xr.open_dataset(inputpath_plumes+'nemo_5km_plume_characteristics_oneFRIS.nc')"
   ]
  },
  {
   "cell_type": "markdown",
   "id": "69afa83e",
   "metadata": {},
   "source": [
    "FUNCTIONS"
   ]
  },
  {
   "cell_type": "code",
   "execution_count": null,
   "id": "e52031b3",
   "metadata": {},
   "outputs": [],
   "source": [
    "param_var_of_int_2D = file_isf[['ISF_mask', 'latitude', 'longitude', 'dGL']]\n",
    "param_var_of_int_1D = file_isf[['front_bot_depth_avg', 'front_bot_depth_max','isf_name']]"
   ]
  },
  {
   "cell_type": "code",
   "execution_count": null,
   "id": "aae48e3c",
   "metadata": {},
   "outputs": [],
   "source": [
    "geometry_info_2D = plume_charac.merge(param_var_of_int_2D).merge(ice_draft_pos).rename({'corrected_isfdraft':'ice_draft_pos'}).merge(grid_cell_area_weighted).rename({'isfdraft_conc':'grid_cell_area_weighted'}).merge(file_isf_conc)\n",
    "geometry_info_1D = param_var_of_int_1D"
   ]
  },
  {
   "cell_type": "code",
   "execution_count": null,
   "id": "70acaf23-d863-417b-ab65-13c6244a5f98",
   "metadata": {},
   "outputs": [],
   "source": [
    "# mean sin of local slope over whole Antarctica\n",
    "np.sin(uf.weighted_mean(geometry_info_2D['alpha'].sel(option='appenB'),['x','y'],file_isf_conc)) "
   ]
  },
  {
   "cell_type": "markdown",
   "id": "a4ce9155",
   "metadata": {},
   "source": [
    "SIMPLE PARAMS"
   ]
  },
  {
   "cell_type": "code",
   "execution_count": null,
   "id": "e4c16f31",
   "metadata": {},
   "outputs": [],
   "source": [
    "# best-estimate tuned parameters\n",
    "gammas_file_simple = xr.open_dataset(outputpath_simple_all+'gammas_simple_ALL.nc')\n",
    "\n",
    "#######\n",
    "# Gammas from Favier et al., 2019 (to be used with U_param = False)\n",
    "favier_gammas = xr.DataArray(np.array([2.030e-5,99.32e-5,132.9e-5]),dims='param')\n",
    "favier_gammas = favier_gammas.assign_coords({'param': ['linear_local', 'quadratic_local', 'quadratic_mixed_mean']})\n",
    "#######\n",
    "# Gammas from Lipscomb et al., 2021 (// Jourdain et al. 2020) (to be used with U_param = False)\n",
    "lipscomb_values_mpery = xr.DataArray(np.array([[1.11*10**4,1.44*10**4,2.06*10**6],\n",
    "                                              [4.95*10**4,1.59*10**5,5.37*10**6]]), dims={'calib': ['MeanAnt','PIGL'], 'param': ['quadratic_local', 'quadratic_mixed_mean', 'quadratic_mixed_mean_locslope']})\n",
    "lipscomb_values_mpery = lipscomb_values_mpery.assign_coords({'calib': ['MeanAnt','PIGL'], 'param': ['quadratic_local', 'quadratic_mixed_mean', 'quadratic_mixed_locslope']})\n",
    "\n",
    "lipscomb_values_mpers = lipscomb_values_mpery/yearinsec"
   ]
  },
  {
   "cell_type": "code",
   "execution_count": null,
   "id": "aa62bc9e",
   "metadata": {},
   "outputs": [],
   "source": [
    "simple_param_types = ['linear_local', 'quadratic_local', 'quadratic_local_locslope', 'quadratic_local_cavslope', \n",
    "                      'quadratic_mixed_mean', 'quadratic_mixed_locslope','quadratic_mixed_cavslope'] \n",
    "\n",
    "nisf_list = geometry_info_1D.Nisf\n",
    "T_S_profile = file_TS.ffill(dim='depth')\n",
    "\n",
    "for mparam in simple_param_types:\n",
    "        \n",
    "    for gamma_choice in ['tuned','favier','lipscomb']:\n",
    "        if gamma_choice == 'tuned':\n",
    "            gamma = gammas_file_simple['slope'].sel(param=mparam)\n",
    "            ds_2D, ds_1D = meltf.calculate_melt_rate_1D_and_2D_all_isf(nisf_list, T_S_profile, geometry_info_2D, geometry_info_1D, isf_stack_mask, mparam, gamma, U_param=True)\n",
    "\n",
    "            ds_2D.to_netcdf(outputpath_melt+'melt_rates_2D_'+mparam+'_'+gamma_choice+'_correctedTS_oneFRIS.nc')\n",
    "            ds_1D.to_netcdf(outputpath_melt+'melt_rates_1D_'+mparam+'_'+gamma_choice+'_correctedTS_oneFRIS.nc')\n",
    "                \n",
    "        elif gamma_choice == 'favier':\n",
    "            if mparam in favier_gammas.param.values:\n",
    "                gamma = favier_gammas.sel(param=mparam)\n",
    "                ds_2D, ds_1D = meltf.calculate_melt_rate_1D_and_2D_all_isf(nisf_list, T_S_profile, geometry_info_2D, geometry_info_1D, isf_stack_mask, mparam, gamma, U_param=False)\n",
    "                \n",
    "                ds_2D.to_netcdf(outputpath_melt+'melt_rates_2D_'+mparam+'_'+gamma_choice+'_correctedTS_oneFRIS.nc')\n",
    "                ds_1D.to_netcdf(outputpath_melt+'melt_rates_1D_'+mparam+'_'+gamma_choice+'_correctedTS_oneFRIS.nc')\n",
    "                \n",
    "        elif gamma_choice == 'lipscomb':\n",
    "            if mparam in lipscomb_values_mpers.param.values:\n",
    "                for ccalib in lipscomb_values_mpers.calib:\n",
    "                    gamma = lipscomb_values_mpers.sel(param=mparam, calib=ccalib)\n",
    "                    ds_2D, ds_1D = meltf.calculate_melt_rate_1D_and_2D_all_isf(nisf_list, T_S_profile, geometry_info_2D, geometry_info_1D, isf_stack_mask, mparam, gamma, U_param=False)  \n",
    "\n",
    "                    ds_2D.to_netcdf(outputpath_melt+'melt_rates_2D_'+mparam+'_'+str(ccalib.values)+'_'+gamma_choice+'_correctedTS_oneFRIS.nc')\n",
    "                    ds_1D.to_netcdf(outputpath_melt+'melt_rates_1D_'+mparam+'_'+str(ccalib.values)+'_'+gamma_choice+'_correctedTS_oneFRIS.nc')"
   ]
  },
  {
   "cell_type": "code",
   "execution_count": null,
   "id": "3ce6abdf",
   "metadata": {},
   "outputs": [],
   "source": [
    "simple_param_types = ['linear_local', 'quadratic_local', 'quadratic_mixed_mean', 'quadratic_mixed_locslope','quadratic_mixed_cavslope']\n",
    "for mparam in simple_param_types:\n",
    "     if mparam in favier_gammas.param:\n",
    "            print(mparam)"
   ]
  },
  {
   "cell_type": "markdown",
   "id": "7e590a90",
   "metadata": {},
   "source": [
    "SIMPLE BOTTOM ENTRY"
   ]
  },
  {
   "cell_type": "code",
   "execution_count": null,
   "id": "673cd3f8",
   "metadata": {},
   "outputs": [],
   "source": [
    "simple_param_types = ['linear_local_bottom', 'quadratic_local_bottom', 'quadratic_local_locslope_bottom', 'quadratic_local_cavslope_bottom', \n",
    "                      'quadratic_mixed_mean_bottom', 'quadratic_mixed_locslope_bottom','quadratic_mixed_cavslope_bottom'] "
   ]
  },
  {
   "cell_type": "code",
   "execution_count": null,
   "id": "0523682c",
   "metadata": {},
   "outputs": [],
   "source": [
    "gammas_file_simple_bottom = xr.open_dataset(outputpath_simple_all+'linreg_experiment_bottom_results.nc')\n"
   ]
  },
  {
   "cell_type": "code",
   "execution_count": null,
   "id": "548c5c77",
   "metadata": {},
   "outputs": [],
   "source": [
    "simple_param_types = ['linear_local_bottom', 'quadratic_local_bottom', 'quadratic_local_locslope_bottom', 'quadratic_local_cavslope_bottom', \n",
    "                      'quadratic_mixed_mean_bottom', 'quadratic_mixed_locslope_bottom','quadratic_mixed_cavslope_bottom'] \n",
    "\n",
    "nisf_list = geometry_info_1D.Nisf\n",
    "T_S_profile = file_TS.ffill(dim='depth')\n",
    "\n",
    "for mparam in simple_param_types:\n",
    "        \n",
    "    #for gamma_choice in ['tuned','favier','lipscomb']:\n",
    "    for gamma_choice in ['tuned']:\n",
    "        if gamma_choice == 'tuned':\n",
    "            gamma = gammas_file_simple_bottom['slope'].sel(param=mparam)\n",
    "            ds_2D, ds_1D = meltf.calculate_melt_rate_1D_and_2D_all_isf(nisf_list, T_S_profile, geometry_info_2D, geometry_info_1D, isf_stack_mask, mparam, gamma, U_param=True)\n",
    "\n",
    "            ds_2D.to_netcdf(outputpath_melt+'melt_rates_2D_'+mparam+'_'+gamma_choice+'_correctedTS_oneFRIS.nc')\n",
    "            ds_1D.to_netcdf(outputpath_melt+'melt_rates_1D_'+mparam+'_'+gamma_choice+'_correctedTS_oneFRIS.nc')"
   ]
  },
  {
   "cell_type": "markdown",
   "id": "4bd09ab3",
   "metadata": {},
   "source": [
    "PLUMES"
   ]
  },
  {
   "cell_type": "code",
   "execution_count": null,
   "id": "f690a2af",
   "metadata": {},
   "outputs": [],
   "source": [
    "tuned_plume_gammas = xr.DataArray(np.array([[2.8e-4,42.2e-4],\n",
    "                                              [1.3e-4,1e3]]), dims={'param': ['lazero19_2','lazero19_modif2'], 'profile_domain': np.array([50,1000])})\n",
    "tuned_plume_gammas = tuned_plume_gammas.assign_coords({'param': ['lazero19_2','lazero19_modif2'], 'profile_domain': np.array([50,1000])})\n",
    "\n",
    "tuned_plume_E0s = xr.DataArray(np.array([[4.2e-2,0.34e-2],\n",
    "                                  [7.6e-2,0.14e-2]]), dims={'param': ['lazero19_2','lazero19_modif2'], 'profile_domain': np.array([50,1000])})\n",
    "tuned_plume_E0s = tuned_plume_E0s.assign_coords({'param': ['lazero19_2','lazero19_modif2'], 'profile_domain': np.array([50,1000])})"
   ]
  },
  {
   "cell_type": "code",
   "execution_count": null,
   "id": "6b65c0ab",
   "metadata": {},
   "outputs": [],
   "source": [
    "plume_param_types = ['lazero19_2','lazero19_modif2'] \n",
    "nisf_list = geometry_info_1D.Nisf\n",
    "T_S_profile = file_TS.ffill(dim='depth')\n",
    "\n",
    "for mparam in plume_param_types:\n",
    "    for gamma_choice in ['orig','tuned']: #'orig','tuned'\n",
    "        \n",
    "        if gamma_choice == 'tuned':\n",
    "            \n",
    "            if mparam == 'lazero19_modif2':\n",
    "                \n",
    "                gamma = tuned_plume_gammas.sel(param=mparam)\n",
    "                E0 = tuned_plume_E0s.sel(param=mparam)\n",
    "\n",
    "            elif mparam == 'lazero19_2':\n",
    "                \n",
    "                print('entering _2')\n",
    "                gamma = tuned_plume_gammas.sel(param=mparam)\n",
    "                E0 = tuned_plume_E0s.sel(param=mparam)\n",
    "                \n",
    "            ds_2D, ds_1D = meltf.calculate_melt_rate_1D_and_2D_all_isf(nisf_list, T_S_profile, geometry_info_2D, geometry_info_1D, isf_stack_mask, mparam, gamma, E0=E0, verbose=True)\n",
    "            \n",
    "        elif gamma_choice == 'orig':\n",
    "            \n",
    "            print('entering orig')\n",
    "            \n",
    "            gamma = gamma_eff_T_lazero\n",
    "            E0 = E0_lazero\n",
    "                \n",
    "            ds_2D, ds_1D = meltf.calculate_melt_rate_1D_and_2D_all_isf(nisf_list, T_S_profile, geometry_info_2D, geometry_info_1D, isf_stack_mask, mparam, gamma, E0=E0, verbose=True)\n",
    "                \n",
    "        ds_2D.to_netcdf(outputpath_melt+'melt_rates_2D_'+mparam+'_'+gamma_choice+'_correctedTS_oneFRIS.nc')\n",
    "        ds_1D.to_netcdf(outputpath_melt+'melt_rates_1D_'+mparam+'_'+gamma_choice+'_correctedTS_oneFRIS.nc')"
   ]
  },
  {
   "cell_type": "markdown",
   "id": "3d5f467e",
   "metadata": {},
   "source": [
    "BOXES"
   ]
  },
  {
   "cell_type": "code",
   "execution_count": null,
   "id": "f1c90c44",
   "metadata": {},
   "outputs": [],
   "source": [
    "tuned_box_gammas = xr.DataArray(np.array([[[0.39e-5,0.41e-5,0.44e-5,0.39e-5],\n",
    "                                              [0.39e-5,0.41e-5,0.44e-5,0.39e-5]],\n",
    "                                         [[0.51e-5,0.73e-5,0.92e-5,0.63e-5],\n",
    "                                              [0.51e-5,0.73e-5,0.92e-5,0.63e-5]]]\n",
    "                                        ), dims={'profile_domain': np.array([50,1000]), 'pism': ['no','yes'], 'config': range(1,5)})\n",
    "tuned_box_gammas = tuned_box_gammas.assign_coords({'profile_domain': np.array([50,1000]),'pism': ['no','yes'], 'config': range(1,5)})\n",
    "\n",
    "\n",
    "tuned_box_Cs = xr.DataArray(np.array([[[16.5e6,18.0e6,20.7e6,16.1e6],\n",
    "                                              [16.1e6,17.8e6,20.5e6,20.5e6]],\n",
    "                                    [[0.14e6,0.14e6,0.14e6,0.13e6],\n",
    "                                              [0.14e6,0.14e6,0.14e6,0.13e6]]]), dims={'profile_domain': np.array([50,1000]), 'pism': ['no','yes'], 'config': range(1,5)})\n",
    "tuned_box_Cs = tuned_box_Cs.assign_coords({'profile_domain': np.array([50,1000]),'pism': ['no','yes'], 'config': range(1,5)})"
   ]
  },
  {
   "cell_type": "code",
   "execution_count": null,
   "id": "835b0fb8",
   "metadata": {},
   "outputs": [],
   "source": [
    "nisf_list = geometry_info_1D.Nisf\n",
    "T_S_profile = file_TS.ffill(dim='depth') \n",
    "\n",
    "for nD_config in range(1,5):\n",
    "    \n",
    "    for pism_version in ['yes']: #,'no'\n",
    "        \n",
    "        for picop_opt in ['no']: #'yes',\n",
    "\n",
    "            mparam = 'boxes_'+str(nD_config)+'_pism'+pism_version+'_picop'+picop_opt\n",
    "\n",
    "            for gamma_choice in ['orig','tuned_clara']: \n",
    "\n",
    "                if gamma_choice == 'orig':\n",
    "\n",
    "                    C = C_pico\n",
    "                    gamma = gT_star_pico\n",
    "                    \n",
    "                    if picop_opt in ['2018','2019']:\n",
    "                        \n",
    "                        if picop_opt == '2018':\n",
    "                            gamma_plume = gamma_eff_T_lazero\n",
    "                            E0 = E0_lazero\n",
    "\n",
    "                        ds_2D, ds_1D = meltf.calculate_melt_rate_1D_and_2D_all_isf(nisf_list, T_S_profile, geometry_info_2D, geometry_info_1D, isf_stack_mask, mparam, gamma,\n",
    "                                                              C=C, E0=E0, angle_option='appenB',\n",
    "                                                              box_charac_2D=box_charac_all_2D, box_charac_1D=box_charac_all_1D, box_tot=nD_config, box_tot_option='nD_config', \n",
    "                                                              pism_version=pism_version, picop_opt=picop_opt, gamma_plume=gamma_plume)\n",
    "                    else:\n",
    "                        ds_2D, ds_1D = meltf.calculate_melt_rate_1D_and_2D_all_isf(nisf_list, T_S_profile, geometry_info_2D, geometry_info_1D, isf_stack_mask, mparam, gamma,\n",
    "                                      C=C, box_charac_2D=box_charac_all_2D, box_charac_1D=box_charac_all_1D, box_tot=nD_config, box_tot_option='nD_config', \n",
    "                                      pism_version=pism_version, picop_opt=picop_opt)\n",
    "\n",
    "                    ds_2D.to_netcdf(outputpath_melt+'melt_rates_2D_'+mparam+'_'+gamma_choice+'_correctedTS.nc')\n",
    "                    ds_1D.to_netcdf(outputpath_melt+'melt_rates_1D_'+mparam+'_'+gamma_choice+'_correctedTS.nc')\n",
    "                    \n",
    "                elif gamma_choice == 'tuned_clara':\n",
    "                    \n",
    "                    C = tuned_box_Cs.sel(config=nD_config, pism=pism_version).drop('config').drop('pism')\n",
    "                    gamma = tuned_box_gammas.sel(config=nD_config, pism=pism_version).drop('config').drop('pism')\n",
    "                    \n",
    "\n",
    "                    if picop_opt in ['2018','2019']:\n",
    "                        \n",
    "                        if picop_opt == '2018':\n",
    "                            gamma_plume = gamma_eff_T_lazero\n",
    "                            E0 = E0_lazero\n",
    "                        elif picop_opt == '2019':\n",
    "                            gamma_plume = 0.00019597\n",
    "                            E0 = 0.0229407\n",
    "                        \n",
    "                        ds_2D, ds_1D = meltf.calculate_melt_rate_1D_and_2D_all_isf(nisf_list, T_S_profile, geometry_info_2D, geometry_info_1D, isf_stack_mask, mparam, gamma,\n",
    "                                                              C=C, E0=E0, angle_option='appenB',\n",
    "                                                              box_charac_2D=box_charac_all_2D, box_charac_1D=box_charac_all_1D, box_tot=nD_config, box_tot_option='nD_config', \n",
    "                                                              pism_version=pism_version, picop_opt=picop_opt, gamma_plume=gamma_plume)\n",
    "                    \n",
    "                    elif picop_opt == 'no':\n",
    "                        \n",
    "                        ds_2D, ds_1D = meltf.calculate_melt_rate_1D_and_2D_all_isf(nisf_list, T_S_profile, geometry_info_2D, geometry_info_1D, isf_stack_mask, mparam, gamma,\n",
    "                                      C=C, angle_option='appenB', box_charac_2D=box_charac_all_2D, box_charac_1D=box_charac_all_1D, box_tot=nD_config, box_tot_option='nD_config', \n",
    "                                      pism_version=pism_version, picop_opt=picop_opt)\n",
    "                    \n",
    "                    else:\n",
    "                        print('Help! Did not receive PICOP instructuins')\n",
    "                    \n",
    "                    ds_2D.to_netcdf(outputpath_melt+'melt_rates_2D_'+mparam+'_'+gamma_choice+'_correctedTS_oneFRIS.nc')\n",
    "                    ds_1D.to_netcdf(outputpath_melt+'melt_rates_1D_'+mparam+'_'+gamma_choice+'_correctedTS_oneFRIS.nc')"
   ]
  },
  {
   "cell_type": "markdown",
   "id": "0322383a",
   "metadata": {},
   "source": [
    "PICOP"
   ]
  },
  {
   "cell_type": "code",
   "execution_count": null,
   "id": "6bcc3094",
   "metadata": {},
   "outputs": [],
   "source": [
    "tuned_box_gammas = xr.DataArray(np.array([[[0.39e-5,0.41e-5,0.44e-5,0.39e-5],\n",
    "                                              [0.39e-5,0.41e-5,0.44e-5,0.39e-5]],\n",
    "                                         [[0.51e-5,0.73e-5,0.92e-5,0.63e-5],\n",
    "                                              [0.51e-5,0.73e-5,0.92e-5,0.63e-5]]]\n",
    "                                        ), dims={'profile_domain': np.array([50,1000]), 'pism': ['no','yes'], 'config': range(1,5)})\n",
    "tuned_box_gammas = tuned_box_gammas.assign_coords({'profile_domain': np.array([50,1000]),'pism': ['no','yes'], 'config': range(1,5)})\n",
    "\n",
    "\n",
    "tuned_box_Cs = xr.DataArray(np.array([[[16.5e6,18.0e6,20.7e6,16.1e6],\n",
    "                                              [16.1e6,17.8e6,20.5e6,20.5e6]],\n",
    "                                    [[0.14e6,0.14e6,0.14e6,0.13e6],\n",
    "                                              [0.14e6,0.14e6,0.14e6,0.13e6]]]), dims={'profile_domain': np.array([50,1000]), 'pism': ['no','yes'], 'config': range(1,5)})\n",
    "tuned_box_Cs = tuned_box_Cs.assign_coords({'profile_domain': np.array([50,1000]),'pism': ['no','yes'], 'config': range(1,5)})\n",
    "\n",
    "tuned_picop_gammas = xr.DataArray(np.array([[0.94e-4,0.85e-4],\n",
    "                                          [2.0e-4,1.5e-4]]), dims={'profile_domain': np.array([50,1000]), 'config': range(3,5)})\n",
    "tuned_picop_gammas = tuned_picop_gammas.assign_coords({'profile_domain': np.array([50,1000]), 'config': range(3,5)})\n",
    "\n",
    "tuned_picop_E0s = xr.DataArray(np.array([[30.7e-2,34.5e-2],\n",
    "                                       [95.1e-2,136e-2]]), dims={'profile_domain': np.array([50,1000]), 'config': range(3,5)})\n",
    "tuned_picop_E0s = tuned_picop_E0s.assign_coords({'profile_domain': np.array([50,1000]), 'config': range(3,5)})"
   ]
  },
  {
   "cell_type": "code",
   "execution_count": null,
   "id": "b0a95617",
   "metadata": {},
   "outputs": [],
   "source": [
    "nisf_list = geometry_info_1D.Nisf\n",
    "T_S_profile = file_TS.ffill(dim='depth') \n",
    "\n",
    "for nD_config in range(3,5):\n",
    "    \n",
    "    if nD_config == 4:\n",
    "        pism_version = 'no'\n",
    "    elif nD_config == 3:\n",
    "        pism_version = 'yes'\n",
    "\n",
    "    mparam = 'boxes_'+str(nD_config)+'_pism'+pism_version+'_picopyes'\n",
    "\n",
    "    for gamma_choice in ['orig','tuned_clara']: \n",
    "\n",
    "        if gamma_choice == 'orig':\n",
    "            picop_opt='2018'\n",
    "            C = C_pico\n",
    "            gamma = gT_star_pico\n",
    "\n",
    "            if picop_opt in ['2018','2019']:\n",
    "\n",
    "                if picop_opt == '2018':\n",
    "                    gamma_plume = gamma_eff_T_lazero\n",
    "                    E0 = E0_lazero\n",
    "\n",
    "                ds_2D, ds_1D = meltf.calculate_melt_rate_1D_and_2D_all_isf(nisf_list, T_S_profile, geometry_info_2D, geometry_info_1D, isf_stack_mask, mparam, gamma,\n",
    "                                                      C=C, E0=E0, angle_option='appenB',\n",
    "                                                      box_charac_2D=box_charac_all_2D, box_charac_1D=box_charac_all_1D, box_tot=nD_config, box_tot_option='nD_config', \n",
    "                                                      pism_version=pism_version, picop_opt=picop_opt, gamma_plume=gamma_plume)\n",
    "            else:\n",
    "                ds_2D, ds_1D = meltf.calculate_melt_rate_1D_and_2D_all_isf(nisf_list, T_S_profile, geometry_info_2D, geometry_info_1D, isf_stack_mask, mparam, gamma,\n",
    "                              C=C, box_charac_2D=box_charac_all_2D, box_charac_1D=box_charac_all_1D, box_tot=nD_config, box_tot_option='nD_config', \n",
    "                              pism_version=pism_version, picop_opt=picop_opt)\n",
    "\n",
    "            ds_2D.to_netcdf(outputpath_melt+'melt_rates_2D_'+mparam+'_'+gamma_choice+'_correctedTS.nc')\n",
    "            ds_1D.to_netcdf(outputpath_melt+'melt_rates_1D_'+mparam+'_'+gamma_choice+'_correctedTS.nc')\n",
    "\n",
    "\n",
    "        elif gamma_choice == 'tuned_clara':\n",
    "            picop_opt='2019'\n",
    "            C = tuned_box_Cs.sel(config=nD_config, pism=pism_version).drop('config').drop('pism')\n",
    "            gamma = tuned_box_gammas.sel(config=nD_config, pism=pism_version).drop('config').drop('pism')\n",
    "\n",
    "\n",
    "            if picop_opt in ['2018','2019']:\n",
    "\n",
    "                if picop_opt == '2018':\n",
    "                    gamma_plume = gamma_eff_T_lazero\n",
    "                    E0 = E0_lazero\n",
    "                elif picop_opt == '2019':\n",
    "                    gamma_plume = tuned_picop_gammas.sel(config=nD_config).drop('config')\n",
    "                    E0 = tuned_picop_E0s.sel(config=nD_config).drop('config')\n",
    "\n",
    "                ds_2D, ds_1D = meltf.calculate_melt_rate_1D_and_2D_all_isf(nisf_list, T_S_profile, geometry_info_2D, geometry_info_1D, isf_stack_mask, mparam, gamma,\n",
    "                                                      C=C, E0=E0, angle_option='appenB',\n",
    "                                                      box_charac_2D=box_charac_all_2D, box_charac_1D=box_charac_all_1D, box_tot=nD_config, box_tot_option='nD_config', \n",
    "                                                      pism_version=pism_version, picop_opt=picop_opt, gamma_plume=gamma_plume)\n",
    "\n",
    "            elif picop_opt == 'no':\n",
    "\n",
    "                ds_2D, ds_1D = meltf.calculate_melt_rate_1D_and_2D_all_isf(nisf_list, T_S_profile, geometry_info_2D, geometry_info_1D, isf_stack_mask, mparam, gamma,\n",
    "                              C=C, angle_option='appenB', box_charac_2D=box_charac_all_2D, box_charac_1D=box_charac_all_1D, box_tot=nD_config, box_tot_option='nD_config', \n",
    "                              pism_version=pism_version, picop_opt=picop_opt)\n",
    "\n",
    "            else:\n",
    "                print('Help! Did not receive PICOP instructions')\n",
    "\n",
    "            ds_2D.to_netcdf(outputpath_melt+'melt_rates_2D_'+mparam+'_'+gamma_choice+'_correctedTS_oneFRIS.nc')\n",
    "            ds_1D.to_netcdf(outputpath_melt+'melt_rates_1D_'+mparam+'_'+gamma_choice+'_correctedTS_oneFRIS.nc')"
   ]
  },
  {
   "cell_type": "code",
   "execution_count": null,
   "id": "f9fb7c42",
   "metadata": {},
   "outputs": [],
   "source": []
  }
 ],
 "metadata": {
  "kernelspec": {
   "display_name": "ice_shelf_mask",
   "language": "python",
   "name": "ice_shelf_mask"
  },
  "language_info": {
   "codemirror_mode": {
    "name": "ipython",
    "version": 3
   },
   "file_extension": ".py",
   "mimetype": "text/x-python",
   "name": "python",
   "nbconvert_exporter": "python",
   "pygments_lexer": "ipython3",
   "version": "3.8.5"
  }
 },
 "nbformat": 4,
 "nbformat_minor": 5
}
