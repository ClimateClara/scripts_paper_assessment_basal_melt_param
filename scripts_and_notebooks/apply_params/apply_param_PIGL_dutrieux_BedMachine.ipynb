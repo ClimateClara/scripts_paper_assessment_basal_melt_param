{
 "cells": [
  {
   "cell_type": "code",
   "execution_count": null,
   "id": "1b7be72f-88ea-4255-a024-2d9fadc94e70",
   "metadata": {},
   "outputs": [],
   "source": [
    "\"\"\"\n",
    "Created on Thu Jan 20 11:03 2021\n",
    "\n",
    "Check basal melt pattern using Dutrieux profiles (as formatted in \"T_S_profiles_Dutrieux14.ipynb\")\n",
    "\n",
    "for Figure 8\n",
    "\n",
    "author: @claraburgard\n",
    "\"\"\""
   ]
  },
  {
   "cell_type": "code",
   "execution_count": null,
   "id": "de5ff904-8777-4b5b-8308-39a861fd1c6d",
   "metadata": {},
   "outputs": [],
   "source": [
    "import xarray as xr\n",
    "import numpy as np\n",
    "import matplotlib.pyplot as plt\n",
    "import matplotlib as mpl\n",
    "import pandas as pd \n",
    "from tqdm.notebook import trange, tqdm\n",
    "import time\n",
    "import assess_param_funcs.melt_functions as meltf\n",
    "import assess_param_funcs.useful_functions as uf\n",
    "from basal_melt_param.constants import *\n",
    "import os, glob\n",
    "import distributed"
   ]
  },
  {
   "cell_type": "code",
   "execution_count": null,
   "id": "974b7f32-647c-4e63-89f3-e7430787557f",
   "metadata": {},
   "outputs": [],
   "source": [
    "%matplotlib qt5"
   ]
  },
  {
   "cell_type": "markdown",
   "id": "17ac5b71-8117-4b88-9204-28b2c55c44bf",
   "metadata": {},
   "source": [
    "READ IN DATA"
   ]
  },
  {
   "cell_type": "code",
   "execution_count": null,
   "id": "678ad892-9462-42f6-a11f-19b337dccebf",
   "metadata": {},
   "outputs": [],
   "source": [
    "home_path='/bettik/burgardc/'"
   ]
  },
  {
   "cell_type": "code",
   "execution_count": null,
   "id": "a542de6a-7e77-44ed-97a1-665422bb9395",
   "metadata": {},
   "outputs": [],
   "source": [
    "BedMachine_folder = '' #'_reduced5'"
   ]
  },
  {
   "cell_type": "code",
   "execution_count": null,
   "id": "05e8ba2d-dd6f-421c-8121-926d95fa894b",
   "metadata": {},
   "outputs": [],
   "source": [
    "inputpath_data='/bettik/burgardc/DATA/BASAL_MELT_PARAM/raw/BEDMACHINE_RTOPO/'\n",
    "inputpath_mask = home_path+'/DATA/BASAL_MELT_PARAM/interim/ANTARCTICA_IS_MASKS/BedMachine_for_comparison'+BedMachine_folder+'/'\n",
    "outputpath_mask ='/bettik/burgardc/DATA/BASAL_MELT_PARAM/interim/ANTARCTICA_IS_MASKS/BedMachine_for_comparison'+BedMachine_folder+'/'\n",
    "inputpath_profiles = home_path+'/SCRIPTS/basal_melt_param/data/interim/T_S_PROF/dutrieux_2014/'\n",
    "inputpath_simple = '/bettik/burgardc/DATA/BASAL_MELT_PARAM/interim/SIMPLE/BedMachine_for_comparison'+BedMachine_folder+'/'\n",
    "outputpath_simple = '/bettik/burgardc/DATA/BASAL_MELT_PARAM/interim/SIMPLE/BedMachine_for_comparison'+BedMachine_folder+'/'\n",
    "inputpath_plumes = '/bettik/burgardc/DATA/BASAL_MELT_PARAM/interim/PLUMES/BedMachine_for_comparison'+BedMachine_folder+'/'\n",
    "outputpath_plumes = '/bettik/burgardc/DATA/BASAL_MELT_PARAM/interim/PLUMES/BedMachine_for_comparison'+BedMachine_folder+'/'\n",
    "inputpath_boxes = '/bettik/burgardc/DATA/BASAL_MELT_PARAM/interim/BOXES/BedMachine_for_comparison'+BedMachine_folder+'/'\n",
    "outputpath_boxes = '/bettik/burgardc/DATA/BASAL_MELT_PARAM/interim/BOXES/BedMachine_for_comparison'+BedMachine_folder+'/'\n",
    "outputpath_melt = home_path+'/DATA/BASAL_MELT_PARAM/processed/MELT_RATE/BedMachine_for_comparison'+BedMachine_folder+'/'\n",
    "outputpath = home_path+'/DATA/BASAL_MELT_PARAM/interim/'\n",
    "plot_path = home_path+'/PLOTS/BedMachine_stuff/'"
   ]
  },
  {
   "cell_type": "code",
   "execution_count": null,
   "id": "0c318efe-2f17-4601-982d-606d9a2e988e",
   "metadata": {},
   "outputs": [],
   "source": [
    "# make the domain a little smaller to make the computation even more efficient - file isf has already been made smaller at its creation\n",
    "map_lim = [-3000000,3000000]"
   ]
  },
  {
   "cell_type": "code",
   "execution_count": null,
   "id": "bcdc9677-5917-4f0d-9c65-8786abd817be",
   "metadata": {},
   "outputs": [],
   "source": [
    "file_mask_orig = xr.open_dataset(inputpath_data+'BedMachineAntarctica_2020-07-15_v02'+BedMachine_folder+'.nc')\n",
    "file_mask_orig_cut = uf.cut_domain_stereo(file_mask_orig, map_lim, map_lim)"
   ]
  },
  {
   "cell_type": "code",
   "execution_count": null,
   "id": "3d5b906e-abb3-46bb-acfc-e54eaad57249",
   "metadata": {},
   "outputs": [],
   "source": [
    "file_isf_orig = xr.open_dataset(inputpath_mask+'BedMachine'+BedMachine_folder+'_isf_masks_and_info_and_distance_new.nc')\n",
    "file_isf = file_isf_orig.sel(Nisf=[66])\n",
    "file_isf['isf_name'] = file_isf['isf_name'].astype(str)\n",
    "\n",
    "file_TS = xr.open_dataset(inputpath_profiles+'T_S_profiles_dutrieux2014_PIGL.nc')"
   ]
  },
  {
   "cell_type": "code",
   "execution_count": null,
   "id": "c0b04993-b03b-43a1-9da9-82c238851577",
   "metadata": {},
   "outputs": [],
   "source": [
    "file_bed_orig = file_mask_orig_cut['bed']\n",
    "file_draft = (file_mask_orig_cut['thickness'] - file_mask_orig_cut['surface']).where(file_isf['ISF_mask']>1)"
   ]
  },
  {
   "cell_type": "code",
   "execution_count": null,
   "id": "49700041-2ea1-4365-ac53-9bf7c4c194e6",
   "metadata": {},
   "outputs": [],
   "source": [
    "lon = file_isf.longitude\n",
    "lat = file_isf.latitude"
   ]
  },
  {
   "cell_type": "code",
   "execution_count": null,
   "id": "ae1d57f2-7551-4500-9ee4-7847e9969516",
   "metadata": {},
   "outputs": [],
   "source": [
    "file_isf_conc = (file_draft*0 + 1).rename('isfdraft_conc')\n",
    "\n",
    "xx = file_isf.x\n",
    "yy = file_isf.y\n",
    "dx = (xx[2] - xx[1]).values\n",
    "dy = (yy[2] - yy[1]).values\n",
    "grid_cell_area = abs(dx*dy)  \n",
    "grid_cell_area_weighted = file_isf_conc * grid_cell_area"
   ]
  },
  {
   "cell_type": "code",
   "execution_count": null,
   "id": "9c631dd8-416a-491e-b93e-a37a3885fdaa",
   "metadata": {},
   "outputs": [],
   "source": [
    "ice_draft_pos = file_draft\n",
    "ice_draft_neg = -ice_draft_pos"
   ]
  },
  {
   "cell_type": "code",
   "execution_count": null,
   "id": "b299b6f8-11c2-4813-8e9f-967f27971f90",
   "metadata": {},
   "outputs": [],
   "source": [
    "isf_stack_mask = uf.create_stacked_mask(file_isf['ISF_mask'], file_isf.Nisf, ['y','x'], 'mask_coord')"
   ]
  },
  {
   "cell_type": "code",
   "execution_count": null,
   "id": "d7bbfa76-bce8-4e03-82e5-db7837490247",
   "metadata": {},
   "outputs": [],
   "source": [
    "box_charac_all_2D = xr.open_dataset(inputpath_boxes + 'BedMachine'+BedMachine_folder+'_boxes_2D.nc')\n",
    "box_charac_all_1D = xr.open_dataset(inputpath_boxes + 'BedMachine'+BedMachine_folder+'_boxes_1D.nc')\n",
    "plume_charac = xr.open_dataset(inputpath_plumes+'BedMachine'+BedMachine_folder+'_plume_characteristics.nc')"
   ]
  },
  {
   "cell_type": "code",
   "execution_count": null,
   "id": "fcee3d46-66f3-4b64-b895-417ce030be9a",
   "metadata": {},
   "outputs": [],
   "source": [
    "param_var_of_int_2D = file_isf[['ISF_mask', 'latitude', 'longitude', 'dGL']]\n",
    "param_var_of_int_1D = file_isf[['front_bot_depth_avg', 'front_bot_depth_max','isf_name']]"
   ]
  },
  {
   "cell_type": "code",
   "execution_count": null,
   "id": "921b48ff-7e60-4516-80a8-05fb789b984e",
   "metadata": {},
   "outputs": [],
   "source": [
    "geometry_info_2D = plume_charac.merge(param_var_of_int_2D).merge(ice_draft_pos.rename('ice_draft_pos')).merge(grid_cell_area_weighted).rename({'isfdraft_conc':'grid_cell_area_weighted'}).merge(file_isf_conc)\n",
    "geometry_info_1D = param_var_of_int_1D"
   ]
  },
  {
   "cell_type": "markdown",
   "id": "65e69b30-57a5-4604-a578-c4ed870440bd",
   "metadata": {},
   "source": [
    "SIMPLE"
   ]
  },
  {
   "cell_type": "code",
   "execution_count": null,
   "id": "74231863-4e78-4ee7-94fd-f07bd0cfe7b6",
   "metadata": {},
   "outputs": [],
   "source": [
    "# tuned best estimates\n",
    "outputpath_simple_all = home_path+'/DATA/BASAL_MELT_PARAM/interim/SIMPLE/nemo_5km_06161821_oneFRIS/'\n",
    "gammas_file_simple = xr.open_dataset(outputpath_simple_all+'gammas_simple_ALL.nc')"
   ]
  },
  {
   "cell_type": "code",
   "execution_count": null,
   "id": "9e1e5e8a-eab1-44be-8e4e-9cedd9edcba9",
   "metadata": {},
   "outputs": [],
   "source": [
    "simple_param_types = ['linear_local', 'quadratic_local', 'quadratic_local_locslope', 'quadratic_local_cavslope', \n",
    "                      'quadratic_mixed_mean', 'quadratic_mixed_locslope','quadratic_mixed_cavslope'] \n",
    "\n",
    "nisf_list = geometry_info_1D.Nisf\n",
    "T_S_profile = file_TS.ffill(dim='depth')\n",
    "gamma_choice = 'tuned'\n",
    "dom=50\n",
    "\n",
    "for mparam in simple_param_types:\n",
    "    \n",
    "    gamma = gammas_file_simple['slope'].sel(param=mparam).sel(profile_domain=dom)\n",
    "    ds_2D, ds_1D = meltf.calculate_melt_rate_1D_and_2D_all_isf(nisf_list, T_S_profile, geometry_info_2D, geometry_info_1D, isf_stack_mask, mparam, gamma, U_param=True)\n",
    "\n",
    "    ds_2D.to_netcdf(outputpath_melt+'melt_rates_2D_'+mparam+'_'+gamma_choice+'_dutrieux.nc')\n",
    "    ds_1D.to_netcdf(outputpath_melt+'melt_rates_1D_'+mparam+'_'+gamma_choice+'_dutrieux.nc')\n",
    "                "
   ]
  },
  {
   "cell_type": "markdown",
   "id": "83d81315-9a72-48e2-a9eb-d72b62e6cd98",
   "metadata": {},
   "source": [
    "PLUMES"
   ]
  },
  {
   "cell_type": "code",
   "execution_count": null,
   "id": "6a934bfd-c6d2-4cd5-b1ef-37e87fa638bc",
   "metadata": {},
   "outputs": [],
   "source": [
    "tuned_plume_gammas = xr.DataArray(np.array([[2.8e-4,42.2e-4],\n",
    "                                              [1.3e-4,1e3]]), dims={'param': ['lazero19_2','lazero19_modif2'], 'profile_domain': np.array([50,1000])})\n",
    "tuned_plume_gammas = tuned_plume_gammas.assign_coords({'param': ['lazero19_2','lazero19_modif2'], 'profile_domain': np.array([50,1000])})\n",
    "\n",
    "tuned_plume_E0s = xr.DataArray(np.array([[4.2e-2,0.34e-2],\n",
    "                                  [7.6e-2,0.14e-2]]), dims={'param': ['lazero19_2','lazero19_modif2'], 'profile_domain': np.array([50,1000])})\n",
    "tuned_plume_E0s = tuned_plume_E0s.assign_coords({'param': ['lazero19_2','lazero19_modif2'], 'profile_domain': np.array([50,1000])})"
   ]
  },
  {
   "cell_type": "code",
   "execution_count": null,
   "id": "63c08677-ea20-4ba8-b916-4bb5ca4f17e2",
   "metadata": {},
   "outputs": [],
   "source": [
    "plume_param_types = ['lazero19_2','lazero19_modif2']\n",
    "nisf_list = geometry_info_1D.Nisf\n",
    "T_S_profile = file_TS.ffill(dim='depth')\n",
    "gamma_choice = 'tuned'\n",
    "dom = 50\n",
    "\n",
    "for mparam in plume_param_types:\n",
    "        \n",
    "        if gamma_choice == 'tuned':\n",
    "\n",
    "            if mparam == 'lazero19_modif2':\n",
    "                \n",
    "                print('entering modif2')\n",
    "                gamma = tuned_plume_gammas.sel(param=mparam, profile_domain=dom)\n",
    "                E0 = tuned_plume_E0s.sel(param=mparam, profile_domain=dom)\n",
    "\n",
    "            elif mparam == 'lazero19_2':\n",
    "                \n",
    "                print('entering _2')\n",
    "                gamma = tuned_plume_gammas.sel(param=mparam, profile_domain=dom)\n",
    "                E0 = tuned_plume_E0s.sel(param=mparam, profile_domain=dom)\n",
    "                \n",
    "            ds_2D, ds_1D = meltf.calculate_melt_rate_1D_and_2D_all_isf(nisf_list, T_S_profile, geometry_info_2D, geometry_info_1D, isf_stack_mask, mparam, gamma, E0=E0, verbose=True)\n",
    "\n",
    "        ds_2D.to_netcdf(outputpath_melt+'melt_rates_2D_'+mparam+'_'+gamma_choice+'_dutrieux.nc')\n",
    "        ds_1D.to_netcdf(outputpath_melt+'melt_rates_1D_'+mparam+'_'+gamma_choice+'_dutrieux.nc')"
   ]
  },
  {
   "cell_type": "markdown",
   "id": "b031780d-6f9d-4f2e-8c93-f935f66b59ae",
   "metadata": {},
   "source": [
    "BOXES"
   ]
  },
  {
   "cell_type": "code",
   "execution_count": null,
   "id": "c0350c7b-bb3d-4169-95bf-e7d48d7da8de",
   "metadata": {},
   "outputs": [],
   "source": [
    "tuned_box_gammas = xr.DataArray(np.array([[[0.39e-5,0.41e-5,0.44e-5,0.39e-5],\n",
    "                                              [0.39e-5,0.41e-5,0.44e-5,0.39e-5]],\n",
    "                                         [[0.51e-5,0.73e-5,0.92e-5,0.63e-5],\n",
    "                                              [0.51e-5,0.73e-5,0.92e-5,0.63e-5]]]\n",
    "                                        ), dims={'profile_domain': np.array([50,1000]), 'pism': ['no','yes'], 'config': range(1,5)})\n",
    "tuned_box_gammas = tuned_box_gammas.assign_coords({'profile_domain': np.array([50,1000]),'pism': ['no','yes'], 'config': range(1,5)})\n",
    "\n",
    "\n",
    "tuned_box_Cs = xr.DataArray(np.array([[[16.5e6,18.0e6,20.7e6,16.1e6],\n",
    "                                              [16.1e6,17.8e6,20.5e6,20.5e6]],\n",
    "                                    [[0.14e6,0.14e6,0.14e6,0.13e6],\n",
    "                                              [0.14e6,0.14e6,0.14e6,0.13e6]]]), dims={'profile_domain': np.array([50,1000]), 'pism': ['no','yes'], 'config': range(1,5)})\n",
    "tuned_box_Cs = tuned_box_Cs.assign_coords({'profile_domain': np.array([50,1000]),'pism': ['no','yes'], 'config': range(1,5)})"
   ]
  },
  {
   "cell_type": "code",
   "execution_count": null,
   "id": "f9bccf42-9bb9-4430-aef5-23203af256fc",
   "metadata": {},
   "outputs": [],
   "source": [
    "nisf_list = geometry_info_1D.Nisf\n",
    "T_S_profile = file_TS.ffill(dim='depth') \n",
    "gamma_choice = 'tuned'\n",
    "dom = 50\n",
    "\n",
    "for nD_config in range(3,5):\n",
    "    \n",
    "    for pism_version in ['yes']: #,'no'\n",
    "        \n",
    "        for picop_opt in ['no']: #'yes',\n",
    "\n",
    "            mparam = 'boxes_'+str(nD_config)+'_pism'+pism_version+'_picop'+picop_opt\n",
    "\n",
    "\n",
    "            C = tuned_box_Cs.sel(config=nD_config, pism=pism_version, profile_domain=dom).drop('config').drop('pism')\n",
    "            gamma = tuned_box_gammas.sel(config=nD_config, pism=pism_version, profile_domain=dom).drop('config').drop('pism')\n",
    "\n",
    "            ds_2D, ds_1D = meltf.calculate_melt_rate_1D_and_2D_all_isf(nisf_list, T_S_profile, geometry_info_2D, geometry_info_1D, isf_stack_mask, mparam, gamma,\n",
    "                          C=C, angle_option='appenB', box_charac_2D=box_charac_all_2D, box_charac_1D=box_charac_all_1D, box_tot=nD_config, box_tot_option='nD_config', \n",
    "                          pism_version=pism_version, picop_opt=picop_opt, options_2D=['melt_m_ice_per_y'], options_1D=['melt_m_ice_per_y_avg','melt_Gt_per_y_tot'])\n",
    "\n",
    "\n",
    "            ds_2D.to_netcdf(outputpath_melt+'melt_rates_2D_'+mparam+'_'+gamma_choice+'_dutrieux.nc')\n",
    "            ds_1D.to_netcdf(outputpath_melt+'melt_rates_1D_'+mparam+'_'+gamma_choice+'_dutrieux.nc')"
   ]
  },
  {
   "cell_type": "markdown",
   "id": "8a0d8745-4f90-43ac-99e4-0442b5b04bed",
   "metadata": {},
   "source": [
    "PICOP"
   ]
  },
  {
   "cell_type": "code",
   "execution_count": null,
   "id": "2a7fdbbc-6e3b-465f-aa15-c5867798d9f2",
   "metadata": {},
   "outputs": [],
   "source": [
    "tuned_box_gammas = xr.DataArray(np.array([[[0.39e-5,0.41e-5,0.44e-5,0.39e-5],\n",
    "                                              [0.39e-5,0.41e-5,0.44e-5,0.39e-5]],\n",
    "                                         [[0.51e-5,0.73e-5,0.92e-5,0.63e-5],\n",
    "                                              [0.51e-5,0.73e-5,0.92e-5,0.63e-5]]]\n",
    "                                        ), dims={'profile_domain': np.array([50,1000]), 'pism': ['no','yes'], 'config': range(1,5)})\n",
    "tuned_box_gammas = tuned_box_gammas.assign_coords({'profile_domain': np.array([50,1000]),'pism': ['no','yes'], 'config': range(1,5)})\n",
    "\n",
    "\n",
    "tuned_box_Cs = xr.DataArray(np.array([[[16.5e6,18.0e6,20.7e6,16.1e6],\n",
    "                                              [16.1e6,17.8e6,20.5e6,20.5e6]],\n",
    "                                    [[0.14e6,0.14e6,0.14e6,0.13e6],\n",
    "                                              [0.14e6,0.14e6,0.14e6,0.13e6]]]), dims={'profile_domain': np.array([50,1000]), 'pism': ['no','yes'], 'config': range(1,5)})\n",
    "tuned_box_Cs = tuned_box_Cs.assign_coords({'profile_domain': np.array([50,1000]),'pism': ['no','yes'], 'config': range(1,5)})\n",
    "\n",
    "tuned_picop_gammas = xr.DataArray(np.array([[0.94e-4,0.85e-4],\n",
    "                                          [2.0e-4,1.5e-4]]), dims={'profile_domain': np.array([50,1000]), 'config': range(3,5)})\n",
    "tuned_picop_gammas = tuned_picop_gammas.assign_coords({'profile_domain': np.array([50,1000]), 'config': range(3,5)})\n",
    "\n",
    "tuned_picop_E0s = xr.DataArray(np.array([[30.7e-2,34.5e-2],\n",
    "                                       [95.1e-2,136e-2]]), dims={'profile_domain': np.array([50,1000]), 'config': range(3,5)})\n",
    "tuned_picop_E0s = tuned_picop_E0s.assign_coords({'profile_domain': np.array([50,1000]), 'config': range(3,5)})"
   ]
  },
  {
   "cell_type": "code",
   "execution_count": null,
   "id": "0cb4317f-bf57-49ab-9c2e-7f9176d357e3",
   "metadata": {},
   "outputs": [],
   "source": [
    "nisf_list = geometry_info_1D.Nisf\n",
    "T_S_profile = file_TS.ffill(dim='depth') \n",
    "gamma_choice = 'tuned'\n",
    "dom = 50\n",
    "\n",
    "for nD_config in range(3,5):\n",
    "    \n",
    "    if nD_config == 4:\n",
    "        pism_version = 'no'\n",
    "    elif nD_config == 3:\n",
    "        pism_version = 'yes'\n",
    "\n",
    "    mparam = 'boxes_'+str(nD_config)+'_pism'+pism_version+'_picopyes'\n",
    "\n",
    "    picop_opt='2019'\n",
    "    C = tuned_box_Cs.sel(config=nD_config, pism=pism_version, profile_domain=dom).drop('config').drop('pism')\n",
    "    gamma = tuned_box_gammas.sel(config=nD_config, pism=pism_version, profile_domain=dom).drop('config').drop('pism')\n",
    "\n",
    "\n",
    "    if picop_opt in ['2018','2019']:\n",
    "\n",
    "        if picop_opt == '2018':\n",
    "            gamma_plume = gamma_eff_T_lazero\n",
    "            E0 = E0_lazero\n",
    "        elif picop_opt == '2019':\n",
    "            gamma_plume = tuned_picop_gammas.sel(config=nD_config, profile_domain=dom).drop('config')\n",
    "            E0 = tuned_picop_E0s.sel(config=nD_config, profile_domain=dom).drop('config')\n",
    "\n",
    "        ds_2D, ds_1D = meltf.calculate_melt_rate_1D_and_2D_all_isf(nisf_list, T_S_profile, geometry_info_2D, geometry_info_1D, isf_stack_mask, mparam, gamma,\n",
    "                                              C=C, E0=E0, angle_option='appenB',\n",
    "                                              box_charac_2D=box_charac_all_2D, box_charac_1D=box_charac_all_1D, box_tot=nD_config, box_tot_option='nD_config', \n",
    "                                              pism_version=pism_version, picop_opt=picop_opt, gamma_plume=gamma_plume, options_2D=['melt_m_ice_per_y'], options_1D=['melt_m_ice_per_y_avg','melt_Gt_per_y_tot'])\n",
    "\n",
    "    elif picop_opt == 'no':\n",
    "\n",
    "        ds_2D, ds_1D = meltf.calculate_melt_rate_1D_and_2D_all_isf(nisf_list, T_S_profile, geometry_info_2D, geometry_info_1D, isf_stack_mask, mparam, gamma,\n",
    "                      C=C, angle_option='appenB', box_charac_2D=box_charac_all_2D, box_charac_1D=box_charac_all_1D, box_tot=nD_config, box_tot_option='nD_config', \n",
    "                      pism_version=pism_version, picop_opt=picop_opt)\n",
    "\n",
    "    else:\n",
    "        print('Help! Did not receive PICOP instructions')\n",
    "\n",
    "    ds_2D.to_netcdf(outputpath_melt+'melt_rates_2D_'+mparam+'_'+gamma_choice+'_dutrieux.nc')\n",
    "    ds_1D.to_netcdf(outputpath_melt+'melt_rates_1D_'+mparam+'_'+gamma_choice+'_dutrieux.nc')"
   ]
  }
 ],
 "metadata": {
  "kernelspec": {
   "display_name": "ice_shelf_mask",
   "language": "python",
   "name": "ice_shelf_mask"
  },
  "language_info": {
   "codemirror_mode": {
    "name": "ipython",
    "version": 3
   },
   "file_extension": ".py",
   "mimetype": "text/x-python",
   "name": "python",
   "nbconvert_exporter": "python",
   "pygments_lexer": "ipython3",
   "version": "3.8.5"
  }
 },
 "nbformat": 4,
 "nbformat_minor": 5
}
