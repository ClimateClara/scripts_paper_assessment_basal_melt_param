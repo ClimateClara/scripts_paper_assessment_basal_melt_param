{
 "cells": [
  {
   "cell_type": "code",
   "execution_count": null,
   "id": "2ca933d6-150b-4f4a-b201-b7b148ff4723",
   "metadata": {},
   "outputs": [],
   "source": [
    "\"\"\"\n",
    "Created on Tue Jun 21 14:55 2022\n",
    "\n",
    "This script uses the CV parameters from \"group_CV_parameters.ipynb\" to compute the integrated melt and \n",
    "melt near the grounding line on the synthetically independent evaluation dataset\n",
    "+\n",
    "computes evaluation metrics using original parameters\n",
    "\n",
    "@author: Clara Burgard\n",
    "\"\"\""
   ]
  },
  {
   "cell_type": "code",
   "execution_count": null,
   "id": "f3af0894-254a-405e-b9d2-5ab5e714b194",
   "metadata": {},
   "outputs": [],
   "source": [
    "import xarray as xr\n",
    "import numpy as np\n",
    "import matplotlib.pyplot as plt\n",
    "import pandas as pd  \n",
    "from tqdm.notebook import trange, tqdm\n",
    "import time\n",
    "import assess_param_funcs.melt_functions as meltf\n",
    "import assess_param_funcs.useful_functions as uf\n",
    "from assess_param_funcs.constants import *\n",
    "import os, glob"
   ]
  },
  {
   "cell_type": "code",
   "execution_count": null,
   "id": "2c8a026c-4f00-4c18-ae3b-9b571fc5c7a4",
   "metadata": {},
   "outputs": [],
   "source": [
    "home_path='/bettik/burgardc/'"
   ]
  },
  {
   "cell_type": "markdown",
   "id": "cb18fa0b-9c9b-46cc-9627-38d818340b01",
   "metadata": {},
   "source": [
    "READ IN DATA"
   ]
  },
  {
   "cell_type": "code",
   "execution_count": null,
   "id": "6b5c6afa-5392-41d9-9254-156a9f5a165a",
   "metadata": {},
   "outputs": [],
   "source": [
    "nemo_run = 'OPM021'"
   ]
  },
  {
   "cell_type": "code",
   "execution_count": null,
   "id": "2c8762a4-e2be-47e5-8d05-687431304780",
   "metadata": {},
   "outputs": [],
   "source": [
    "inputpath_data='/bettik/burgardc/SCRIPTS/basal_melt_param/data/interim/NEMO_eORCA025.L121_'+nemo_run+'_ANT_STEREO/'\n",
    "inputpath_mask = '/bettik/burgardc/SCRIPTS/basal_melt_param/data/interim/ANTARCTICA_IS_MASKS/nemo_5km_'+nemo_run+'/'\n",
    "inputpath_profiles = '/bettik/burgardc/SCRIPTS/basal_melt_param/data/interim/T_S_PROF/nemo_5km_'+nemo_run+'/'\n",
    "outputpath_simple = '/bettik/burgardc/SCRIPTS/basal_melt_param/data/interim/SIMPLE/nemo_5km_'+nemo_run+'/'\n",
    "outputpath_simple_all = '/bettik/burgardc/SCRIPTS/basal_melt_param/data/interim/SIMPLE/nemo_5km_06161821_oneFRIS/'\n",
    "inputpath_plumes = '/bettik/burgardc/SCRIPTS/basal_melt_param/data/interim/PLUMES/nemo_5km_'+nemo_run+'/'\n",
    "outputpath_plumes = '/bettik/burgardc/SCRIPTS/basal_melt_param/data/interim/PLUMES/nemo_5km_'+nemo_run+'/'\n",
    "inputpath_boxes = '/bettik/burgardc/SCRIPTS/basal_melt_param/data/interim/BOXES/nemo_5km_'+nemo_run+'/'\n",
    "outputpath_boxes = '/bettik/burgardc/SCRIPTS/basal_melt_param/data/interim/BOXES/nemo_5km_'+nemo_run+'/'\n",
    "outputpath_melt = '/bettik/burgardc/SCRIPTS/basal_melt_param/data/processed/MELT_RATE/nemo_5km_'+nemo_run+'/'\n",
    "outputpath = '/bettik/burgardc/SCRIPTS/basal_melt_param/data/interim/'\n",
    "plot_path = '/bettik/burgardc/PLOTS/first-look/'"
   ]
  },
  {
   "cell_type": "code",
   "execution_count": null,
   "id": "38b3a240-f762-4593-9062-5e66afff6288",
   "metadata": {},
   "outputs": [],
   "source": [
    "# make the domain a little smaller to make the computation even more efficient - file isf has already been made smaller at its creation\n",
    "map_lim = [-3000000,3000000]"
   ]
  },
  {
   "cell_type": "code",
   "execution_count": null,
   "id": "c7c6c635-74ec-4e5b-b927-b57938bec400",
   "metadata": {},
   "outputs": [],
   "source": [
    "file_other = xr.open_dataset(inputpath_data+'corrected_draft_bathy_isf.nc')#, chunks={'x': chunk_size, 'y': chunk_size})\n",
    "file_other_cut = uf.cut_domain_stereo(file_other, map_lim, map_lim)\n",
    "file_conc = xr.open_dataset(inputpath_data+'isfdraft_conc_Ant_stereo.nc')\n",
    "file_conc_cut = uf.cut_domain_stereo(file_conc, map_lim, map_lim)"
   ]
  },
  {
   "cell_type": "code",
   "execution_count": null,
   "id": "b08f8f31-26b1-439f-9787-eb691425820d",
   "metadata": {},
   "outputs": [],
   "source": [
    "file_isf_orig = xr.open_dataset(inputpath_mask+'nemo_5km_isf_masks_and_info_and_distance_new_oneFRIS.nc')\n",
    "nonnan_Nisf = file_isf_orig['Nisf'].where(np.isfinite(file_isf_orig['front_bot_depth_max']), drop=True).astype(int)\n",
    "file_isf_nonnan = file_isf_orig.sel(Nisf=nonnan_Nisf)\n",
    "large_isf = file_isf_nonnan['Nisf'].where(file_isf_nonnan['isf_area_here'] >= 2500, drop=True)\n",
    "file_isf = file_isf_nonnan.sel(Nisf=large_isf)\n",
    "file_isf['isf_name'] = file_isf['isf_name'].astype(str)\n",
    "file_isf['region'] = file_isf['region'].astype(str)\n",
    "\n",
    "file_TS_orig = xr.open_dataset(inputpath_profiles+'T_S_mean_prof_corrected_km_contshelf_and_offshore_1980-2018_oneFRIS.nc')\n",
    "file_TS = file_TS_orig.sel(Nisf=large_isf).sel(profile_domain=[50,1000])"
   ]
  },
  {
   "cell_type": "code",
   "execution_count": null,
   "id": "3b6f5bdd-47f5-484a-875b-4ee152eee595",
   "metadata": {},
   "outputs": [],
   "source": [
    "lon = file_isf.longitude\n",
    "lat = file_isf.latitude"
   ]
  },
  {
   "cell_type": "code",
   "execution_count": null,
   "id": "b89eb660-f0cd-411f-8c42-49064972448f",
   "metadata": {},
   "outputs": [],
   "source": [
    "file_isf_conc = file_conc_cut['isfdraft_conc']\n",
    "\n",
    "xx = file_isf.x\n",
    "yy = file_isf.y\n",
    "dx = (xx[2] - xx[1]).values\n",
    "dy = (yy[2] - yy[1]).values\n",
    "grid_cell_area = abs(dx*dy)  \n",
    "grid_cell_area_weighted = file_isf_conc * grid_cell_area"
   ]
  },
  {
   "cell_type": "code",
   "execution_count": null,
   "id": "5e6c8f6a-a14e-4be3-b5e7-7df085d6b7ec",
   "metadata": {},
   "outputs": [],
   "source": [
    "ice_draft_pos = file_other_cut['corrected_isfdraft']\n",
    "ice_draft_neg = -ice_draft_pos"
   ]
  },
  {
   "cell_type": "code",
   "execution_count": null,
   "id": "44dae89c-f151-4391-b159-d5450a7c705c",
   "metadata": {},
   "outputs": [],
   "source": [
    "# creates stack mask to assign indexes to given ice shelves to avoid as much including large NaN-fields in \n",
    "# calculations and reduce memory usage this way\n",
    "isf_stack_mask = uf.create_stacked_mask(file_isf['ISF_mask'], file_isf.Nisf, ['y','x'], 'mask_coord')"
   ]
  },
  {
   "cell_type": "code",
   "execution_count": null,
   "id": "2c5f1814-2ec4-4c7a-801e-714adfa0819e",
   "metadata": {},
   "outputs": [],
   "source": [
    "box_charac_all_2D = xr.open_dataset(inputpath_boxes + 'nemo_5km_boxes_2D_oneFRIS.nc')\n",
    "box_charac_all_1D = xr.open_dataset(inputpath_boxes + 'nemo_5km_boxes_1D_oneFRIS.nc')\n",
    "plume_charac = xr.open_dataset(inputpath_plumes+'nemo_5km_plume_characteristics_oneFRIS.nc')\n",
    "\n",
    "# identify location of the 1st box in the 5-box setup which is our region \"near the grounding line\"\n",
    "box_loc_config2 = box_charac_all_2D['box_location'].sel(box_nb_tot=box_charac_all_1D['nD_config'].sel(config=2))\n",
    "box1 = box_loc_config2.where(box_loc_config2==1).isel(Nisf=0).drop('Nisf')"
   ]
  },
  {
   "cell_type": "code",
   "execution_count": null,
   "id": "f003f4ac-7309-4210-a8ca-3b47c58966b0",
   "metadata": {},
   "outputs": [],
   "source": [
    "param_var_of_int_2D = file_isf[['ISF_mask', 'latitude', 'longitude', 'dGL']]\n",
    "param_var_of_int_1D = file_isf[['front_bot_depth_avg', 'front_bot_depth_max','isf_name']]"
   ]
  },
  {
   "cell_type": "code",
   "execution_count": null,
   "id": "66e8ac37-b035-4047-be73-49a12d90acde",
   "metadata": {},
   "outputs": [],
   "source": [
    "geometry_info_2D = plume_charac.merge(param_var_of_int_2D).merge(ice_draft_pos).rename({'corrected_isfdraft':'ice_draft_pos'}).merge(grid_cell_area_weighted).rename({'isfdraft_conc':'grid_cell_area_weighted'}).merge(file_isf_conc)\n",
    "geometry_info_1D = param_var_of_int_1D"
   ]
  },
  {
   "cell_type": "markdown",
   "id": "b706f62b-b550-40ea-8b93-cc61ba35c2db",
   "metadata": {},
   "source": [
    "SIMPLE"
   ]
  },
  {
   "cell_type": "code",
   "execution_count": null,
   "id": "b85c11b9-aac1-40f7-a504-dc09010c5cc4",
   "metadata": {},
   "outputs": [],
   "source": [
    "# choose CV_type\n",
    "CV_type = 'shelves' # can be 'shelves' or 'time'"
   ]
  },
  {
   "cell_type": "code",
   "execution_count": null,
   "id": "875a9ae2-33f7-481b-a1f6-d984f675a6fd",
   "metadata": {},
   "outputs": [],
   "source": [
    "inputpath_chunk_info = '/bettik/burgardc/DATA/BASAL_MELT_PARAM/interim/T_S_PROF/'\n",
    "info_file = pd.read_csv(inputpath_chunk_info+'info_chunks.txt',header=None, index_col=0)"
   ]
  },
  {
   "cell_type": "code",
   "execution_count": null,
   "id": "9cee0af5-6637-4e61-974b-d5c2ac261858",
   "metadata": {},
   "outputs": [],
   "source": [
    "# read gammas as grouped in \"group_CV_parameters.ipynb\"\n",
    "gammas_CV_simple = xr.open_dataset(outputpath_simple_all+'gammas_simple_CV_'+CV_type+'.nc')"
   ]
  },
  {
   "cell_type": "code",
   "execution_count": null,
   "id": "6e38744c-7cc2-4bde-bb14-5333ca6fa882",
   "metadata": {},
   "outputs": [],
   "source": [
    "simple_param_types = ['linear_local', 'quadratic_local', 'quadratic_local_locslope', 'quadratic_local_cavslope', \n",
    "                      'quadratic_mixed_mean', 'quadratic_mixed_locslope','quadratic_mixed_cavslope'] \n",
    "\n",
    "nisf_list = geometry_info_1D.Nisf\n",
    "\n",
    "for mparam in simple_param_types:\n",
    "    \n",
    "    if CV_type == 'shelves':\n",
    "\n",
    "        \n",
    "        eval_1D_list = []\n",
    "        for kisf in tqdm(nisf_list):\n",
    "\n",
    "            T_S_profile = file_TS.ffill(dim='depth').sel(Nisf=[kisf])\n",
    "            \n",
    "            gamma = gammas_CV_simple['slope'].sel(param=mparam).sel(isf=kisf).drop('isf')\n",
    "        \n",
    "            eval_1D = meltf.calculate_melt_rate_Gt_and_box1_all_isf([kisf], T_S_profile, \n",
    "                                                                    geometry_info_2D, geometry_info_1D, isf_stack_mask, \n",
    "                                                                    mparam, gamma, U_param=True, \n",
    "                                                                    box_charac_2D=box_charac_all_2D, box_charac_1D=box_charac_all_1D, verbose=False)\n",
    "            eval_1D_list.append(eval_1D)\n",
    "            \n",
    "        eval_1D_CV_isf = xr.concat(eval_1D_list, dim='Nisf')\n",
    "            \n",
    "        eval_1D_CV_isf.to_netcdf(outputpath_melt+'eval_metrics_1D_'+mparam+'_oneFRIS_CVshelves.nc')\n",
    "\n",
    "    elif CV_type == 'time':\n",
    "\n",
    "        \n",
    "        eval_1D_list = []\n",
    "        for tblock in range(1,14):\n",
    "            print('TBLOCK: ',tblock)\n",
    "\n",
    "            tblock_run, tblock_start, tblock_end = info_file.loc[tblock]\n",
    "            if tblock_run == nemo_run:\n",
    "                T_S_profile = file_TS.ffill(dim='depth').sel(time=range(tblock_start, tblock_end+1))\n",
    "            \n",
    "                gamma = gammas_CV_simple['slope'].sel(param=mparam).sel(tblock=tblock).drop('tblock')\n",
    "                eval_1D = meltf.calculate_melt_rate_Gt_and_box1_all_isf(nisf_list, T_S_profile, \n",
    "                                                                            geometry_info_2D, geometry_info_1D, isf_stack_mask, \n",
    "                                                                            mparam, gamma, U_param=True, \n",
    "                                                                            box_charac_2D=box_charac_all_2D, box_charac_1D=box_charac_all_1D)\n",
    "                eval_1D_list.append(eval_1D)\n",
    "            \n",
    "        eval_1D_CV_time = xr.concat(eval_1D_list, dim='time')\n",
    "    \n",
    "        eval_1D_CV_time.to_netcdf(outputpath_melt+'eval_metrics_1D_'+mparam+'_oneFRIS_CVtime.nc')\n",
    "\n"
   ]
  },
  {
   "cell_type": "markdown",
   "id": "4f61a6e4-8f76-41ad-8e7f-24e661b07bcd",
   "metadata": {},
   "source": [
    "PLUMES"
   ]
  },
  {
   "cell_type": "code",
   "execution_count": null,
   "id": "32cd18a6-f0c9-4abd-801e-895d6d46f547",
   "metadata": {},
   "outputs": [],
   "source": [
    "# choose CV_type\n",
    "CV_type = 'shelves' # can be 'shelves' or 'time'"
   ]
  },
  {
   "cell_type": "code",
   "execution_count": null,
   "id": "5550919d-1bbf-487b-a32b-de1bbf2a81f1",
   "metadata": {},
   "outputs": [],
   "source": [
    "plume_param_types = ['lazero19_2','lazero19_modif2'] \n",
    "\n",
    "nisf_list = geometry_info_1D.Nisf\n",
    "\n",
    "for mparam in plume_param_types:\n",
    "    \n",
    "    if CV_type == 'shelves':\n",
    "        \n",
    "        gammas_CV_plumes = xr.open_dataset(outputpath_simple_all + 'plume_gamma_CV'+CV_type+'.nc')\n",
    "        E0s_CV_plumes = xr.open_dataset(outputpath_simple_all + 'plume_E0_CV'+CV_type+'.nc')\n",
    "        \n",
    "        eval_1D_list = []\n",
    "        for kisf in tqdm(nisf_list):\n",
    "            #print('ISF: ',kisf.values)\n",
    "            T_S_profile = file_TS.ffill(dim='depth').sel(Nisf=[kisf])\n",
    "            \n",
    "            gamma = gammas_CV_plumes['gamma'].sel(param=mparam).sel(Nisf=kisf).drop('Nisf')\n",
    "            E0 = E0s_CV_plumes['E0'].sel(param=mparam).sel(Nisf=kisf).drop('Nisf')\n",
    "        \n",
    "            eval_1D = meltf.calculate_melt_rate_Gt_and_box1_all_isf([kisf], T_S_profile, \n",
    "                                                                 geometry_info_2D, geometry_info_1D, isf_stack_mask, \n",
    "                                                                 mparam, gamma, E0=E0, \n",
    "                                                                 box_charac_2D=box_charac_all_2D, box_charac_1D=box_charac_all_1D, verbose=False)\n",
    "            eval_1D_list.append(eval_1D)\n",
    "            \n",
    "        eval_1D_CV_isf = xr.concat(eval_1D_list, dim='Nisf')\n",
    "            \n",
    "        eval_1D_CV_isf.to_netcdf(outputpath_melt+'eval_metrics_1D_'+mparam+'_oneFRIS_CVshelves.nc')\n",
    "\n",
    "    elif CV_type == 'time':\n",
    "\n",
    "        gammas_CV_plumes = xr.open_dataset(outputpath_simple_all + 'plume_gamma_CV'+CV_type+'.nc')\n",
    "        E0s_CV_plumes = xr.open_dataset(outputpath_simple_all + 'plume_E0_CV'+CV_type+'.nc')\n",
    "        \n",
    "        eval_1D_list = []\n",
    "        for tblock in range(1,14):\n",
    "            print('TBLOCK: ',tblock)\n",
    "\n",
    "            tblock_run, tblock_start, tblock_end = info_file.loc[tblock]\n",
    "            if tblock_run == nemo_run:\n",
    "                T_S_profile = file_TS.ffill(dim='depth').sel(time=range(tblock_start, tblock_end+1))\n",
    "            \n",
    "                gamma = gammas_CV_plumes['gamma'].sel(param=mparam).sel(tblock=tblock).drop('tblock')\n",
    "                E0 = E0s_CV_plumes['E0'].sel(param=mparam).sel(tblock=tblock).drop('tblock')\n",
    "\n",
    "                eval_1D = meltf.calculate_melt_rate_Gt_and_box1_all_isf(nisf_list, T_S_profile, \n",
    "                                                                     geometry_info_2D, geometry_info_1D, isf_stack_mask, \n",
    "                                                                     mparam, gamma, E0=E0, \n",
    "                                                                     box_charac_2D=box_charac_all_2D, box_charac_1D=box_charac_all_1D, verbose=True)\n",
    "                eval_1D_list.append(eval_1D)\n",
    "            \n",
    "        eval_1D_CV_time = xr.concat(eval_1D_list, dim='time')\n",
    "    \n",
    "        eval_1D_CV_time.to_netcdf(outputpath_melt+'eval_metrics_1D_'+mparam+'_oneFRIS_CVtime.nc')\n",
    "\n"
   ]
  },
  {
   "cell_type": "markdown",
   "id": "4e7a698c-ae61-40d6-8310-126f38b0daf0",
   "metadata": {},
   "source": [
    "BOXES"
   ]
  },
  {
   "cell_type": "code",
   "execution_count": null,
   "id": "74b385cb-44bc-4aa3-ab52-8d330d05cfc7",
   "metadata": {
    "tags": []
   },
   "outputs": [],
   "source": [
    "# choose CV_type\n",
    "CV_type = 'shelves' # can be 'shelves' or 'time'"
   ]
  },
  {
   "cell_type": "code",
   "execution_count": null,
   "id": "00c9b05e-ee8f-4316-aebc-b93b3b34f56f",
   "metadata": {},
   "outputs": [],
   "source": [
    "nisf_list = geometry_info_1D.Nisf\n",
    "\n",
    "for nD_config in range(1,5):\n",
    "    \n",
    "    pism_version = 'yes'\n",
    "    picop_opt = 'no'\n",
    "    mparam = 'boxes_'+str(nD_config)+'_pism'+pism_version+'_picop'+picop_opt\n",
    "            \n",
    "    if CV_type == 'shelves':\n",
    "        \n",
    "        gammas_CV_boxes = xr.open_dataset(outputpath_simple_all + 'box_gamma_CV'+CV_type+'.nc')\n",
    "        Cs_CV_boxes = xr.open_dataset(outputpath_simple_all + 'box_C_CV'+CV_type+'.nc')\n",
    "        \n",
    "        eval_1D_list = []\n",
    "        for kisf in tqdm(nisf_list):\n",
    "            #print('ISF: ',kisf.values)\n",
    "            T_S_profile = file_TS.ffill(dim='depth').sel(Nisf=[kisf])\n",
    "            \n",
    "            gamma = gammas_CV_boxes['gamma'].sel(param=mparam).sel(Nisf=kisf).drop('Nisf') * 10**(-5)\n",
    "            C = Cs_CV_boxes['C'].sel(param=mparam).sel(Nisf=kisf).drop('Nisf') * 10**6\n",
    "        \n",
    "            eval_1D = meltf.calculate_melt_rate_Gt_and_box1_all_isf([kisf], T_S_profile, \n",
    "                                                                     geometry_info_2D, geometry_info_1D, isf_stack_mask, \n",
    "                                                                     mparam, gamma, C=C, angle_option='appenB',\n",
    "                                                                     box_charac_2D=box_charac_all_2D, box_charac_1D=box_charac_all_1D, box_tot=nD_config, \n",
    "                                                                     box_tot_option='nD_config', pism_version=pism_version, picop_opt='no',\n",
    "                                                                     verbose=False)\n",
    "            eval_1D_list.append(eval_1D)\n",
    "            \n",
    "        eval_1D_CV_isf = xr.concat(eval_1D_list, dim='Nisf')\n",
    "            \n",
    "        eval_1D_CV_isf.to_netcdf(outputpath_melt+'eval_metrics_1D_'+mparam+'_oneFRIS_CVshelves.nc')\n",
    "\n",
    "    elif CV_type == 'time':\n",
    "\n",
    "        gammas_CV_boxes = xr.open_dataset(outputpath_simple_all + 'box_gamma_CV'+CV_type+'.nc')\n",
    "        Cs_CV_boxes = xr.open_dataset(outputpath_simple_all + 'box_C_CV'+CV_type+'.nc')\n",
    "        \n",
    "        eval_1D_list = []\n",
    "        for tblock in range(1,14):\n",
    "            print('TBLOCK: ',tblock)\n",
    "\n",
    "            tblock_run, tblock_start, tblock_end = info_file.loc[tblock]\n",
    "            if tblock_run == nemo_run:\n",
    "                T_S_profile = file_TS.ffill(dim='depth').sel(time=range(tblock_start, tblock_end+1))\n",
    "            \n",
    "                gamma = gammas_CV_boxes['gamma'].sel(param=mparam).sel(tblock=tblock).drop('tblock') * 10**(-5)\n",
    "                C = Cs_CV_boxes['C'].sel(param=mparam).sel(tblock=tblock).drop('tblock') * 10**6\n",
    "\n",
    "                eval_1D = meltf.calculate_melt_rate_Gt_and_box1_all_isf(nisf_list, T_S_profile, \n",
    "                                                                     geometry_info_2D, geometry_info_1D, isf_stack_mask, \n",
    "                                                                     mparam, gamma, C=C, angle_option='appenB',\n",
    "                                                                     box_charac_2D=box_charac_all_2D, box_charac_1D=box_charac_all_1D, box_tot=nD_config, \n",
    "                                                                     box_tot_option='nD_config', pism_version=pism_version, picop_opt='no',\n",
    "                                                                     verbose=True)\n",
    "                eval_1D_list.append(eval_1D)\n",
    "            \n",
    "        eval_1D_CV_time = xr.concat(eval_1D_list, dim='time')\n",
    "    \n",
    "        eval_1D_CV_time.to_netcdf(outputpath_melt+'eval_metrics_1D_'+mparam+'_oneFRIS_CVtime.nc')\n",
    "\n"
   ]
  },
  {
   "cell_type": "markdown",
   "id": "c5e2aa6e-a38c-4566-99dc-259e8ea9d531",
   "metadata": {},
   "source": [
    "PICOP"
   ]
  },
  {
   "cell_type": "code",
   "execution_count": null,
   "id": "a88dc8e9-47ca-4e75-ba2a-398e0d53829a",
   "metadata": {},
   "outputs": [],
   "source": [
    "# tuned best-estimate box parameters\n",
    "tuned_box_gammas = xr.DataArray(np.array([[[0.39e-5,0.41e-5,0.44e-5,0.39e-5],\n",
    "                                              [0.39e-5,0.41e-5,0.44e-5,0.39e-5]],\n",
    "                                         [[0.51e-5,0.73e-5,0.92e-5,0.63e-5],\n",
    "                                              [0.51e-5,0.73e-5,0.92e-5,0.63e-5]]]\n",
    "                                        ), dims={'profile_domain': np.array([50,1000]), 'pism': ['no','yes'], 'config': range(1,5)})\n",
    "tuned_box_gammas = tuned_box_gammas.assign_coords({'profile_domain': np.array([50,1000]),'pism': ['no','yes'], 'config': range(1,5)})\n",
    "\n",
    "tuned_box_Cs = xr.DataArray(np.array([[[16.5e6,18.0e6,20.7e6,20.7e6],\n",
    "                                              [16.1e6,17.8e6,20.5e6,20.5e6]],\n",
    "                                    [[0.14e6,0.14e6,0.14e6,0.13e6],\n",
    "                                              [0.14e6,0.14e6,0.14e6,0.13e6]]]), dims={'profile_domain': np.array([50,1000]), 'pism': ['no','yes'], 'config': range(1,5)})\n",
    "tuned_box_Cs = tuned_box_Cs.assign_coords({'profile_domain': np.array([50,1000]),'pism': ['no','yes'], 'config': range(1,5)})"
   ]
  },
  {
   "cell_type": "code",
   "execution_count": null,
   "id": "96c367f2-1841-4f16-b29c-6e6ec19cd16f",
   "metadata": {},
   "outputs": [],
   "source": [
    "# choose CV_type\n",
    "CV_type = 'shelves' # can be 'shelves' or 'time'"
   ]
  },
  {
   "cell_type": "code",
   "execution_count": null,
   "id": "4734fcbb-c4ef-4737-ab9c-fe9136e54fcb",
   "metadata": {},
   "outputs": [],
   "source": [
    "nisf_list = geometry_info_1D.Nisf\n",
    "\n",
    "for nD_config in range(3,5):\n",
    "    \n",
    "    if nD_config == 3:\n",
    "        pism_version = 'yes'\n",
    "    elif nD_config == 4:\n",
    "        pism_version = 'no'\n",
    "        \n",
    "    picop_opt = 'yes'\n",
    "    mparam = 'boxes_'+str(nD_config)+'_pism'+pism_version+'_picop'+picop_opt\n",
    "    \n",
    "    gamma = tuned_box_gammas.sel(config=nD_config, pism=pism_version)\n",
    "    C = tuned_box_Cs.sel(config=nD_config, pism=pism_version)\n",
    "            \n",
    "    if CV_type == 'shelves':\n",
    "        \n",
    "        gammas_CV_picop = xr.open_dataset(outputpath_simple_all + 'picop_gamma_CV'+CV_type+'.nc')\n",
    "        E0s_CV_picop = xr.open_dataset(outputpath_simple_all + 'picop_E0_CV'+CV_type+'.nc')\n",
    "        \n",
    "        eval_1D_list = []\n",
    "        for kisf in tqdm(nisf_list):\n",
    "            #print('ISF: ',kisf.values)\n",
    "            T_S_profile = file_TS.ffill(dim='depth').sel(Nisf=[kisf])\n",
    "            \n",
    "            gamma_plume = gammas_CV_picop['gamma'].sel(param=mparam).sel(Nisf=kisf).drop('Nisf')\n",
    "            E0 = E0s_CV_picop['E0'].sel(param=mparam).sel(Nisf=kisf).drop('Nisf')\n",
    "        \n",
    "            eval_1D = meltf.calculate_melt_rate_Gt_and_box1_all_isf([kisf], T_S_profile, \n",
    "                                                                     geometry_info_2D, geometry_info_1D, isf_stack_mask, \n",
    "                                                                     mparam, gamma, C=C, E0=E0, angle_option='appenB',\n",
    "                                                                     box_charac_2D=box_charac_all_2D, box_charac_1D=box_charac_all_1D, box_tot=nD_config, \n",
    "                                                                     box_tot_option='nD_config', pism_version=pism_version, picop_opt='2019', gamma_plume=gamma_plume,\n",
    "                                                                     verbose=False)\n",
    "\n",
    "            eval_1D_list.append(eval_1D)\n",
    "            \n",
    "        eval_1D_CV_isf = xr.concat(eval_1D_list, dim='Nisf')\n",
    "            \n",
    "        eval_1D_CV_isf.to_netcdf(outputpath_melt+'eval_metrics_1D_'+mparam+'_oneFRIS_CVshelves.nc')\n",
    "\n",
    "    elif CV_type == 'time':\n",
    "\n",
    "        gammas_CV_picop = xr.open_dataset(outputpath_simple_all + 'picop_gamma_CV'+CV_type+'.nc')\n",
    "        E0s_CV_picop = xr.open_dataset(outputpath_simple_all + 'picop_E0_CV'+CV_type+'.nc')\n",
    "        \n",
    "        eval_1D_list = []\n",
    "        for tblock in range(1,14):\n",
    "            print('TBLOCK: ',tblock)\n",
    "\n",
    "            tblock_run, tblock_start, tblock_end = info_file.loc[tblock]\n",
    "            if tblock_run == nemo_run:\n",
    "                T_S_profile = file_TS.ffill(dim='depth').sel(time=range(tblock_start, tblock_end+1))\n",
    "            \n",
    "                gamma_plume = gammas_CV_picop['gamma'].sel(param=mparam).sel(tblock=tblock).drop('tblock') \n",
    "                E0 = E0s_CV_picop['E0'].sel(param=mparam).sel(tblock=tblock).drop('tblock') \n",
    "\n",
    "                eval_1D = meltf.calculate_melt_rate_Gt_and_box1_all_isf(nisf_list, T_S_profile, \n",
    "                                                                     geometry_info_2D, geometry_info_1D, isf_stack_mask, \n",
    "                                                                     mparam, gamma, C=C, E0=E0, angle_option='appenB',\n",
    "                                                                     box_charac_2D=box_charac_all_2D, box_charac_1D=box_charac_all_1D, box_tot=nD_config, \n",
    "                                                                     box_tot_option='nD_config', pism_version=pism_version, picop_opt='2019', gamma_plume=gamma_plume,\n",
    "                                                                     verbose=True)\n",
    "                \n",
    "\n",
    "                eval_1D_list.append(eval_1D)\n",
    "            \n",
    "        eval_1D_CV_time = xr.concat(eval_1D_list, dim='time')\n",
    "    \n",
    "        eval_1D_CV_time.to_netcdf(outputpath_melt+'eval_metrics_1D_'+mparam+'_oneFRIS_CVtime.nc')\n",
    "\n"
   ]
  },
  {
   "cell_type": "markdown",
   "id": "693d0e27-35f0-4f74-b94f-66f1134a946e",
   "metadata": {},
   "source": [
    "COMPUTE EVALUATION METRICS WITH ORIGINAL PARAMETERS"
   ]
  },
  {
   "cell_type": "markdown",
   "id": "0e69f6fa-b53b-4009-b669-2977762b9093",
   "metadata": {},
   "source": [
    "SIMPLE"
   ]
  },
  {
   "cell_type": "code",
   "execution_count": null,
   "id": "808a5216-596f-48b6-abce-ae4ac8a55371",
   "metadata": {},
   "outputs": [],
   "source": [
    "#######\n",
    "favier_gammas = xr.DataArray(np.array([2.030e-5,99.32e-5,132.9e-5]),dims='param')\n",
    "favier_gammas = favier_gammas.assign_coords({'param': ['linear_local', 'quadratic_local', 'quadratic_mixed_mean']})\n",
    "#favier_gammas = xr.DataArray(np.array([1.060e-5,36.23e-5,36.3e-5]),dims='param')\n",
    "#favier_gammas = favier_gammas.assign_coords({'param': ['linear_local', 'quadratic_local', 'quadratic_mixed_mean']})\n",
    "#######\n",
    "lipscomb_values_mpery = xr.DataArray(np.array([[1.11*10**4,1.44*10**4,2.06*10**6],\n",
    "                                              [4.95*10**4,1.59*10**5,5.37*10**6]]), dims={'calib': ['MeanAnt','PIGL'], 'param': ['quadratic_local', 'quadratic_mixed_mean', 'quadratic_mixed_mean_locslope']})\n",
    "lipscomb_values_mpery = lipscomb_values_mpery.assign_coords({'calib': ['MeanAnt','PIGL'], 'param': ['quadratic_local', 'quadratic_mixed_mean', 'quadratic_mixed_locslope']})\n",
    "\n",
    "lipscomb_values_mpers = lipscomb_values_mpery/yearinsec"
   ]
  },
  {
   "cell_type": "code",
   "execution_count": null,
   "id": "8450640b-3100-4d62-88a5-84a0a9bd5dce",
   "metadata": {},
   "outputs": [],
   "source": [
    "simple_param_types = ['linear_local', 'quadratic_local', 'quadratic_local_locslope', 'quadratic_local_cavslope', \n",
    "                      'quadratic_mixed_mean', 'quadratic_mixed_locslope','quadratic_mixed_cavslope'] \n",
    "#simple_param_types = ['quadratic_local','quadratic_mixed_locslope']\n",
    "\n",
    "nisf_list = geometry_info_1D.Nisf\n",
    "T_S_profile = file_TS.ffill(dim='depth')\n",
    "\n",
    "for mparam in simple_param_types:\n",
    "        \n",
    "    for gamma_choice in ['favier','lipscomb']:\n",
    "    #for gamma_choice in ['tuned']:\n",
    "                \n",
    "        if gamma_choice == 'favier':\n",
    "            if mparam in favier_gammas.param.values:\n",
    "                gamma = favier_gammas.sel(param=mparam)\n",
    "                eval_1D = meltf.calculate_melt_rate_Gt_and_box1_all_isf(nisf_list, T_S_profile, \n",
    "                                                                    geometry_info_2D, geometry_info_1D, isf_stack_mask, \n",
    "                                                                    mparam, gamma, U_param=False, \n",
    "                                                                    box_charac_2D=box_charac_all_2D, box_charac_1D=box_charac_all_1D)\n",
    "                \n",
    "                eval_1D.to_netcdf(outputpath_melt+'eval_metrics_1D_'+mparam+'_oneFRIS_favier.nc')\n",
    "                \n",
    "        elif gamma_choice == 'lipscomb':\n",
    "            if mparam in lipscomb_values_mpers.param.values:\n",
    "                for ccalib in lipscomb_values_mpers.calib:\n",
    "                    gamma = lipscomb_values_mpers.sel(param=mparam, calib=ccalib)\n",
    "                    eval_1D = meltf.calculate_melt_rate_Gt_and_box1_all_isf(nisf_list, T_S_profile, \n",
    "                                                                    geometry_info_2D, geometry_info_1D, isf_stack_mask, \n",
    "                                                                    mparam, gamma, U_param=False, \n",
    "                                                                    box_charac_2D=box_charac_all_2D, box_charac_1D=box_charac_all_1D) \n",
    "\n",
    "                    eval_1D.to_netcdf(outputpath_melt+'eval_metrics_1D_'+mparam+'_oneFRIS_lipscomb_'+str(ccalib.values)+'.nc')"
   ]
  },
  {
   "cell_type": "markdown",
   "id": "82e3f83c-6cd5-4025-b324-e2c02dd95b04",
   "metadata": {},
   "source": [
    "PLUMES"
   ]
  },
  {
   "cell_type": "code",
   "execution_count": null,
   "id": "55ccceef-8e35-45f3-842c-56b72e37a346",
   "metadata": {},
   "outputs": [],
   "source": [
    "plume_param_types = ['lazero19_2','lazero19_modif2']\n",
    "nisf_list = geometry_info_1D.Nisf\n",
    "T_S_profile = file_TS.ffill(dim='depth')\n",
    "\n",
    "for mparam in plume_param_types:\n",
    "    \n",
    "        gamma = gamma_eff_T_lazero\n",
    "        E0 = E0_lazero\n",
    "                \n",
    "        eval_1D = meltf.calculate_melt_rate_Gt_and_box1_all_isf(nisf_list, T_S_profile, \n",
    "                                                             geometry_info_2D, geometry_info_1D, isf_stack_mask, \n",
    "                                                             mparam, gamma, E0=E0, \n",
    "                                                              box_charac_2D=box_charac_all_2D, box_charac_1D=box_charac_all_1D, verbose=True)\n",
    "    \n",
    "        eval_1D.to_netcdf(outputpath_melt+'eval_metrics_1D_'+mparam+'_orig_oneFRIS.nc')"
   ]
  },
  {
   "cell_type": "markdown",
   "id": "8c6cc76d-fde4-4c09-93c0-a4e44e9db9b8",
   "metadata": {},
   "source": [
    "BOXES"
   ]
  },
  {
   "cell_type": "code",
   "execution_count": null,
   "id": "70e51ad5-8533-4bd0-b1e9-38d6d6c4fbb6",
   "metadata": {},
   "outputs": [],
   "source": [
    "nisf_list = geometry_info_1D.Nisf\n",
    "T_S_profile = file_TS.ffill(dim='depth') \n",
    "\n",
    "\n",
    "for nD_config in range(1,5):\n",
    "    \n",
    "    for pism_version in ['yes']: #\n",
    "        \n",
    "        for picop_opt in ['no']: \n",
    "\n",
    "            mparam = 'boxes_'+str(nD_config)+'_pism'+pism_version+'_picop'+picop_opt\n",
    "\n",
    "            C = 1e6\n",
    "            gamma = 2e-5\n",
    "\n",
    "            eval_1D = meltf.calculate_melt_rate_Gt_and_box1_all_isf(nisf_list, T_S_profile, \n",
    "                                                                     geometry_info_2D, geometry_info_1D, isf_stack_mask, \n",
    "                                                                     mparam, gamma, C=C, angle_option='appenB',\n",
    "                                                                     box_charac_2D=box_charac_all_2D, box_charac_1D=box_charac_all_1D, box_tot=nD_config, \n",
    "                                                                     box_tot_option='nD_config', pism_version=pism_version, picop_opt='no',\n",
    "                                                                     verbose=True)\n",
    "\n",
    "            eval_1D.to_netcdf(outputpath_melt+'eval_metrics_1D_'+mparam+'_orig_oneFRIS.nc')"
   ]
  },
  {
   "cell_type": "markdown",
   "id": "f301ea10-bc31-4db9-aab1-efc547367e01",
   "metadata": {},
   "source": [
    "PICOP"
   ]
  },
  {
   "cell_type": "code",
   "execution_count": null,
   "id": "8ddc8feb-883d-45fa-91f6-c761756528cc",
   "metadata": {},
   "outputs": [],
   "source": [
    "nisf_list = geometry_info_1D.Nisf\n",
    "T_S_profile = file_TS.ffill(dim='depth') \n",
    "\n",
    "\n",
    "for nD_config in range(3,5):\n",
    "    \n",
    "    if nD_config == 4:\n",
    "        pism_version = 'no'\n",
    "    elif nD_config == 3:\n",
    "        pism_version = 'yes'\n",
    "\n",
    "    mparam = 'boxes_'+str(nD_config)+'_pism'+pism_version+'_picopyes'\n",
    "\n",
    "    picop_opt='2019'\n",
    "    C = C_pico\n",
    "    gamma = gT_star_pico\n",
    "\n",
    "    gamma_plume = gamma_eff_T_lazero\n",
    "    E0 = E0_lazero\n",
    "    \n",
    "    eval_1D = meltf.calculate_melt_rate_Gt_and_box1_all_isf(nisf_list, T_S_profile, geometry_info_2D, geometry_info_1D, isf_stack_mask, mparam, gamma,\n",
    "                                          C=C, E0=E0, angle_option='appenB',\n",
    "                                          box_charac_2D=box_charac_all_2D, box_charac_1D=box_charac_all_1D, box_tot=nD_config, box_tot_option='nD_config', \n",
    "                                          pism_version=pism_version, picop_opt=picop_opt, gamma_plume=gamma_plume)\n",
    "    \n",
    "    eval_1D.to_netcdf(outputpath_melt+'eval_metrics_1D_'+mparam+'_oneFRIS_orig.nc')\n"
   ]
  }
 ],
 "metadata": {
  "kernelspec": {
   "display_name": "ice_shelf_mask",
   "language": "python",
   "name": "ice_shelf_mask"
  },
  "language_info": {
   "codemirror_mode": {
    "name": "ipython",
    "version": 3
   },
   "file_extension": ".py",
   "mimetype": "text/x-python",
   "name": "python",
   "nbconvert_exporter": "python",
   "pygments_lexer": "ipython3",
   "version": "3.8.5"
  }
 },
 "nbformat": 4,
 "nbformat_minor": 5
}
