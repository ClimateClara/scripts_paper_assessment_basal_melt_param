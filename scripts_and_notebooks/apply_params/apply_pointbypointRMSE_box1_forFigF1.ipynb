{
 "cells": [
  {
   "cell_type": "code",
   "execution_count": null,
   "id": "1e58d535",
   "metadata": {},
   "outputs": [],
   "source": [
    "\"\"\"\n",
    "Created on Tue Aug 30 15:01 2022\n",
    "\n",
    "Compute difference between param and reference point by point for melt near grounding line for Figure F1\n",
    "\n",
    "@author: Clara Burgard\n",
    "\"\"\""
   ]
  },
  {
   "cell_type": "code",
   "execution_count": null,
   "id": "c3af0757",
   "metadata": {},
   "outputs": [],
   "source": [
    "import xarray as xr\n",
    "import numpy as np\n",
    "import matplotlib.pyplot as plt\n",
    "from matplotlib import cm\n",
    "import cartopy\n",
    "import cartopy.crs as ccrs\n",
    "import matplotlib as mpl\n",
    "import pandas as pd \n",
    "from tqdm.notebook import trange, tqdm\n",
    "import time\n",
    "import basal_melt_param.melt_functions as meltf\n",
    "import basal_melt_param.plume_functions as pf\n",
    "import basal_melt_param.analysis_functions as ana\n",
    "import basal_melt_param.useful_functions as uf\n",
    "from basal_melt_param.constants import *\n",
    "import seaborn as sns\n",
    "import os, glob\n",
    "import distributed"
   ]
  },
  {
   "cell_type": "code",
   "execution_count": null,
   "id": "ef06d1eb",
   "metadata": {},
   "outputs": [],
   "source": [
    "print(mpl.get_backend())"
   ]
  },
  {
   "cell_type": "code",
   "execution_count": null,
   "id": "87149ad7",
   "metadata": {},
   "outputs": [],
   "source": [
    "%matplotlib qt5"
   ]
  },
  {
   "cell_type": "markdown",
   "id": "7d35c78a",
   "metadata": {},
   "source": [
    "READ IN DATA"
   ]
  },
  {
   "cell_type": "code",
   "execution_count": null,
   "id": "bd5ece5f-2b46-4271-96f0-d1850aee04ce",
   "metadata": {},
   "outputs": [],
   "source": [
    "home_path='/bettik/burgardc/'\n"
   ]
  },
  {
   "cell_type": "code",
   "execution_count": null,
   "id": "5750f502",
   "metadata": {},
   "outputs": [],
   "source": [
    "nemo_run = 'OPM021'"
   ]
  },
  {
   "cell_type": "code",
   "execution_count": null,
   "id": "84bf814a",
   "metadata": {},
   "outputs": [],
   "source": [
    "inputpath_data=home_path+'/DATA/BASAL_MELT_PARAM/interim/NEMO_eORCA025.L121_'+nemo_run+'_ANT_STEREO/'\n",
    "inputpath_mask = home_path+'/DATA/BASAL_MELT_PARAM/interim/ANTARCTICA_IS_MASKS/nemo_5km_'+nemo_run+'/'\n",
    "inputpath_profiles = home_path+'/DATA/BASAL_MELT_PARAM/interim/T_S_PROF/nemo_5km_'+nemo_run+'/'\n",
    "outputpath_simple = home_path+'/DATA/BASAL_MELT_PARAM/interim/SIMPLE/nemo_5km_'+nemo_run+'/'\n",
    "outputpath_simple_all = home_path+'/DATA/BASAL_MELT_PARAM/interim/SIMPLE/nemo_5km_06161821_oneFRIS/'\n",
    "inputpath_plumes = home_path+'/DATA/BASAL_MELT_PARAM/interim/PLUMES/nemo_5km_'+nemo_run+'/'\n",
    "outputpath_plumes = home_path+'/DATA/BASAL_MELT_PARAM/interim/PLUMES/nemo_5km_'+nemo_run+'/'\n",
    "inputpath_boxes = home_path+'/DATA/BASAL_MELT_PARAM/interim/BOXES/nemo_5km_'+nemo_run+'/'\n",
    "outputpath_boxes = home_path+'/DATA/BASAL_MELT_PARAM/interim/BOXES/nemo_5km_'+nemo_run+'/'\n",
    "outputpath_melt = home_path+'/DATA/BASAL_MELT_PARAM/processed/MELT_RATE/nemo_5km_'+nemo_run+'/'\n",
    "outputpath = home_path+'/DATA/BASAL_MELT_PARAM/interim/'\n",
    "plot_path = home_path+'/PLOTS/first-look/'"
   ]
  },
  {
   "cell_type": "code",
   "execution_count": null,
   "id": "28150260",
   "metadata": {},
   "outputs": [],
   "source": [
    "# make the domain a little smaller to make the computation even more efficient - file isf has already been made smaller at its creation\n",
    "map_lim = [-3000000,3000000]"
   ]
  },
  {
   "cell_type": "code",
   "execution_count": null,
   "id": "8c2bb84f",
   "metadata": {},
   "outputs": [],
   "source": [
    "file_other = xr.open_dataset(inputpath_data+'corrected_draft_bathy_isf.nc')#, chunks={'x': chunk_size, 'y': chunk_size})\n",
    "file_other_cut = uf.cut_domain_stereo(file_other, map_lim, map_lim)\n",
    "file_conc = xr.open_dataset(inputpath_data+'isfdraft_conc_Ant_stereo.nc')\n",
    "file_conc_cut = uf.cut_domain_stereo(file_conc, map_lim, map_lim)"
   ]
  },
  {
   "cell_type": "code",
   "execution_count": null,
   "id": "74ceea72",
   "metadata": {},
   "outputs": [],
   "source": [
    "#file_isf_orig = xr.open_dataset(inputpath_mask+'nemo_5km_isf_masks_and_info_and_distance_new.nc')\n",
    "file_isf_orig = xr.open_dataset(inputpath_mask+'nemo_5km_isf_masks_and_info_and_distance_new_oneFRIS.nc')\n",
    "nonnan_Nisf = file_isf_orig['Nisf'].where(np.isfinite(file_isf_orig['front_bot_depth_max']), drop=True).astype(int)\n",
    "file_isf_nonnan = file_isf_orig.sel(Nisf=nonnan_Nisf)\n",
    "large_isf = file_isf_nonnan['Nisf'].where(file_isf_nonnan['isf_area_here'] >= 2500, drop=True)\n",
    "file_isf = file_isf_nonnan.sel(Nisf=large_isf)\n",
    "file_isf['isf_name'] = file_isf['isf_name'].astype(str)\n",
    "file_isf['region'] = file_isf['region'].astype(str)\n",
    "\n",
    "\n",
    "file_TS_orig = xr.open_dataset(inputpath_profiles+'T_S_mean_prof_corrected_km_contshelf_and_offshore_1980-2018_oneFRIS.nc')\n",
    "file_TS = file_TS_orig.sel(Nisf=large_isf).sel(profile_domain=[50,1000])"
   ]
  },
  {
   "cell_type": "code",
   "execution_count": null,
   "id": "71eef0e5",
   "metadata": {},
   "outputs": [],
   "source": [
    "lon = file_isf.longitude\n",
    "lat = file_isf.latitude"
   ]
  },
  {
   "cell_type": "code",
   "execution_count": null,
   "id": "c3851f86",
   "metadata": {},
   "outputs": [],
   "source": [
    "file_isf_conc = file_conc_cut['isfdraft_conc']\n",
    "\n",
    "xx = file_isf.x\n",
    "yy = file_isf.y\n",
    "dx = (xx[2] - xx[1]).values\n",
    "dy = (yy[2] - yy[1]).values\n",
    "grid_cell_area = abs(dx*dy)  \n",
    "grid_cell_area_weighted = file_isf_conc * grid_cell_area"
   ]
  },
  {
   "cell_type": "code",
   "execution_count": null,
   "id": "bccdb716",
   "metadata": {},
   "outputs": [],
   "source": [
    "ice_draft_pos = file_other_cut['corrected_isfdraft']\n",
    "ice_draft_neg = -ice_draft_pos"
   ]
  },
  {
   "cell_type": "code",
   "execution_count": null,
   "id": "f8c4a9af",
   "metadata": {},
   "outputs": [],
   "source": [
    "isf_stack_mask = uf.create_stacked_mask(file_isf['ISF_mask'], file_isf.Nisf, ['y','x'], 'mask_coord')"
   ]
  },
  {
   "cell_type": "code",
   "execution_count": null,
   "id": "6f5fbce5",
   "metadata": {
    "tags": []
   },
   "outputs": [],
   "source": [
    "box_charac_all_2D = xr.open_dataset(inputpath_boxes + 'nemo_5km_boxes_2D_oneFRIS.nc')\n",
    "box_charac_all_1D = xr.open_dataset(inputpath_boxes + 'nemo_5km_boxes_1D_oneFRIS.nc')\n",
    "plume_charac = xr.open_dataset(inputpath_plumes+'nemo_5km_plume_characteristics_oneFRIS.nc')"
   ]
  },
  {
   "cell_type": "code",
   "execution_count": null,
   "id": "e52031b3",
   "metadata": {},
   "outputs": [],
   "source": [
    "param_var_of_int_2D = file_isf[['ISF_mask', 'latitude', 'longitude', 'dGL']]\n",
    "param_var_of_int_1D = file_isf[['front_bot_depth_avg', 'front_bot_depth_max','isf_name']]"
   ]
  },
  {
   "cell_type": "code",
   "execution_count": null,
   "id": "aae48e3c",
   "metadata": {},
   "outputs": [],
   "source": [
    "geometry_info_2D = plume_charac.merge(param_var_of_int_2D).merge(ice_draft_pos).rename({'corrected_isfdraft':'ice_draft_pos'}).merge(grid_cell_area_weighted).rename({'isfdraft_conc':'grid_cell_area_weighted'}).merge(file_isf_conc)\n",
    "geometry_info_1D = param_var_of_int_1D"
   ]
  },
  {
   "cell_type": "code",
   "execution_count": null,
   "id": "816f4e9a-bab3-48fd-8c6e-7ba134ec8bee",
   "metadata": {},
   "outputs": [],
   "source": [
    "box_loc_config2 = box_charac_all_2D['box_location'].sel(box_nb_tot=box_charac_all_1D['nD_config'].sel(config=2))\n",
    "box1 = box_loc_config2.where(box_loc_config2==1).isel(Nisf=0).drop('Nisf')"
   ]
  },
  {
   "cell_type": "markdown",
   "id": "b8a9b8d1-6616-417f-b383-a2de9a99b100",
   "metadata": {},
   "source": [
    "REFERENCE"
   ]
  },
  {
   "cell_type": "code",
   "execution_count": null,
   "id": "c92efee3-9848-4939-9102-707e0c75a6c8",
   "metadata": {},
   "outputs": [],
   "source": [
    "NEMO_melt_rates_2D = xr.open_dataset(outputpath_melt+'melt_rates_2D_NEMO.nc')\n",
    "ref_box_1 = NEMO_melt_rates_2D['melt_m_ice_per_y'].where(box1==1).mean('time')"
   ]
  },
  {
   "cell_type": "markdown",
   "id": "a4ce9155",
   "metadata": {},
   "source": [
    "SIMPLE PARAMS"
   ]
  },
  {
   "cell_type": "code",
   "execution_count": null,
   "id": "e4c16f31",
   "metadata": {},
   "outputs": [],
   "source": [
    "CV_type = 'time'\n",
    "#CV_type = 'shelves'"
   ]
  },
  {
   "cell_type": "code",
   "execution_count": null,
   "id": "93ea01e0-d15f-40b0-81e1-48245914172f",
   "metadata": {},
   "outputs": [],
   "source": [
    "inputpath_chunk_info = '/bettik/burgardc/DATA/BASAL_MELT_PARAM/interim/T_S_PROF/'\n",
    "info_file = pd.read_csv(inputpath_chunk_info+'info_chunks.txt',header=None, index_col=0)"
   ]
  },
  {
   "cell_type": "code",
   "execution_count": null,
   "id": "9f7ae60e-2f09-49c2-b84d-85aa222e59b0",
   "metadata": {},
   "outputs": [],
   "source": [
    "gammas_CV_simple = xr.open_dataset(outputpath_simple_all+'gammas_simple_CV_'+CV_type+'.nc')"
   ]
  },
  {
   "cell_type": "code",
   "execution_count": null,
   "id": "37397c1e-2682-4045-8865-9cde9e472884",
   "metadata": {},
   "outputs": [],
   "source": [
    "simple_param_types = ['linear_local', 'quadratic_local', 'quadratic_local_locslope', 'quadratic_local_cavslope', \n",
    "                      'quadratic_mixed_mean', 'quadratic_mixed_locslope','quadratic_mixed_cavslope'] \n",
    "#simple_param_types = ['quadratic_local'] \n",
    "\n",
    "nisf_list = geometry_info_1D.Nisf\n",
    "\n",
    "for mparam in simple_param_types:\n",
    "    \n",
    "    if CV_type == 'shelves':\n",
    "\n",
    "        \n",
    "        ds_2D_all_box1 = None\n",
    "        for kisf in tqdm(nisf_list):\n",
    "            #print('ISF: ',kisf.values)\n",
    "            T_S_profile = file_TS.ffill(dim='depth').sel(Nisf=[kisf])\n",
    "            \n",
    "            gamma = gammas_CV_simple['slope'].sel(param=mparam).sel(isf=kisf).drop('isf')\n",
    "            \n",
    "            ds_2D, _ = meltf.calculate_melt_rate_1D_and_2D_all_isf([kisf], T_S_profile, geometry_info_2D, geometry_info_1D, isf_stack_mask, mparam, gamma, U_param=True,                                           \n",
    "                                                           options_2D=['melt_m_ice_per_y'],\n",
    "                                                           options_1D=['melt_Gt_per_y_tot'], verbose=False)\n",
    "            \n",
    "            \n",
    "            if ds_2D_all_box1 is None:\n",
    "                ds_2D_all_box1 = ds_2D.where(box1==1).mean('time').copy()\n",
    "            else:\n",
    "                ds_2D_all_box1 = ds_2D_all_box1.combine_first(ds_2D.where(box1==1).mean('time'))\n",
    "\n",
    "        diff_param_ref_CVisf = ds_2D_all_box1['melt_m_ice_per_y'] - ref_box_1\n",
    "        \n",
    "        diff_param_ref_CVisf.to_netcdf(outputpath_melt+'diff_melt_param_ref_box1_'+mparam+'_oneFRIS_CVshelves.nc')\n",
    "\n",
    "    elif CV_type == 'time':\n",
    "\n",
    "        \n",
    "        ds_2D_box1_list = []\n",
    "        for tblock in range(1,14):\n",
    "            print('TBLOCK: ',tblock)\n",
    "\n",
    "            tblock_run, tblock_start, tblock_end = info_file.loc[tblock]\n",
    "            if tblock_run == nemo_run:\n",
    "                T_S_profile = file_TS.ffill(dim='depth').sel(time=range(tblock_start, tblock_end+1))\n",
    "            \n",
    "                gamma = gammas_CV_simple['slope'].sel(param=mparam).sel(tblock=tblock).drop('tblock')\n",
    "                \n",
    "                ds_2D, _ = meltf.calculate_melt_rate_1D_and_2D_all_isf(nisf_list, T_S_profile, geometry_info_2D, geometry_info_1D, isf_stack_mask, mparam, gamma, U_param=True,                                           \n",
    "                                               options_2D=['melt_m_ice_per_y'],\n",
    "                                               options_1D=['melt_Gt_per_y_tot'])\n",
    "\n",
    "                ds_2D_box1_list.append(ds_2D.where(box1==1))\n",
    "            \n",
    "        ds_2D_box1_CVtime = xr.concat(ds_2D_box1_list, dim='time')\n",
    "        \n",
    "        diff_param_ref_CVtime = ds_2D_box1_CVtime['melt_m_ice_per_y'].mean('time') - ref_box_1\n",
    "    \n",
    "        diff_param_ref_CVtime.to_netcdf(outputpath_melt+'diff_melt_param_ref_box1_'+mparam+'_oneFRIS_CVtime.nc')\n"
   ]
  },
  {
   "cell_type": "markdown",
   "id": "4bd09ab3",
   "metadata": {},
   "source": [
    "PLUMES"
   ]
  },
  {
   "cell_type": "code",
   "execution_count": null,
   "id": "dd50a7ef-4603-448c-814f-cc5c906cb2bf",
   "metadata": {},
   "outputs": [],
   "source": [
    "CV_type = 'shelves'"
   ]
  },
  {
   "cell_type": "code",
   "execution_count": null,
   "id": "8b8a88da-6b93-4de3-9b50-6b6f8c0fcf18",
   "metadata": {},
   "outputs": [],
   "source": [
    "plume_param_types = ['lazero19_2','lazero19_modif2'] \n",
    "\n",
    "nisf_list = geometry_info_1D.Nisf\n",
    "\n",
    "for mparam in plume_param_types:\n",
    "    \n",
    "    gammas_CV_plumes = xr.open_dataset(outputpath_simple_all + 'plume_gamma_CV'+CV_type+'.nc')\n",
    "    E0s_CV_plumes = xr.open_dataset(outputpath_simple_all + 'plume_E0_CV'+CV_type+'.nc')\n",
    "    \n",
    "    if CV_type == 'shelves':\n",
    "        \n",
    "        ds_2D_all_box1 = None\n",
    "        for kisf in tqdm(nisf_list):\n",
    "            #print('ISF: ',kisf.values)\n",
    "            T_S_profile = file_TS.ffill(dim='depth').sel(Nisf=[kisf])\n",
    "            \n",
    "            gamma = gammas_CV_plumes['gamma'].sel(param=mparam).sel(Nisf=kisf).drop('Nisf')\n",
    "            E0 = E0s_CV_plumes['E0'].sel(param=mparam).sel(Nisf=kisf).drop('Nisf')\n",
    "            \n",
    "            ds_2D, _ = meltf.calculate_melt_rate_1D_and_2D_all_isf([kisf], T_S_profile, geometry_info_2D, geometry_info_1D, isf_stack_mask, mparam, gamma, E0=E0, \n",
    "                                                                   options_2D=['melt_m_ice_per_y'],\n",
    "                                                                   options_1D=['melt_Gt_per_y_tot'], verbose=False)\n",
    "            \n",
    "            \n",
    "            if ds_2D_all_box1 is None:\n",
    "                ds_2D_all_box1 = ds_2D.where(box1==1).mean('time').copy()\n",
    "            else:\n",
    "                ds_2D_all_box1 = ds_2D_all_box1.combine_first(ds_2D.where(box1==1).mean('time'))\n",
    "\n",
    "        diff_param_ref_CVisf = ds_2D_all_box1['melt_m_ice_per_y'] - ref_box_1\n",
    "        \n",
    "        diff_param_ref_CVisf.to_netcdf(outputpath_melt+'diff_melt_param_ref_box1_'+mparam+'_oneFRIS_CVshelves.nc')\n",
    "\n",
    "    elif CV_type == 'time':\n",
    "\n",
    "        \n",
    "        ds_2D_box1_list = []\n",
    "        for tblock in range(1,14):\n",
    "            print('TBLOCK: ',tblock)\n",
    "\n",
    "            tblock_run, tblock_start, tblock_end = info_file.loc[tblock]\n",
    "            if tblock_run == nemo_run:\n",
    "                T_S_profile = file_TS.ffill(dim='depth').sel(time=range(tblock_start, tblock_end+1))\n",
    "            \n",
    "                gamma = gammas_CV_plumes['gamma'].sel(param=mparam).sel(tblock=tblock).drop('tblock')\n",
    "                E0 = E0s_CV_plumes['E0'].sel(param=mparam).sel(tblock=tblock).drop('tblock')\n",
    "                \n",
    "                ds_2D, _ = meltf.calculate_melt_rate_1D_and_2D_all_isf(nisf_list, T_S_profile, geometry_info_2D, geometry_info_1D, isf_stack_mask, mparam, gamma, E0=E0, \n",
    "                                                                   options_2D=['melt_m_ice_per_y'],\n",
    "                                                                   options_1D=['melt_Gt_per_y_tot'], verbose=True)\n",
    "\n",
    "                ds_2D_box1_list.append(ds_2D.where(box1==1))\n",
    "            \n",
    "        ds_2D_box1_CVtime = xr.concat(ds_2D_box1_list, dim='time')\n",
    "        \n",
    "        diff_param_ref_CVtime = ds_2D_box1_CVtime['melt_m_ice_per_y'].mean('time') - ref_box_1\n",
    "        \n",
    "        diff_param_ref_CVtime.to_netcdf(outputpath_melt+'diff_melt_param_ref_box1_'+mparam+'_oneFRIS_CVtime.nc')"
   ]
  },
  {
   "cell_type": "markdown",
   "id": "3d5f467e",
   "metadata": {},
   "source": [
    "BOXES"
   ]
  },
  {
   "cell_type": "code",
   "execution_count": null,
   "id": "4a9eebed",
   "metadata": {},
   "outputs": [],
   "source": [
    "CV_type = 'shelves'"
   ]
  },
  {
   "cell_type": "code",
   "execution_count": null,
   "id": "fe4358c6-82f8-4424-9c89-128b158bdf4c",
   "metadata": {},
   "outputs": [],
   "source": [
    "nisf_list = geometry_info_1D.Nisf\n",
    "\n",
    "gammas_CV_boxes = xr.open_dataset(outputpath_simple_all + 'box_gamma_CV'+CV_type+'.nc')\n",
    "Cs_CV_boxes = xr.open_dataset(outputpath_simple_all + 'box_C_CV'+CV_type+'.nc')\n",
    "\n",
    "for nD_config in range(1,5):\n",
    "    \n",
    "    pism_version = 'yes'\n",
    "    picop_opt = 'no'\n",
    "    mparam = 'boxes_'+str(nD_config)+'_pism'+pism_version+'_picop'+picop_opt\n",
    "            \n",
    "    if CV_type == 'shelves':\n",
    "        \n",
    "        ds_2D_all_box1 = None\n",
    "        for kisf in tqdm(nisf_list):\n",
    "            #print('ISF: ',kisf.values)\n",
    "            T_S_profile = file_TS.ffill(dim='depth').sel(Nisf=[kisf])\n",
    "            \n",
    "            gamma = gammas_CV_boxes['gamma'].sel(param=mparam).sel(Nisf=kisf).drop('Nisf') * 10**(-5)\n",
    "            C = Cs_CV_boxes['C'].sel(param=mparam).sel(Nisf=kisf).drop('Nisf') * 10**6\n",
    "            \n",
    "            ds_2D, _ = meltf.calculate_melt_rate_1D_and_2D_all_isf([kisf], T_S_profile, geometry_info_2D, geometry_info_1D, isf_stack_mask, mparam, gamma,\n",
    "                                                                   C=C, box_charac_2D=box_charac_all_2D, box_charac_1D=box_charac_all_1D, box_tot=nD_config, box_tot_option='nD_config', \n",
    "                                                                   pism_version=pism_version, picop_opt=picop_opt,                                                                    \n",
    "                                                                   options_2D=['melt_m_ice_per_y'],\n",
    "                                                                   options_1D=['melt_Gt_per_y_tot'], verbose=False)\n",
    "            \n",
    "            \n",
    "            if ds_2D_all_box1 is None:\n",
    "                ds_2D_all_box1 = ds_2D.where(box1==1).mean('time').copy()\n",
    "            else:\n",
    "                ds_2D_all_box1 = ds_2D_all_box1.combine_first(ds_2D.where(box1==1).mean('time'))\n",
    "\n",
    "        diff_param_ref_CVisf = ds_2D_all_box1['melt_m_ice_per_y'] - ref_box_1\n",
    "        \n",
    "        diff_param_ref_CVisf.to_netcdf(outputpath_melt+'diff_melt_param_ref_box1_'+mparam+'_oneFRIS_CVshelves.nc')\n",
    "\n",
    "    elif CV_type == 'time':\n",
    "\n",
    "        \n",
    "        ds_2D_box1_list = []\n",
    "        for tblock in range(1,14):\n",
    "            print('TBLOCK: ',tblock)\n",
    "\n",
    "            tblock_run, tblock_start, tblock_end = info_file.loc[tblock]\n",
    "            if tblock_run == nemo_run:\n",
    "                T_S_profile = file_TS.ffill(dim='depth').sel(time=range(tblock_start, tblock_end+1))\n",
    "            \n",
    "                gamma = gammas_CV_boxes['gamma'].sel(param=mparam).sel(tblock=tblock).drop('tblock') * 10**(-5)\n",
    "                C = Cs_CV_boxes['C'].sel(param=mparam).sel(tblock=tblock).drop('tblock') * 10**6\n",
    "                \n",
    "                ds_2D, _ = meltf.calculate_melt_rate_1D_and_2D_all_isf(nisf_list, T_S_profile, geometry_info_2D, geometry_info_1D, isf_stack_mask, mparam, gamma,\n",
    "                                                                   C=C, box_charac_2D=box_charac_all_2D, box_charac_1D=box_charac_all_1D, box_tot=nD_config, box_tot_option='nD_config', \n",
    "                                                                   pism_version=pism_version, picop_opt=picop_opt,                                                                    \n",
    "                                                                   options_2D=['melt_m_ice_per_y'],\n",
    "                                                                   options_1D=['melt_Gt_per_y_tot'], verbose=True)\n",
    "\n",
    "                ds_2D_box1_list.append(ds_2D.where(box1==1))\n",
    "            \n",
    "        ds_2D_box1_CVtime = xr.concat(ds_2D_box1_list, dim='time')\n",
    "        \n",
    "        diff_param_ref_CVtime = ds_2D_box1_CVtime['melt_m_ice_per_y'].mean('time') - ref_box_1\n",
    "        \n",
    "        diff_param_ref_CVtime.to_netcdf(outputpath_melt+'diff_melt_param_ref_box1_'+mparam+'_oneFRIS_CVtime.nc')"
   ]
  },
  {
   "cell_type": "markdown",
   "id": "0322383a",
   "metadata": {},
   "source": [
    "PICOP"
   ]
  },
  {
   "cell_type": "code",
   "execution_count": null,
   "id": "6bcc3094",
   "metadata": {},
   "outputs": [],
   "source": [
    "tuned_box_gammas = xr.DataArray(np.array([[[0.39e-5,0.41e-5,0.44e-5,0.39e-5],\n",
    "                                              [0.39e-5,0.41e-5,0.44e-5,0.39e-5]],\n",
    "                                         [[0.51e-5,0.73e-5,0.92e-5,0.63e-5],\n",
    "                                              [0.51e-5,0.73e-5,0.92e-5,0.63e-5]]]\n",
    "                                        ), dims={'profile_domain': np.array([50,1000]), 'pism': ['no','yes'], 'config': range(1,5)})\n",
    "tuned_box_gammas = tuned_box_gammas.assign_coords({'profile_domain': np.array([50,1000]),'pism': ['no','yes'], 'config': range(1,5)})\n",
    "\n",
    "tuned_box_Cs = xr.DataArray(np.array([[[16.5e6,18.0e6,20.7e6,20.7e6],\n",
    "                                              [16.1e6,17.8e6,20.5e6,20.5e6]],\n",
    "                                    [[0.14e6,0.14e6,0.14e6,0.13e6],\n",
    "                                              [0.14e6,0.14e6,0.14e6,0.13e6]]]), dims={'profile_domain': np.array([50,1000]), 'pism': ['no','yes'], 'config': range(1,5)})\n",
    "tuned_box_Cs = tuned_box_Cs.assign_coords({'profile_domain': np.array([50,1000]),'pism': ['no','yes'], 'config': range(1,5)})"
   ]
  },
  {
   "cell_type": "code",
   "execution_count": null,
   "id": "ecfa3910-f3c7-4bdb-8b56-c72ad58c81f6",
   "metadata": {},
   "outputs": [],
   "source": [
    "CV_type = 'shelves'"
   ]
  },
  {
   "cell_type": "code",
   "execution_count": null,
   "id": "9b07ba39-03ff-4f07-b22e-07f155ae3253",
   "metadata": {},
   "outputs": [],
   "source": [
    "nisf_list = geometry_info_1D.Nisf\n",
    "\n",
    "gammas_CV_picop = xr.open_dataset(outputpath_simple_all + 'picop_gamma_CV'+CV_type+'.nc')\n",
    "E0s_CV_picop = xr.open_dataset(outputpath_simple_all + 'picop_E0_CV'+CV_type+'.nc')\n",
    "\n",
    "for nD_config in range(3,5):\n",
    "    \n",
    "    if nD_config == 3:\n",
    "        pism_version = 'yes'\n",
    "    elif nD_config == 4:\n",
    "        pism_version = 'no'\n",
    "        \n",
    "    picop_opt = 'yes'\n",
    "    mparam = 'boxes_'+str(nD_config)+'_pism'+pism_version+'_picop'+picop_opt\n",
    "    \n",
    "    picop_opt = '2019'\n",
    "    \n",
    "    gamma = tuned_box_gammas.sel(config=nD_config, pism=pism_version)\n",
    "    C = tuned_box_Cs.sel(config=nD_config, pism=pism_version)\n",
    "            \n",
    "    if CV_type == 'shelves':\n",
    "        \n",
    "        ds_2D_all_box1 = None\n",
    "        for kisf in tqdm(nisf_list):\n",
    "            #print('ISF: ',kisf.values)\n",
    "            T_S_profile = file_TS.ffill(dim='depth').sel(Nisf=[kisf])\n",
    "            \n",
    "            gamma_plume = gammas_CV_picop['gamma'].sel(param=mparam).sel(Nisf=kisf).drop('Nisf')\n",
    "            E0 = E0s_CV_picop['E0'].sel(param=mparam).sel(Nisf=kisf).drop('Nisf')\n",
    "            \n",
    "            ds_2D, _ = meltf.calculate_melt_rate_1D_and_2D_all_isf([kisf], T_S_profile, geometry_info_2D, geometry_info_1D, isf_stack_mask, mparam, gamma,\n",
    "                                                                      C=C, E0=E0, angle_option='appenB',\n",
    "                                                                      box_charac_2D=box_charac_all_2D, box_charac_1D=box_charac_all_1D, box_tot=nD_config, box_tot_option='nD_config', \n",
    "                                                                      pism_version=pism_version, picop_opt=picop_opt, gamma_plume=gamma_plume,                                                                    \n",
    "                                                                      options_2D=['melt_m_ice_per_y'],\n",
    "                                                                      options_1D=['melt_Gt_per_y_tot'], verbose=False)\n",
    "            \n",
    "            \n",
    "            if ds_2D_all_box1 is None:\n",
    "                ds_2D_all_box1 = ds_2D.where(box1==1).mean('time').copy()\n",
    "            else:\n",
    "                ds_2D_all_box1 = ds_2D_all_box1.combine_first(ds_2D.where(box1==1).mean('time'))\n",
    "\n",
    "        diff_param_ref_CVisf = ds_2D_all_box1['melt_m_ice_per_y'] - ref_box_1\n",
    "        \n",
    "        diff_param_ref_CVisf.to_netcdf(outputpath_melt+'diff_melt_param_ref_box1_'+mparam+'_oneFRIS_CVshelves.nc')\n",
    "\n",
    "    elif CV_type == 'time':\n",
    "\n",
    "        \n",
    "        ds_2D_box1_list = []\n",
    "        for tblock in range(1,14):\n",
    "            print('TBLOCK: ',tblock)\n",
    "\n",
    "            tblock_run, tblock_start, tblock_end = info_file.loc[tblock]\n",
    "            if tblock_run == nemo_run:\n",
    "                T_S_profile = file_TS.ffill(dim='depth').sel(time=range(tblock_start, tblock_end+1))\n",
    "            \n",
    "                gamma_plume = gammas_CV_picop['gamma'].sel(param=mparam).sel(tblock=tblock).drop('tblock') \n",
    "                E0 = E0s_CV_picop['E0'].sel(param=mparam).sel(tblock=tblock).drop('tblock') \n",
    "                \n",
    "                ds_2D, _ = meltf.calculate_melt_rate_1D_and_2D_all_isf(nisf_list, T_S_profile, geometry_info_2D, geometry_info_1D, isf_stack_mask, mparam, gamma,\n",
    "                                                                      C=C, E0=E0, angle_option='appenB',\n",
    "                                                                      box_charac_2D=box_charac_all_2D, box_charac_1D=box_charac_all_1D, box_tot=nD_config, box_tot_option='nD_config', \n",
    "                                                                      pism_version=pism_version, picop_opt=picop_opt, gamma_plume=gamma_plume,                                                                    \n",
    "                                                                      options_2D=['melt_m_ice_per_y'],\n",
    "                                                                      options_1D=['melt_Gt_per_y_tot'], verbose=True)\n",
    "                \n",
    "\n",
    "                ds_2D_box1_list.append(ds_2D.where(box1==1))\n",
    "            \n",
    "        ds_2D_box1_CVtime = xr.concat(ds_2D_box1_list, dim='time')\n",
    "        \n",
    "        diff_param_ref_CVtime = ds_2D_box1_CVtime['melt_m_ice_per_y'].mean('time') - ref_box_1\n",
    "        \n",
    "        diff_param_ref_CVtime.to_netcdf(outputpath_melt+'diff_melt_param_ref_box1_'+mparam+'_oneFRIS_CVtime.nc')"
   ]
  },
  {
   "cell_type": "code",
   "execution_count": null,
   "id": "f9fb7c42",
   "metadata": {},
   "outputs": [],
   "source": []
  }
 ],
 "metadata": {
  "kernelspec": {
   "display_name": "py38",
   "language": "python",
   "name": "py38"
  },
  "language_info": {
   "codemirror_mode": {
    "name": "ipython",
    "version": 3
   },
   "file_extension": ".py",
   "mimetype": "text/x-python",
   "name": "python",
   "nbconvert_exporter": "python",
   "pygments_lexer": "ipython3",
   "version": "3.8.12"
  }
 },
 "nbformat": 4,
 "nbformat_minor": 5
}
