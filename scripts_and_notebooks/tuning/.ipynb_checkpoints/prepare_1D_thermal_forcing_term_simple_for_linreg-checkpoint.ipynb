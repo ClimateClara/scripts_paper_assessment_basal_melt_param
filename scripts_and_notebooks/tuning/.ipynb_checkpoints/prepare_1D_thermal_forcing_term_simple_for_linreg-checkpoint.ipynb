{
 "cells": [
  {
   "cell_type": "code",
   "execution_count": null,
   "id": "statistical-clearing",
   "metadata": {},
   "outputs": [],
   "source": [
    "\"\"\"\n",
    "Created on Mon Mar 22 10:42 2021\n",
    "\n",
    "This script is to prepare the thermal forcing term for the linear regression for simple params\n",
    "so that integrated melt = thermal_forcing_term * gamma\n",
    "\n",
    "author : Clara Burgard\n",
    "\"\"\""
   ]
  },
  {
   "cell_type": "code",
   "execution_count": null,
   "id": "double-consumer",
   "metadata": {},
   "outputs": [],
   "source": [
    "import xarray as xr\n",
    "import numpy as np\n",
    "import pandas as pd\n",
    "from tqdm.notebook import tqdm\n",
    "import matplotlib.pyplot as plt\n",
    "import assess_param_funcs.useful_functions as uf\n",
    "import assess_param_funcs.melt_functions as meltf\n",
    "from assess_param_funcs.constants import *\n",
    "import assess_param_funcs.T_S_profile_functions as tspf\n",
    "from scipy import stats"
   ]
  },
  {
   "cell_type": "code",
   "execution_count": null,
   "id": "valid-advertising",
   "metadata": {},
   "outputs": [],
   "source": [
    "%matplotlib qt5"
   ]
  },
  {
   "cell_type": "markdown",
   "id": "53f4b917-a5f9-4726-9bd4-9b11b9d39ec6",
   "metadata": {},
   "source": [
    "READ IN DATA"
   ]
  },
  {
   "cell_type": "code",
   "execution_count": null,
   "id": "11b5079a-3d17-4045-8c74-ec845016e4db",
   "metadata": {},
   "outputs": [],
   "source": [
    "nemo_run = 'OPM021'"
   ]
  },
  {
   "cell_type": "code",
   "execution_count": null,
   "id": "applicable-wilson",
   "metadata": {},
   "outputs": [],
   "source": [
    "inputpath_data='/bettik/burgardc/SCRIPTS/basal_melt_param/data/interim/NEMO_eORCA025.L121_'+nemo_run+'_ANT_STEREO/'\n",
    "inputpath_mask = '/bettik/burgardc/SCRIPTS/basal_melt_param/data/interim/ANTARCTICA_IS_MASKS/nemo_5km_'+nemo_run+'/'\n",
    "outputpath_simple = '/bettik/burgardc/SCRIPTS/basal_melt_param/data/interim/SIMPLE/nemo_5km_'+nemo_run+'/'\n",
    "outputpath_plumes = '/bettik/burgardc/SCRIPTS/basal_melt_param/data/interim/PLUMES/nemo_5km_'+nemo_run+'/'\n",
    "outputpath_boxes = '/bettik/burgardc/SCRIPTS/basal_melt_param/data/interim/BOXES/nemo_5km_'+nemo_run+'/'\n",
    "outputpath = '/bettik/burgardc/SCRIPTS/basal_melt_param/data/interim/'\n",
    "plot_path = '/bettik/burgardc/PLOTS/first-look/'"
   ]
  },
  {
   "cell_type": "code",
   "execution_count": null,
   "id": "charitable-packet",
   "metadata": {},
   "outputs": [],
   "source": [
    "# make the domain a little smaller to make the computation even more efficient - file isf has already been made smaller at its creation\n",
    "map_lim = [-3000000,3000000]"
   ]
  },
  {
   "cell_type": "code",
   "execution_count": null,
   "id": "stainless-diary",
   "metadata": {},
   "outputs": [],
   "source": [
    "file_other = xr.open_dataset(inputpath_data+'corrected_draft_bathy_isf.nc')\n",
    "file_other_cut = uf.cut_domain_stereo(file_other, map_lim, map_lim)\n",
    "file_conc = xr.open_dataset(inputpath_data+'isfdraft_conc_Ant_stereo.nc')\n",
    "file_conc_cut = uf.cut_domain_stereo(file_conc, map_lim, map_lim)"
   ]
  },
  {
   "cell_type": "code",
   "execution_count": null,
   "id": "municipal-legislature",
   "metadata": {},
   "outputs": [],
   "source": [
    "file_map = xr.open_dataset(inputpath_data+'mask_variables_of_interest_Ant_stereo.nc')\n",
    "file_isf_orig = xr.open_dataset(inputpath_mask+'nemo_5km_isf_masks_and_info_and_distance_new_oneFRIS.nc')\n",
    "nonnan_Nisf = file_isf_orig['Nisf'].where(np.isfinite(file_isf_orig['front_bot_depth_max']), drop=True).astype(int)\n",
    "file_isf_nonnan = file_isf_orig.sel(Nisf=nonnan_Nisf)\n",
    "large_Nisf = file_isf_nonnan['Nisf'].where(file_isf_nonnan['isf_area_here'] >= 2500, drop=True)\n",
    "file_isf = file_isf_nonnan.sel(Nisf=large_Nisf)"
   ]
  },
  {
   "cell_type": "code",
   "execution_count": null,
   "id": "generous-arizona",
   "metadata": {},
   "outputs": [],
   "source": [
    "param_var_of_int = file_isf[['ISF_mask', 'latitude', 'longitude', 'front_bot_depth_max']]\n",
    "plume_charac = xr.open_dataset(outputpath_plumes+'nemo_5km_plume_characteristics_oneFRIS.nc')"
   ]
  },
  {
   "cell_type": "code",
   "execution_count": null,
   "id": "activated-palace",
   "metadata": {},
   "outputs": [],
   "source": [
    "ice_draft_pos = file_other_cut['corrected_isfdraft']\n",
    "ice_draft_neg = -ice_draft_pos\n",
    "isf_conc = file_conc_cut['isfdraft_conc']"
   ]
  },
  {
   "cell_type": "code",
   "execution_count": null,
   "id": "parental-pipeline",
   "metadata": {},
   "outputs": [],
   "source": [
    "bottom = False\n",
    "if bottom:\n",
    "    thermal_forcing_1map = xr.open_dataset(outputpath_simple+'thermal_forcing_2D_bottom_for_tuning_corrected_oneFRIS.nc')\n",
    "    salinity_forcing_1map = xr.open_dataset(outputpath_simple+'input_salinity_2D_bottom_for_tuning_corrected_oneFRIS.nc')\n",
    "else:\n",
    "    thermal_forcing_1map = xr.open_dataset(outputpath_simple+'thermal_forcing_2D_for_tuning_corrected_oneFRIS.nc')\n",
    "    salinity_forcing_1map = xr.open_dataset(outputpath_simple+'input_salinity_2D_for_tuning_corrected_oneFRIS.nc')"
   ]
  },
  {
   "cell_type": "code",
   "execution_count": null,
   "id": "olive-christopher",
   "metadata": {},
   "outputs": [],
   "source": [
    "nonweighted_thermal_forcing = thermal_forcing_1map['thermal_forcing_2D']\n",
    "nonweighted_salinity = salinity_forcing_1map['salinity_depth_of_int']\n",
    "\n",
    "weighted_thermal_forcing = thermal_forcing_1map['thermal_forcing_2D']*isf_conc\n",
    "weighted_salinity = salinity_forcing_1map['salinity_depth_of_int']*isf_conc\n",
    "\n",
    "thermal_forcing_all = []\n",
    "\n",
    "if bottom:\n",
    "    simple_param_types = ['linear_local_bottom', 'quadratic_local_bottom', 'quadratic_local_locslope_bottom', 'quadratic_local_cavslope_bottom', 'quadratic_mixed_mean_bottom', 'quadratic_mixed_locslope_bottom','quadratic_mixed_cavslope_bottom']\n",
    "else:\n",
    "    simple_param_types = ['linear_local', 'quadratic_local', 'quadratic_local_locslope', 'quadratic_local_cavslope', 'quadratic_mixed_mean', 'quadratic_mixed_locslope','quadratic_mixed_cavslope']\n",
    "\n",
    "for kisf in tqdm(file_isf['Nisf']):\n",
    "    isf_mask = file_isf['ISF_mask'] == kisf\n",
    "    \n",
    "    nonweighted_thermal_forcing_nisf = nonweighted_thermal_forcing.where(isf_mask, drop=True)\n",
    "    nonweighted_salinity_nisf = nonweighted_salinity.where(isf_mask, drop=True)\n",
    "\n",
    "    weighted_thermal_forcing_nisf = weighted_thermal_forcing.where(isf_mask, drop=True)\n",
    "    weighted_avg_thermal_forcing = (weighted_thermal_forcing_nisf.sum(['x','y'])/isf_conc.where(isf_mask, drop=True).sum(['x','y']))#.compute()\n",
    "\n",
    "    weighted_salinity_nisf = weighted_salinity.where(isf_mask, drop=True)\n",
    "    weighted_avg_salinity = (weighted_salinity_nisf.sum(['x','y'])/isf_conc.where(isf_mask, drop=True).sum(['x','y']))#.compute()\n",
    "    \n",
    "    isf_conc_nisf = isf_conc.where(isf_mask, drop=True)\n",
    "\n",
    "    angles_nisf_simple = np.sin(plume_charac['alpha'].sel(option='simple').where(isf_mask, drop=True))\n",
    "    angles_nisf_locslope = np.sin(plume_charac['alpha'].sel(option='appenB').where(isf_mask, drop=True))\n",
    "    \n",
    "    thermal_forcing_kisf = None\n",
    "\n",
    "    for mparam in simple_param_types:\n",
    "        \n",
    "        if bottom:\n",
    "            mparam0 = mparam[:-7:]\n",
    "        else:\n",
    "            mparam0 = mparam\n",
    "\n",
    "        if mparam0 == 'linear_local':\n",
    "            thermal_forcing_term = weighted_thermal_forcing_nisf.sum(['x','y'])\n",
    "        elif mparam == 'quadratic_local':\n",
    "            thermal_forcing_term = (nonweighted_thermal_forcing_nisf\n",
    "                                    * nonweighted_salinity_nisf\n",
    "                                    * abs(nonweighted_thermal_forcing_nisf) * isf_conc_nisf).sum(['x','y'])\n",
    "        elif mparam0 == 'quadratic_local_locslope':\n",
    "            thermal_forcing_term = (nonweighted_thermal_forcing_nisf\n",
    "                                    * nonweighted_salinity_nisf\n",
    "                                    * abs(nonweighted_thermal_forcing_nisf) * angles_nisf_locslope * isf_conc_nisf).sum(dim=['x','y']) \n",
    "        elif mparam0 == 'quadratic_local_cavslope':\n",
    "            thermal_forcing_term = (nonweighted_thermal_forcing_nisf \n",
    "                                    * nonweighted_salinity_nisf\n",
    "                                    * abs(nonweighted_thermal_forcing_nisf) * angles_nisf_simple * isf_conc_nisf).sum(dim=['x','y']) \n",
    "        elif mparam0 == 'quadratic_mixed_mean':\n",
    "            thermal_forcing_term = abs(weighted_avg_thermal_forcing) * weighted_avg_salinity * (nonweighted_thermal_forcing_nisf * isf_conc_nisf).sum(['x','y'])\n",
    "        elif mparam0 == 'quadratic_mixed_locslope':\n",
    "            thermal_forcing_term = abs(weighted_avg_thermal_forcing) * weighted_avg_salinity * (nonweighted_thermal_forcing_nisf \n",
    "                                                                        * angles_nisf_locslope * isf_conc_nisf).sum(dim=['x','y']) \n",
    "        elif mparam == 'quadratic_mixed_cavslope':\n",
    "            thermal_forcing_term = abs(weighted_avg_thermal_forcing) * weighted_avg_salinity * (nonweighted_thermal_forcing_nisf \n",
    "                                                                        * angles_nisf_simple * isf_conc_nisf).sum(dim=['x','y']) \n",
    "\n",
    "        if 'option' in thermal_forcing_term.coords:\n",
    "            thermal_forcing_term = thermal_forcing_term.drop('option')\n",
    "        \n",
    "        thermal_forcing_kisf = meltf.merge_over_dim(thermal_forcing_term, thermal_forcing_kisf, 'param', mparam)\n",
    "    \n",
    "\n",
    "    thermal_forcing_all.append(thermal_forcing_kisf)\n",
    "    \n",
    "thermal_forcing_merged = xr.concat(thermal_forcing_all, dim='Nisf')\n",
    "        "
   ]
  },
  {
   "cell_type": "code",
   "execution_count": null,
   "id": "informational-detection",
   "metadata": {},
   "outputs": [],
   "source": [
    "if bottom:\n",
    "    thermal_forcing_merged.to_dataset(name='thermal_forcing_term').to_netcdf(outputpath_simple+'thermal_forcing_term_bottom_for_linreg_corrected_oneFRIS.nc','w') \n",
    "else:\n",
    "    thermal_forcing_merged.to_dataset(name='thermal_forcing_term').to_netcdf(outputpath_simple+'thermal_forcing_term_for_linreg_corrected_oneFRIS.nc','w') "
   ]
  }
 ],
 "metadata": {
  "kernelspec": {
   "display_name": "ice_shelf_mask",
   "language": "python",
   "name": "ice_shelf_mask"
  },
  "language_info": {
   "codemirror_mode": {
    "name": "ipython",
    "version": 3
   },
   "file_extension": ".py",
   "mimetype": "text/x-python",
   "name": "python",
   "nbconvert_exporter": "python",
   "pygments_lexer": "ipython3",
   "version": "3.8.5"
  }
 },
 "nbformat": 4,
 "nbformat_minor": 5
}
