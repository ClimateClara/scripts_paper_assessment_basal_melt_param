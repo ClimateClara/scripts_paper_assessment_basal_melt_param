{
 "cells": [
  {
   "cell_type": "code",
   "execution_count": null,
   "id": "70121629-9762-49e5-af03-3eac158767be",
   "metadata": {},
   "outputs": [],
   "source": [
    "\"\"\"\n",
    "Created on Thu Aug 21 10:32 2022\n",
    "\n",
    "Gather cross-validation parameters for later analysis\n",
    "\n",
    "@author: Clara Burgard\n",
    "\n",
    "\"\"\""
   ]
  },
  {
   "cell_type": "code",
   "execution_count": null,
   "id": "efb38576-b6a6-4240-8646-52aa10ee0a9e",
   "metadata": {},
   "outputs": [],
   "source": [
    "import glob\n",
    "import numpy as np\n",
    "import os\n",
    "import matplotlib.pyplot as plt\n",
    "import seaborn as sns\n",
    "import xarray as xr\n",
    "from tqdm.notebook import tqdm\n"
   ]
  },
  {
   "cell_type": "code",
   "execution_count": null,
   "id": "8da48eda-dc0a-435f-900f-9d4d5e5f8520",
   "metadata": {},
   "outputs": [],
   "source": [
    "%matplotlib qt5"
   ]
  },
  {
   "cell_type": "code",
   "execution_count": null,
   "id": "20239da1-a72c-4398-b7ba-5159443a4dd2",
   "metadata": {},
   "outputs": [],
   "source": [
    "nisf_list = [10,11,12,13,18,22,23,24,25,30,31,33,38,39,40,42,43,44,45,47,48,51,52,53,54,55,58,61,65,66,69,70,71,73,75]"
   ]
  },
  {
   "cell_type": "code",
   "execution_count": null,
   "id": "fd4146c6-eab8-48f6-b19d-18dbfb88764a",
   "metadata": {},
   "outputs": [],
   "source": [
    "outputpath_simple_all = '/bettik/burgardc/SCRIPTS/basal_melt_param/data/interim/SIMPLE/nemo_5km_06161821_oneFRIS/'"
   ]
  },
  {
   "cell_type": "markdown",
   "id": "b5994225-0b6f-4c2c-a6a9-63e52b29d372",
   "metadata": {},
   "source": [
    "PLUMES"
   ]
  },
  {
   "cell_type": "code",
   "execution_count": null,
   "id": "ba451a66-cfa8-497b-9457-12e3b086359b",
   "metadata": {},
   "outputs": [],
   "source": [
    "inputpath_BT_plumes = '/bettik/burgardc/SCRIPTS/basal_melt_param/scripts/BASH/JOB_SCRIPTS/plume_tuning_BT/'"
   ]
  },
  {
   "cell_type": "code",
   "execution_count": null,
   "id": "e5704aa3-0caf-4bfc-b485-1f0aea9b3675",
   "metadata": {},
   "outputs": [],
   "source": [
    "\n",
    "\n",
    "plume_gamma_list = []\n",
    "plume_E0_list = []\n",
    "\n",
    "for mparam in ['lazero19_2']: \n",
    "    print(mparam)\n",
    "    \n",
    "    gamma_dom_list = []\n",
    "    E0_dom_list = []\n",
    "    \n",
    "    for dom in [50]: #\n",
    "    \n",
    "        last_guess_list = []\n",
    "\n",
    "        plume_BT_files = list(sorted(glob.glob(inputpath_BT_plumes+'plume_'+mparam+'_'+str(dom)+'km_BT_tidesFalse_noisf*_notblock*.log')))\n",
    "\n",
    "        for ffile in plume_BT_files:\n",
    "            if os.stat(ffile).st_size == 0:\n",
    "                print(ffile+' is empty')\n",
    "            else:\n",
    "                f = open(ffile, 'r')\n",
    "                last_line = f.readlines()[-2]\n",
    "                #print(last_line)\n",
    "                if last_line.split()[0] == 'FINAL':\n",
    "                    last_guess = np.array(last_line.split('=')[1].strip().split('[')[1].split(']')[0].split()).astype(float)\n",
    "                    last_guess_list.append(last_guess)\n",
    "                else:\n",
    "                    print(ffile)\n",
    "                    if mparam == 'lazero19_modif2':\n",
    "                        last_guess = np.array([1000, 1.35e-3])\n",
    "                        last_guess_list.append(last_guess)\n",
    "\n",
    "\n",
    "        gamma_da = xr.DataArray(data=np.array(last_guess_list)[:,0])\n",
    "        E0_da = xr.DataArray(data=np.array(last_guess_list)[:,1])\n",
    "        \n",
    "        gamma_dom_list.append(gamma_da)\n",
    "        E0_dom_list.append(E0_da)\n",
    "        \n",
    "    gamma_dom = xr.concat(gamma_dom_list, dim='profile_domain')\n",
    "    E0_dom = xr.concat(E0_dom_list, dim='profile_domain')\n",
    "    \n",
    "    plume_gamma_list.append(gamma_dom)\n",
    "    plume_E0_list.append(E0_dom)\n",
    "    \n",
    "plume_gamma = xr.concat(plume_gamma_list, dim='param')\n",
    "plume_E0 = xr.concat(plume_E0_list, dim='param')\n",
    "\n",
    "plume_gamma.to_dataset(name='gamma').to_netcdf(outputpath_simple_all + 'plume_gamma_BT.nc')\n",
    "plume_E0.to_dataset(name='E0').to_netcdf(outputpath_simple_all + 'plume_E0_BT.nc')"
   ]
  },
  {
   "cell_type": "code",
   "execution_count": null,
   "id": "7057280d-d6d9-4821-88c2-0aa94ee45445",
   "metadata": {},
   "outputs": [],
   "source": [
    "plt.scatter(plume_gamma.isel(param=0,profile_domain=0),plume_E0.isel(param=0,profile_domain=0), s=10, alpha=0.2)\n",
    "plt.ylim(0,0.4)\n",
    "plt.xlim(0,0.001)"
   ]
  },
  {
   "cell_type": "code",
   "execution_count": null,
   "id": "aabe023b-82c1-4a0d-ac37-b5b37cb432d1",
   "metadata": {},
   "outputs": [],
   "source": [
    "plume_gamma.where(plume_gamma > 0.0010, drop=True).count()"
   ]
  },
  {
   "cell_type": "code",
   "execution_count": null,
   "id": "ae7ecd94-8c32-4ace-b823-a8b81621ebfa",
   "metadata": {},
   "outputs": [],
   "source": [
    "plume_E0.where(plume_E0 > 0.4, drop=True).count()"
   ]
  },
  {
   "cell_type": "markdown",
   "id": "03d228e4-8172-412d-9945-ceee923fa237",
   "metadata": {},
   "source": [
    "BOXES"
   ]
  },
  {
   "cell_type": "code",
   "execution_count": null,
   "id": "b43ed7c2-a68a-4c89-817c-d6d681b35475",
   "metadata": {},
   "outputs": [],
   "source": [
    "inputpath_BT_boxes = '/bettik/burgardc/SCRIPTS/basal_melt_param/scripts/BASH/JOB_SCRIPTS/box_tuning_BT/'"
   ]
  },
  {
   "cell_type": "code",
   "execution_count": null,
   "id": "8b1378b7-2311-4e05-a269-d2feddd42cc5",
   "metadata": {},
   "outputs": [],
   "source": [
    "\n",
    "box_gamma_list = []\n",
    "box_C_list = []\n",
    "\n",
    "pism_version = 'yes'\n",
    "picop_opt = 'no'\n",
    "\n",
    "for nD_config in range(3,5):\n",
    "    \n",
    "    mparam = 'boxes_'+str(nD_config)+'_pism'+pism_version+'_picop'+picop_opt\n",
    "    dom = 50\n",
    "\n",
    "    gamma_dom_list = []\n",
    "    C_dom_list = []\n",
    "    \n",
    "    if nD_config == 3:\n",
    "        box_BT_files = list(sorted(glob.glob(inputpath_BT_boxes+'box_'+str(nD_config)+'_'+pism_version+'_'+picop_opt+'_'+str(dom)+'km_BT_tidesFalse_noisf*_notblock*.log')))\n",
    "        \n",
    "    elif nD_config == 4:\n",
    "        for nn in range(251,501):\n",
    "            box_BT_files.append(inputpath_BT_boxes+'box_'+str(nD_config)+'_'+pism_version+'_'+picop_opt+'_'+str(dom)+'km_BT_tidesFalse_noisf'+str(nn)+'_notblock00.log')\n",
    "\n",
    "last_guess_list = []\n",
    "for ffile in box_BT_files:\n",
    "    if os.stat(ffile).st_size == 0:\n",
    "        print(ffile+' is empty')\n",
    "    else:\n",
    "        f = open(ffile, 'r')\n",
    "        last_line = f.readlines()[-2]\n",
    "        #print(last_line)\n",
    "        if last_line.split()[0] == 'FINAL':\n",
    "            last_guess = np.array(last_line.split('=')[1].strip().split('[')[1].split(']')[0].split()).astype(float)\n",
    "            last_guess_list.append(last_guess)\n",
    "        else:\n",
    "            print(ffile)\n",
    "\n",
    "\n",
    "gamma_da = xr.DataArray(data=np.array(last_guess_list)[:,0], coords={}, dims=['bootstrap'])\n",
    "C_da = xr.DataArray(data=np.array(last_guess_list)[:,1], coords={}, dims=['bootstrap'])\n",
    "\n",
    "gamma_da.to_dataset(name='gamma').to_netcdf(outputpath_simple_all + 'box_gamma_BT.nc')\n",
    "C_da.to_dataset(name='C').to_netcdf(outputpath_simple_all + 'box_C_BT.nc')\n"
   ]
  },
  {
   "cell_type": "code",
   "execution_count": null,
   "id": "c4730517-80dd-49dd-86d9-61e89e18d626",
   "metadata": {},
   "outputs": [],
   "source": [
    "C_da.plot()"
   ]
  },
  {
   "cell_type": "code",
   "execution_count": null,
   "id": "f8ac20e0-19b8-4d91-b27b-ba68af38189d",
   "metadata": {},
   "outputs": [],
   "source": [
    "plt.scatter(box_gamma.isel(param=0,profile_domain=0),box_C.isel(param=0,profile_domain=0), s=10, alpha=0.2)\n",
    "#plt.ylim(0,1)"
   ]
  },
  {
   "cell_type": "code",
   "execution_count": null,
   "id": "fec0f69a-f908-473c-a123-36e411077fa3",
   "metadata": {},
   "outputs": [],
   "source": [
    "32/250"
   ]
  },
  {
   "cell_type": "code",
   "execution_count": null,
   "id": "8fe2d750-4c0c-44fd-88b9-9a020ed3953c",
   "metadata": {},
   "outputs": [],
   "source": [
    "box_C.where(box_C == 100, drop=True).count()"
   ]
  },
  {
   "cell_type": "markdown",
   "id": "003efd42-5d76-4025-b968-f96241e65f6b",
   "metadata": {},
   "source": [
    "PICOP"
   ]
  },
  {
   "cell_type": "code",
   "execution_count": null,
   "id": "b19acbad-5003-4a9b-bc00-857a7b8b4231",
   "metadata": {},
   "outputs": [],
   "source": [
    "inputpath_BT_boxes = '/bettik/burgardc/SCRIPTS/basal_melt_param/scripts/BASH/JOB_SCRIPTS/box_tuning_BT/'"
   ]
  },
  {
   "cell_type": "code",
   "execution_count": null,
   "id": "26042902-0145-4400-9953-c6103455b0e9",
   "metadata": {},
   "outputs": [],
   "source": [
    "picop_gamma_list = []\n",
    "picop_E0_list = []\n",
    "\n",
    "for nD_config in range(3,5): #, 'lazero19_modif2'\n",
    "    \n",
    "    if nD_config == 3:\n",
    "        pism_version = 'yes'\n",
    "        picop_opt = 'yes'\n",
    "    \n",
    "    elif nD_config == 4:\n",
    "        pism_version = 'no'\n",
    "        picop_opt = 'yes'\n",
    "    \n",
    "    dom = 50\n",
    "    mparam = 'boxes_'+str(nD_config)+'_pism'+pism_version+'_picop'+picop_opt\n",
    "\n",
    "    gamma_dom_list = []\n",
    "    E0_dom_list = []\n",
    "    \n",
    "    if nD_config == 3:\n",
    "\n",
    "        picop_BT_files = list(sorted(glob.glob(inputpath_BT_boxes+'box_'+str(nD_config)+'_'+pism_version+'_'+picop_opt+'_'+str(dom)+'km_BT_tidesFalse_noisf*_notblock*.log')))\n",
    "\n",
    "    elif nD_config == 4:\n",
    "        for nn in range(251,501):\n",
    "            picop_BT_files.append(inputpath_BT_boxes+'box_'+str(nD_config)+'_'+pism_version+'_'+picop_opt+'_'+str(dom)+'km_BT_tidesFalse_noisf'+str(nn)+'_notblock00.log')\n",
    "        \n",
    "last_guess_list = []    \n",
    "for ffile in picop_BT_files:\n",
    "    if os.stat(ffile).st_size == 0:\n",
    "        print(ffile+' is empty')\n",
    "    else:\n",
    "        f = open(ffile, 'r')\n",
    "        last_line = f.readlines()[-2]\n",
    "        #print(last_line)\n",
    "        if last_line.split()[0] == 'FINAL':\n",
    "            last_guess = np.array(last_line.split('=')[1].strip().split('[')[1].split(']')[0].split()).astype(float)\n",
    "            last_guess_list.append(last_guess)\n",
    "        else:\n",
    "            print(ffile)\n",
    "\n",
    "\n",
    "gamma_da = xr.DataArray(data=np.array(last_guess_list)[:,0], coords={}, dims=['bootstrap'])\n",
    "E0_da = xr.DataArray(data=np.array(last_guess_list)[:,1], coords={}, dims=['bootstrap'])\n",
    "        \n",
    "\n",
    "gamma_da.to_dataset(name='gamma').to_netcdf(outputpath_simple_all + 'picop_gamma_BT.nc')\n",
    "E0_da.to_dataset(name='E0').to_netcdf(outputpath_simple_all + 'picop_E0_BT.nc')\n"
   ]
  },
  {
   "cell_type": "markdown",
   "id": "2259db9e-be5f-4f88-934d-50864285067a",
   "metadata": {},
   "source": [
    "CHECK THE TBLOCK AND ISF SAMPLES BEHIND EACH BOOSTRAP SAMPLE"
   ]
  },
  {
   "cell_type": "code",
   "execution_count": null,
   "id": "fab3204b-0362-4181-a9e2-5d24f36d0fe7",
   "metadata": {},
   "outputs": [],
   "source": [
    "inputpath_CV_boxes+'box_'+str(nD_config)+'_'+pism_version+'_'+picop_opt+'_'+str(dom)+'km_CV_tidesFalse_noisf00_notblock*.log'"
   ]
  },
  {
   "cell_type": "code",
   "execution_count": null,
   "id": "6ac88277-43f4-4a4e-bc28-7c2502a615de",
   "metadata": {},
   "outputs": [],
   "source": [
    "picop_gamma = xr.open_dataset(outputpath_simple_all + 'picop_gamma_BT.nc')['gamma'].assign_coords({'bootstrap': range(1,251)})\n",
    "picop_E0 = xr.open_dataset(outputpath_simple_all + 'picop_E0_BT.nc')['E0'].assign_coords({'bootstrap': range(1,251)})"
   ]
  },
  {
   "cell_type": "code",
   "execution_count": null,
   "id": "d6a9e9fe-7ed4-4d53-ab19-96ba4c0fa6f3",
   "metadata": {},
   "outputs": [],
   "source": [
    "bootstrap_list = []\n",
    "\n",
    "for bb in tqdm(range(1,501)):\n",
    "\n",
    "    tblock_dim = range(1,14)\n",
    "    isf_dim = [10,11,12,13,18,22,23,24,25,30,31,33,38,39,40,42,43,44,45,47,48,51,52,53,54,55,58,61,65,66,69,70,71,73,75]\n",
    "\n",
    "    np.random.seed(bb)\n",
    "\n",
    "    # define the random bootstrap samples\n",
    "    random_tblock_sample = np.sort(np.random.choice(tblock_dim, size=len(tblock_dim), replace=True))\n",
    "    random_isf_sample = np.random.choice(isf_dim, size=len(isf_dim), replace=True)\n",
    "\n",
    "    bootstrap_info_bb = xr.Dataset({'Nisf': (['isfID'], random_isf_sample),\n",
    "               'tblock': (['tID'], random_tblock_sample)},\n",
    "              coords={'isfID': np.arange(35), 'tID': np.arange(13), 'bootstrap': bb })\n",
    "    bootstrap_list.append(bootstrap_info_bb)\n",
    "    \n",
    "bootstrap_info = xr.concat(bootstrap_list, dim='bootstrap')"
   ]
  },
  {
   "cell_type": "markdown",
   "id": "abe43593-eac8-44d1-865b-fd846beb9afb",
   "metadata": {},
   "source": [
    "CHECKED SOME THINGS FOR PICOP - NOT NECESSARY"
   ]
  },
  {
   "cell_type": "code",
   "execution_count": null,
   "id": "8d23f102-0c0a-4c6d-90cd-402ce6387c4a",
   "metadata": {},
   "outputs": [],
   "source": [
    "plt.hist(picop_gamma.where(picop_gamma<25e-4).isel(param=0,profile_domain=0), bins=np.logspace(-5, -3,))\n",
    "plt.axvline(x=0.000093)"
   ]
  },
  {
   "cell_type": "code",
   "execution_count": null,
   "id": "afc005ed-d29e-4c9b-b851-71e50cbd992a",
   "metadata": {},
   "outputs": [],
   "source": [
    "bb_idx_1 = picop_gamma.where(picop_gamma<1e-4).isel(param=0, profile_domain=0).dropna(dim='bootstrap').bootstrap"
   ]
  },
  {
   "cell_type": "code",
   "execution_count": null,
   "id": "97f18092-1007-4444-9296-a2c366996ff4",
   "metadata": {},
   "outputs": [],
   "source": [
    "bb_idx_2 = picop_gamma.where(picop_E0>800).isel(param=0, profile_domain=0).dropna(dim='bootstrap').bootstrap"
   ]
  },
  {
   "cell_type": "code",
   "execution_count": null,
   "id": "29d42229-2768-4713-a353-38318d37c90c",
   "metadata": {},
   "outputs": [],
   "source": [
    "picop_E0.isel(param=0, profile_domain=0).sel(bootstrap=bb_idx_2)"
   ]
  },
  {
   "cell_type": "code",
   "execution_count": null,
   "id": "0d8fccd0-1977-43c9-a870-4eabf51547aa",
   "metadata": {},
   "outputs": [],
   "source": [
    "picop_E0.isel(param=0, profile_domain=0).sel(bootstrap=bb_idx_1)"
   ]
  },
  {
   "cell_type": "code",
   "execution_count": null,
   "id": "9176fe78-5816-48ec-bfd0-b9b673d84bc7",
   "metadata": {},
   "outputs": [],
   "source": [
    "picop_gamma.isel(param=0, profile_domain=0).sel(bootstrap=bb_idx_2)"
   ]
  },
  {
   "cell_type": "code",
   "execution_count": null,
   "id": "46b726b8-0e03-4d8c-8ff7-c12834fae699",
   "metadata": {},
   "outputs": [],
   "source": [
    "count_list = []\n",
    "for kisf in isf_dim:\n",
    "    count_kisf = np.count_nonzero(bootstrap_info.Nisf.sel(bootstrap=bb_idx_1).values.flatten() == kisf)\n",
    "    print(str(kisf)+': '+str(count_kisf))\n",
    "    count_list.append(count_kisf)\n",
    "count_arr = np.array(count_list)"
   ]
  },
  {
   "cell_type": "code",
   "execution_count": null,
   "id": "886261cd-2df6-4125-baeb-a40c1d88c4c3",
   "metadata": {},
   "outputs": [],
   "source": [
    "plt.scatter(isf_dim,count_list)"
   ]
  },
  {
   "cell_type": "code",
   "execution_count": null,
   "id": "9610128b-b7a8-4d9b-b9f0-11cb1355131c",
   "metadata": {},
   "outputs": [],
   "source": [
    "for kisf in isf_dim:\n",
    "    count_kisf = np.count_nonzero(bootstrap_info.Nisf.values.flatten() == kisf)\n",
    "    print(str(kisf)+': '+str(count_kisf))"
   ]
  },
  {
   "cell_type": "code",
   "execution_count": null,
   "id": "6b44aad9-a3c6-41bd-aeb5-b97e0adde93a",
   "metadata": {},
   "outputs": [],
   "source": []
  }
 ],
 "metadata": {
  "kernelspec": {
   "display_name": "ice_shelf_mask",
   "language": "python",
   "name": "ice_shelf_mask"
  },
  "language_info": {
   "codemirror_mode": {
    "name": "ipython",
    "version": 3
   },
   "file_extension": ".py",
   "mimetype": "text/x-python",
   "name": "python",
   "nbconvert_exporter": "python",
   "pygments_lexer": "ipython3",
   "version": "3.8.5"
  }
 },
 "nbformat": 4,
 "nbformat_minor": 5
}
