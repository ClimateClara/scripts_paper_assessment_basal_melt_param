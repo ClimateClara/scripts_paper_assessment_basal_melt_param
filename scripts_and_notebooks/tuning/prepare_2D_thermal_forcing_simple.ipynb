{
 "cells": [
  {
   "cell_type": "code",
   "execution_count": null,
   "id": "hindu-cleaning",
   "metadata": {},
   "outputs": [],
   "source": [
    "\"\"\"\n",
    "Created on Mon Mar 22 10:27 2021\n",
    "\n",
    "This script is to prepare the thermal forcing 2D fields to be used for tuning the simple parametrizations\n",
    "with dask\n",
    "=> extrapolate from profile to ice draft depth\n",
    "\n",
    "@author: Clara Burgard\n",
    "\"\"\""
   ]
  },
  {
   "cell_type": "code",
   "execution_count": null,
   "id": "green-stopping",
   "metadata": {},
   "outputs": [],
   "source": [
    "import xarray as xr\n",
    "import numpy as np\n",
    "import pandas as pd\n",
    "from tqdm.notebook import tqdm\n",
    "import assess_param_funcs.useful_functions as uf\n",
    "import assess_param_funcs.melt_functions as meltf\n",
    "from assess_param_funcs.constants import *\n",
    "import assess_param_funcs.T_S_profile_functions as tspf\n",
    "from scipy import stats\n",
    "from dask import delayed\n",
    "\n",
    "import distributed\n",
    "import glob"
   ]
  },
  {
   "cell_type": "code",
   "execution_count": null,
   "id": "threaded-understanding",
   "metadata": {},
   "outputs": [],
   "source": [
    "client = distributed.Client(n_workers=12, dashboard_address=':8795', local_directory='/tmp', memory_limit='6GB')"
   ]
  },
  {
   "cell_type": "code",
   "execution_count": null,
   "id": "composite-elephant",
   "metadata": {},
   "outputs": [],
   "source": [
    "client"
   ]
  },
  {
   "cell_type": "markdown",
   "id": "incomplete-bookmark",
   "metadata": {},
   "source": [
    "READ IN DATA"
   ]
  },
  {
   "cell_type": "code",
   "execution_count": null,
   "id": "1c87efda-2933-4a07-aff3-8410aba39919",
   "metadata": {},
   "outputs": [],
   "source": [
    "nemo_run = 'OPM021'"
   ]
  },
  {
   "cell_type": "code",
   "execution_count": null,
   "id": "frequent-asian",
   "metadata": {},
   "outputs": [],
   "source": [
    "inputpath_data='/bettik/burgardc/SCRIPTS/basal_melt_param/data/interim/NEMO_eORCA025.L121_'+nemo_run+'_ANT_STEREO/'\n",
    "inputpath_mask = '/bettik/burgardc/SCRIPTS/basal_melt_param/data/interim/ANTARCTICA_IS_MASKS/nemo_5km_'+nemo_run+'/'\n",
    "inputpath_profiles = '/bettik/burgardc/SCRIPTS/basal_melt_param/data/interim/T_S_PROF/nemo_5km_'+nemo_run+'/'\n",
    "outputpath_simple = '/bettik/burgardc/SCRIPTS/basal_melt_param/data/interim/SIMPLE/nemo_5km_'+nemo_run+'/'\n",
    "inputpath_plumes = '/bettik/burgardc/SCRIPTS/basal_melt_param/data/interim/PLUMES/nemo_5km_'+nemo_run+'/'\n",
    "outputpath = '/bettik/burgardc/SCRIPTS/basal_melt_param/data/interim/'\n",
    "plot_path = '/bettik/burgardc/PLOTS/first-look/'"
   ]
  },
  {
   "cell_type": "code",
   "execution_count": null,
   "id": "veterinary-beads",
   "metadata": {},
   "outputs": [],
   "source": [
    "# make the domain a little smaller to make the computation even more efficient - file isf has already been made smaller at its creation\n",
    "map_lim = [-3000000,3000000]\n",
    "\n",
    "chunk_size = 300"
   ]
  },
  {
   "cell_type": "markdown",
   "id": "macro-cookie",
   "metadata": {},
   "source": [
    "Files for param"
   ]
  },
  {
   "cell_type": "code",
   "execution_count": null,
   "id": "forty-screening",
   "metadata": {},
   "outputs": [],
   "source": [
    "file_other = xr.open_mfdataset(inputpath_data+'corrected_draft_bathy_isf.nc')\n",
    "file_other_cut = uf.cut_domain_stereo(file_other, map_lim, map_lim).chunk(chunks={'x': chunk_size, 'y': chunk_size})\n",
    "file_mask_orig = xr.open_dataset(inputpath_data+'other_mask_vars_Ant_stereo.nc')\n",
    "file_bed_cut = uf.cut_domain_stereo(file_mask_orig['bathy_metry'], map_lim, map_lim).chunk(chunks={'x': chunk_size, 'y': chunk_size})"
   ]
  },
  {
   "cell_type": "code",
   "execution_count": null,
   "id": "1b6ec21a-6758-40c0-abf3-c4948d7c7bde",
   "metadata": {},
   "outputs": [],
   "source": [
    "#file_isf_orig = xr.open_mfdataset(inputpath_mask+'nemo_5km_isf_masks_and_info_and_distance_new.nc') # separate FRIS\n",
    "file_isf_orig = xr.open_mfdataset(inputpath_mask+'nemo_5km_isf_masks_and_info_and_distance_new_oneFRIS.nc')\n",
    "nonnan_Nisf = file_isf_orig['Nisf'].where(np.isfinite(file_isf_orig['front_bot_depth_max']), drop=True).astype(int)\n",
    "file_isf_nonnan = file_isf_orig.sel(Nisf=nonnan_Nisf)\n",
    "large_Nisf = file_isf_nonnan['Nisf'].where(file_isf_nonnan['isf_area_here'] >= 2500, drop=True)\n",
    "file_isf = file_isf_nonnan.sel(Nisf=large_Nisf).chunk(chunks={'x': chunk_size, 'y': chunk_size})\n",
    "file_isf_mask = file_isf['ISF_mask'].where(file_isf['ISF_mask']==file_isf.Nisf).sum('Nisf')"
   ]
  },
  {
   "cell_type": "code",
   "execution_count": null,
   "id": "68cf4309-9783-4886-8132-9ed51cf4c87e",
   "metadata": {},
   "outputs": [],
   "source": [
    "file_TS_orig = xr.open_mfdataset(inputpath_profiles+'T_S_mean_prof_corrected_km_contshelf_and_offshore_1980-2018_oneFRIS.nc', chunks={'Nisf': 1})\n",
    "file_TS = file_TS_orig.sel(Nisf=large_Nisf)"
   ]
  },
  {
   "cell_type": "code",
   "execution_count": null,
   "id": "legal-beads",
   "metadata": {},
   "outputs": [],
   "source": [
    "param_var_of_int = file_isf[['ISF_mask', 'latitude', 'longitude', 'front_bot_depth_max', 'front_bot_depth_avg']]"
   ]
  },
  {
   "cell_type": "code",
   "execution_count": null,
   "id": "considered-shanghai",
   "metadata": {},
   "outputs": [],
   "source": [
    "ice_draft_pos = file_other_cut['corrected_isfdraft']\n",
    "ice_draft_neg = -ice_draft_pos"
   ]
  },
  {
   "cell_type": "markdown",
   "id": "indian-trade",
   "metadata": {},
   "source": [
    "First 2D fields of thermal forcing"
   ]
  },
  {
   "cell_type": "code",
   "execution_count": null,
   "id": "8820d1ff-821c-43bd-a5a9-5ec5597df99f",
   "metadata": {},
   "outputs": [],
   "source": [
    "# find temperature and salinity at the given depth\n",
    "filled_TS = file_TS.ffill(dim='depth')"
   ]
  },
  {
   "cell_type": "code",
   "execution_count": null,
   "id": "9a3740e6-425b-4e70-aee2-1b769ea74657",
   "metadata": {},
   "outputs": [],
   "source": [
    "bottom = False # bottom was used to investigate the influence of using bottom temperature VS whole profile to suggest changes for the box parameterisation\n",
    "if bottom:\n",
    "    depth_of_int = param_var_of_int['front_bot_depth_avg']\n",
    "    ice_draft_isf = ice_draft_pos.where(param_var_of_int['ISF_mask'] == file_isf.Nisf).chunk(chunks={'Nisf': 1})\n",
    "    T0 = filled_TS['theta_ocean'].interp(depth=depth_of_int).chunk(chunks={'Nisf':1}).where(file_isf_mask==file_isf.Nisf).chunk(chunks={'Nisf':1, 'x': chunk_size, 'y': chunk_size})\n",
    "    S0 = filled_TS['salinity_ocean'].interp(depth=depth_of_int).chunk(chunks={'Nisf':1}).where(file_isf_mask==file_isf.Nisf).chunk(chunks={'Nisf':1, 'x': chunk_size, 'y': chunk_size})\n",
    "\n",
    "else:\n",
    "    ice_draft_isf = ice_draft_pos.where(param_var_of_int['ISF_mask'] == file_isf.Nisf).chunk(chunks={'Nisf': 1})\n",
    "    depth_of_int = ice_draft_isf.where(ice_draft_isf<param_var_of_int['front_bot_depth_max'], \n",
    "                                   param_var_of_int['front_bot_depth_max']).chunk(chunks={'Nisf':1}) # ice draft depth or deepest entrance depth\n",
    "    T0 = filled_TS['theta_ocean'].interp(depth=depth_of_int)\n",
    "    S0 = filled_TS['salinity_ocean'].interp(depth=depth_of_int)\n",
    "\n",
    "Tf = meltf.freezing_temperature(S0, -ice_draft_isf)"
   ]
  },
  {
   "cell_type": "code",
   "execution_count": null,
   "id": "criminal-quality",
   "metadata": {},
   "outputs": [],
   "source": [
    "# thermal forcing term\n",
    "thermal_forcing = T0 - Tf \n",
    "\n",
    "# project it on 2D\n",
    "thermal_forcing_1map = thermal_forcing.sum('Nisf').where(file_isf_mask>1)"
   ]
  },
  {
   "cell_type": "code",
   "execution_count": null,
   "id": "preceding-inclusion",
   "metadata": {},
   "outputs": [],
   "source": [
    "if bottom:\n",
    "    thermal_forcing_1map.to_dataset(name='thermal_forcing_2D').to_netcdf(outputpath_simple+'thermal_forcing_2D_bottom_for_tuning_corrected_oneFRIS.nc','w')\n",
    "else:\n",
    "    thermal_forcing_1map.to_dataset(name='thermal_forcing_2D').to_netcdf(outputpath_simple+'thermal_forcing_2D_for_tuning_corrected_oneFRIS.nc','w')"
   ]
  },
  {
   "cell_type": "markdown",
   "id": "7c9eb59f-a4af-462f-aeba-610e188bd29b",
   "metadata": {},
   "source": [
    "Prepare additionally S0 for new semilocal formulation"
   ]
  },
  {
   "cell_type": "code",
   "execution_count": null,
   "id": "21b4e086-184f-4794-aabe-acafed690a6c",
   "metadata": {},
   "outputs": [],
   "source": [
    "S0_clean = S0.where(file_isf['ISF_mask']==depth_of_int.Nisf)\n",
    "S_test = S0_clean.sum('Nisf').where(file_isf_mask>0)"
   ]
  },
  {
   "cell_type": "code",
   "execution_count": null,
   "id": "9f3f28a6-790f-4302-be99-f93680074b9e",
   "metadata": {},
   "outputs": [],
   "source": [
    "if bottom:\n",
    "    S_test.to_dataset(name='salinity_depth_of_int').to_netcdf(outputpath_simple+'input_salinity_2D_bottom_for_tuning_corrected_oneFRIS.nc','w')\n",
    "else:\n",
    "    S_test.to_dataset(name='salinity_depth_of_int').to_netcdf(outputpath_simple+'input_salinity_2D_for_tuning_corrected_oneFRIS.nc','w')"
   ]
  },
  {
   "cell_type": "markdown",
   "id": "a90d5be5-1482-4754-8ec3-41d3e83d39ba",
   "metadata": {},
   "source": [
    "Check result"
   ]
  },
  {
   "cell_type": "code",
   "execution_count": null,
   "id": "altered-mustang",
   "metadata": {},
   "outputs": [],
   "source": [
    "TS_orig = xr.open_dataset(outputpath_simple+'thermal_forcing_2D_for_tuning_corrected_oneFRIS.nc')"
   ]
  }
 ],
 "metadata": {
  "kernelspec": {
   "display_name": "ice_shelf_mask",
   "language": "python",
   "name": "ice_shelf_mask"
  },
  "language_info": {
   "codemirror_mode": {
    "name": "ipython",
    "version": 3
   },
   "file_extension": ".py",
   "mimetype": "text/x-python",
   "name": "python",
   "nbconvert_exporter": "python",
   "pygments_lexer": "ipython3",
   "version": "3.8.5"
  }
 },
 "nbformat": 4,
 "nbformat_minor": 5
}
