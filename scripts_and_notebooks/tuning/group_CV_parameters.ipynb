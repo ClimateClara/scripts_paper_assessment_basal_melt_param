{
 "cells": [
  {
   "cell_type": "code",
   "execution_count": null,
   "id": "70121629-9762-49e5-af03-3eac158767be",
   "metadata": {},
   "outputs": [],
   "source": [
    "\"\"\"\n",
    "Created on Thu Aug 21 10:32 2022\n",
    "\n",
    "Gather cross-validation parameters for later application\n",
    "\n",
    "@author: Clara Burgard\n",
    "\n",
    "\"\"\""
   ]
  },
  {
   "cell_type": "code",
   "execution_count": null,
   "id": "efb38576-b6a6-4240-8646-52aa10ee0a9e",
   "metadata": {},
   "outputs": [],
   "source": [
    "import glob\n",
    "import numpy as np\n",
    "import os\n",
    "import matplotlib.pyplot as plt\n",
    "import seaborn as sns\n",
    "import xarray as xr"
   ]
  },
  {
   "cell_type": "code",
   "execution_count": null,
   "id": "8da48eda-dc0a-435f-900f-9d4d5e5f8520",
   "metadata": {},
   "outputs": [],
   "source": [
    "%matplotlib qt5"
   ]
  },
  {
   "cell_type": "code",
   "execution_count": null,
   "id": "20239da1-a72c-4398-b7ba-5159443a4dd2",
   "metadata": {},
   "outputs": [],
   "source": [
    "nisf_list = [10,11,12,13,18,22,23,24,25,30,31,33,38,39,40,42,43,44,45,47,48,51,52,53,54,55,58,61,65,66,69,70,71,73,75]"
   ]
  },
  {
   "cell_type": "code",
   "execution_count": null,
   "id": "fd4146c6-eab8-48f6-b19d-18dbfb88764a",
   "metadata": {},
   "outputs": [],
   "source": [
    "outputpath_simple_all = '/bettik/burgardc/SCRIPTS/basal_melt_param/data/interim/SIMPLE/nemo_5km_06161821_oneFRIS/'"
   ]
  },
  {
   "cell_type": "markdown",
   "id": "b5994225-0b6f-4c2c-a6a9-63e52b29d372",
   "metadata": {},
   "source": [
    "PLUMES"
   ]
  },
  {
   "cell_type": "code",
   "execution_count": null,
   "id": "ba451a66-cfa8-497b-9457-12e3b086359b",
   "metadata": {},
   "outputs": [],
   "source": [
    "inputpath_CV_plumes = '/bettik/burgardc/SCRIPTS/basal_melt_param/scripts/BASH/JOB_SCRIPTS/plume_tuning_CV/'"
   ]
  },
  {
   "cell_type": "code",
   "execution_count": null,
   "id": "e5704aa3-0caf-4bfc-b485-1f0aea9b3675",
   "metadata": {},
   "outputs": [],
   "source": [
    "CV_type='time' # can be 'time' or 'shelves'\n",
    "\n",
    "plume_gamma_list = []\n",
    "plume_E0_list = []\n",
    "\n",
    "for mparam in ['lazero19_2', 'lazero19_modif2']: \n",
    "    print(mparam)\n",
    "    \n",
    "    gamma_dom_list = []\n",
    "    E0_dom_list = []\n",
    "    \n",
    "    for dom in [50, 1000]: #\n",
    "    \n",
    "        last_guess_list = []\n",
    "\n",
    "        if CV_type == 'time':\n",
    "            plume_CV_files = list(sorted(glob.glob(inputpath_CV_plumes+'plume_'+mparam+'_'+str(dom)+'km_CV_tidesFalse_noisf00_notblock*.log')))\n",
    "        elif CV_type == 'shelves':\n",
    "            plume_CV_files = list(sorted(glob.glob(inputpath_CV_plumes+'plume_'+mparam+'_'+str(dom)+'km_CV_tidesFalse_noisf*_notblock00.log')))\n",
    "\n",
    "        for ffile in plume_CV_files:\n",
    "            if os.stat(ffile).st_size == 0:\n",
    "                print(ffile+' is empty')\n",
    "            else:\n",
    "                f = open(ffile, 'r')\n",
    "                last_line = f.readlines()[-2]\n",
    "                #print(last_line)\n",
    "                if last_line.split()[0] == 'FINAL':\n",
    "                    last_guess = np.array(last_line.split('=')[1].strip().split('[')[1].split(']')[0].split()).astype(float)\n",
    "                    last_guess_list.append(last_guess)\n",
    "                else:\n",
    "                    print(ffile)\n",
    "                    if mparam == 'lazero19_modif2':\n",
    "                        last_guess = np.array([1000, 1.35e-3])\n",
    "                        last_guess_list.append(last_guess)\n",
    "\n",
    "        if CV_type == 'time':\n",
    "            gamma_da = xr.DataArray(data=np.array(last_guess_list)[:,0], coords={'tblock': range(1,14), 'profile_domain': dom, 'param': mparam}, dims=['tblock'])\n",
    "            E0_da = xr.DataArray(data=np.array(last_guess_list)[:,1], coords={'tblock': range(1,14), 'profile_domain': dom, 'param': mparam}, dims=['tblock'])\n",
    "        \n",
    "        elif CV_type == 'shelves':\n",
    "            gamma_da = xr.DataArray(data=np.array(last_guess_list)[:,0], coords={'Nisf': nisf_list, 'profile_domain': dom, 'param': mparam}, dims=['Nisf'])\n",
    "            E0_da = xr.DataArray(data=np.array(last_guess_list)[:,1], coords={'Nisf': nisf_list, 'profile_domain': dom, 'param': mparam}, dims=['Nisf'])\n",
    "        \n",
    "        gamma_dom_list.append(gamma_da)\n",
    "        E0_dom_list.append(E0_da)\n",
    "        \n",
    "    gamma_dom = xr.concat(gamma_dom_list, dim='profile_domain')\n",
    "    E0_dom = xr.concat(E0_dom_list, dim='profile_domain')\n",
    "    \n",
    "    plume_gamma_list.append(gamma_dom)\n",
    "    plume_E0_list.append(E0_dom)\n",
    "    \n",
    "plume_gamma = xr.concat(plume_gamma_list, dim='param')\n",
    "plume_E0 = xr.concat(plume_E0_list, dim='param')\n",
    "\n",
    "plume_gamma.to_dataset(name='gamma').to_netcdf(outputpath_simple_all + 'plume_gamma_CV'+CV_type+'.nc')\n",
    "plume_E0.to_dataset(name='E0').to_netcdf(outputpath_simple_all + 'plume_E0_CV'+CV_type+'.nc')"
   ]
  },
  {
   "cell_type": "code",
   "execution_count": null,
   "id": "b1d8a977-5699-4acf-a974-ae81923a500a",
   "metadata": {},
   "outputs": [],
   "source": [
    "plume_gamma.isel(param=0,profile_domain=0).median()"
   ]
  },
  {
   "cell_type": "markdown",
   "id": "03d228e4-8172-412d-9945-ceee923fa237",
   "metadata": {},
   "source": [
    "BOXES"
   ]
  },
  {
   "cell_type": "code",
   "execution_count": null,
   "id": "b43ed7c2-a68a-4c89-817c-d6d681b35475",
   "metadata": {},
   "outputs": [],
   "source": [
    "inputpath_CV_boxes = '/bettik/burgardc/SCRIPTS/basal_melt_param/scripts/BASH/JOB_SCRIPTS/box_tuning_CV/'"
   ]
  },
  {
   "cell_type": "code",
   "execution_count": null,
   "id": "8b1378b7-2311-4e05-a269-d2feddd42cc5",
   "metadata": {},
   "outputs": [],
   "source": [
    "CV_type='shelves' # can be 'time' or 'shelves'\n",
    "\n",
    "box_gamma_list = []\n",
    "box_C_list = []\n",
    "\n",
    "pism_version = 'yes'\n",
    "picop_opt = 'no'\n",
    "\n",
    "for nD_config in range(1,5): \n",
    "    \n",
    "    mparam = 'boxes_'+str(nD_config)+'_pism'+pism_version+'_picop'+picop_opt\n",
    "\n",
    "    gamma_dom_list = []\n",
    "    C_dom_list = []\n",
    "    \n",
    "    for dom in [50, 1000]:\n",
    "    \n",
    "        last_guess_list = []\n",
    "        if CV_type == 'time':\n",
    "            box_CV_files = list(sorted(glob.glob(inputpath_CV_boxes+'box_'+str(nD_config)+'_'+pism_version+'_'+picop_opt+'_'+str(dom)+'km_CV_tidesFalse_noisf00_notblock*.log')))\n",
    "        elif CV_type == 'shelves':\n",
    "            box_CV_files = list(sorted(glob.glob(inputpath_CV_boxes+'box_'+str(nD_config)+'_'+pism_version+'_'+picop_opt+'_'+str(dom)+'km_CV_tidesFalse_noisf*_notblock00.log')))\n",
    "\n",
    "        for ffile in box_CV_files:\n",
    "            if os.stat(ffile).st_size == 0:\n",
    "                print(ffile+' is empty')\n",
    "            else:\n",
    "                f = open(ffile, 'r')\n",
    "                last_line = f.readlines()[-2]\n",
    "                #print(last_line)\n",
    "                if last_line.split()[0] == 'FINAL':\n",
    "                    last_guess = np.array(last_line.split('=')[1].strip().split('[')[1].split(']')[0].split()).astype(float)\n",
    "                    last_guess_list.append(last_guess)\n",
    "                else:\n",
    "                    print(ffile)\n",
    "\n",
    "        if CV_type == 'time':\n",
    "            gamma_da = xr.DataArray(data=np.array(last_guess_list)[:,0], coords={'tblock': range(1,14), 'profile_domain': dom, 'param': mparam}, dims=['tblock'])\n",
    "            C_da = xr.DataArray(data=np.array(last_guess_list)[:,1], coords={'tblock': range(1,14), 'profile_domain': dom, 'param': mparam}, dims=['tblock'])\n",
    "        \n",
    "        elif CV_type == 'shelves':\n",
    "            gamma_da = xr.DataArray(data=np.array(last_guess_list)[:,0], coords={'Nisf': nisf_list, 'profile_domain': dom, 'param': mparam}, dims=['Nisf'])\n",
    "            C_da = xr.DataArray(data=np.array(last_guess_list)[:,1], coords={'Nisf': nisf_list, 'profile_domain': dom, 'param': mparam}, dims=['Nisf'])\n",
    "        \n",
    "        gamma_dom_list.append(gamma_da)\n",
    "        C_dom_list.append(C_da)\n",
    "        \n",
    "    gamma_dom = xr.concat(gamma_dom_list, dim='profile_domain')\n",
    "    C_dom = xr.concat(C_dom_list, dim='profile_domain')\n",
    "    \n",
    "    box_gamma_list.append(gamma_dom)\n",
    "    box_C_list.append(C_dom)\n",
    "    \n",
    "box_gamma = xr.concat(box_gamma_list, dim='param')\n",
    "box_C = xr.concat(box_C_list, dim='param')\n",
    "\n",
    "box_gamma.to_dataset(name='gamma').to_netcdf(outputpath_simple_all + 'box_gamma_CV'+CV_type+'.nc')\n",
    "box_C.to_dataset(name='C').to_netcdf(outputpath_simple_all + 'box_C_CV'+CV_type+'.nc')"
   ]
  },
  {
   "cell_type": "markdown",
   "id": "003efd42-5d76-4025-b968-f96241e65f6b",
   "metadata": {},
   "source": [
    "PICOP"
   ]
  },
  {
   "cell_type": "code",
   "execution_count": null,
   "id": "3f6399bd-328b-4fe1-b581-7d9a4434d2e1",
   "metadata": {},
   "outputs": [],
   "source": [
    "inputpath_CV_boxes = '/bettik/burgardc/SCRIPTS/basal_melt_param/scripts/BASH/JOB_SCRIPTS/box_tuning_CV/'"
   ]
  },
  {
   "cell_type": "code",
   "execution_count": null,
   "id": "26042902-0145-4400-9953-c6103455b0e9",
   "metadata": {},
   "outputs": [],
   "source": [
    "CV_type='time' # can be 'time' or 'shelves'\n",
    "\n",
    "picop_gamma_list = []\n",
    "picop_E0_list = []\n",
    "\n",
    "\n",
    "\n",
    "for nD_config in range(3,5): #, 'lazero19_modif2'\n",
    "    \n",
    "    if nD_config == 3:\n",
    "        pism_version = 'yes'\n",
    "        picop_opt = 'yes'\n",
    "    \n",
    "    elif nD_config == 4:\n",
    "        pism_version = 'no'\n",
    "        picop_opt = 'yes'\n",
    "    \n",
    "    mparam = 'boxes_'+str(nD_config)+'_pism'+pism_version+'_picop'+picop_opt\n",
    "\n",
    "    gamma_dom_list = []\n",
    "    E0_dom_list = []\n",
    "    \n",
    "    for dom in [50, 1000]: #\n",
    "    \n",
    "        last_guess_list = []\n",
    "        if CV_type == 'time':\n",
    "            box_CV_files = list(sorted(glob.glob(inputpath_CV_boxes+'box_'+str(nD_config)+'_'+pism_version+'_'+picop_opt+'_'+str(dom)+'km_CV_tidesFalse_noisf00_notblock*.log')))\n",
    "        elif CV_type == 'shelves':\n",
    "            box_CV_files = list(sorted(glob.glob(inputpath_CV_boxes+'box_'+str(nD_config)+'_'+pism_version+'_'+picop_opt+'_'+str(dom)+'km_CV_tidesFalse_noisf*_notblock00.log')))\n",
    "\n",
    "        for ffile in box_CV_files:\n",
    "            if os.stat(ffile).st_size == 0:\n",
    "                print(ffile+' is empty')\n",
    "            else:\n",
    "                f = open(ffile, 'r')\n",
    "                last_line = f.readlines()[-2]\n",
    "                #print(last_line)\n",
    "                if last_line.split()[0] == 'FINAL':\n",
    "                    last_guess = np.array(last_line.split('=')[1].strip().split('[')[1].split(']')[0].split()).astype(float)\n",
    "                    last_guess_list.append(last_guess)\n",
    "                else:\n",
    "                    print(ffile)\n",
    "\n",
    "        if CV_type == 'time':\n",
    "            gamma_da = xr.DataArray(data=np.array(last_guess_list)[:,0], coords={'tblock': range(1,14), 'profile_domain': dom, 'param': mparam}, dims=['tblock'])\n",
    "            E0_da = xr.DataArray(data=np.array(last_guess_list)[:,1], coords={'tblock': range(1,14), 'profile_domain': dom, 'param': mparam}, dims=['tblock'])\n",
    "        \n",
    "        elif CV_type == 'shelves':\n",
    "            gamma_da = xr.DataArray(data=np.array(last_guess_list)[:,0], coords={'Nisf': nisf_list, 'profile_domain': dom, 'param': mparam}, dims=['Nisf'])\n",
    "            E0_da = xr.DataArray(data=np.array(last_guess_list)[:,1], coords={'Nisf': nisf_list, 'profile_domain': dom, 'param': mparam}, dims=['Nisf'])\n",
    "        \n",
    "        gamma_dom_list.append(gamma_da)\n",
    "        E0_dom_list.append(E0_da)\n",
    "        \n",
    "    gamma_dom = xr.concat(gamma_dom_list, dim='profile_domain')\n",
    "    E0_dom = xr.concat(E0_dom_list, dim='profile_domain')\n",
    "    \n",
    "    picop_gamma_list.append(gamma_dom)\n",
    "    picop_E0_list.append(E0_dom)\n",
    "    \n",
    "picop_gamma = xr.concat(picop_gamma_list, dim='param')\n",
    "picop_E0 = xr.concat(picop_E0_list, dim='param')\n",
    "\n",
    "picop_gamma.to_dataset(name='gamma').to_netcdf(outputpath_simple_all + 'picop_gamma_CV'+CV_type+'.nc')\n",
    "picop_E0.to_dataset(name='E0').to_netcdf(outputpath_simple_all + 'picop_E0_CV'+CV_type+'.nc')"
   ]
  },
  {
   "cell_type": "markdown",
   "id": "395dc7ae-8b32-41ff-b9f4-44d46d1f170d",
   "metadata": {},
   "source": [
    "CHECK RESULTS"
   ]
  },
  {
   "cell_type": "code",
   "execution_count": null,
   "id": "afc005ed-d29e-4c9b-b851-71e50cbd992a",
   "metadata": {},
   "outputs": [],
   "source": [
    "CV_type = 'shelves'\n",
    "picop_gamma = xr.open_dataset(outputpath_simple_all + 'picop_gamma_CV'+CV_type+'.nc')['gamma']\n",
    "picop_E0= xr.open_dataset(outputpath_simple_all + 'picop_E0_CV'+CV_type+'.nc')['E0']"
   ]
  },
  {
   "cell_type": "code",
   "execution_count": null,
   "id": "a7f53045-69ac-413b-99f9-8afc0660fc3a",
   "metadata": {},
   "outputs": [],
   "source": [
    "picop_gamma.sel(profile_domain=50).isel(param=1)"
   ]
  },
  {
   "cell_type": "code",
   "execution_count": null,
   "id": "5adaba31-6dba-42d2-9d0a-27f043874edb",
   "metadata": {},
   "outputs": [],
   "source": [
    "plt.figure()\n",
    "picop_E0.sel(profile_domain=50).isel(param=1).plot()\n",
    "plt.ylim(0,2)"
   ]
  },
  {
   "cell_type": "code",
   "execution_count": null,
   "id": "eaa54e59-ee79-458a-9b71-6956ad73355e",
   "metadata": {},
   "outputs": [],
   "source": [
    "CV_type = 'shelves'\n",
    "box_gamma = xr.open_dataset(outputpath_simple_all + 'box_gamma_CV'+CV_type+'.nc')['gamma']\n",
    "box_C= xr.open_dataset(outputpath_simple_all + 'box_C_CV'+CV_type+'.nc')['C']"
   ]
  },
  {
   "cell_type": "code",
   "execution_count": null,
   "id": "8f9dc855-7cdd-4e4e-a766-c661e2a69b12",
   "metadata": {},
   "outputs": [],
   "source": [
    "box_gamma.sel(profile_domain=50).isel(param=2).plot()"
   ]
  },
  {
   "cell_type": "code",
   "execution_count": null,
   "id": "b7ac7d4a-2292-4954-89a6-8dcc042b0398",
   "metadata": {},
   "outputs": [],
   "source": [
    "box_C.sel(profile_domain=50).isel(param=2).plot()"
   ]
  },
  {
   "cell_type": "code",
   "execution_count": null,
   "id": "d3b75d1f-39e5-495b-b32b-3c4fa7d5b95f",
   "metadata": {},
   "outputs": [],
   "source": []
  }
 ],
 "metadata": {
  "kernelspec": {
   "display_name": "ice_shelf_mask",
   "language": "python",
   "name": "ice_shelf_mask"
  },
  "language_info": {
   "codemirror_mode": {
    "name": "ipython",
    "version": 3
   },
   "file_extension": ".py",
   "mimetype": "text/x-python",
   "name": "python",
   "nbconvert_exporter": "python",
   "pygments_lexer": "ipython3",
   "version": "3.8.5"
  }
 },
 "nbformat": 4,
 "nbformat_minor": 5
}
