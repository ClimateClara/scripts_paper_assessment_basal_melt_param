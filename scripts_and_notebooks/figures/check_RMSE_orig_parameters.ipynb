{
 "cells": [
  {
   "cell_type": "code",
   "execution_count": null,
   "id": "3ae5dcf6-4458-487c-8bd2-e106ed5422e5",
   "metadata": {},
   "outputs": [],
   "source": [
    "\"\"\"\n",
    "Created on Fri Aug 19 15:46 2022\n",
    "\n",
    "This script is to double check Favier and Lipscomb RMSEs\n",
    "\n",
    "@author: Clara Burgard\n",
    "\"\"\""
   ]
  },
  {
   "cell_type": "code",
   "execution_count": null,
   "id": "11b4dbb6-52ec-42b9-8ac7-2c563382b0cf",
   "metadata": {},
   "outputs": [],
   "source": [
    "import xarray as xr\n",
    "import numpy as np\n",
    "import pandas as pd\n",
    "from tqdm.notebook import tqdm\n",
    "import matplotlib.pyplot as plt\n",
    "import basal_melt_param.plume_functions as pf\n",
    "import basal_melt_param.useful_functions as uf\n",
    "import basal_melt_param.melt_functions as meltf\n",
    "from basal_melt_param.constants import *\n",
    "import basal_melt_param.T_S_profile_functions as tspf\n",
    "import basal_melt_param.analysis_functions as anaf\n",
    "\n",
    "import distributed\n",
    "\n",
    "import matplotlib as mpl\n",
    "import glob"
   ]
  },
  {
   "cell_type": "code",
   "execution_count": null,
   "id": "b0a73b66-8ce1-4417-8586-fd4e13bce137",
   "metadata": {},
   "outputs": [],
   "source": [
    "#home_path = '/Users/claraburgard/bettik_clara/'\n",
    "home_path='/bettik/burgardc/'\n",
    "plot_path = '/bettik/burgardc/PLOTS/generic_plots/'"
   ]
  },
  {
   "cell_type": "code",
   "execution_count": null,
   "id": "2bb62bc8-e476-4c36-9951-c02b5a14f342",
   "metadata": {},
   "outputs": [],
   "source": [
    "inputpath_mask = '/bettik/burgardc/SCRIPTS/basal_melt_param/data/interim/ANTARCTICA_IS_MASKS/nemo_5km_OPM006/'\n",
    "file_isf_orig = xr.open_dataset(inputpath_mask+'nemo_5km_isf_masks_and_info_and_distance_new_oneFRIS.nc')\n",
    "nonnan_Nisf = file_isf_orig['Nisf'].where(np.isfinite(file_isf_orig['front_bot_depth_max']), drop=True).astype(int)\n",
    "file_isf_nonnan = file_isf_orig.sel(Nisf=nonnan_Nisf)\n",
    "large_isf = file_isf_nonnan['Nisf'].where(file_isf_nonnan['isf_area_here'] >= 2500, drop=True)\n",
    "file_isf = file_isf_nonnan.sel(Nisf=large_isf)\n",
    "file_isf['isf_name'] = file_isf['isf_name'].where(file_isf['isf_name'] != 'Ekstrom', np.array('Ekström', dtype=object))\n",
    "isf_names = file_isf['isf_name']"
   ]
  },
  {
   "cell_type": "code",
   "execution_count": null,
   "id": "14bcd1af-fc00-4278-9be9-c1cbced567d4",
   "metadata": {},
   "outputs": [],
   "source": [
    "run_list = ['OPM006','OPM016','OPM018','OPM021']\n",
    "\n",
    "diff_Gt_list = []\n",
    "\n",
    "\n",
    "ref_Gt_list = []\n",
    "\n",
    "\n",
    "for n,nemo_run in enumerate(run_list):\n",
    "\n",
    "    outputpath_melt = home_path+'DATA/BASAL_MELT_PARAM/processed/MELT_RATE/nemo_5km_'+nemo_run+'/'\n",
    "\n",
    "    ### READ IN THE REFERENCE\n",
    "    NEMO_melt_rates_1D = xr.open_dataset(outputpath_melt+'melt_rates_1D_NEMO_oneFRIS.nc')\n",
    "    ref_Gt = NEMO_melt_rates_1D['melt_Gt_per_y_tot']\n",
    "    ref_Gt_list.append(ref_Gt)\n",
    "    \n",
    "    ### READ IN THE PARAM FILES \n",
    "    \n",
    "    # Param files\n",
    "    outputpath_melt = home_path+'DATA/BASAL_MELT_PARAM/processed/MELT_RATE/nemo_5km_'+nemo_run+'/'\n",
    "    melt_param_files_favier = list(sorted(glob.glob(outputpath_melt+'eval_metrics_1D_*_oneFRIS_favier.nc')))\n",
    "    melt_param_files_lipscomb = list(sorted(glob.glob(outputpath_melt+'eval_metrics_1D_*_oneFRIS_lipscomb*.nc')))\n",
    "    melt_param_files = melt_param_files_favier + melt_param_files_lipscomb\n",
    "    \n",
    "    param_list = []\n",
    "    for mfilename in melt_param_files:\n",
    "        paramname = mfilename[91:201].split('.')[0].split('_')\n",
    "        #paramname = mfilename[91:157].split('.')[0]\n",
    "        #paramname = mfilename[105:157].split('.')[0].split('_')[:-1]\n",
    "        mparam = '_'.join(paramname)\n",
    "        param_list.append(mparam)\n",
    "        \n",
    "    ds_melt_param  = xr.open_mfdataset(melt_param_files, concat_dim='new_param', combine='nested', coords='minimal',compat='override')#, chunks={'x': chunksize, 'y': chunksize})\n",
    "    if 'option' in ds_melt_param.coords:        \n",
    "        ds_melt_param = ds_melt_param.drop('param').drop('option')\n",
    "    else:\n",
    "        ds_melt_param = ds_melt_param.drop('param')\n",
    "    ds_melt_param = ds_melt_param.rename({'new_param': 'param'})\n",
    "    ds_melt_param = ds_melt_param.assign_coords(param=param_list)\n",
    "    diff_Gt = ds_melt_param['melt_1D_Gt_per_y'] - ref_Gt\n",
    "    diff_Gt = diff_Gt.assign_coords({'time': np.arange(1,len(diff_Gt.time)+1)+n*50})\n",
    "    diff_Gt_list.append(diff_Gt)\n",
    "\n",
    "    \n",
    "diff_Gt_all = xr.concat(diff_Gt_list, dim='time')\n",
    "ref_Gt_all = xr.concat(ref_Gt_list, dim='nemo_run')\n",
    "    "
   ]
  },
  {
   "cell_type": "code",
   "execution_count": null,
   "id": "9f1ed514-483f-4ee6-a763-268e9d111734",
   "metadata": {},
   "outputs": [],
   "source": [
    "diff_Gt_all.load()"
   ]
  },
  {
   "cell_type": "code",
   "execution_count": null,
   "id": "bdbfe081-73c6-439a-82e3-71eab05620bf",
   "metadata": {},
   "outputs": [],
   "source": [
    "RMSE_Gt_all = np.sqrt((diff_Gt_all**2).mean(['time','Nisf']))\n"
   ]
  },
  {
   "cell_type": "code",
   "execution_count": null,
   "id": "d9a6ae60-c8a4-40ed-bb66-193f884f40e7",
   "metadata": {},
   "outputs": [],
   "source": [
    "for mparam in RMSE_Gt_all.param:\n",
    "    print(mparam.values, RMSE_Gt_all.sel(param=mparam).values)"
   ]
  },
  {
   "cell_type": "code",
   "execution_count": null,
   "id": "b732e81a-f976-4f59-acaf-596ea84e8251",
   "metadata": {},
   "outputs": [],
   "source": [
    "run_list = ['OPM006','OPM016','OPM018','OPM021']\n",
    "\n",
    "diff_Gt_list = []\n",
    "\n",
    "\n",
    "ref_Gt_list = []\n",
    "\n",
    "\n",
    "for n,nemo_run in enumerate(run_list):\n",
    "\n",
    "    outputpath_melt = home_path+'DATA/BASAL_MELT_PARAM/processed/MELT_RATE/nemo_5km_'+nemo_run+'/'\n",
    "\n",
    "    ### READ IN THE REFERENCE\n",
    "    NEMO_melt_rates_1D = xr.open_dataset(outputpath_melt+'melt_rates_1D_NEMO_oneFRIS.nc')\n",
    "    ref_Gt = NEMO_melt_rates_1D['melt_Gt_per_y_tot']\n",
    "    ref_Gt_list.append(ref_Gt)\n",
    "    \n",
    "    ### READ IN THE PARAM FILES - CV TIME\n",
    "    \n",
    "    # Param files\n",
    "    outputpath_melt = home_path+'DATA/BASAL_MELT_PARAM/processed/MELT_RATE/nemo_5km_'+nemo_run+'/'\n",
    "    melt_param_files_orig1 = list(sorted(glob.glob(outputpath_melt+'eval_metrics_1D_*_oneFRIS_orig.nc')))\n",
    "    melt_param_files_orig2 = list(sorted(glob.glob(outputpath_melt+'eval_metrics_1D_*_orig_oneFRIS.nc')))\n",
    "    melt_param_files = melt_param_files_orig1 + melt_param_files_orig2\n",
    "    \n",
    "    param_list = []\n",
    "    for mfilename in melt_param_files:\n",
    "        paramname = mfilename[91:201].split('.')[0].split('_')[:-2]\n",
    "        #paramname = mfilename[91:157].split('.')[0]\n",
    "        #paramname = mfilename[105:157].split('.')[0].split('_')[:-1]\n",
    "        mparam = '_'.join(paramname)\n",
    "        param_list.append(mparam)\n",
    "        \n",
    "    ds_melt_param  = xr.open_mfdataset(melt_param_files, concat_dim='new_param', combine='nested', coords='minimal',compat='override')#, chunks={'x': chunksize, 'y': chunksize})\n",
    "    if 'option' in ds_melt_param.coords:        \n",
    "        ds_melt_param = ds_melt_param.drop('param').drop('option')\n",
    "    elif 'param' in ds_melt_param.coords:\n",
    "        ds_melt_param = ds_melt_param.drop('param')\n",
    "    ds_melt_param = ds_melt_param.rename({'new_param': 'param'})\n",
    "    ds_melt_param = ds_melt_param.assign_coords(param=param_list)\n",
    "    diff_Gt = ds_melt_param['melt_1D_Gt_per_y'] - ref_Gt\n",
    "    diff_Gt = diff_Gt.assign_coords({'time': np.arange(1,len(diff_Gt.time)+1)+n*50})\n",
    "    diff_Gt_list.append(diff_Gt)\n",
    "\n",
    "    \n",
    "diff_Gt_all = xr.concat(diff_Gt_list, dim='time')\n",
    "ref_Gt_all = xr.concat(ref_Gt_list, dim='nemo_run')\n",
    "    "
   ]
  },
  {
   "cell_type": "code",
   "execution_count": null,
   "id": "9f287e27-efb5-442b-bd18-a3fe3c484d58",
   "metadata": {},
   "outputs": [],
   "source": [
    "RMSE_Gt_all = np.sqrt((diff_Gt_all**2).mean(['time','Nisf']))\n"
   ]
  },
  {
   "cell_type": "code",
   "execution_count": null,
   "id": "a58f232d-0559-4344-ab3d-ff7ec545c860",
   "metadata": {},
   "outputs": [],
   "source": [
    "for mparam in RMSE_Gt_all.param:\n",
    "    print(mparam.values, RMSE_Gt_all.sel(param=mparam).values)"
   ]
  },
  {
   "cell_type": "code",
   "execution_count": null,
   "id": "3f561838-8770-430b-bee1-7a1e4e15d6c7",
   "metadata": {},
   "outputs": [],
   "source": []
  }
 ],
 "metadata": {
  "kernelspec": {
   "display_name": "py38",
   "language": "python",
   "name": "py38"
  },
  "language_info": {
   "codemirror_mode": {
    "name": "ipython",
    "version": 3
   },
   "file_extension": ".py",
   "mimetype": "text/x-python",
   "name": "python",
   "nbconvert_exporter": "python",
   "pygments_lexer": "ipython3",
   "version": "3.8.12"
  }
 },
 "nbformat": 4,
 "nbformat_minor": 5
}
