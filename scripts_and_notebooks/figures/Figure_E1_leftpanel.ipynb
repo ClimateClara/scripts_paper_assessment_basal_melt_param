{
 "cells": [
  {
   "cell_type": "code",
   "execution_count": null,
   "id": "637cf3fd-cf6d-43e3-bccc-c092c74e86fc",
   "metadata": {},
   "outputs": [],
   "source": [
    "\"\"\"\n",
    "Created on Tue Aug 30 15:35 2022\n",
    "\n",
    "This script is to compute the RMSE based on point-by-point comparison for the melt near the grounding line for Figure E1. This produces the figure showing the results for the 50 km domain and offshore domain. I then combined \n",
    "the left panel of this figure with the right panel of Fig. 7.\n",
    "\n",
    "@author: Clara Burgard\n",
    "\"\"\""
   ]
  },
  {
   "cell_type": "code",
   "execution_count": null,
   "id": "73554204-aae0-43a4-a495-6c485333b117",
   "metadata": {},
   "outputs": [],
   "source": [
    "import xarray as xr\n",
    "import numpy as np\n",
    "import pandas as pd\n",
    "from tqdm.notebook import tqdm\n",
    "import matplotlib.pyplot as plt\n",
    "import basal_melt_param.useful_functions as uf\n",
    "\n",
    "import seaborn as sns\n",
    "\n",
    "import matplotlib as mpl\n",
    "import glob"
   ]
  },
  {
   "cell_type": "code",
   "execution_count": null,
   "id": "2de1b0f0-7f87-47c2-937e-052aa38e7b72",
   "metadata": {},
   "outputs": [],
   "source": [
    "%matplotlib qt5"
   ]
  },
  {
   "cell_type": "code",
   "execution_count": null,
   "id": "7480572d-d0aa-4b3f-bbce-b8c8daf2dbba",
   "metadata": {},
   "outputs": [],
   "source": [
    "sns.set_context('paper')"
   ]
  },
  {
   "cell_type": "markdown",
   "id": "a9ffcc10-7d6e-40b0-81bc-0b6d6577ee8e",
   "metadata": {},
   "source": [
    "READ IN DATA"
   ]
  },
  {
   "cell_type": "code",
   "execution_count": null,
   "id": "99c96df2-13ba-4a51-9551-5f92c2c67347",
   "metadata": {},
   "outputs": [],
   "source": [
    "home_path='/bettik/burgardc/'\n",
    "plot_path = '/bettik/burgardc/PLOTS/generic_plots/'"
   ]
  },
  {
   "cell_type": "code",
   "execution_count": null,
   "id": "7407fc56-e3a7-4d4b-ba60-862d84544bc0",
   "metadata": {},
   "outputs": [],
   "source": [
    "run_list = ['OPM006','OPM016','OPM018','OPM021']\n",
    "\n",
    "diff_Gt_CVtime_list = []\n",
    "diff_box1_CVtime_list = []\n",
    "diff_Gt_CVisf_list = []\n",
    "diff_box1_CVisf_list = []\n",
    "\n",
    "ref_Gt_list = []\n",
    "ref_box1_list = []\n",
    "\n",
    "\n",
    "for n,nemo_run in enumerate(run_list):\n",
    "\n",
    "    outputpath_melt = home_path+'DATA/BASAL_MELT_PARAM/processed/MELT_RATE/nemo_5km_'+nemo_run+'/'\n",
    "    \n",
    "    # Geometry STUFF\n",
    "    inputpath_data=home_path+'/DATA/BASAL_MELT_PARAM/interim/NEMO_eORCA025.L121_'+nemo_run+'_ANT_STEREO/'\n",
    "    # make the domain a little smaller to make the computation even more efficient - file isf has already been made smaller at its creation\n",
    "    map_lim = [-3000000,3000000]\n",
    "\n",
    "    file_other = xr.open_dataset(inputpath_data+'corrected_draft_bathy_isf.nc')#, chunks={'x': chunk_size, 'y': chunk_size})\n",
    "    file_other_cut = uf.cut_domain_stereo(file_other, map_lim, map_lim)\n",
    "    file_conc = xr.open_dataset(inputpath_data+'isfdraft_conc_Ant_stereo.nc')\n",
    "    file_conc_cut = uf.cut_domain_stereo(file_conc, map_lim, map_lim)\n",
    "\n",
    "    file_isf_conc = file_conc_cut['isfdraft_conc']\n",
    "    \n",
    "    ### REFERENCE MELT\n",
    "    inputpath_boxes = home_path+'/DATA/BASAL_MELT_PARAM/interim/BOXES/nemo_5km_'+nemo_run+'/'\n",
    "    box_charac_all_2D = xr.open_dataset(inputpath_boxes + 'nemo_5km_boxes_2D_oneFRIS.nc')\n",
    "    box_charac_all_1D = xr.open_dataset(inputpath_boxes + 'nemo_5km_boxes_1D_oneFRIS.nc')\n",
    "    box_loc_config2 = box_charac_all_2D['box_location'].sel(box_nb_tot=box_charac_all_1D['nD_config'].sel(config=2))\n",
    "    box1 = box_loc_config2.where(box_loc_config2==1).isel(Nisf=0).drop('Nisf')\n",
    "    NEMO_melt_rates_2D = xr.open_dataset(outputpath_melt+'melt_rates_2D_NEMO.nc')\n",
    "    ref_box_1 = NEMO_melt_rates_2D['melt_m_ice_per_y'].where(box1==1).mean('time')\n",
    "    ref_box1_mean = uf.weighted_mean(ref_box_1, ['x','y'], file_isf_conc)\n",
    "    ref_box1_list.append(ref_box1_mean)\n",
    "    \n",
    "    ### READ IN THE PARAM FILES - CV TIME\n",
    "    \n",
    "    # Param files\n",
    "    outputpath_melt = home_path+'DATA/BASAL_MELT_PARAM/processed/MELT_RATE/nemo_5km_'+nemo_run+'/'\n",
    "    melt_param_files_CVtime = list(sorted(glob.glob(outputpath_melt+'diff_melt_param_ref_box1_*_oneFRIS_CVtime.nc')))\n",
    "    \n",
    "    param_list = []\n",
    "    for mfilename in melt_param_files_CVtime:\n",
    "        paramname = mfilename[100:157].split('.')[0].split('_')[:-2]\n",
    "        #paramname = mfilename[91:157].split('.')[0]\n",
    "        #paramname = mfilename[105:157].split('.')[0].split('_')[:-1]\n",
    "        mparam = '_'.join(paramname)\n",
    "        param_list.append(mparam)\n",
    "    \n",
    "    ds_melt_param_CVtime  = xr.open_mfdataset(melt_param_files_CVtime, concat_dim='new_param', combine='nested', coords='minimal',compat='override')#, chunks={'x': chunksize, 'y': chunksize})\n",
    "    if 'option' in ds_melt_param_CVtime.coords:        \n",
    "        ds_melt_param_CVtime = ds_melt_param_CVtime.drop('param').drop('option')\n",
    "    else:\n",
    "        ds_melt_param_CVtime = ds_melt_param_CVtime.drop('param')\n",
    "    ds_melt_param_CVtime = ds_melt_param_CVtime.rename({'new_param': 'param'})\n",
    "    ds_melt_param_CVtime = ds_melt_param_CVtime.assign_coords(param=param_list)\n",
    "    diff_box1_CVtime = ds_melt_param_CVtime['melt_m_ice_per_y']\n",
    "    squared_diff_box1_CVtime = uf.weighted_mean(diff_box1_CVtime**2, ['x','y'], file_isf_conc)\n",
    "    diff_box1_CVtime_list.append(squared_diff_box1_CVtime)\n",
    "    \n",
    "    ### READ IN THE PARAM FILES - CV SHELVES\n",
    "    \n",
    "    melt_param_files_CVisf = list(sorted(glob.glob(outputpath_melt+'diff_melt_param_ref_box1_*_oneFRIS_CVshelves.nc')))\n",
    "    ds_melt_param_CVisf  = xr.open_mfdataset(melt_param_files_CVisf, concat_dim='new_param', combine='nested', coords='minimal',compat='override')#, chunks={'x': chunksize, 'y': chunksize})\n",
    "    if 'option' in ds_melt_param_CVisf.coords:        \n",
    "        ds_melt_param_CVisf  = ds_melt_param_CVisf.drop('param').drop('option')\n",
    "    else:\n",
    "        ds_melt_param_CVisf  = ds_melt_param_CVisf.drop('param')\n",
    "    ds_melt_param_CVisf = ds_melt_param_CVisf.rename({'new_param': 'param'})\n",
    "    ds_melt_param_CVisf = ds_melt_param_CVisf.assign_coords(param=param_list)\n",
    "    diff_box1_CVisf = ds_melt_param_CVisf['melt_m_ice_per_y']\n",
    "    squared_diff_box1_CVisf = uf.weighted_mean(diff_box1_CVisf**2, ['x','y'], file_isf_conc)\n",
    "    diff_box1_CVisf_list.append(squared_diff_box1_CVisf)\n",
    "        \n",
    "# COMBINE THE SQUARED DIFFERENCE \n",
    "diff_box1_all_CVtime_sqmean = xr.concat(diff_box1_CVtime_list, dim='nemo_run')   \n",
    "diff_box1_all_CVisf_sqmean = xr.concat(diff_box1_CVisf_list, dim='nemo_run')   \n",
    "ref_box1_all_mean = xr.concat(ref_box1_list, dim='nemo_run')"
   ]
  },
  {
   "cell_type": "code",
   "execution_count": null,
   "id": "e31bb374-62b8-4696-87f6-674545ef2f61",
   "metadata": {},
   "outputs": [],
   "source": [
    "ref_box1_all_mean.mean()"
   ]
  },
  {
   "cell_type": "code",
   "execution_count": null,
   "id": "19b49bad-ae79-41c5-8617-4a79e52aadcb",
   "metadata": {},
   "outputs": [],
   "source": [
    "RMSE_CVtime = np.sqrt((diff_box1_all_CVtime_sqmean).mean('nemo_run')).load()\n",
    "RMSE_CVisf = np.sqrt((diff_box1_all_CVisf_sqmean).mean('nemo_run')).load()"
   ]
  },
  {
   "cell_type": "code",
   "execution_count": null,
   "id": "b4fa61a4-7662-4942-b7f2-f31bf7f642d2",
   "metadata": {},
   "outputs": [],
   "source": [
    "param_list_of_int = ['linear_local', 'quadratic_local', 'quadratic_local_cavslope',\n",
    "                    'quadratic_local_locslope', 'quadratic_mixed_mean','quadratic_mixed_cavslope',\n",
    "                    'quadratic_mixed_locslope', \n",
    "                    'lazero19_2','lazero19_modif2',\n",
    "                     'boxes_1_pismyes_picopno','boxes_2_pismyes_picopno','boxes_3_pismyes_picopno','boxes_4_pismyes_picopno',\n",
    "                     'boxes_3_pismyes_picopyes', 'boxes_4_pismno_picopyes']\n",
    "\n",
    "#param_list_of_int = ['linear_local', 'quadratic_local', 'quadratic_local_cavslope',\n",
    "#                    'quadratic_local_locslope', 'quadratic_mixed_mean','quadratic_mixed_cavslope',\n",
    "#                    'quadratic_mixed_locslope', \n",
    "#                    'lazero19_2']\n",
    "\n",
    "param_simple_list = ['linear_local', 'quadratic_local', 'quadratic_local_cavslope',\n",
    "                   'quadratic_local_locslope', 'quadratic_mixed_cavslope',\n",
    "                   'quadratic_mixed_locslope', 'quadratic_mixed_mean']\n",
    "param_plume_list = ['lazero19_2','lazero19_modif2']\n",
    "param_box_list_hetero =  ['boxes_1_pismyes_picopno','boxes_2_pismyes_picopno','boxes_3_pismyes_picopno','boxes_4_pismyes_picopno'] #'boxes_1_pismno_picopno','boxes_2_pismno_picopno','boxes_3_pismno_picopno','boxes_4_pismno_picopno',\n",
    "param_picop_list = ['boxes_3_pismyes_picopyes', 'boxes_4_pismno_picopyes']\n",
    "\n",
    "param_list_box_whiskers = ['linear_local', 'quadratic_local', 'quadratic_local_cavslope',\n",
    "                   'quadratic_local_locslope', 'quadratic_mixed_mean','quadratic_mixed_cavslope',\n",
    "                   'quadratic_mixed_locslope', \n",
    "                    'lazero19_2',\n",
    "                     'boxes_3_pismyes_picopno','boxes_4_pismyes_picopno',\n",
    "                     'boxes_3_pismyes_picopyes', 'boxes_4_pismno_picopyes']"
   ]
  },
  {
   "cell_type": "code",
   "execution_count": null,
   "id": "fb756d5d-7175-49b3-8ac4-2ca97824d61a",
   "metadata": {},
   "outputs": [],
   "source": [
    "fig, axs = plt.subplots(1, 2,figsize=(8.24*1.25/1.5,8.24*1.25/2),sharey=True)\n",
    "for mparam in param_list_of_int[::-1]:\n",
    "    \n",
    "    if mparam in param_plume_list:\n",
    "        ccolor = 'darkorange'\n",
    "    elif mparam in param_box_list_hetero:\n",
    "        ccolor = 'purple'\n",
    "    elif mparam in param_picop_list:\n",
    "        ccolor = 'maroon'\n",
    "    elif mparam in param_simple_list:\n",
    "        ccolor = 'gold'\n",
    "        \n",
    "    if 'profile_domain' in RMSE_CVtime.coords:\n",
    "        axs[0].scatter(RMSE_CVtime.sel(param=mparam, profile_domain=50),mparam,marker='x',c='k', s=50)\n",
    "        axs[1].scatter(RMSE_CVtime.sel(param=mparam, profile_domain=1000),mparam,marker='x',c='k', s=50)\n",
    "        axs[0].scatter(RMSE_CVtime.sel(param=mparam, profile_domain=50),mparam,marker='o',c=ccolor, s=20)\n",
    "        axs[1].scatter(RMSE_CVtime.sel(param=mparam, profile_domain=1000),mparam,marker='o',c=ccolor, s=20)\n",
    "\n",
    "        axs[0].scatter(RMSE_CVisf.sel(param=mparam, profile_domain=50),mparam,marker='+',c='k', s=120)\n",
    "        axs[1].scatter(RMSE_CVisf.sel(param=mparam, profile_domain=1000),mparam,marker='+',c='k', s=120)\n",
    "        axs[0].scatter(RMSE_CVisf.sel(param=mparam, profile_domain=50),mparam,marker='o',c=ccolor, s=20)\n",
    "        axs[1].scatter(RMSE_CVisf.sel(param=mparam, profile_domain=1000),mparam,marker='o',c=ccolor, s=20)\n",
    "\n",
    "axs[0].set_xlim(0,3.5)\n",
    "axs[1].set_xlim(0,2.05)\n",
    "\n",
    "sns.despine()\n",
    "#plt.savefig(plot_path+'comparison_box1_pointbypoint_50_1000.pdf')"
   ]
  },
  {
   "cell_type": "code",
   "execution_count": null,
   "id": "a9c5ef45-8b9f-42ba-9a6a-e8b3d29adcd2",
   "metadata": {},
   "outputs": [],
   "source": [
    "RMSE_CVtime"
   ]
  },
  {
   "cell_type": "code",
   "execution_count": null,
   "id": "9d20b7dc-5fdc-4247-851c-33265df3473f",
   "metadata": {},
   "outputs": [],
   "source": []
  }
 ],
 "metadata": {
  "kernelspec": {
   "display_name": "py38",
   "language": "python",
   "name": "py38"
  },
  "language_info": {
   "codemirror_mode": {
    "name": "ipython",
    "version": 3
   },
   "file_extension": ".py",
   "mimetype": "text/x-python",
   "name": "python",
   "nbconvert_exporter": "python",
   "pygments_lexer": "ipython3",
   "version": "3.8.12"
  }
 },
 "nbformat": 4,
 "nbformat_minor": 5
}
