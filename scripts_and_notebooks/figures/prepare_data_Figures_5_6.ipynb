{
 "cells": [
  {
   "cell_type": "code",
   "execution_count": null,
   "id": "41412170-84fc-4782-94f4-82cafa21995c",
   "metadata": {},
   "outputs": [],
   "source": [
    "\"\"\"\n",
    "Created on Tue Jul 6 11:08 2021\n",
    "\n",
    "Prepare the results for spatial plots\n",
    "\n",
    "@author: Clara Burgard\n",
    "\"\"\""
   ]
  },
  {
   "cell_type": "code",
   "execution_count": null,
   "id": "8ab39ae2-a034-4aa0-8e81-81b4ef410cee",
   "metadata": {},
   "outputs": [],
   "source": [
    "import xarray as xr\n",
    "import numpy as np\n",
    "import pandas as pd\n",
    "from tqdm.notebook import tqdm\n",
    "import matplotlib.pyplot as plt\n",
    "import assess_param_funcs.useful_functions as uf\n",
    "from assess_param_funcs.constants import *\n",
    "\n",
    "import distributed\n",
    "\n",
    "import matplotlib as mpl\n",
    "import glob"
   ]
  },
  {
   "cell_type": "code",
   "execution_count": null,
   "id": "6190d1c4-1ad2-4873-8a40-57c9141524b4",
   "metadata": {},
   "outputs": [],
   "source": [
    "client = distributed.Client(n_workers=4, dashboard_address=':8795', local_directory='/tmp', memory_limit='6GB')"
   ]
  },
  {
   "cell_type": "code",
   "execution_count": null,
   "id": "d2986401-0f1f-4bac-b5d3-4079e59f137e",
   "metadata": {},
   "outputs": [],
   "source": [
    "client"
   ]
  },
  {
   "cell_type": "code",
   "execution_count": null,
   "id": "a5db8360-ccb4-48b1-a0d3-09cc8a33edd4",
   "metadata": {},
   "outputs": [],
   "source": [
    "%matplotlib qt5"
   ]
  },
  {
   "cell_type": "code",
   "execution_count": null,
   "id": "3eba70e0-2665-415e-a9ec-1b7d5038b386",
   "metadata": {},
   "outputs": [],
   "source": [
    "# make the domain a little smaller to make the computation even more efficient - file isf has already been made smaller at its creation\n",
    "map_lim = [-3000000,3000000]"
   ]
  },
  {
   "cell_type": "markdown",
   "id": "d40ecf77-c867-47b1-b4a2-205fea0ad270",
   "metadata": {},
   "source": [
    "READ IN DATA"
   ]
  },
  {
   "cell_type": "code",
   "execution_count": null,
   "id": "9325f58a-f7d7-4c9d-91d7-7aae7ad3b99f",
   "metadata": {},
   "outputs": [],
   "source": [
    "nemo_run = 'OPM021'\n",
    "\n",
    "if nemo_run == 'OPM006':\n",
    "    yy_start = 1989\n",
    "    yy_end = 2018\n",
    "elif nemo_run == 'OPM021':\n",
    "    yy_start = 1989\n",
    "    yy_end = 2018\n",
    "elif nemo_run == 'OPM016' or nemo_run == 'OPM018':\n",
    "    yy_start = 1980\n",
    "    yy_end = 2008"
   ]
  },
  {
   "cell_type": "code",
   "execution_count": null,
   "id": "d568aea9-de7e-4dc8-b2cc-e9ba012dbe3c",
   "metadata": {},
   "outputs": [],
   "source": [
    "inputpath_data='/bettik/burgardc/SCRIPTS/basal_melt_param/data/interim/NEMO_eORCA025.L121_'+nemo_run+'_ANT_STEREO/'\n",
    "inputpath_mask = '/bettik/burgardc/SCRIPTS/basal_melt_param/data/interim/ANTARCTICA_IS_MASKS/nemo_5km_'+nemo_run+'/'\n",
    "inputpath_profiles = '/bettik/burgardc/SCRIPTS/basal_melt_param/data/interim/T_S_PROF/nemo_5km_'+nemo_run+'/'\n",
    "path_simple = '/bettik/burgardc/SCRIPTS/basal_melt_param/data/interim/SIMPLE/nemo_5km_'+nemo_run+'/'\n",
    "path_plumes = '/bettik/burgardc/SCRIPTS/basal_melt_param/data/interim/PLUMES/nemo_5km_'+nemo_run+'/'\n",
    "path_boxes = '/bettik/burgardc/SCRIPTS/basal_melt_param/data/interim/BOXES/nemo_5km_'+nemo_run+'/'\n",
    "outputpath_melt = '/bettik/burgardc/SCRIPTS/basal_melt_param/data/processed/MELT_RATE/nemo_5km_'+nemo_run+'/'\n",
    "outputpath = '/bettik/burgardc/SCRIPTS/basal_melt_param/data/interim/'\n",
    "plot_path = '/bettik/burgardc/PLOTS/generic_plots/'"
   ]
  },
  {
   "cell_type": "code",
   "execution_count": null,
   "id": "cec58145-56b5-4427-ad41-4ea2a892bcfb",
   "metadata": {},
   "outputs": [],
   "source": [
    "file_isf_orig = xr.open_mfdataset(inputpath_mask+'nemo_5km_isf_masks_and_info_and_distance_new_oneFRIS.nc')\n",
    "nonnan_Nisf = file_isf_orig['Nisf'].where(np.isfinite(file_isf_orig['front_bot_depth_max']), drop=True).astype(int)\n",
    "file_isf_nonnan = file_isf_orig.sel(Nisf=nonnan_Nisf)\n",
    "large_isf = file_isf_nonnan['Nisf'].where(file_isf_nonnan['isf_area_here'] >= 2500, drop=True)\n",
    "file_isf = file_isf_nonnan.sel(Nisf=large_isf)\n",
    "\n",
    "file_conc = xr.open_mfdataset(inputpath_data+'isfdraft_conc_Ant_stereo.nc')\n",
    "file_conc_cut = uf.cut_domain_stereo(file_conc, map_lim, map_lim)#.chunk(chunks={'x': chunk_size, 'y': chunk_size})"
   ]
  },
  {
   "cell_type": "code",
   "execution_count": null,
   "id": "b72d3113-d804-4f48-907f-c5ceed11d534",
   "metadata": {},
   "outputs": [],
   "source": [
    "isf_mask = (file_isf['ISF_mask'] == file_isf.Nisf)"
   ]
  },
  {
   "cell_type": "code",
   "execution_count": null,
   "id": "1ff7b266-f586-4832-b4a2-7dee87f6fa97",
   "metadata": {},
   "outputs": [],
   "source": [
    "xx = file_isf.x\n",
    "yy = file_isf.y\n",
    "dx = (xx[2] - xx[1]).values\n",
    "dy = (yy[2] - yy[1]).values\n",
    "grid_cell_area = abs(dx*dy)"
   ]
  },
  {
   "cell_type": "markdown",
   "id": "79cd15a4-c473-4ee9-9a32-1e5cb60e4ec5",
   "metadata": {},
   "source": [
    "Time mean spatial"
   ]
  },
  {
   "cell_type": "code",
   "execution_count": null,
   "id": "b13f08f6-7aae-418d-aade-8b22098f5b2d",
   "metadata": {},
   "outputs": [],
   "source": [
    "NEMO_melt_rates_2D = xr.open_mfdataset(outputpath_melt+'melt_rates_2D_NEMO.nc')"
   ]
  },
  {
   "cell_type": "code",
   "execution_count": null,
   "id": "cf11bc01-616d-4b62-aa4c-a3a7b3bcbedd",
   "metadata": {},
   "outputs": [],
   "source": [
    "NEMO_melt_rates_2D_timmean = NEMO_melt_rates_2D.mean('time')\n",
    "NEMO_melt_rates_2D_timmean.to_netcdf(outputpath_melt+'melt_rates_2D_NEMO_timmean.nc')"
   ]
  },
  {
   "cell_type": "markdown",
   "id": "3484f66e-5707-415b-a89e-cebfb9e84f6e",
   "metadata": {},
   "source": [
    "PREPARE PARAM FILES"
   ]
  },
  {
   "cell_type": "code",
   "execution_count": null,
   "id": "4efbd769-1bfc-4733-8c84-71e1b310fa59",
   "metadata": {},
   "outputs": [],
   "source": [
    "melt_param_files = list(sorted(glob.glob(outputpath_melt+'melt_rates_2D_*_correctedTS_oneFRIS.nc')))\n",
    "\n",
    "param_list = []\n",
    "file_list = []\n",
    "\n",
    "for mfilename in melt_param_files:\n",
    "    if ('favier' not in mfilename) and ('lipscomb' not in mfilename):\n",
    "        paramname = mfilename[97:157].split('.')[0].split('_')[:-2]\n",
    "        mparam = '_'.join(paramname)\n",
    "        param_list.append(mparam)\n",
    "        file_list.append(mfilename)"
   ]
  },
  {
   "cell_type": "code",
   "execution_count": null,
   "id": "4fe6a31a-0980-4d6f-9c2a-89a10ef0a582",
   "metadata": {},
   "outputs": [],
   "source": [
    "param_list"
   ]
  },
  {
   "cell_type": "code",
   "execution_count": null,
   "id": "4579f690-6223-4b25-a39e-a1bddb60430e",
   "metadata": {},
   "outputs": [],
   "source": [
    "ds_melt_param  = xr.open_mfdataset(file_list, concat_dim='new_param', combine='nested', coords='minimal',compat='override', chunks={'x': 200, 'y': 200})\n",
    "ds_melt_param = ds_melt_param.drop('param')#.drop('calib')#.drop('option')\n",
    "ds_melt_param = ds_melt_param.rename({'new_param': 'param'})\n",
    "ds_melt_param = ds_melt_param.assign_coords(param=param_list)"
   ]
  },
  {
   "cell_type": "code",
   "execution_count": null,
   "id": "3a1a5441-08f0-4118-964d-3926a28c4e73",
   "metadata": {},
   "outputs": [],
   "source": [
    "#aram_simple_list = ['linear_local_favier', 'linear_local_tuned', 'quadratic_local_favier', 'quadratic_local_lipscomb', 'quadratic_local_tuned', \n",
    "#                     'quadratic_mixed_cavslope_tuned','quadratic_mixed_locslope_lipscomb', 'quadratic_mixed_locslope_tuned', 'quadratic_mixed_mean_favier', \n",
    "#                     'quadratic_mixed_mean_lipscomb', 'quadratic_mixed_mean_tuned']\n",
    "#param_simple_list = ['linear_local_tuned', 'quadratic_local_tuned', 'quadratic_local_locslope_tuned', 'quadratic_local_cavslope_tuned',\n",
    "#                     'quadratic_mixed_cavslope_tuned','quadratic_mixed_locslope_tuned', 'quadratic_mixed_mean_tuned']\n",
    "param_simple_list = ['quadratic_local_tuned','quadratic_mixed_mean_tuned','quadratic_mixed_locslope_tuned']"
   ]
  },
  {
   "cell_type": "code",
   "execution_count": null,
   "id": "07948d7b-729d-42f3-a16a-07cacb39f543",
   "metadata": {},
   "outputs": [],
   "source": [
    "param_plume_list = []\n",
    "for opt_par in ['lazero19_2','lazero19_modif2']:\n",
    "    for tune_mode in ['tuned']: #'orig'\n",
    "        param_plume_list.append(str(opt_par)+'_'+tune_mode)"
   ]
  },
  {
   "cell_type": "code",
   "execution_count": null,
   "id": "9e45ca08-e485-4372-b20c-7edbfe1f477a",
   "metadata": {},
   "outputs": [],
   "source": [
    "opt_boxes = ['pismno_picopno','pismyes_picopno','pismno_picopyes','pismyes_picopyes']\n",
    "param_box_list = [ ]\n",
    "for opt in opt_boxes:\n",
    "    for tune_mode in ['tuned_clara']:\n",
    "        for bb_nb in range(1,4):\n",
    "            param_box_list.append('boxes_'+str(bb_nb)+'_'+opt+'_'+tune_mode)"
   ]
  },
  {
   "cell_type": "code",
   "execution_count": null,
   "id": "fb984e7e-2ce5-4a9e-b451-b765fa33ca6e",
   "metadata": {},
   "outputs": [],
   "source": [
    "ds_melt_param['melt_m_ice_per_y'].param"
   ]
  },
  {
   "cell_type": "markdown",
   "id": "955e492c-40cd-456a-9b02-2ff611556d6b",
   "metadata": {},
   "source": [
    "MAKE TIME MEANS FOR EACH PARAM FAMILY"
   ]
  },
  {
   "cell_type": "code",
   "execution_count": null,
   "id": "2885d20b-1837-454f-8f23-acd478be9f2c",
   "metadata": {},
   "outputs": [],
   "source": [
    "ds_melt_m_ice_per_y_simple_timmean = ds_melt_param['melt_m_ice_per_y'].sel(param=param_simple_list).mean('time')\n",
    "ds_melt_m_ice_per_y_simple_timmean.to_netcdf(outputpath_melt+'melt_rates_2D_simple_timmean_oneFRIS.nc')\n"
   ]
  },
  {
   "cell_type": "code",
   "execution_count": null,
   "id": "176d1eeb-21d5-45e9-8041-e156cf188b46",
   "metadata": {},
   "outputs": [],
   "source": [
    "ds_melt_m_ice_per_y_plumes_timmean = ds_melt_param['melt_m_ice_per_y'].sel(param=param_plume_list).mean('time')\n",
    "ds_melt_m_ice_per_y_plumes_timmean.to_netcdf(outputpath_melt+'melt_rates_2D_plumes_timmean_oneFRIS.nc')"
   ]
  },
  {
   "cell_type": "code",
   "execution_count": null,
   "id": "53533ba0-3417-4e64-abd0-281929671c7d",
   "metadata": {},
   "outputs": [],
   "source": [
    "param_box_list = ['boxes_1_pismyes_picopno_tuned_clara',\n",
    "       'boxes_2_pismyes_picopno_tuned_clara',\n",
    "       'boxes_3_pismyes_picopno_tuned_clara', \n",
    "       'boxes_3_pismyes_picopyes_tuned_clara',\n",
    "       'boxes_4_pismno_picopyes_tuned_clara',\n",
    "       'boxes_4_pismyes_picopno_tuned_clara']"
   ]
  },
  {
   "cell_type": "code",
   "execution_count": null,
   "id": "f17f7111-a864-4186-bfd5-cdd34d64e078",
   "metadata": {},
   "outputs": [],
   "source": [
    "ds_melt_m_ice_per_y_plumes_timmean = ds_melt_param['melt_m_ice_per_y'].sel(param=param_box_list).mean('time')\n",
    "ds_melt_m_ice_per_y_plumes_timmean.to_netcdf(outputpath_melt+'melt_rates_2D_boxes_timmean_oneFRIS.nc')"
   ]
  }
 ],
 "metadata": {
  "kernelspec": {
   "display_name": "py38",
   "language": "python",
   "name": "py38"
  },
  "language_info": {
   "codemirror_mode": {
    "name": "ipython",
    "version": 3
   },
   "file_extension": ".py",
   "mimetype": "text/x-python",
   "name": "python",
   "nbconvert_exporter": "python",
   "pygments_lexer": "ipython3",
   "version": "3.8.12"
  }
 },
 "nbformat": 4,
 "nbformat_minor": 5
}
