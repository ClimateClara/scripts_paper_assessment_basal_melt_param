{
 "cells": [
  {
   "cell_type": "code",
   "execution_count": null,
   "id": "c9deaf66-b6e2-46ac-bcd4-48c9c7ef0fcd",
   "metadata": {},
   "outputs": [],
   "source": [
    "\"\"\"\n",
    "Created on Thu Jan 20 15:40 2021\n",
    "\n",
    "script to plot Figure 8b and 8c\n",
    "Based on data produced with \"apply_param_PIGL_dutrieux_BedMachine.ipynb\"\n",
    "author: @claraburgard\n",
    "\"\"\""
   ]
  },
  {
   "cell_type": "code",
   "execution_count": null,
   "id": "84679888-c06d-48bf-9d97-585027a16264",
   "metadata": {},
   "outputs": [],
   "source": [
    "import xarray as xr\n",
    "import numpy as np\n",
    "import pandas as pd\n",
    "from tqdm.notebook import tqdm\n",
    "import matplotlib.pyplot as plt\n",
    "import assess_param_funcs.useful_functions as uf\n",
    "import cmocean\n",
    "import seaborn as sns\n",
    "\n",
    "import distributed\n",
    "\n",
    "import matplotlib as mpl\n",
    "import glob"
   ]
  },
  {
   "cell_type": "code",
   "execution_count": null,
   "id": "0fad6320-2e21-4b63-b3a8-062bc672db59",
   "metadata": {},
   "outputs": [],
   "source": [
    "sns.set_context('paper')"
   ]
  },
  {
   "cell_type": "code",
   "execution_count": null,
   "id": "c7813a6e-e906-4ebe-8889-5af837abb472",
   "metadata": {},
   "outputs": [],
   "source": [
    "client = distributed.Client(n_workers=8, dashboard_address=':8795', local_directory='/tmp', memory_limit='6GB')"
   ]
  },
  {
   "cell_type": "code",
   "execution_count": null,
   "id": "358ec69c-1560-4270-9fe1-d8553659e6db",
   "metadata": {},
   "outputs": [],
   "source": [
    "BedMachine_folder = ''#'_reduced5'"
   ]
  },
  {
   "cell_type": "code",
   "execution_count": null,
   "id": "b924a467-25aa-48f8-bbd9-d9be612a3cb8",
   "metadata": {},
   "outputs": [],
   "source": [
    "home_path='/bettik/burgardc/'"
   ]
  },
  {
   "cell_type": "code",
   "execution_count": null,
   "id": "8d3645d0-bc47-4708-b4d9-7ca2dbddda31",
   "metadata": {},
   "outputs": [],
   "source": [
    "inputpath_data='/bettik/burgardc/DATA/BASAL_MELT_PARAM/raw/BEDMACHINE_RTOPO/'\n",
    "inputpath_mask = home_path+'/DATA/BASAL_MELT_PARAM/interim/ANTARCTICA_IS_MASKS/BedMachine_for_comparison'+BedMachine_folder+'/'\n",
    "outputpath_melt = home_path+'DATA/BASAL_MELT_PARAM/processed/MELT_RATE/BedMachine_for_comparison'+BedMachine_folder+'/'\n",
    "inputpath_plumes = '/bettik/burgardc/DATA/BASAL_MELT_PARAM/interim/PLUMES/BedMachine_for_comparison'+BedMachine_folder+'/'\n",
    "inputpath_boxes = '/bettik/burgardc/DATA/BASAL_MELT_PARAM/interim/BOXES/BedMachine_for_comparison'+BedMachine_folder+'/'\n",
    "plot_path = '/bettik/burgardc/PLOTS/BedMachine_stuff/'"
   ]
  },
  {
   "cell_type": "markdown",
   "id": "9c18f46e-c62b-47f2-8ea9-1ec1f7f6da2b",
   "metadata": {},
   "source": [
    "MASK FILES"
   ]
  },
  {
   "cell_type": "code",
   "execution_count": null,
   "id": "9709ac8b-1d17-4ce1-8b67-e7ee4597e1cd",
   "metadata": {},
   "outputs": [],
   "source": [
    "# make the domain a little smaller to make the computation even more efficient - file isf has already been made smaller at its creation\n",
    "map_lim = [-3000000,3000000]"
   ]
  },
  {
   "cell_type": "code",
   "execution_count": null,
   "id": "69ea9394-fe55-49c4-b21e-7b77164ad557",
   "metadata": {},
   "outputs": [],
   "source": [
    "file_isf_orig = xr.open_dataset(inputpath_mask+'BedMachine'+BedMachine_folder+'_isf_masks_and_info_and_distance_new.nc')\n",
    "file_isf = file_isf_orig.sel(Nisf=[66])\n",
    "file_isf['isf_name'] = file_isf['isf_name'].astype(str)"
   ]
  },
  {
   "cell_type": "code",
   "execution_count": null,
   "id": "00c21468-4b67-499d-85c5-e5549a5e680a",
   "metadata": {},
   "outputs": [],
   "source": [
    "plume_charac = xr.open_dataset(inputpath_plumes+'BedMachine'+BedMachine_folder+'_plume_characteristics.nc')"
   ]
  },
  {
   "cell_type": "markdown",
   "id": "b0c1b599-a448-4991-a43f-5fca6ec0a78f",
   "metadata": {},
   "source": [
    "MELT FILES"
   ]
  },
  {
   "cell_type": "code",
   "execution_count": null,
   "id": "2a85b07f-e512-4462-85a0-ece178572cb2",
   "metadata": {},
   "outputs": [],
   "source": [
    "melt_param_files = list(sorted(glob.glob(outputpath_melt+'melt_rates_2D*.nc')))"
   ]
  },
  {
   "cell_type": "code",
   "execution_count": null,
   "id": "869978d1-21f8-43b4-9bbc-4ed4462d5f21",
   "metadata": {},
   "outputs": [],
   "source": [
    "param_list = []\n",
    "for mfilename in melt_param_files:\n",
    "    if BedMachine_folder == '_reduced5':\n",
    "        paramname = mfilename[108:157].split('.')[0].split('_')[:-2]\n",
    "    else:\n",
    "        paramname = mfilename[99:157].split('.')[0].split('_')[:-2]\n",
    "    mparam = '_'.join(paramname)\n",
    "    param_list.append(mparam)"
   ]
  },
  {
   "cell_type": "code",
   "execution_count": null,
   "id": "58b6d2d6-ba9f-43b5-b0bc-5b2db8c44378",
   "metadata": {},
   "outputs": [],
   "source": [
    "param_list"
   ]
  },
  {
   "cell_type": "code",
   "execution_count": null,
   "id": "8fc62711-ae69-4514-93d5-98a56188b7be",
   "metadata": {},
   "outputs": [],
   "source": [
    "ds_melt_param = xr.open_mfdataset(melt_param_files, concat_dim='new_param', combine='nested', coords='minimal',compat='override', chunks={'x': 2000, 'y': 2000})\n"
   ]
  },
  {
   "cell_type": "code",
   "execution_count": null,
   "id": "2e838b28-1a4b-40c2-b17a-0a670ff2c1d2",
   "metadata": {},
   "outputs": [],
   "source": [
    "melt_m_ice_per_y = ds_melt_param['melt_m_ice_per_y'].drop('param').drop('option').drop('depth').drop('profile_domain')\n",
    "melt_m_ice_per_y  = melt_m_ice_per_y.rename({'new_param': 'param'})\n",
    "melt_m_ice_per_y = melt_m_ice_per_y.assign_coords(param=param_list)"
   ]
  },
  {
   "cell_type": "markdown",
   "id": "fb43af1a-7c34-42d1-ba71-c74bd6f6af4c",
   "metadata": {},
   "source": [
    "MAKE TIME MEAN"
   ]
  },
  {
   "cell_type": "code",
   "execution_count": null,
   "id": "03ef9eee-5c20-4006-9ccc-f19b3976d9a3",
   "metadata": {},
   "outputs": [],
   "source": [
    "time_mean_melt = melt_m_ice_per_y.mean('time')"
   ]
  },
  {
   "cell_type": "code",
   "execution_count": null,
   "id": "5a27714f-ad0b-4500-88c9-c3919d143d22",
   "metadata": {},
   "outputs": [],
   "source": [
    "melt_m_ice_per_y_PIGL_pattern = time_mean_melt.where(np.isfinite(time_mean_melt), drop=True)"
   ]
  },
  {
   "cell_type": "code",
   "execution_count": null,
   "id": "940e5d49-59bb-4dcf-87d7-e4ef2062152f",
   "metadata": {},
   "outputs": [],
   "source": [
    "melt_m_ice_per_y_PIGL_pattern.to_netcdf(outputpath_melt+'melt_rates_PIGL_dutrieux_time_mean_pattern'+BedMachine_folder+'.nc')"
   ]
  },
  {
   "cell_type": "markdown",
   "id": "116e371f-9e49-4547-b7cf-6c3c1346d3be",
   "metadata": {},
   "source": [
    "PREPARE PLOT STUFF"
   ]
  },
  {
   "cell_type": "code",
   "execution_count": null,
   "id": "08227024-ccc5-4529-8e64-95892e2ec0eb",
   "metadata": {},
   "outputs": [],
   "source": [
    "grounded_msk03 = file_isf['ground_mask'].where(file_isf['ground_mask']==0,3)\n",
    "grounded_msk = (grounded_msk03.where(grounded_msk03!=3,1)-1)*-1"
   ]
  },
  {
   "cell_type": "code",
   "execution_count": null,
   "id": "38eb6684-f2fa-408c-a160-98e6b0297c92",
   "metadata": {},
   "outputs": [],
   "source": [
    "file_isf_mask = file_isf['ISF_mask'].where(file_isf['ISF_mask']==file_isf.Nisf).sum('Nisf')\n",
    "icesheet_msk_0inf = file_isf_mask.where(file_isf_mask!=1,0)\n",
    "icesheet_msk = icesheet_msk_0inf.where(icesheet_msk_0inf < 1, 1)"
   ]
  },
  {
   "cell_type": "code",
   "execution_count": null,
   "id": "4c741733-9d84-45ac-b224-dbc99812d380",
   "metadata": {},
   "outputs": [],
   "source": [
    "box_charac_all_2D = xr.open_dataset(inputpath_boxes + 'BedMachine'+BedMachine_folder+'_boxes_2D.nc')\n",
    "box_charac_all_1D = xr.open_dataset(inputpath_boxes + 'BedMachine'+BedMachine_folder+'_boxes_1D.nc')\n",
    "box_loc_config2 = box_charac_all_2D['box_location'].sel(box_nb_tot=box_charac_all_1D['nD_config'].sel(config=2))\n",
    "box1 = box_loc_config2.where(box_loc_config2==1).isel(Nisf=0).drop('Nisf')\n",
    "box1_msk = box1.where(box1==1,0)"
   ]
  },
  {
   "cell_type": "markdown",
   "id": "7d133361-844d-44e3-ac3d-3d0b24fcd76b",
   "metadata": {},
   "source": [
    "PLOT FIGURE 8B"
   ]
  },
  {
   "cell_type": "code",
   "execution_count": null,
   "id": "f9c058cf-bcbf-4573-a2a7-067cc33c4f59",
   "metadata": {},
   "outputs": [],
   "source": [
    "kisf = 66\n",
    "\n",
    "ref_melt_isf = melt_m_ice_per_y_PIGL_pattern.isel(param=0)\n",
    "#cmaph = cmocean.cm.thermal\n",
    "cmaph = mpl.cm.Reds\n",
    "\n",
    "levs = np.arange(0,71,10)#[245, 250, 255, 260, 265, 270, 275, 280, 285, 290, 310, 340]\n",
    "\n",
    "if kisf == 11:\n",
    "    ymax = ref_melt_isf.y.min() - 80000\n",
    "    xmin = ref_melt_isf.x.min() + 10000\n",
    "elif kisf == 10:\n",
    "    ymax = ref_melt_isf.y.min() - 80000\n",
    "    xmin = ref_melt_isf.x.min() + 5000\n",
    "elif kisf == 31:\n",
    "    ymax = ref_melt_isf.y.min() - 20000\n",
    "    xmin = ref_melt_isf.x.min() + 3000 \n",
    "elif kisf == 44:\n",
    "    ymax = ref_melt_isf.y.min() - 20000\n",
    "    xmin = ref_melt_isf.x.min() + 3000 \n",
    "elif kisf == 48:\n",
    "    ymax = ref_melt_isf.y.min() - 15000\n",
    "    xmin = ref_melt_isf.x.min() + 3000   \n",
    "elif kisf == 66:\n",
    "    ymax = ref_melt_isf.y.min() - 15000\n",
    "    xmin = ref_melt_isf.x.min() + 1000   \n",
    "    \n",
    "#min_maxval = (abs(ref_melt_isf)).max().values\n",
    "min_maxval=50\n",
    "\n",
    "max_list = []\n",
    "\n",
    "fig, ax = plt.subplots(1,7,sharex=True,sharey=True)\n",
    "fig.set_size_inches(8.25*1.7, 8.25/4.5)\n",
    "for i in range(len(ax)):\n",
    "    if i==0:\n",
    "        melt_m_ice_per_y_PIGL_pattern.sel(param='linear_local').plot.contourf(ax=ax[i],cmap=cmaph,vmin=0,vmax=min_maxval,levels=levs,add_colorbar=False)#,vmin=minval, vmax=maxval,zorder=0)  \n",
    "        max_lin_Ant = melt_m_ice_per_y_PIGL_pattern.sel(param='linear_local').quantile(0.9).values\n",
    "        max_list.append(max_lin_Ant)\n",
    "        ax[i].text(xmin,ymax,'Melt 90pctl = '+str(np.round(max_lin_Ant,1)))\n",
    "    elif i==1:\n",
    "        melt_m_ice_per_y_PIGL_pattern.sel(param='quadratic_local').plot.contourf(ax=ax[i],cmap=cmaph,vmin=0,vmax=min_maxval,levels=levs,add_colorbar=False)#,vmin=minval, vmax=maxval,zorder=0)  \n",
    "        max_quad_Ant = melt_m_ice_per_y_PIGL_pattern.sel(param='quadratic_local').quantile(0.9).values\n",
    "        max_list.append(max_quad_Ant)\n",
    "        ax[i].text(xmin,ymax,'Melt 90pctl = '+str(np.round(max_quad_Ant,1)))\n",
    "    elif i==2:\n",
    "        melt_m_ice_per_y_PIGL_pattern.sel(param='quadratic_mixed_locslope').plot.contourf(ax=ax[i],cmap=cmaph,vmin=0,vmax=min_maxval,levels=levs,add_colorbar=False)#,vmin=minval, vmax=maxval,zorder=0)  \n",
    "        max_quad_semi_loc = melt_m_ice_per_y_PIGL_pattern.sel(param='quadratic_mixed_locslope').quantile(0.9).values\n",
    "        max_list.append(max_quad_semi_loc)\n",
    "        ax[i].text(xmin,ymax,'Melt 90pctl = '+str(np.round(max_quad_semi_loc,1)))  \n",
    "    elif i==3:\n",
    "        melt_m_ice_per_y_PIGL_pattern.sel(param='lazero19_2').plot.contourf(ax=ax[i],cmap=cmaph,vmin=0,vmax=min_maxval,levels=levs,add_colorbar=False)#,vmin=minval, vmax=maxval,zorder=0)  \n",
    "        max_plume_laz19 = melt_m_ice_per_y_PIGL_pattern.sel(param='lazero19_2').quantile(0.9).values\n",
    "        max_list.append(max_plume_laz19)\n",
    "        ax[i].text(xmin,ymax,'Melt 90pctl = '+str(np.round(max_plume_laz19,1)))         \n",
    "    elif i==4:\n",
    "        melt_m_ice_per_y_PIGL_pattern.sel(param='lazero19_modif2').plot.contourf(ax=ax[i],cmap=cmaph,vmin=0,vmax=min_maxval,levels=levs,add_colorbar=False)#,vmin=minval, vmax=maxval,zorder=0)  \n",
    "        max_plume_modif = melt_m_ice_per_y_PIGL_pattern.sel(param='lazero19_modif2').quantile(0.9).values\n",
    "        max_list.append(max_plume_modif)\n",
    "        ax[i].text(xmin,ymax,'Melt 90pctl = '+str(np.round(max_plume_modif,1)))          \n",
    "    elif i==5:\n",
    "        melt_m_ice_per_y_PIGL_pattern.sel(param='boxes_3_pismyes_picopno').plot.contourf(ax=ax[i],cmap=cmaph,vmin=0,vmax=min_maxval,levels=levs,add_colorbar=False)#,vmin=minval, vmax=maxval,zorder=0)  \n",
    "        max_boxes_3 = melt_m_ice_per_y_PIGL_pattern.sel(param='boxes_3_pismyes_picopno').quantile(0.9).values\n",
    "        max_list.append(max_boxes_3)\n",
    "        ax[i].text(xmin,ymax,'Melt 90pctl = '+str(np.round(max_boxes_3,1)))  \n",
    "    elif i==6:\n",
    "        #melt_m_ice_per_y_PIGL_pattern.sel(param='boxes_4_pismno_picopyes').plot.contourf(ax=ax[i],cmap=cmaph,vmin=0,vmax=min_maxval,levels=levs,extend='both')#,vmin=minval, vmax=maxval,zorder=0)  \n",
    "        melt_m_ice_per_y_PIGL_pattern.sel(param='boxes_4_pismno_picopyes').plot.contourf(ax=ax[i],cmap=cmaph,vmin=0,vmax=min_maxval,levels=levs,add_colorbar=False)#,vmin=minval, vmax=maxval,zorder=0)  \n",
    "        max_picop_4 = melt_m_ice_per_y_PIGL_pattern.sel(param='boxes_4_pismno_picopyes').quantile(0.9).values\n",
    "        max_list.append(max_picop_4)\n",
    "        ax[i].text(xmin,ymax,'Melt 90pctl = '+str(np.round(max_picop_4,1))) \n",
    "        \n",
    "    ax[i].contour(ref_melt_isf.x,ref_melt_isf.y,grounded_msk.where(ref_melt_isf),levels=[0,1],linewidths=0.5,colors='black',zorder=10)\n",
    "    #ax[i].contour(ref_melt_isf.x,ref_melt_isf.y,box1_msk.where(ref_melt_isf),levels=[0,1],linewidths=0.5,colors='blue',zorder=10)\n",
    "    ax[i].set_xticks([])\n",
    "    ax[i].set_xlabel('')\n",
    "    ax[i].set_yticks([])\n",
    "    ax[i].set_ylabel('')\n",
    "    ax[i].set_title('')\n",
    "    \n",
    "      \n",
    "    #ax[i].contour(ref_melt_isf.x,ref_melt_isf.y,icesheet_msk.where(ref_melt_isf),levels=[0,1],linewidths=0.5,colors='black',zorder=15)\n",
    "#if np.max(max_list) > ref_melt_isf.max().values:\n",
    "#    cbar = fig.colorbar(cax, extend='max')\n",
    "#else:\n",
    "#cbar = fig.colorbar(cax)\n",
    "plt.tight_layout()\n",
    "fig.savefig(plot_path+'comparison_spatial_patterns_PIGL_dutrieux'+BedMachine_folder+'_without_colorbar.png', dpi=300)"
   ]
  },
  {
   "cell_type": "markdown",
   "id": "7963eaa2-81ad-42f2-91f7-3b5de66f60a6",
   "metadata": {},
   "source": [
    "PLOT FIGURE 8C"
   ]
  },
  {
   "cell_type": "code",
   "execution_count": null,
   "id": "e239c350-2f43-44a4-89f3-2cd7033d47e5",
   "metadata": {},
   "outputs": [],
   "source": [
    "#try to normalise\n",
    "\n",
    "kisf = 66\n",
    "\n",
    "\n",
    "ref_melt_isf = melt_m_ice_per_y_PIGL_pattern.isel(param=0)\n",
    "#cmaph = cmocean.cm.thermal\n",
    "cmaph = mpl.cm.Reds\n",
    "\n",
    "levs = np.arange(0,1.1,0.1)#[245, 250, 255, 260, 265, 270, 275, 280, 285, 290, 310, 340]\n",
    "\n",
    "if kisf == 11:\n",
    "    ymax = ref_melt_isf.y.min() - 80000\n",
    "    xmin = ref_melt_isf.x.min() + 10000\n",
    "elif kisf == 10:\n",
    "    ymax = ref_melt_isf.y.min() - 80000\n",
    "    xmin = ref_melt_isf.x.min() + 5000\n",
    "elif kisf == 31:\n",
    "    ymax = ref_melt_isf.y.min() - 20000\n",
    "    xmin = ref_melt_isf.x.min() + 3000 \n",
    "elif kisf == 44:\n",
    "    ymax = ref_melt_isf.y.min() - 20000\n",
    "    xmin = ref_melt_isf.x.min() + 3000 \n",
    "elif kisf == 48:\n",
    "    ymax = ref_melt_isf.y.min() - 15000\n",
    "    xmin = ref_melt_isf.x.min() + 3000   \n",
    "elif kisf == 66:\n",
    "    ymax = ref_melt_isf.y.min() - 15000\n",
    "    xmin = ref_melt_isf.x.min() + 1000   \n",
    "    \n",
    "#min_maxval = (abs(ref_melt_isf)).max().values\n",
    "min_maxval=50\n",
    "\n",
    "max_list = []\n",
    "\n",
    "fig, ax = plt.subplots(1,7,sharex=True,sharey=True)\n",
    "fig.set_size_inches(8.25*1.7, 8.25/4.5)\n",
    "for i in range(len(ax)):\n",
    "    if i==0:\n",
    "        max_lin_Ant = melt_m_ice_per_y_PIGL_pattern.sel(param='linear_local').quantile(0.9).values\n",
    "        norm_pattern = melt_m_ice_per_y_PIGL_pattern.sel(param='linear_local')/max_lin_Ant\n",
    "    elif i==1:\n",
    "        max_quad_Ant = melt_m_ice_per_y_PIGL_pattern.sel(param='quadratic_local').quantile(0.9).values\n",
    "        norm_pattern = melt_m_ice_per_y_PIGL_pattern.sel(param='quadratic_local')/max_quad_Ant\n",
    "    elif i==2:\n",
    "        max_quad_semi_loc = melt_m_ice_per_y_PIGL_pattern.sel(param='quadratic_mixed_locslope').quantile(0.9).values\n",
    "        norm_pattern = melt_m_ice_per_y_PIGL_pattern.sel(param='quadratic_mixed_locslope')/max_quad_semi_loc\n",
    "    elif i==3:\n",
    "        max_plume_laz19 = melt_m_ice_per_y_PIGL_pattern.sel(param='lazero19_2').quantile(0.9).values\n",
    "        norm_pattern = melt_m_ice_per_y_PIGL_pattern.sel(param='lazero19_2')/max_plume_laz19\n",
    "    elif i==4:\n",
    "        max_plume_modif = melt_m_ice_per_y_PIGL_pattern.sel(param='lazero19_modif2').quantile(0.9).values\n",
    "        norm_pattern = melt_m_ice_per_y_PIGL_pattern.sel(param='lazero19_modif2')/max_plume_modif        \n",
    "    elif i==5:\n",
    "        max_boxes_3 = melt_m_ice_per_y_PIGL_pattern.sel(param='boxes_3_pismyes_picopno').quantile(0.9).values\n",
    "        norm_pattern = melt_m_ice_per_y_PIGL_pattern.sel(param='boxes_3_pismyes_picopno')/max_boxes_3  \n",
    "    elif i==6:\n",
    "        max_picop_4 = melt_m_ice_per_y_PIGL_pattern.sel(param='boxes_4_pismno_picopyes').quantile(0.9).values\n",
    "        norm_pattern = melt_m_ice_per_y_PIGL_pattern.sel(param='boxes_4_pismno_picopyes')/max_picop_4  \n",
    "        #melt_m_ice_per_y_PIGL_pattern.sel(param='boxes_4_pismno_picopyes').plot.contourf(ax=ax[i],cmap=cmaph,vmin=0,vmax=min_maxval,levels=levs,extend='both')#,vmin=minval, vmax=maxval,zorder=0)  \n",
    "#    if i < 6:\n",
    "#        norm_pattern.plot.contourf(ax=ax[i],cmap=cmaph,vmin=0,vmax=1,levels=levs,add_colorbar=False)#,vmin=minval, vmax=maxval,zorder=0)  \n",
    "#    else:\n",
    "#        norm_pattern.plot.contourf(ax=ax[i],cmap=cmaph,vmin=0,vmax=1,levels=levs,extend='both')#,vmin=minval, vmax=maxval,zorder=0)  \n",
    "    norm_pattern.plot.contourf(ax=ax[i],cmap=cmaph,vmin=0,vmax=1,levels=levs,add_colorbar=False)#,vmin=minval, vmax=maxval,zorder=0)  \n",
    "\n",
    "        \n",
    "    ax[i].contour(ref_melt_isf.x,ref_melt_isf.y,grounded_msk.where(ref_melt_isf),levels=[0,1],linewidths=0.5,colors='black',zorder=10)\n",
    "    #ax[i].contour(ref_melt_isf.x,ref_melt_isf.y,box1_msk.where(ref_melt_isf),levels=[0,1],linewidths=0.5,colors='blue',zorder=10)\n",
    "    ax[i].set_xticks([])\n",
    "    ax[i].set_xlabel('')\n",
    "    ax[i].set_yticks([])\n",
    "    ax[i].set_ylabel('')\n",
    "    ax[i].set_title('')\n",
    "    \n",
    "      \n",
    "    #ax[i].contour(ref_melt_isf.x,ref_melt_isf.y,icesheet_msk.where(ref_melt_isf),levels=[0,1],linewidths=0.5,colors='black',zorder=15)\n",
    "#if np.max(max_list) > ref_melt_isf.max().values:\n",
    "#    cbar = fig.colorbar(cax, extend='max')\n",
    "#else:\n",
    "#cbar = fig.colorbar(cax)\n",
    "plt.tight_layout()\n",
    "fig.savefig(plot_path+'comparison_spatial_patterns_PIGL_dutrieux'+BedMachine_folder+'norm_without_colorbar.png', dpi=300)"
   ]
  }
 ],
 "metadata": {
  "kernelspec": {
   "display_name": "ice_shelf_mask",
   "language": "python",
   "name": "ice_shelf_mask"
  },
  "language_info": {
   "codemirror_mode": {
    "name": "ipython",
    "version": 3
   },
   "file_extension": ".py",
   "mimetype": "text/x-python",
   "name": "python",
   "nbconvert_exporter": "python",
   "pygments_lexer": "ipython3",
   "version": "3.8.5"
  }
 },
 "nbformat": 4,
 "nbformat_minor": 5
}
