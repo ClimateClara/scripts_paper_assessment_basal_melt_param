{
 "cells": [
  {
   "cell_type": "code",
   "execution_count": null,
   "id": "a70bc4b1-18c8-43ab-ab04-c15b1229442d",
   "metadata": {},
   "outputs": [],
   "source": [
    "\"\"\"\n",
    "Script to reproduce subplots from Fig. B1, B2 and B3, \"not as good looking as in the paper sorry\"\n",
    "\n",
    "Author: C. Burgard\n",
    "\"\"\""
   ]
  },
  {
   "cell_type": "code",
   "execution_count": null,
   "id": "1f54e130-0ffa-4f51-931a-db9346b80b6a",
   "metadata": {},
   "outputs": [],
   "source": [
    "import xarray as xr\n",
    "import matplotlib as mpl"
   ]
  },
  {
   "cell_type": "code",
   "execution_count": null,
   "id": "63e9712e-622e-4838-ab83-3f7e2d836d8f",
   "metadata": {},
   "outputs": [],
   "source": [
    "inputpath1 = '/bettik/burgardc/DATA/PARAM_PAPER/raw/NEMO_appendix/'"
   ]
  },
  {
   "cell_type": "code",
   "execution_count": null,
   "id": "976491fe-e079-46a9-a73e-cee61ce0eb19",
   "metadata": {},
   "outputs": [],
   "source": [
    "run_list = ['OPM006','OPM016','OPM018','OPM021']\n",
    "colors = ['magenta','brown','orange','red']"
   ]
  },
  {
   "cell_type": "markdown",
   "id": "59014a68-4e00-4be3-a80d-7b510f299b5c",
   "metadata": {},
   "source": [
    "SUBPLOTS FIGURE B1"
   ]
  },
  {
   "cell_type": "code",
   "execution_count": null,
   "id": "deec4ab3-b00b-4dac-80a9-325742e1c0a0",
   "metadata": {},
   "outputs": [],
   "source": [
    "plt.figure()\n",
    "for nrun, nemo_run in enumerate(run_list):\n",
    "    inputpath_data = inputpath1 + 'NEMO_'+nemo_run+'/'\n",
    "    ACC_file = xr.open_dataset(inputpath_data+'ACC_eORCA025.L121-'+nemo_run+'_allyears.nc')\n",
    "    (-1*ACC_file['vtrp']).plot(c=colors[nrun])"
   ]
  },
  {
   "cell_type": "code",
   "execution_count": null,
   "id": "397ae50e-cac5-489a-9dcb-6c6618be97de",
   "metadata": {},
   "outputs": [],
   "source": [
    "plt.figure()\n",
    "for nrun, nemo_run in enumerate(run_list):\n",
    "    inputpath_data = inputpath1 + 'NEMO_'+nemo_run+'/'\n",
    "    WG_file = xr.open_dataset(inputpath_data+'WG_eORCA025.L121-'+nemo_run+'_allyears.nc')\n",
    "    (WG_file['max_sobarstf']/10**6).plot(c=colors[nrun])"
   ]
  },
  {
   "cell_type": "code",
   "execution_count": null,
   "id": "854dbca3-cf19-4667-b3fb-0f93df0ef178",
   "metadata": {},
   "outputs": [],
   "source": [
    "plt.figure()\n",
    "for nrun, nemo_run in enumerate(run_list):\n",
    "    inputpath_data = inputpath1 + 'NEMO_'+nemo_run+'/'\n",
    "    RG_file = xr.open_dataset(inputpath_data+'RG_eORCA025.L121-'+nemo_run+'_allyears.nc')\n",
    "    (RG_file['max_sobarstf']/10**6).plot(c=colors[nrun])"
   ]
  },
  {
   "cell_type": "code",
   "execution_count": null,
   "id": "5b6c3441-0a11-42e6-bfba-65ce76af83d0",
   "metadata": {},
   "outputs": [],
   "source": [
    "plt.figure()\n",
    "for nrun, nemo_run in enumerate(run_list):\n",
    "    inputpath_data = inputpath1 + 'NEMO_'+nemo_run+'/'\n",
    "    ISF_ALL_file = xr.open_dataset(inputpath_data+'ISF_ALL_eORCA025.L121-'+nemo_run+'_allyears.nc')\n",
    "    (-1*ISF_ALL_file['isfmelt_FRIS']).plot(c=colors[nrun])\n",
    "    \n",
    "plt.figure()\n",
    "for nrun, nemo_run in enumerate(run_list):\n",
    "    inputpath_data = inputpath1 + 'NEMO_'+nemo_run+'/'\n",
    "    ISF_ALL_file = xr.open_dataset(inputpath_data+'ISF_ALL_eORCA025.L121-'+nemo_run+'_allyears.nc')\n",
    "    (-1*ISF_ALL_file['isfmelt_ROSS']).plot(c=colors[nrun])\n",
    "\n",
    "plt.figure()\n",
    "for nrun, nemo_run in enumerate(run_list):\n",
    "    inputpath_data = inputpath1 + 'NEMO_'+nemo_run+'/'\n",
    "    ISF_ALL_file = xr.open_dataset(inputpath_data+'ISF_ALL_eORCA025.L121-'+nemo_run+'_allyears.nc')\n",
    "    (-1*ISF_ALL_file['isfmelt_PINE']).plot(c=colors[nrun])\n",
    "    \n",
    "plt.figure()\n",
    "for nrun, nemo_run in enumerate(run_list):\n",
    "    inputpath_data = inputpath1 + 'NEMO_'+nemo_run+'/'\n",
    "    ISF_ALL_file = xr.open_dataset(inputpath_data+'ISF_ALL_eORCA025.L121-'+nemo_run+'_allyears.nc')\n",
    "    (-1*ISF_ALL_file['isfmelt_TOTA']).plot(c=colors[nrun])"
   ]
  },
  {
   "cell_type": "code",
   "execution_count": null,
   "id": "4a790e4e-f498-47f0-8644-6231d0d78b06",
   "metadata": {},
   "outputs": [],
   "source": [
    "plt.figure()\n",
    "for nrun, nemo_run in enumerate(run_list):\n",
    "    inputpath_data = inputpath1 + 'NEMO_'+nemo_run+'/'\n",
    "    SIE_09_file = xr.open_dataset(inputpath_data+'GLO_sie_eORCA025.L121-'+nemo_run+'_m09_allyears.nc')\n",
    "    (SIE_09_file['SExnsidc']/10**3).plot(c=colors[nrun])\n",
    "    \n",
    "plt.figure()\n",
    "for nrun, nemo_run in enumerate(run_list):\n",
    "    inputpath_data = inputpath1 + 'NEMO_'+nemo_run+'/'\n",
    "    SIE_02_file = xr.open_dataset(inputpath_data+'GLO_sie_eORCA025.L121-'+nemo_run+'_m02_allyears.nc')\n",
    "    (SIE_02_file['SExnsidc']/10**3).plot(c=colors[nrun])"
   ]
  },
  {
   "cell_type": "code",
   "execution_count": null,
   "id": "2a27809b-c779-4806-b1d3-64da511168f8",
   "metadata": {},
   "outputs": [],
   "source": [
    "plt.figure()\n",
    "for nrun, nemo_run in enumerate(run_list):\n",
    "    inputpath_data = inputpath1 + 'NEMO_'+nemo_run+'/'\n",
    "    WROSS_file = xr.open_dataset(inputpath_data+'WROSS_eORCA025.L121-'+nemo_run+'_allyears.nc')\n",
    "    (WROSS_file['mean_sosbs']).plot(c=colors[nrun])"
   ]
  },
  {
   "cell_type": "code",
   "execution_count": null,
   "id": "1d763bb2-87ab-4480-8e08-964667163784",
   "metadata": {},
   "outputs": [],
   "source": [
    "plt.figure()\n",
    "for nrun, nemo_run in enumerate(run_list):\n",
    "    inputpath_data = inputpath1 + 'NEMO_'+nemo_run+'/'\n",
    "    WWED_file = xr.open_dataset(inputpath_data+'WWED_eORCA025.L121-'+nemo_run+'_allyears.nc')\n",
    "    (WWED_file['mean_sosbs']).plot(c=colors[nrun])"
   ]
  },
  {
   "cell_type": "markdown",
   "id": "f4d48ddf-c97f-44a3-ba49-d0b5d77239f9",
   "metadata": {},
   "source": [
    "FIGURE B2 - download WOA data to make the comparison"
   ]
  },
  {
   "cell_type": "code",
   "execution_count": null,
   "id": "7ebd1969-2a21-4648-95ab-9373a02a357c",
   "metadata": {
    "tags": []
   },
   "outputs": [],
   "source": [
    "for nrun, nemo_run in enumerate(run_list):\n",
    "    plt.figure()\n",
    "    inputpath_data = inputpath1 + 'NEMO_'+nemo_run+'/'\n",
    "    bottom_CT_file = xr.open_dataset(inputpath_data+'sosbt_eORCA025.L121-'+nemo_run+'_mean99-08.nc')\n",
    "    lat = bottom_CT_file['nav_lat']\n",
    "    (bottom_CT_file['sosbt'].where(lat < -60, drop=True)).plot()"
   ]
  },
  {
   "cell_type": "markdown",
   "id": "e8947e5a-572d-4a92-8603-6a2bc1d83695",
   "metadata": {},
   "source": [
    "FIGURE B3"
   ]
  },
  {
   "cell_type": "code",
   "execution_count": null,
   "id": "eca86491-ba9e-41c7-9ae0-bb00591b84d6",
   "metadata": {},
   "outputs": [],
   "source": [
    "nemo_run = 'OPM021'\n",
    "inputpath_melt_NEMO = '/bettik/burgardc/DATA/BASAL_MELT_PARAM/processed/MELT_RATE/nemo_5km_'+nemo_run+'/'\n",
    "NEMO_2D_melt = xr.open_dataset(inputpath_melt_NEMO + 'melt_rates_2D_NEMO.nc')\n",
    "NEMO_2D_melt['melt_m_ice_per_y'].sel(time=range(2009,2019)).mean('time').plot(vmin=-5,vmax=5,cmap=mpl.cm.coolwarm)"
   ]
  },
  {
   "cell_type": "code",
   "execution_count": null,
   "id": "a75f5dda-b829-4323-8975-ace5c6ac4fd7",
   "metadata": {},
   "outputs": [],
   "source": [
    "inputpath_obs = '/bettik/burgardc/DATA/BASAL_MELT_PARAM/raw/'\n",
    "rignot_melt = xr.open_dataset(inputpath_obs + 'Ant_MeltingRate.v2.2.nc')\n",
    "plt.pcolormesh(rignot_melt.ny,-1*rignot_melt.nx,rignot_melt['melt_actual'],vmin=-5,vmax=5,cmap=mpl.cm.coolwarm)"
   ]
  }
 ],
 "metadata": {
  "kernelspec": {
   "display_name": "py38",
   "language": "python",
   "name": "py38"
  },
  "language_info": {
   "codemirror_mode": {
    "name": "ipython",
    "version": 3
   },
   "file_extension": ".py",
   "mimetype": "text/x-python",
   "name": "python",
   "nbconvert_exporter": "python",
   "pygments_lexer": "ipython3",
   "version": "3.8.12"
  }
 },
 "nbformat": 4,
 "nbformat_minor": 5
}
