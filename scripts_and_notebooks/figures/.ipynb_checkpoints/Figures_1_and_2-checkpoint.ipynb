{
 "cells": [
  {
   "cell_type": "code",
   "execution_count": null,
   "id": "16b22e83-bc77-40aa-bb00-478709ebef8a",
   "metadata": {},
   "outputs": [],
   "source": [
    "\"\"\"\n",
    "Created on Mon Aug 30 16:59 2021\n",
    "\n",
    "This script is to produce Figure 1 and Figure 2\n",
    "\n",
    "@author: Clara Burgard\n",
    "\"\"\""
   ]
  },
  {
   "cell_type": "code",
   "execution_count": null,
   "id": "2baab0f3-556e-46ae-b496-6d935e00b238",
   "metadata": {},
   "outputs": [],
   "source": [
    "import xarray as xr\n",
    "import numpy as np\n",
    "import pandas as pd\n",
    "from tqdm.notebook import tqdm\n",
    "import matplotlib.pyplot as plt\n",
    "import assess_param_funcs.useful_functions as uf\n",
    "import seaborn as sns\n",
    "from matplotlib import cm\n",
    "import matplotlib as mpl\n",
    "import glob"
   ]
  },
  {
   "cell_type": "code",
   "execution_count": null,
   "id": "496776da-b924-4bdd-9bef-112951732ac3",
   "metadata": {},
   "outputs": [],
   "source": [
    "%matplotlib qt5"
   ]
  },
  {
   "cell_type": "markdown",
   "id": "a552de7d-8eda-4f66-b680-fd24ee7767b0",
   "metadata": {},
   "source": [
    "READ IN DATA"
   ]
  },
  {
   "cell_type": "code",
   "execution_count": null,
   "id": "c6201b1a-a2d1-4288-81c2-21479901345d",
   "metadata": {},
   "outputs": [],
   "source": [
    "plot_path = '/bettik/burgardc/PLOTS/generic_plots/'\n"
   ]
  },
  {
   "cell_type": "code",
   "execution_count": null,
   "id": "020bc068-52dc-41e7-a320-eb7555e3e1b2",
   "metadata": {},
   "outputs": [],
   "source": [
    "run_list = ['OPM021','OPM018','OPM016','OPM006'] \n",
    "file_isf_list = []\n",
    "TS_profile_mean_list = []\n",
    "TS_profile_std_list = []\n",
    "plume_list = []\n",
    "\n",
    "for n,nemo_run in enumerate(run_list):\n",
    "    \n",
    "    print(nemo_run)\n",
    "    \n",
    "    # File mask\n",
    "    inputpath_mask = '/bettik/burgardc/SCRIPTS/basal_melt_param/data/interim/ANTARCTICA_IS_MASKS/nemo_5km_'+nemo_run+'/'\n",
    "    file_isf_orig = xr.open_dataset(inputpath_mask+'nemo_5km_isf_masks_and_info_and_distance_new_oneFRIS.nc')\n",
    "    nonnan_Nisf = file_isf_orig['Nisf'].where(np.isfinite(file_isf_orig['front_bot_depth_max']), drop=True).astype(int)\n",
    "    file_isf_nonnan = file_isf_orig.sel(Nisf=nonnan_Nisf)\n",
    "    large_isf = file_isf_nonnan['Nisf'].where(file_isf_nonnan['isf_area_here'] >= 2500, drop=True)\n",
    "    file_isf = file_isf_nonnan.sel(Nisf=large_isf)\n",
    "    file_isf_list.append(file_isf)\n",
    "    \n",
    "    # Files with profiles\n",
    "    inputpath_profiles = '/bettik/burgardc/SCRIPTS/basal_melt_param/data/interim/T_S_PROF/nemo_5km_'+nemo_run+'/'\n",
    "    file_TS_orig = xr.open_dataset(inputpath_profiles+'T_S_mean_prof_corrected_km_contshelf_and_offshore_1980-2018_oneFRIS.nc')\n",
    "    if nemo_run == 'OPM006':\n",
    "        file_TS_otherdepth = file_TS_orig.sel(Nisf=large_isf)\n",
    "        file_TS = file_TS_otherdepth.interp({'depth': TS_profile_mean_list[0].depth})\n",
    "    else:\n",
    "        file_TS = file_TS_orig.sel(Nisf=large_isf)\n",
    "    file_TS_mean = file_TS.mean('time')\n",
    "    file_TS_std = file_TS.std('time')\n",
    "    TS_profile_mean_list.append(file_TS_mean)\n",
    "    TS_profile_std_list.append(file_TS_std)\n",
    "    \n",
    "    # Files with plume characteristics\n",
    "    inputpath_plumes = '/bettik/burgardc/SCRIPTS/basal_melt_param/data/interim/PLUMES/nemo_5km_'+nemo_run+'/'\n",
    "    plume_charac = xr.open_dataset(inputpath_plumes+'nemo_5km_plume_characteristics_oneFRIS.nc')\n",
    "    plume_list.append(plume_charac)\n",
    "\n",
    "# Merge them over dimension nemo_runs\n",
    "file_isf_all = xr.concat(file_isf_list, dim='nemo_run')\n",
    "\n",
    "TS_profile_mean = xr.concat(TS_profile_mean_list, dim='nemo_run')\n",
    "TS_profile_std = xr.concat(TS_profile_std_list, dim='nemo_run')\n",
    "plume_all =  xr.concat(plume_list, dim='nemo_run')"
   ]
  },
  {
   "cell_type": "code",
   "execution_count": null,
   "id": "5ea90ce7-aeca-46fb-a15d-4b339b6ff59f",
   "metadata": {},
   "outputs": [],
   "source": [
    "# write out deepest grounding line\n",
    "deep_GL_list = []\n",
    "for kisf in tqdm(file_isf['Nisf']):\n",
    "    deepest_GL = plume_all['zGL'].sel(option='simple').where(file_isf['ISF_mask']==kisf,drop=True).mean(['x','y'])\n",
    "    deep_GL_list.append(deepest_GL)\n",
    "deepest_GL_all = xr.concat(deep_GL_list, dim='Nisf')"
   ]
  },
  {
   "cell_type": "markdown",
   "id": "01314501-c55a-4a5d-9b27-38a544521cec",
   "metadata": {},
   "source": [
    "Make a bit of order in the ice shelves"
   ]
  },
  {
   "cell_type": "code",
   "execution_count": null,
   "id": "413941ae-f16a-47d1-8661-b0cc7e30af7a",
   "metadata": {},
   "outputs": [],
   "source": [
    "region_list = []\n",
    "for kisf in file_isf.Nisf:\n",
    "    if file_isf['isf_name'].sel(Nisf=kisf).values in ['Ross','Nickerson','Sulzberger', 'Cook']:\n",
    "        region_list.append('East and West Ross')\n",
    "    elif file_isf['isf_name'].sel(Nisf=kisf).values in ['Filchner','Ronne','Filchner-Ronne']:\n",
    "        region_list.append('Weddell')        \n",
    "    elif file_isf['isf_name'].sel(Nisf=kisf).values in ['Ekstrom','Nivl','Prince Harald','Riiser-Larsen','Fimbul','Roi Baudouin','Lazarev','Stancomb Brunt','Jelbart','Borchgrevink']:\n",
    "        region_list.append('Dronning Maud Land')\n",
    "    elif file_isf['isf_name'].sel(Nisf=kisf).values in ['Getz','Thwaites','Crosson','Dotson','Cosgrove','Pine Island']:\n",
    "        region_list.append('Amundsen')\n",
    "    elif file_isf['isf_name'].sel(Nisf=kisf).values in ['Venable','George VI','Abbot','Stange','Larsen C','Bach','Larsen D','Wilkins']:\n",
    "        region_list.append('Peninsula and Bellinghausen')\n",
    "    elif file_isf['isf_name'].sel(Nisf=kisf).values in ['Amery','Moscow Univ.','Tracy Tremenchus','Totten','West','Shackleton']:\n",
    "        region_list.append('East Antarctica')\n",
    "    else:\n",
    "        print('Argh, help me, '+file_isf['isf_name'].sel(Nisf=kisf).values+' has no region assigned!')\n",
    "# 6 regions\n",
    "# regions = ['East and West Ross','Weddell','Dronning Maud Land','Amundsen','Peninsula and Bellinghausen','East Antarctica']\n",
    "file_isf['region'] = xr.DataArray(data=region_list,dims='Nisf')"
   ]
  },
  {
   "cell_type": "code",
   "execution_count": null,
   "id": "f14ca866-cb06-45cd-96d2-0cabb0d4708d",
   "metadata": {},
   "outputs": [],
   "source": [
    "file_isf['isf_name'] = file_isf['isf_name'].where(file_isf['isf_name'] != 'Ekstrom', np.array('Ekström', dtype=object))"
   ]
  },
  {
   "cell_type": "markdown",
   "id": "9638fcbe-5b0a-4e14-9b92-cea5000858b4",
   "metadata": {},
   "source": [
    "PLOT FIGURE 1"
   ]
  },
  {
   "cell_type": "code",
   "execution_count": null,
   "id": "d7e97d54-8c00-42e0-bec6-94324d426adf",
   "metadata": {},
   "outputs": [],
   "source": [
    "regions = ['Weddell','Peninsula and Bellinghausen','Amundsen','East and West Ross','East Antarctica','Dronning Maud Land']\n",
    "colors = ['red','orange','brown','magenta','yellow','cyan','blue']\n",
    "\n",
    "dom = 50\n",
    "\n",
    "f = plt.figure()\n",
    "f.set_size_inches(8.25*1.5, 8.25*1.5)\n",
    "\n",
    "ax={}\n",
    "\n",
    "leg_hdl = []\n",
    "\n",
    "i = 0\n",
    "for rr,reg in enumerate(regions):\n",
    "    \n",
    "    subset_isf = file_isf.Nisf.where(file_isf['region']==reg,drop=True)\n",
    "    \n",
    "    for kisf in tqdm(subset_isf.Nisf):\n",
    "\n",
    "        mean_data = TS_profile_mean['theta_ocean'].sel(profile_domain=dom).sel(Nisf=kisf)\n",
    "        std_data = TS_profile_std['theta_ocean'].sel(profile_domain=dom).sel(Nisf=kisf)\n",
    "        \n",
    "        ax[i] = f.add_subplot(6,6,i+1)\n",
    "        \n",
    "        for n, nrun in enumerate(mean_data.nemo_run):\n",
    "            \n",
    "            mean_run = mean_data.sel(nemo_run=nrun)\n",
    "            std_run = std_data.sel(nemo_run=nrun)\n",
    "            \n",
    "            leg, = plt.plot(mean_run,-1*TS_profile_mean.depth, color=colors[n], linewidth=3)\n",
    "            plt.fill_betweenx(-1*TS_profile_mean.depth, mean_run - std_run, mean_run + std_run, -1*TS_profile_mean.depth, alpha=0.2, color=colors[n])\n",
    "            leg_hdl.append(leg)\n",
    "            \n",
    "            plt.axhline(y=-file_isf_all['front_bot_depth_max'].sel(nemo_run=n, Nisf=kisf), color='brown',linestyle='dotted')\n",
    "            plt.axhline(y=-file_isf_all['front_bot_depth_avg'].sel(nemo_run=n, Nisf=kisf), color='chocolate',linestyle='dotted')\n",
    "            if -file_isf_all['front_bot_depth_max'].sel(nemo_run=n, Nisf=kisf) < -1500:\n",
    "                plt.axhline(y=-1500, color='k',linestyle='dotted')\n",
    "            plt.axhline(y=deepest_GL_all.sel(nemo_run=n, Nisf=kisf), color='slategrey',linestyle='dotted')\n",
    "        \n",
    "        \n",
    "        ax[i].set_title(str(file_isf['isf_name'].sel(Nisf=kisf).values))\n",
    "        ax[i].set_xlim(-2.2,2.5)\n",
    "        \n",
    "        i = i+1\n",
    "        \n",
    "\n",
    "f.subplots_adjust(bottom=0.05, wspace=0.1)\n",
    "\n",
    "f.legend(handles = leg_hdl , labels=['REALISTIC', 'COLDAMU', 'WARMROSS', 'HIGHGETZ'], loc='lower center', ncol=4)\n",
    "\n",
    "f.tight_layout()\n",
    "sns.despine()\n",
    "f.savefig(plot_path+'Mean_T_profiles_'+str(dom)+'km.pdf')"
   ]
  },
  {
   "cell_type": "markdown",
   "id": "e92ef7cc-6b86-4ef5-ac44-945585d98bd9",
   "metadata": {},
   "source": [
    "PLOT FIGURE 2"
   ]
  },
  {
   "cell_type": "code",
   "execution_count": null,
   "id": "abb5449b-c578-40b4-beb2-d07d1af4e742",
   "metadata": {},
   "outputs": [],
   "source": [
    "regions = ['Weddell','Peninsula and Bellinghausen','Amundsen','East and West Ross','East Antarctica','Dronning Maud Land']\n",
    "colors = ['turquoise','deepskyblue','steelblue','blue','navy']\n",
    "\n",
    "f = plt.figure()\n",
    "f.set_size_inches(8.25*1.5, 8.25*1.5)\n",
    "\n",
    "ax={}\n",
    "\n",
    "leg_hdl = []\n",
    "\n",
    "i = 0\n",
    "for rr,reg in enumerate(regions):\n",
    "    \n",
    "    subset_isf = file_isf.Nisf.where(file_isf['region']==reg,drop=True)\n",
    "    \n",
    "    for kisf in tqdm(subset_isf.Nisf):\n",
    "\n",
    "        mean_data = TS_profile_mean['theta_ocean'].sel(nemo_run=0).sel(Nisf=kisf)\n",
    "        std_data = TS_profile_std['theta_ocean'].sel(nemo_run=0).sel(Nisf=kisf)\n",
    "        mean_data_cut = mean_data.where(np.isfinite(mean_data.sel(profile_domain=50)), drop=True)\n",
    "        std_data_cut = std_data.where(np.isfinite(std_data.sel(profile_domain=50)), drop=True)\n",
    "\n",
    "        \n",
    "        ax[i] = f.add_subplot(6,6,i+1)\n",
    "        \n",
    "        for d, dom in enumerate(mean_data.profile_domain):\n",
    "            \n",
    "            mean_run = mean_data_cut.sel(profile_domain=dom)\n",
    "            std_run = std_data_cut.sel(profile_domain=dom)\n",
    "            \n",
    "            leg, = plt.plot(mean_run,-1*mean_run.depth, color=colors[d], linewidth=3)\n",
    "            plt.fill_betweenx(-1*mean_run.depth, mean_run - std_run, mean_run + std_run, -1*mean_run.depth, alpha=0.2, color=colors[d])\n",
    "            leg_hdl.append(leg)\n",
    "        \n",
    "            plt.axhline(y=-file_isf_all['front_bot_depth_max'].sel(nemo_run=n, Nisf=kisf), color='brown',linestyle='dotted')\n",
    "            plt.axhline(y=-file_isf_all['front_bot_depth_avg'].sel(nemo_run=n, Nisf=kisf), color='chocolate',linestyle='dotted')\n",
    "            if -file_isf_all['front_bot_depth_max'].sel(nemo_run=n, Nisf=kisf) < -1500:\n",
    "                plt.axhline(y=-1500, color='k',linestyle='dotted')\n",
    "            plt.axhline(y=deepest_GL_all.sel(nemo_run=0, Nisf=kisf), color='slategrey',linestyle='dotted')\n",
    "        \n",
    "        ax[i].set_title(str(file_isf['isf_name'].sel(Nisf=kisf).values))\n",
    "        ax[i].set_xlim(-2.2,2.5)\n",
    "        \n",
    "        i = i+1\n",
    "        \n",
    "\n",
    "f.subplots_adjust(bottom=0.05, wspace=0.1)\n",
    "\n",
    "f.legend(handles = leg_hdl , labels=[10, 25, 50, 100, 'offshore'], loc='lower center', ncol=5)\n",
    "\n",
    "f.tight_layout()\n",
    "sns.despine()\n",
    "f.savefig(plot_path+'Mean_T_profiles_REALISTIC_cut.pdf')"
   ]
  }
 ],
 "metadata": {
  "kernelspec": {
   "display_name": "py38",
   "language": "python",
   "name": "py38"
  },
  "language_info": {
   "codemirror_mode": {
    "name": "ipython",
    "version": 3
   },
   "file_extension": ".py",
   "mimetype": "text/x-python",
   "name": "python",
   "nbconvert_exporter": "python",
   "pygments_lexer": "ipython3",
   "version": "3.8.12"
  }
 },
 "nbformat": 4,
 "nbformat_minor": 5
}
