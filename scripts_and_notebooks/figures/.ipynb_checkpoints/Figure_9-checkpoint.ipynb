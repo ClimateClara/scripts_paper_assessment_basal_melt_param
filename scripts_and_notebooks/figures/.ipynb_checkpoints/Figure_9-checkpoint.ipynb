{
 "cells": [
  {
   "cell_type": "code",
   "execution_count": null,
   "id": "dfa305a6-df8f-41d7-91f4-15f9ef9087ee",
   "metadata": {},
   "outputs": [],
   "source": [
    "\"\"\"\n",
    "Created on Mon Aug 22 11:09 2022\n",
    "\n",
    "Prepare scatter plots and fits with the bootstrap results, based on parameters from \"group_BT_parameters.ipynb\"\n",
    "Figure 9\n",
    "\n",
    "author: @claraburgard\n",
    "\"\"\""
   ]
  },
  {
   "cell_type": "code",
   "execution_count": null,
   "id": "cf2f8cbe-ff5c-4c19-96f4-8807c086e9cc",
   "metadata": {},
   "outputs": [],
   "source": [
    "import xarray as xr\n",
    "import matplotlib.pyplot as plt\n",
    "from scipy.optimize import curve_fit\n",
    "from scipy import stats\n",
    "import seaborn as sns\n",
    "from tqdm.notebook import tqdm"
   ]
  },
  {
   "cell_type": "code",
   "execution_count": null,
   "id": "9a878e1c-234d-4e43-9188-3bf85c43b4af",
   "metadata": {},
   "outputs": [],
   "source": [
    "sns.set_context('paper')"
   ]
  },
  {
   "cell_type": "code",
   "execution_count": null,
   "id": "0f82a721-d31e-4ac9-8ee2-cf60055c5d4f",
   "metadata": {},
   "outputs": [],
   "source": [
    "%matplotlib qt5"
   ]
  },
  {
   "cell_type": "code",
   "execution_count": null,
   "id": "3d18105c-6f2b-4d20-b1e8-6c0fae624bf6",
   "metadata": {},
   "outputs": [],
   "source": [
    "outputpath_simple_all = '/bettik/burgardc/SCRIPTS/basal_melt_param/data/interim/SIMPLE/nemo_5km_06161821_oneFRIS/'\n",
    "plot_path = '/bettik/burgardc/PLOTS/generic_plots/'"
   ]
  },
  {
   "cell_type": "markdown",
   "id": "06c172ba-cfd6-4e91-bdb8-7cb5a26da764",
   "metadata": {},
   "source": [
    "FIT FUNCTIONS"
   ]
  },
  {
   "cell_type": "code",
   "execution_count": null,
   "id": "f18a8f2d-e4e6-4921-9b9e-49dc451f0dbf",
   "metadata": {},
   "outputs": [],
   "source": [
    "def func_exp(x, a, b, c, d):\n",
    "    return a * np.exp(-b * x + d) + c"
   ]
  },
  {
   "cell_type": "code",
   "execution_count": null,
   "id": "14581836-80cb-4345-95d5-84ae685bf63b",
   "metadata": {},
   "outputs": [],
   "source": [
    "def func_inv(x, a, b, c):\n",
    "    return a * x**(-b) + c "
   ]
  },
  {
   "cell_type": "code",
   "execution_count": null,
   "id": "0ca77aac-e2ed-4bfc-ad82-ce046ea5aa51",
   "metadata": {},
   "outputs": [],
   "source": [
    "def func_inv2(x, a, c):\n",
    "    return a * x**(-2) + c \n",
    "\n",
    "def func_inv2_b0(x, a, c):\n",
    "    fit = a * x**(-2) + c \n",
    "    fit[fit < 0.1] = 0.1\n",
    "    return fit\n",
    "\n",
    "def func_inv4(x, a, c):\n",
    "    return a * x**(-4) + c"
   ]
  },
  {
   "cell_type": "markdown",
   "id": "49bac238-123f-43f3-add8-73a5d28c2a1c",
   "metadata": {},
   "source": [
    "SIMPLE"
   ]
  },
  {
   "cell_type": "code",
   "execution_count": null,
   "id": "d56bd53e-d470-4375-867a-7abd07589f27",
   "metadata": {},
   "outputs": [],
   "source": [
    "gamma_list = []\n",
    "for n in tqdm(range(1,16)):\n",
    "    bootstrap_file = xr.open_mfdataset(outputpath_simple_all + 'clusterbootstrap1000_'+str(n).zfill(2)+'_timeANDisf.nc')\n",
    "    bootstrap_file = bootstrap_file.assign_coords({'bootstrap': range((n-1)*1000,n*1000), 'param': ['linear_local', 'quadratic_local', 'quadratic_local_locslope',\n",
    "       'quadratic_local_cavslope', 'quadratic_mixed_mean',\n",
    "       'quadratic_mixed_locslope', 'quadratic_mixed_cavslope']})\n",
    "    gamma_list.append(bootstrap_file['slope'])\n",
    "all_gamma_simple = xr.concat(gamma_list, dim='bootstrap').load()"
   ]
  },
  {
   "cell_type": "code",
   "execution_count": null,
   "id": "59aeda7f-0868-49ed-bbb4-e3a8dd6a13ed",
   "metadata": {},
   "outputs": [],
   "source": [
    "mparam = 'quadratic_local'\n",
    "all_gamma_simple.sel(profile_domain=50,param=mparam).quantile([0.05, 0.1, 0.33, 0.5, 0.66, 0.9, 0.95]) / 2.9e-3"
   ]
  },
  {
   "cell_type": "markdown",
   "id": "d4765bc0-664a-4202-a75d-71b22d366875",
   "metadata": {},
   "source": [
    "PLUMES"
   ]
  },
  {
   "cell_type": "code",
   "execution_count": null,
   "id": "517d5cfd-d409-4420-8a72-c856632e6a35",
   "metadata": {},
   "outputs": [],
   "source": [
    "plume_gamma = xr.open_dataset(outputpath_simple_all + 'plume_gamma_BT.nc')['gamma']\n",
    "plume_E0 = xr.open_dataset(outputpath_simple_all + 'plume_E0_BT.nc')['E0']"
   ]
  },
  {
   "cell_type": "code",
   "execution_count": null,
   "id": "c21bc59e-b4cf-411d-9f2b-9c66d95fea27",
   "metadata": {},
   "outputs": [],
   "source": [
    "plume_gamma.isel(profile_domain=0,param=0).quantile([0.05, 0.1, 0.33, 0.5, 0.66, 0.9, 0.95])"
   ]
  },
  {
   "cell_type": "code",
   "execution_count": null,
   "id": "3cebbefc-7818-4c7c-b04b-e66b2378b584",
   "metadata": {},
   "outputs": [],
   "source": [
    "plume_gamma_to_plot = plume_gamma.isel(profile_domain=0,param=0)*10**4\n",
    "plume_E0_to_plot = plume_E0.isel(profile_domain=0,param=0)*10**2"
   ]
  },
  {
   "cell_type": "code",
   "execution_count": null,
   "id": "89c0e01d-6a8a-418a-bc3c-63e6342dfaae",
   "metadata": {},
   "outputs": [],
   "source": [
    "plume_gamma_50 = plume_gamma_to_plot.where(plume_E0_to_plot <= 50, drop=True)\n",
    "plume_gamma_15 = plume_gamma_to_plot.where(plume_E0_to_plot < 15, drop=True)\n",
    "\n",
    "plume_E0_50 = plume_E0_to_plot.where(plume_E0_to_plot <= 50, drop=True)\n",
    "plume_E0_15 = plume_E0_to_plot.where(plume_E0_to_plot < 15, drop=True)"
   ]
  },
  {
   "cell_type": "code",
   "execution_count": null,
   "id": "a2f42241-4736-42f9-a9bb-944cc64a4777",
   "metadata": {},
   "outputs": [],
   "source": [
    "inv_x2_plume_50 = 1/(plume_gamma_50**2)\n",
    "res_reg = stats.linregress(inv_x2_plume_50,plume_E0_50)\n",
    "a_plume_50 = np.round(res_reg.slope,1)\n",
    "b_plume_50 = np.round(res_reg.intercept,1)"
   ]
  },
  {
   "cell_type": "code",
   "execution_count": null,
   "id": "300a5a3f-a4df-444c-bf9b-5ae3ddfaa5f6",
   "metadata": {},
   "outputs": [],
   "source": [
    "a_plume_50"
   ]
  },
  {
   "cell_type": "code",
   "execution_count": null,
   "id": "a449ae54-63ef-4565-b1f9-b9e69ab2781e",
   "metadata": {},
   "outputs": [],
   "source": [
    "b_plume_50"
   ]
  },
  {
   "cell_type": "code",
   "execution_count": null,
   "id": "fdb7bad7-856b-430b-b2a2-2eb610582bcf",
   "metadata": {},
   "outputs": [],
   "source": [
    "inv_x2_plume_15 = 1/(plume_gamma_15**2)\n",
    "res_reg = stats.linregress(inv_x2_plume_15,plume_E0_15)\n",
    "a_plume_15 = np.round(res_reg.slope,1)\n",
    "b_plume_15 = np.round(res_reg.intercept,1)"
   ]
  },
  {
   "cell_type": "code",
   "execution_count": null,
   "id": "5e797a7c-8f1b-4c8d-a467-e47bc245d249",
   "metadata": {},
   "outputs": [],
   "source": [
    "a_plume_15"
   ]
  },
  {
   "cell_type": "code",
   "execution_count": null,
   "id": "6c01fc27-6aa1-4792-a59f-eb068750aaac",
   "metadata": {},
   "outputs": [],
   "source": [
    "b_plume_15"
   ]
  },
  {
   "cell_type": "code",
   "execution_count": null,
   "id": "d5bfe36d-ecc2-4be2-baf2-feaa39b0c0e4",
   "metadata": {
    "jp-MarkdownHeadingCollapsed": true,
    "tags": []
   },
   "outputs": [],
   "source": [
    "xrange = np.linspace(0.1,10)\n",
    "\n",
    "fig = plt.figure()\n",
    "fig.set_size_inches(8.25/2, 8.25/2)\n",
    "plt.scatter(plume_gamma_to_plot, plume_E0_to_plot,alpha=0.25,edgecolors='None',c='forestgreen', s=10)\n",
    "plt.plot(xrange,func_inv2(xrange,a_plume_15,b_plume_15),color='k',linestyle=':')\n",
    "plt.plot(xrange,func_inv2(xrange,a_plume_50,b_plume_50),color='darkgrey',linestyle=':')\n",
    "plt.scatter(5.9,3.6,color='k',marker='x',s=60)\n",
    "plt.scatter(2.8,4.2,color='None',edgecolors='k',s=60)\n",
    "plt.xlim(0,10)\n",
    "plt.ylim(0,40)\n",
    "sns.despine()\n",
    "plt.xlabel('$C_d^{1/2}\\Gamma_{TS} [x10^{-4}]$')\n",
    "plt.ylabel('$E_0 [x10^{-2}]$')\n",
    "fig.savefig(plot_path+'scatterplot_parameters_plume_new.pdf')\n"
   ]
  },
  {
   "cell_type": "markdown",
   "id": "6aeac941-5a37-487f-a0b4-3d00c372c3a2",
   "metadata": {},
   "source": [
    "BOXES"
   ]
  },
  {
   "cell_type": "code",
   "execution_count": null,
   "id": "f6830906-0675-4daf-803a-c16fbfd1d603",
   "metadata": {},
   "outputs": [],
   "source": [
    "box_gamma = xr.open_dataset(outputpath_simple_all + 'box_gamma_BT.nc')['gamma']\n",
    "box_C = xr.open_dataset(outputpath_simple_all + 'box_C_BT.nc')['C']"
   ]
  },
  {
   "cell_type": "code",
   "execution_count": null,
   "id": "be46d952-2988-461f-9f10-b9e63ff082e2",
   "metadata": {},
   "outputs": [],
   "source": [
    "box_gamma.isel(bootstrap=range(250)).quantile([0.05, 0.1, 0.33, 0.5, 0.66, 0.9, 0.95])"
   ]
  },
  {
   "cell_type": "code",
   "execution_count": null,
   "id": "f5f97f1c-da66-407a-b2ea-8e81f47af3d2",
   "metadata": {},
   "outputs": [],
   "source": [
    "box_gamma.isel(bootstrap=range(250,500)).quantile([0.05, 0.1, 0.33, 0.5, 0.66, 0.9, 0.95])"
   ]
  },
  {
   "cell_type": "code",
   "execution_count": null,
   "id": "696772c6-ddf0-44be-a173-9783592b31d9",
   "metadata": {},
   "outputs": [],
   "source": [
    "gamma_below_1 = box_gamma.where(box_gamma < 1, drop=True)\n",
    "gamma_below_1_and_above_025 = gamma_below_1.where(gamma_below_1 > 0.6, drop=True)"
   ]
  },
  {
   "cell_type": "code",
   "execution_count": null,
   "id": "12629df4-e69e-4475-b196-e6113ba8b651",
   "metadata": {},
   "outputs": [],
   "source": [
    "gamma_below_1_and_above_025"
   ]
  },
  {
   "cell_type": "code",
   "execution_count": null,
   "id": "fdcb4139-4072-423b-89f4-5d907cf54079",
   "metadata": {},
   "outputs": [],
   "source": [
    "inv_x2_boxes = 1/(box_gamma.values.flatten()**2)\n",
    "res_reg = stats.linregress(inv_x2_boxes,box_C.values.flatten())\n",
    "a_box = np.round(res_reg.slope,1)\n",
    "b_box = np.round(res_reg.intercept,1)"
   ]
  },
  {
   "cell_type": "code",
   "execution_count": null,
   "id": "f73d4999-452f-4277-b542-55478e63154a",
   "metadata": {},
   "outputs": [],
   "source": [
    "a_box"
   ]
  },
  {
   "cell_type": "code",
   "execution_count": null,
   "id": "09cefe33-1d19-420c-bf48-d57152cf3726",
   "metadata": {},
   "outputs": [],
   "source": [
    "b_box"
   ]
  },
  {
   "cell_type": "code",
   "execution_count": null,
   "id": "43a38151-5c97-49ac-9c5d-e155a309b349",
   "metadata": {},
   "outputs": [],
   "source": [
    "xrange = np.linspace(0.1,6)\n",
    "\n",
    "fig = plt.figure()\n",
    "fig.set_size_inches(8.25/2, 8.25/2)\n",
    "plt.scatter(box_gamma.isel(bootstrap=range(250,500)), box_C.isel(bootstrap=range(250,500)),alpha=0.3,edgecolors='None',c='indigo', s=10, label='PICO boxes, heterogeneous')\n",
    "plt.scatter(box_gamma.isel(bootstrap=range(250)), box_C.isel(bootstrap=range(250)),alpha=0.3,edgecolors='None',c='deepskyblue', s=10, label='3 boxes, heterogeneous')\n",
    "plt.plot(xrange,func_inv2_b0(xrange,a_box,b_box),color='k',linestyle=':')\n",
    "plt.scatter(2,1,color='k',marker='x',s=60)\n",
    "plt.scatter(5,2,color='k',marker='x',s=60)\n",
    "plt.scatter(0.44,20.5,color='None',edgecolors='k',s=60)\n",
    "plt.scatter(0.39,20.5,color='None',edgecolors='k',s=60)\n",
    "plt.xlim(0,6)\n",
    "plt.ylim(-5,105)\n",
    "sns.despine()\n",
    "plt.xlabel('$\\gamma_{T}^\\star$ [x10$^{-5}$ m/s]')\n",
    "plt.ylabel('$C$ [x10$^6$ m$^6$/s/kg]')\n",
    "fig.savefig(plot_path+'scatterplot_parameters_box_new.pdf')\n",
    "\n"
   ]
  },
  {
   "cell_type": "markdown",
   "id": "5c1f1a88-1692-4e9e-b07e-3fb5ca91f8d2",
   "metadata": {},
   "source": [
    "PICOP"
   ]
  },
  {
   "cell_type": "code",
   "execution_count": null,
   "id": "32cb8068-e324-4dd3-b5af-a7f7a8d87a3a",
   "metadata": {},
   "outputs": [],
   "source": [
    "picop_gamma = xr.open_dataset(outputpath_simple_all + 'picop_gamma_BT.nc')['gamma']\n",
    "picop_E0 = xr.open_dataset(outputpath_simple_all + 'picop_E0_BT.nc')['E0']"
   ]
  },
  {
   "cell_type": "code",
   "execution_count": null,
   "id": "fef97535-a08a-4b11-8205-fd5c8e7b31ff",
   "metadata": {},
   "outputs": [],
   "source": [
    "picop_E0.isel(bootstrap=range(250)).quantile([0.05, 0.1, 0.33, 0.5, 0.66, 0.9, 0.95])"
   ]
  },
  {
   "cell_type": "code",
   "execution_count": null,
   "id": "b8e186cd-aca9-456d-9f1b-5ab73c79040b",
   "metadata": {},
   "outputs": [],
   "source": [
    "picop_E0.isel(bootstrap=range(250,500)).quantile([0.05, 0.1, 0.33, 0.5, 0.66, 0.9, 0.95])"
   ]
  },
  {
   "cell_type": "code",
   "execution_count": null,
   "id": "336acab4-c8c5-499b-a01b-9edef40bc475",
   "metadata": {},
   "outputs": [],
   "source": [
    "picop_gamma_to_plot = picop_gamma*10**4\n",
    "picop_E0_to_plot = picop_E0*10**2\n"
   ]
  },
  {
   "cell_type": "code",
   "execution_count": null,
   "id": "5b2800ff-6326-4164-8c1e-ad49c4f1cea6",
   "metadata": {},
   "outputs": [],
   "source": [
    "picop_gamma_50 = picop_gamma_to_plot.where((picop_E0_to_plot <= 100) & (picop_gamma_to_plot <= 25), drop=True)\n",
    "picop_E0_50 = picop_E0_to_plot.where((picop_E0_to_plot <= 100) & (picop_gamma_to_plot <= 25), drop=True)\n",
    "\n",
    "picop_gamma_15 = picop_gamma_to_plot.where((picop_E0_to_plot <= 15) & (picop_gamma_to_plot <= 25), drop=True)\n",
    "picop_E0_15 = picop_E0_to_plot.where((picop_E0_to_plot <= 15) & (picop_gamma_to_plot <= 25), drop=True)"
   ]
  },
  {
   "cell_type": "code",
   "execution_count": null,
   "id": "29ce7649-f03d-4fbb-bb44-3ec562fb6c2d",
   "metadata": {},
   "outputs": [],
   "source": [
    "picop_gamma_arr_50 = picop_gamma_50.values\n",
    "picop_E0_arr_50 = picop_E0_50.values\n",
    "\n",
    "picop_gamma_arr_15 = picop_gamma_15.values\n",
    "picop_E0_arr_15 = picop_E0_15.values"
   ]
  },
  {
   "cell_type": "code",
   "execution_count": null,
   "id": "027e471b-d7d4-4d2f-89e2-618abec1a831",
   "metadata": {},
   "outputs": [],
   "source": [
    "picop_gamma_arr_50 "
   ]
  },
  {
   "cell_type": "code",
   "execution_count": null,
   "id": "eb51657a-3e36-4a8d-94bb-0dd28ad7e272",
   "metadata": {},
   "outputs": [],
   "source": [
    "inv_x2_boxes = 1/(picop_gamma_arr_50[np.isfinite(picop_gamma_arr_50)]**2)\n",
    "res_reg = stats.linregress(inv_x2_boxes,picop_E0_arr_50[np.isfinite(picop_gamma_arr_50)])\n",
    "a_picop_50 = np.round(res_reg.slope,1)\n",
    "b_picop_50 = np.round(res_reg.intercept,1)"
   ]
  },
  {
   "cell_type": "code",
   "execution_count": null,
   "id": "34c5f351-5f58-430a-acfb-7ea99cef64d7",
   "metadata": {},
   "outputs": [],
   "source": [
    "a_picop_50"
   ]
  },
  {
   "cell_type": "code",
   "execution_count": null,
   "id": "e6f712f5-90fc-45f9-9bf8-ea275d15f9a8",
   "metadata": {},
   "outputs": [],
   "source": [
    "b_picop_50"
   ]
  },
  {
   "cell_type": "code",
   "execution_count": null,
   "id": "5876368d-0087-49c2-9322-9c5503b3fc10",
   "metadata": {},
   "outputs": [],
   "source": [
    "inv_x2_boxes = 1/(picop_gamma_arr_15[np.isfinite(picop_gamma_arr_15)]**2)\n",
    "res_reg = stats.linregress(inv_x2_boxes,picop_E0_arr_15[np.isfinite(picop_gamma_arr_15)])\n",
    "a_picop_15 = np.round(res_reg.slope,1)\n",
    "b_picop_15 = np.round(res_reg.intercept,1)"
   ]
  },
  {
   "cell_type": "code",
   "execution_count": null,
   "id": "eee4e4c4-6784-4a19-9cb6-ef07e2d0a139",
   "metadata": {},
   "outputs": [],
   "source": [
    "a_picop_15"
   ]
  },
  {
   "cell_type": "code",
   "execution_count": null,
   "id": "60e8db71-4011-4ea3-b78b-7c8a9410c318",
   "metadata": {},
   "outputs": [],
   "source": [
    "b_picop_15"
   ]
  },
  {
   "cell_type": "code",
   "execution_count": null,
   "id": "65b6722c-8284-4823-9768-af883a10579e",
   "metadata": {},
   "outputs": [],
   "source": [
    "xrange = np.linspace(0.1,25)\n",
    "\n",
    "fig = plt.figure()\n",
    "fig.set_size_inches(8.25/2, 8.25/2)\n",
    "plt.scatter(picop_gamma_to_plot.isel(bootstrap=range(250,500)), picop_E0_to_plot.isel(bootstrap=range(250,500)),alpha=0.3,edgecolors='None',c='tomato', s=10, label='PICO boxes, heterogeneous')\n",
    "plt.scatter(picop_gamma_to_plot.isel(bootstrap=range(250)), picop_E0_to_plot.isel(bootstrap=range(250)),alpha=0.3,edgecolors='None',c='deepskyblue', s=10, label='3 boxes, heterogeneous')\n",
    "plt.plot(xrange,func_inv2(xrange,a_picop_50,b_picop_50),color='darkgrey',linestyle=':')\n",
    "plt.plot(xrange,func_inv2(xrange,a_picop_15,b_picop_15),color='k',linestyle=':')\n",
    "plt.scatter(5.9,3.6,color='k',marker='x',s=60)\n",
    "plt.scatter(0.94,30.7,color='None',edgecolors='k',s=60)\n",
    "plt.scatter(0.85,34.5,color='None',edgecolors='k',s=60)\n",
    "plt.xlim(-2,25)\n",
    "plt.ylim(-2,100)\n",
    "sns.despine()\n",
    "plt.xlabel('$C_d^{1/2}\\Gamma_{TS} [x10^{-4}]$')\n",
    "plt.ylabel('$E_0 [x10^{-2}]$')\n",
    "fig.savefig(plot_path+'scatterplot_parameters_picop_new.pdf')"
   ]
  },
  {
   "cell_type": "code",
   "execution_count": null,
   "id": "955d4123-80a8-446d-8ed2-f3c60279bb66",
   "metadata": {},
   "outputs": [],
   "source": []
  }
 ],
 "metadata": {
  "kernelspec": {
   "display_name": "ice_shelf_mask",
   "language": "python",
   "name": "ice_shelf_mask"
  },
  "language_info": {
   "codemirror_mode": {
    "name": "ipython",
    "version": 3
   },
   "file_extension": ".py",
   "mimetype": "text/x-python",
   "name": "python",
   "nbconvert_exporter": "python",
   "pygments_lexer": "ipython3",
   "version": "3.8.5"
  }
 },
 "nbformat": 4,
 "nbformat_minor": 5
}
