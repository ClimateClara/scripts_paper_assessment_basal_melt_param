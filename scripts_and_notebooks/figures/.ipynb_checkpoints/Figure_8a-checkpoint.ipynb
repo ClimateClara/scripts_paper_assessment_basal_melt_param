{
 "cells": [
  {
   "cell_type": "code",
   "execution_count": null,
   "id": "0d374a15-906b-4ece-8e5f-116001553094",
   "metadata": {},
   "outputs": [],
   "source": [
    "\"\"\"\n",
    "Created on Fri Jan 21 17:32 2021\n",
    "\n",
    "Read in tiff data of basal melt rates from Shean et al. 2019\n",
    "\n",
    "author: @claraburgard\n",
    "\"\"\""
   ]
  },
  {
   "cell_type": "code",
   "execution_count": null,
   "id": "f9d3a82e-7f13-47b6-8539-d6456006da24",
   "metadata": {},
   "outputs": [],
   "source": [
    "from osgeo import gdal\n",
    "import matplotlib.pyplot as plt\n",
    "import xarray as xr\n",
    "import matplotlib as mpl\n",
    "import cmocean\n",
    "import seaborn as sns"
   ]
  },
  {
   "cell_type": "code",
   "execution_count": null,
   "id": "f7b99d00-e22f-4ace-9f99-eebd037fc120",
   "metadata": {},
   "outputs": [],
   "source": [
    "sns.set_context('paper')"
   ]
  },
  {
   "cell_type": "markdown",
   "id": "319c606b-2bb2-42df-bf32-07c7bac6fa18",
   "metadata": {},
   "source": [
    "READ IN DATA"
   ]
  },
  {
   "cell_type": "code",
   "execution_count": null,
   "id": "0578b669-d2e8-4b7e-99d7-1a8349bdaecd",
   "metadata": {},
   "outputs": [],
   "source": [
    "inputpath = '/bettik/burgardc/DATA/BASAL_MELT_PARAM/raw/SHEAN_ET_AL_2019_MELT_RATES/'\n",
    "plot_path = '/bettik/burgardc/PLOTS/BedMachine_stuff/'"
   ]
  },
  {
   "cell_type": "code",
   "execution_count": null,
   "id": "a7316f5a-d52d-4f77-bc7e-7c7295a54d76",
   "metadata": {},
   "outputs": [],
   "source": [
    "dataset_init = gdal.Open(inputpath+'mos-tile-0_init_masked.tif')\n",
    "dataset = gdal.Open(inputpath+'mos-tile-0_masked.tif')"
   ]
  },
  {
   "cell_type": "code",
   "execution_count": null,
   "id": "29fa3797-03ef-4412-aebb-2e8ab5663452",
   "metadata": {},
   "outputs": [],
   "source": [
    "print(dataset.RasterCount)"
   ]
  },
  {
   "cell_type": "code",
   "execution_count": null,
   "id": "322a786c-70df-4d4d-8cd9-c463394502d0",
   "metadata": {},
   "outputs": [],
   "source": [
    "band1_init = dataset_init.GetRasterBand(1)\n",
    "band1 = dataset.GetRasterBand(1)"
   ]
  },
  {
   "cell_type": "code",
   "execution_count": null,
   "id": "868b044b-b093-4cde-9f6e-63edbeeb6cb9",
   "metadata": {},
   "outputs": [],
   "source": [
    "b1_init = band1_init.ReadAsArray()\n",
    "b1 = band1.ReadAsArray()"
   ]
  },
  {
   "cell_type": "code",
   "execution_count": null,
   "id": "826e8d11-42c5-4e30-ab51-1ada0804dec8",
   "metadata": {},
   "outputs": [],
   "source": [
    "img = b1\n",
    "f = plt.figure()\n",
    "plt.imshow(img)\n",
    "#plt.savefig('Tiff.png')\n",
    "plt.show()"
   ]
  },
  {
   "cell_type": "code",
   "execution_count": null,
   "id": "b00762ba-ca75-4a75-905b-4601ae36f733",
   "metadata": {},
   "outputs": [],
   "source": [
    "band1_init_xr = xr.DataArray(data=b1_init)\n",
    "band1_xr = xr.DataArray(data=b1)"
   ]
  },
  {
   "cell_type": "code",
   "execution_count": null,
   "id": "0cde5de6-5f44-4a2b-b3e2-9c0f49014b51",
   "metadata": {},
   "outputs": [],
   "source": [
    "band1_init_xr['dim_0'] = -1*band1_init_xr['dim_0'] \n",
    "band1_xr['dim_0'] = -1*band1_xr['dim_0'] "
   ]
  },
  {
   "cell_type": "code",
   "execution_count": null,
   "id": "5fbcd0e1-f003-4fb2-b325-409260540502",
   "metadata": {},
   "outputs": [],
   "source": [
    "band1_init_xr.dim_0"
   ]
  },
  {
   "cell_type": "code",
   "execution_count": null,
   "id": "f64c8df6-df41-4815-b988-36a646b82f2b",
   "metadata": {},
   "outputs": [],
   "source": [
    "f = plt.figure()\n",
    "band1_init_xr.where(band1_init_xr>-9999.).plot(vmin=0, vmax=50, cmap=mpl.cm.Reds)\n",
    "#f.savefig('/bettik/burgardc/PLOTS/BedMachine_stuff/PIGL_shean2019.png')"
   ]
  },
  {
   "cell_type": "code",
   "execution_count": null,
   "id": "0ba4c48d-f9d3-4dd3-9e79-66715ef9acc7",
   "metadata": {},
   "outputs": [],
   "source": [
    "#FIGURE FORMAT STUFF\n",
    "cmaph = mpl.cm.Reds #cmocean.cm.thermal\n",
    "levs = np.arange(0,71,10)#[245, 250, 255, 260, 265, 270, 275, 280, 285, 290, 310, 340]"
   ]
  },
  {
   "cell_type": "markdown",
   "id": "9c3d9856-e3bd-4487-a2fa-47b26ddfeac5",
   "metadata": {},
   "source": [
    "PLOT FIGURE 9A, LEFT"
   ]
  },
  {
   "cell_type": "code",
   "execution_count": null,
   "id": "98d2ca93-221e-48ed-8eec-5eacb46656d4",
   "metadata": {},
   "outputs": [],
   "source": [
    "xmin=0\n",
    "ymax=-540\n",
    "\n",
    "fig = plt.figure()\n",
    "fig.set_size_inches(8.25*1.7/5, 8.25/4.5)\n",
    "band1_init_xr.where(band1_init_xr>-9999.).plot.contourf(cmap=cmaph,vmin=0,vmax=70,levels=levs,extend='both')\n",
    "maxmelt = band1_init_xr.where(band1_init_xr>-9999.).quantile(0.9).values\n",
    "plt.text(xmin,ymax,'Melt 90pctl = '+str(np.round(maxmelt,1)))\n",
    "plt.xticks([])\n",
    "plt.xlabel('')\n",
    "plt.yticks([])\n",
    "plt.ylabel('')\n",
    "plt.title('')\n",
    "plt.tight_layout()\n",
    "fig.savefig(plot_path+'spatial_pattern_PIGL_shean19.png', dpi=300)"
   ]
  },
  {
   "cell_type": "markdown",
   "id": "f4fcdc7e-1490-4d05-8589-b1ffee5632a2",
   "metadata": {},
   "source": [
    "PLOT FIGURE 9A, RIGHT"
   ]
  },
  {
   "cell_type": "code",
   "execution_count": null,
   "id": "738d119c-1c1e-43fd-ac57-3aea8d37c214",
   "metadata": {},
   "outputs": [],
   "source": [
    "xmin=0\n",
    "ymax=-540\n",
    "levs = np.arange(0,1.1,0.1)#[245, 250, 255, 260, 265, 270, 275, 280, 285, 290, 310, 340]\n",
    "\n",
    "fig = plt.figure()\n",
    "fig.set_size_inches(8.25*1.7/5, 8.25/4.5)\n",
    "maxmelt = band1_init_xr.where(band1_init_xr>-9999.).quantile(0.9).values\n",
    "norm_pattern = (band1_init_xr.where(band1_init_xr>-9999.))/maxmelt\n",
    "norm_pattern.plot.contourf(cmap=cmaph,vmin=0,vmax=70,levels=levs,extend='both')\n",
    "#plt.text(xmin,ymax,'Melt 90pctl = '+str(np.round(maxmelt,1)))\n",
    "plt.xticks([])\n",
    "plt.xlabel('')\n",
    "plt.yticks([])\n",
    "plt.ylabel('')\n",
    "plt.title('')\n",
    "plt.tight_layout()\n",
    "fig.savefig(plot_path+'spatial_pattern_PIGL_norm_shean19.png', dpi=300)"
   ]
  }
 ],
 "metadata": {
  "kernelspec": {
   "display_name": "ice_shelf_mask",
   "language": "python",
   "name": "ice_shelf_mask"
  },
  "language_info": {
   "codemirror_mode": {
    "name": "ipython",
    "version": 3
   },
   "file_extension": ".py",
   "mimetype": "text/x-python",
   "name": "python",
   "nbconvert_exporter": "python",
   "pygments_lexer": "ipython3",
   "version": "3.8.5"
  }
 },
 "nbformat": 4,
 "nbformat_minor": 5
}
