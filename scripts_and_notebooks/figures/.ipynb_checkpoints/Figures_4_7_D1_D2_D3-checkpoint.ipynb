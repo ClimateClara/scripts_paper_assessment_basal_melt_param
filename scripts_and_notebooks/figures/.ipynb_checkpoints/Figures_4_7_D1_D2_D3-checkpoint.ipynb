{
 "cells": [
  {
   "cell_type": "code",
   "execution_count": null,
   "id": "2ca933d6-150b-4f4a-b201-b7b148ff4723",
   "metadata": {},
   "outputs": [],
   "source": [
    "\"\"\"\n",
    "Created on Fri Aug 12 11:43 2022\n",
    "\n",
    "This script is to produce Figures 4, 7, D1, D2, D3 absed on output of \"evalmetrics_results_CV.ipynb\"\n",
    "\n",
    "@author: Clara Burgard\n",
    "\"\"\""
   ]
  },
  {
   "cell_type": "code",
   "execution_count": null,
   "id": "f3af0894-254a-405e-b9d2-5ab5e714b194",
   "metadata": {},
   "outputs": [],
   "source": [
    "import xarray as xr\n",
    "import numpy as np\n",
    "import pandas as pd\n",
    "from tqdm.notebook import tqdm\n",
    "import matplotlib.pyplot as plt\n",
    "import matplotlib as mpl\n",
    "import glob"
   ]
  },
  {
   "cell_type": "code",
   "execution_count": null,
   "id": "bd5dcb17-11d8-47f6-9e92-82d150f2aed4",
   "metadata": {},
   "outputs": [],
   "source": [
    "%matplotlib qt5"
   ]
  },
  {
   "cell_type": "markdown",
   "id": "ad5f5ca1-f446-4d2e-992e-df99297d7d29",
   "metadata": {},
   "source": [
    "READ IN DATA"
   ]
  },
  {
   "cell_type": "code",
   "execution_count": null,
   "id": "ca0de80d-4a0c-4006-a911-50a985b5cd1a",
   "metadata": {},
   "outputs": [],
   "source": [
    "home_path='/bettik/burgardc/'\n",
    "plot_path = '/bettik/burgardc/PLOTS/generic_plots/'"
   ]
  },
  {
   "cell_type": "code",
   "execution_count": null,
   "id": "f82964d6-0def-4579-acaf-de57dd37f84f",
   "metadata": {},
   "outputs": [],
   "source": [
    "inputpath_mask = '/bettik/burgardc/SCRIPTS/basal_melt_param/data/interim/ANTARCTICA_IS_MASKS/nemo_5km_OPM006/'\n",
    "file_isf_orig = xr.open_dataset(inputpath_mask+'nemo_5km_isf_masks_and_info_and_distance_new_oneFRIS.nc')\n",
    "nonnan_Nisf = file_isf_orig['Nisf'].where(np.isfinite(file_isf_orig['front_bot_depth_max']), drop=True).astype(int)\n",
    "file_isf_nonnan = file_isf_orig.sel(Nisf=nonnan_Nisf)\n",
    "large_isf = file_isf_nonnan['Nisf'].where(file_isf_nonnan['isf_area_here'] >= 2500, drop=True)\n",
    "file_isf = file_isf_nonnan.sel(Nisf=large_isf)\n",
    "file_isf['isf_name'] = file_isf['isf_name'].where(file_isf['isf_name'] != 'Ekstrom', np.array('Ekström', dtype=object))\n",
    "isf_names = file_isf['isf_name']"
   ]
  },
  {
   "cell_type": "code",
   "execution_count": null,
   "id": "a30269fd-18f5-459f-9f9f-b0369302de81",
   "metadata": {},
   "outputs": [],
   "source": [
    "region_list = []\n",
    "for kisf in file_isf.Nisf:\n",
    "    if file_isf['isf_name'].sel(Nisf=kisf).values in ['Ross','Nickerson','Sulzberger', 'Cook']:\n",
    "        region_list.append('East and West Ross')\n",
    "    elif file_isf['isf_name'].sel(Nisf=kisf).values in ['Filchner','Ronne','Filchner-Ronne']:\n",
    "        region_list.append('Weddell')        \n",
    "    elif file_isf['isf_name'].sel(Nisf=kisf).values in ['Ekström','Nivl','Prince Harald','Riiser-Larsen','Fimbul','Roi Baudouin','Lazarev','Stancomb Brunt','Jelbart','Borchgrevink']:\n",
    "        region_list.append('Dronning Maud Land')\n",
    "    elif file_isf['isf_name'].sel(Nisf=kisf).values in ['Getz','Thwaites','Crosson','Dotson','Cosgrove','Pine Island']:\n",
    "        region_list.append('Amundsen')\n",
    "    elif file_isf['isf_name'].sel(Nisf=kisf).values in ['Venable','George VI','Abbot','Stange','Larsen C','Bach','Larsen D','Wilkins']:\n",
    "        region_list.append('Peninsula and Bellinghausen')\n",
    "    elif file_isf['isf_name'].sel(Nisf=kisf).values in ['Amery','Moscow Univ.','Tracy Tremenchus','Totten','West','Shackleton']:\n",
    "        region_list.append('East Antarctica')\n",
    "    else:\n",
    "        print('Argh, help me, '+file_isf['isf_name'].sel(Nisf=kisf).values+' has no region assigned!')\n",
    "# 6 regions\n",
    "# regions = ['East and West Ross','Weddell','Dronning Maud Land','Amundsen','Peninsula and Bellinghausen','East Antarctica']\n",
    "file_isf['region'] = xr.DataArray(data=region_list,dims='Nisf')"
   ]
  },
  {
   "cell_type": "code",
   "execution_count": null,
   "id": "11e7e1ac-a505-4091-9b9f-64dfcaaba94b",
   "metadata": {},
   "outputs": [],
   "source": [
    "regions = ['Weddell','Peninsula and Bellinghausen','Amundsen','East and West Ross','East Antarctica','Dronning Maud Land']"
   ]
  },
  {
   "cell_type": "code",
   "execution_count": null,
   "id": "d7b1c396-526b-41bc-8621-03493c15980f",
   "metadata": {},
   "outputs": [],
   "source": [
    "# sort ice shelves by regions\n",
    "nisf_by_reg_list = []\n",
    "for rr, reg in enumerate(regions):\n",
    "    subset_isf = file_isf.Nisf.where(file_isf['region']==reg,drop=True)\n",
    "    nisf_by_reg_list.append(subset_isf.values)\n",
    "nisf_by_reg_list = np.concatenate(nisf_by_reg_list)"
   ]
  },
  {
   "cell_type": "code",
   "execution_count": null,
   "id": "2eef30a9-5296-4458-8df9-1e8a5eebb96a",
   "metadata": {},
   "outputs": [],
   "source": [
    "run_list = ['OPM006','OPM016','OPM018','OPM021']\n",
    "\n",
    "diff_Gt_CVtime_list = []\n",
    "diff_box1_CVtime_list = []\n",
    "diff_Gt_CVisf_list = []\n",
    "diff_box1_CVisf_list = []\n",
    "\n",
    "ref_Gt_list = []\n",
    "ref_box1_list = []\n",
    "Gt_CVtime_list = []\n",
    "Gt_CVisf_list = []\n",
    "\n",
    "\n",
    "for n,nemo_run in enumerate(run_list):\n",
    "\n",
    "    outputpath_melt = home_path+'DATA/BASAL_MELT_PARAM/processed/MELT_RATE/nemo_5km_'+nemo_run+'/'\n",
    "\n",
    "    ### READ IN THE REFERENCE\n",
    "    NEMO_melt_rates_1D = xr.open_dataset(outputpath_melt+'melt_rates_1D_NEMO_oneFRIS.nc')\n",
    "    ref_Gt = NEMO_melt_rates_1D['melt_Gt_per_y_tot']\n",
    "    ref_Gt_list.append(ref_Gt)\n",
    "    NEMO_box1_myr = xr.open_dataset(outputpath_melt+'melt_rates_box1_NEMO_oneFRIS.nc')\n",
    "    ref_box1 = NEMO_box1_myr['mean_melt_box1_myr']\n",
    "    ref_box1_list.append(ref_box1)\n",
    "    \n",
    "    ### READ IN THE PARAM FILES - CV TIME\n",
    "    \n",
    "    # Param files\n",
    "    outputpath_melt = home_path+'DATA/BASAL_MELT_PARAM/processed/MELT_RATE/nemo_5km_'+nemo_run+'/'\n",
    "    melt_param_files_CVtime = list(sorted(glob.glob(outputpath_melt+'eval_metrics_1D_*_CVtime.nc')))\n",
    "    \n",
    "    # create the list of parameterisation names to fill the param dimension\n",
    "    param_list = []\n",
    "    for mfilename in melt_param_files_CVtime:\n",
    "        paramname = mfilename[91:157].split('.')[0].split('_')[:-2]\n",
    "        mparam = '_'.join(paramname)\n",
    "        param_list.append(mparam)\n",
    "    \n",
    "    ds_melt_param_CVtime  = xr.open_mfdataset(melt_param_files_CVtime, concat_dim='new_param', combine='nested', coords='minimal',compat='override')#, chunks={'x': chunksize, 'y': chunksize})\n",
    "    if 'option' in ds_melt_param_CVtime.coords:        \n",
    "        ds_melt_param_CVtime = ds_melt_param_CVtime.drop('param').drop('option')\n",
    "    else:\n",
    "        ds_melt_param_CVtime = ds_melt_param_CVtime.drop('param')\n",
    "    ds_melt_param_CVtime = ds_melt_param_CVtime.rename({'new_param': 'param'})\n",
    "    ds_melt_param_CVtime = ds_melt_param_CVtime.assign_coords(param=param_list)\n",
    "    Gt_CVtime_list.append(ds_melt_param_CVtime['melt_1D_Gt_per_y'])\n",
    "    diff_Gt_CVtime = ds_melt_param_CVtime['melt_1D_Gt_per_y'] - ref_Gt\n",
    "    # create new time dimension to concatenate all runs over one time axis\n",
    "    diff_Gt_CVtime = diff_Gt_CVtime.assign_coords({'time': np.arange(1,len(diff_Gt_CVtime.time)+1)+n*50})\n",
    "    diff_Gt_CVtime_list.append(diff_Gt_CVtime)\n",
    "    diff_box1_CVtime = ds_melt_param_CVtime['melt_1D_mean_myr_box1'].mean('time') - ref_box1.mean('time')\n",
    "    diff_box1_CVtime_list.append(diff_box1_CVtime)\n",
    "    \n",
    "    ### READ IN THE PARAM FILES - CV ISF\n",
    "\n",
    "    melt_param_files_CVisf = list(sorted(glob.glob(outputpath_melt+'eval_metrics_1D_*_CVshelves.nc')))\n",
    "    ds_melt_param_CVisf  = xr.open_mfdataset(melt_param_files_CVisf, concat_dim='new_param', combine='nested', coords='minimal',compat='override')#, chunks={'x': chunksize, 'y': chunksize})\n",
    "    if 'option' in ds_melt_param_CVisf.coords:        \n",
    "        ds_melt_param_CVisf  = ds_melt_param_CVisf.drop('param').drop('option')\n",
    "    else:\n",
    "        ds_melt_param_CVisf  = ds_melt_param_CVisf.drop('param')\n",
    "    ds_melt_param_CVisf = ds_melt_param_CVisf.rename({'new_param': 'param'})\n",
    "    ds_melt_param_CVisf = ds_melt_param_CVisf.assign_coords(param=param_list)\n",
    "    Gt_CVisf_list.append(ds_melt_param_CVisf['melt_1D_Gt_per_y'])\n",
    "    diff_Gt_CVisf = ds_melt_param_CVisf['melt_1D_Gt_per_y'] - ref_Gt\n",
    "    # create new time dimension to concatenate all runs over one time axis\n",
    "    diff_Gt_CVisf = diff_Gt_CVisf.assign_coords({'time': np.arange(1,len(diff_Gt_CVisf.time)+1)+n*50})\n",
    "    diff_Gt_CVisf_list.append(diff_Gt_CVisf)\n",
    "    diff_box1_CVisf = ds_melt_param_CVisf['melt_1D_mean_myr_box1'].mean('time') - ref_box1.mean('time')\n",
    "    diff_box1_CVisf_list.append(diff_box1_CVisf)\n",
    "        \n",
    "# Merge all either over time or nemo_run\n",
    "# melt in Gt/yr\n",
    "Gt_all_CVtime = xr.concat(Gt_CVtime_list, dim='nemo_run')\n",
    "Gt_all_CVisf = xr.concat(Gt_CVisf_list, dim='nemo_run')\n",
    "# difference melt Gt/yr and melt nnear grounding line between param and reference\n",
    "diff_Gt_all_CVtime = xr.concat(diff_Gt_CVtime_list, dim='time')\n",
    "diff_box1_all_CVtime = xr.concat(diff_box1_CVtime_list, dim='nemo_run')   \n",
    "diff_Gt_all_CVisf = xr.concat(diff_Gt_CVisf_list, dim='time')\n",
    "diff_box1_all_CVisf = xr.concat(diff_box1_CVisf_list, dim='nemo_run') \n",
    "# reference metrics\n",
    "ref_Gt_all = xr.concat(ref_Gt_list, dim='nemo_run')\n",
    "ref_box1_all = xr.concat(ref_box1_list, dim='nemo_run')"
   ]
  },
  {
   "cell_type": "code",
   "execution_count": null,
   "id": "09c7ea00-d941-473b-a827-1248c832693f",
   "metadata": {},
   "outputs": [],
   "source": [
    "# mean melt near grounding line over all ice shelves\n",
    "mean_box1_all = ref_box1_all.mean()\n",
    "mean_box1_all"
   ]
  },
  {
   "cell_type": "code",
   "execution_count": null,
   "id": "b166cd91-117c-41ef-b9fb-c1f4aa123bfb",
   "metadata": {},
   "outputs": [],
   "source": [
    "# mean integrated melt\n",
    "tot_Gt = ref_Gt_all.mean('time').mean('nemo_run').mean('Nisf')\n",
    "tot_Gt"
   ]
  },
  {
   "cell_type": "markdown",
   "id": "ebe53eb8-8240-4c79-9279-08d4b092f25b",
   "metadata": {},
   "source": [
    "PLOT FIGURE D1"
   ]
  },
  {
   "cell_type": "code",
   "execution_count": null,
   "id": "af08d622-f3e3-4b9a-8c59-ee9636fd7c94",
   "metadata": {},
   "outputs": [],
   "source": [
    "mean_over_time_Gt = ref_Gt_all.mean('time')\n",
    "std_over_time_Gt = ref_Gt_all.std('time')\n",
    "mean_over_time_box1 = ref_box1_all.mean('time')\n",
    "std_over_time_box1 = ref_box1_all.std('time')"
   ]
  },
  {
   "cell_type": "code",
   "execution_count": null,
   "id": "c8c80858-b2c8-488d-b11e-f7e36fe896bb",
   "metadata": {},
   "outputs": [],
   "source": [
    "fig, axs = plt.subplots(1, 2,figsize=(8.24*1.4,8.24/1.1),sharey=True)\n",
    "isf_names_str = isf_names.values.astype(str).tolist()\n",
    "\n",
    "for kisf in nisf_by_reg_list[::-1]:\n",
    "\n",
    "    isf_name_str = isf_names.sel(Nisf=kisf).values.astype(str).tolist()\n",
    "\n",
    "    for nrun in mean_over_time_Gt.nemo_run:\n",
    "        \n",
    "        if nrun == 0:\n",
    "            ccolor = 'magenta'\n",
    "        elif nrun == 1:\n",
    "            ccolor = 'brown'\n",
    "        elif nrun == 2:\n",
    "            ccolor = 'orange'\n",
    "        elif nrun == 3:\n",
    "            ccolor = 'red'\n",
    "            \n",
    "        axs[0].errorbar(mean_over_time_Gt.sel(Nisf=kisf, nemo_run=nrun).values, np.array([isf_name_str]), xerr=std_over_time_Gt.sel(Nisf=kisf, nemo_run=nrun).values,c=ccolor, fmt ='o', markersize=3)\n",
    "        axs[0].axvline(x=tot_Gt,c='darkgray',linestyle='--',linewidth=0.7)\n",
    "        axs[1].errorbar(mean_over_time_box1.sel(Nisf=kisf, nemo_run=nrun).values, np.array([isf_name_str]), xerr=std_over_time_box1.sel(Nisf=kisf, nemo_run=nrun).values,c=ccolor, fmt ='o', markersize=3)\n",
    "        axs[1].axvline(x=mean_box1_all,c='darkgray',linestyle='--',linewidth=0.7)\n",
    "        \n",
    "sns.despine()\n",
    "plt.savefig(plot_path+'reference_melt_with_errorbars.pdf')"
   ]
  },
  {
   "cell_type": "markdown",
   "id": "ea670758-266c-4af1-8c8f-4d9d56f5cc15",
   "metadata": {},
   "source": [
    "PLOT FIGURE 4"
   ]
  },
  {
   "cell_type": "code",
   "execution_count": null,
   "id": "999d3a59-ca98-4ae6-a248-bd82b52c31ac",
   "metadata": {},
   "outputs": [],
   "source": [
    "RMSE_Gt_all_CVtime = np.sqrt((diff_Gt_all_CVtime**2).mean(['time','Nisf']))\n",
    "RMSE_box1_all_CVtime = np.sqrt((diff_box1_all_CVtime**2).mean(['nemo_run','Nisf']))\n",
    "RMSE_Gt_all_CVisf = np.sqrt((diff_Gt_all_CVisf**2).mean(['time','Nisf']))\n",
    "RMSE_box1_all_CVisf = np.sqrt((diff_box1_all_CVisf**2).mean(['nemo_run','Nisf']))"
   ]
  },
  {
   "cell_type": "code",
   "execution_count": null,
   "id": "9c72e897-f8a1-44c4-a9dc-b73b9d2d0a35",
   "metadata": {},
   "outputs": [],
   "source": [
    "param_list_of_int = ['linear_local', 'quadratic_local', 'quadratic_local_cavslope',\n",
    "                    'quadratic_local_locslope', 'quadratic_mixed_mean','quadratic_mixed_cavslope',\n",
    "                    'quadratic_mixed_locslope', \n",
    "                    'lazero19_2','lazero19_modif2',\n",
    "                     'boxes_1_pismyes_picopno','boxes_2_pismyes_picopno','boxes_3_pismyes_picopno','boxes_4_pismyes_picopno',\n",
    "                     'boxes_3_pismyes_picopyes', 'boxes_4_pismno_picopyes']\n",
    "\n",
    "param_simple_list = ['linear_local', 'quadratic_local', 'quadratic_local_cavslope',\n",
    "                   'quadratic_local_locslope', 'quadratic_mixed_cavslope',\n",
    "                   'quadratic_mixed_locslope', 'quadratic_mixed_mean']\n",
    "param_plume_list = ['lazero19_2','lazero19_modif2']\n",
    "param_box_list_hetero =  ['boxes_1_pismyes_picopno','boxes_2_pismyes_picopno','boxes_3_pismyes_picopno','boxes_4_pismyes_picopno'] #'boxes_1_pismno_picopno','boxes_2_pismno_picopno','boxes_3_pismno_picopno','boxes_4_pismno_picopno',\n",
    "param_picop_list = ['boxes_3_pismyes_picopyes', 'boxes_4_pismno_picopyes']\n"
   ]
  },
  {
   "cell_type": "code",
   "execution_count": null,
   "id": "40cec768-7a8d-4df4-b962-69edc26faa9e",
   "metadata": {},
   "outputs": [],
   "source": [
    "# for Tables\n",
    "for mparam in param_list_of_int:\n",
    "    print(mparam, RMSE_Gt_all_CVtime.sel(param=mparam).values)\n"
   ]
  },
  {
   "cell_type": "markdown",
   "id": "8ad03de1-1f70-4af9-9cfe-ec08ebdd7d09",
   "metadata": {},
   "source": [
    "PLOT FIGURE 4"
   ]
  },
  {
   "cell_type": "code",
   "execution_count": null,
   "id": "17772068-bcae-4b5b-b73a-2a02ccfaba27",
   "metadata": {},
   "outputs": [],
   "source": [
    "fig, axs = plt.subplots(1, 2,figsize=(8.24*1.25/1.5,8.24*1.25/2),sharey=True)\n",
    "for mparam in param_list_of_int[::-1]:\n",
    "    \n",
    "    if mparam in param_plume_list:\n",
    "        ccolor = 'darkorange'\n",
    "    elif mparam in param_box_list_hetero:\n",
    "        ccolor = 'purple'\n",
    "    elif mparam in param_picop_list:\n",
    "        ccolor = 'maroon'\n",
    "    elif mparam in param_simple_list:\n",
    "        ccolor = 'gold'\n",
    "        \n",
    "    axs[0].scatter(RMSE_Gt_all_CVtime.sel(param=mparam, profile_domain=50),mparam,marker='x',c='k', s=50)\n",
    "    axs[1].scatter(RMSE_Gt_all_CVtime.sel(param=mparam, profile_domain=1000),mparam,marker='x',c='k', s=50)\n",
    "    axs[0].scatter(RMSE_Gt_all_CVtime.sel(param=mparam, profile_domain=50),mparam,marker='o',c=ccolor, s=20)\n",
    "    axs[1].scatter(RMSE_Gt_all_CVtime.sel(param=mparam, profile_domain=1000),mparam,marker='o',c=ccolor, s=20)\n",
    "\n",
    "    axs[0].scatter(RMSE_Gt_all_CVisf.sel(param=mparam, profile_domain=50),mparam,marker='+',c='k', s=120)\n",
    "    axs[1].scatter(RMSE_Gt_all_CVisf.sel(param=mparam, profile_domain=1000),mparam,marker='+',c='k', s=120)\n",
    "    axs[0].scatter(RMSE_Gt_all_CVisf.sel(param=mparam, profile_domain=50),mparam,marker='o',c=ccolor, s=20)\n",
    "    axs[1].scatter(RMSE_Gt_all_CVisf.sel(param=mparam, profile_domain=1000),mparam,marker='o',c=ccolor, s=20)\n",
    "\n",
    "axs[0].set_xlim(20,90)\n",
    "axs[1].set_xlim(20,90)\n",
    "\n",
    "sns.despine()\n",
    "plt.savefig(plot_path+'RMSE_scatter_offshore_CV.pdf')"
   ]
  },
  {
   "cell_type": "markdown",
   "id": "1f560e33-6933-4d34-aec1-e9fd27d3604c",
   "metadata": {},
   "source": [
    "PLOT FIGURE 7"
   ]
  },
  {
   "cell_type": "code",
   "execution_count": null,
   "id": "446f3fd5-d3ca-4d76-8b06-28121ffa864d",
   "metadata": {},
   "outputs": [],
   "source": [
    "fig, axs = plt.subplots(1, 2,figsize=(8.24*1.25/1.5,8.24*1.25/2),sharey=True)\n",
    "for mparam in param_list_of_int[::-1]:\n",
    "    \n",
    "    if mparam in param_plume_list:\n",
    "        ccolor = 'darkorange'\n",
    "    elif mparam in param_box_list_hetero:\n",
    "        ccolor = 'purple'\n",
    "    elif mparam in param_picop_list:\n",
    "        ccolor = 'maroon'\n",
    "    elif mparam in param_simple_list:\n",
    "        ccolor = 'gold'\n",
    "        \n",
    "    if 'profile_domain' in RMSE_Gt_all_CVtime.coords:\n",
    "        axs[0].scatter(RMSE_Gt_all_CVtime.sel(param=mparam, profile_domain=50),mparam,marker='x',c='k', s=50)\n",
    "        axs[1].scatter(RMSE_box1_all_CVtime.sel(param=mparam, profile_domain=50),mparam,marker='x',c='k', s=50)\n",
    "        axs[0].scatter(RMSE_Gt_all_CVtime.sel(param=mparam, profile_domain=50),mparam,marker='o',c=ccolor, s=20)\n",
    "        axs[1].scatter(RMSE_box1_all_CVtime.sel(param=mparam, profile_domain=50),mparam,marker='o',c=ccolor, s=20)\n",
    "\n",
    "        axs[0].scatter(RMSE_Gt_all_CVisf.sel(param=mparam, profile_domain=50),mparam,marker='+',c='k', s=120)\n",
    "        axs[1].scatter(RMSE_box1_all_CVisf.sel(param=mparam, profile_domain=50),mparam,marker='+',c='k', s=120)\n",
    "        axs[0].scatter(RMSE_Gt_all_CVisf.sel(param=mparam, profile_domain=50),mparam,marker='o',c=ccolor, s=20)\n",
    "        axs[1].scatter(RMSE_box1_all_CVisf.sel(param=mparam, profile_domain=50),mparam,marker='o',c=ccolor, s=20)\n",
    "\n",
    "axs[0].set_xlim(20,90)\n",
    "axs[1].set_xlim(0,2.05)\n",
    "\n",
    "sns.despine()\n",
    "plt.savefig(plot_path+'RMSE_scatter_box1_CV.pdf')"
   ]
  },
  {
   "cell_type": "markdown",
   "id": "7128b20b-a1d5-4495-bc4f-aab84e3bc124",
   "metadata": {},
   "source": [
    "HEATMAPS"
   ]
  },
  {
   "cell_type": "markdown",
   "id": "d46da2da-d858-42f0-9462-bb93b6d1211a",
   "metadata": {},
   "source": [
    "PLOT FIGURE D2"
   ]
  },
  {
   "cell_type": "code",
   "execution_count": null,
   "id": "2c84fa7d-11cc-4d81-a34a-0f7ce94ee586",
   "metadata": {},
   "outputs": [],
   "source": [
    "plotted_var = diff_Gt_all_CVisf.mean('time').sel(profile_domain=50,param=param_list_of_int,Nisf=nisf_by_reg_list)\n",
    "plotted_var2 = diff_Gt_all_CVisf.mean('time').sel(profile_domain=1000,param=param_list_of_int,Nisf=nisf_by_reg_list)\n",
    "\n",
    "\n",
    "x = np.arange(len(plotted_var.param))\n",
    "y = np.arange(len(plotted_var.Nisf))\n",
    "\n",
    "fig, axs = plt.subplots(2, 1,figsize=((len(y)+1)/(2*1.5),(len(x)+2)/1.5))\n",
    "ax0 = axs[0].imshow(plotted_var.values, cmap=plt.cm.coolwarm, vmin=-100, vmax=100)\n",
    "ax1 = axs[1].imshow(plotted_var2.values, cmap=plt.cm.coolwarm, vmin=-100, vmax=100)\n",
    "axs[0].set_yticklabels(labels=np.round(RMSE_Gt_all_CVisf.sel(profile_domain=50,param=param_list_of_int).values,1))\n",
    "axs[1].set_yticklabels(labels=np.round(RMSE_Gt_all_CVisf.sel(profile_domain=1000,param=param_list_of_int).values,1))\n",
    "\n",
    "for j, dom in enumerate([50, 1000]):\n",
    "    axs[j].yaxis.tick_right()\n",
    "    axs[j].set_yticks(x)\n",
    "    axs[j].yaxis.tick_right()\n",
    "    if j==0:\n",
    "        axs[j].xaxis.tick_top()    \n",
    "        axs[j].set_xticks(y)\n",
    "        axs[j].set_xticklabels(labels=isf_names.sel(Nisf=plotted_var.Nisf).values, rotation=90)\n",
    "    else:\n",
    "        axs[j].set_xticks([])\n",
    "        axs[j].set_xticklabels(labels=[])\n",
    "\n",
    "cb_ax = fig.add_axes([0.15, 0.08, 0.7, 0.02])\n",
    "cbar = fig.colorbar(ax0, cax=cb_ax, extend='both',orientation='horizontal')\n",
    "fig.savefig(plot_path+'heatmap_meandiff_CVisf_allruns.pdf')"
   ]
  },
  {
   "cell_type": "markdown",
   "id": "3675282e-b820-4494-87ec-b5268977a832",
   "metadata": {},
   "source": [
    "PLOT FIGURE D3"
   ]
  },
  {
   "cell_type": "code",
   "execution_count": null,
   "id": "b446e396-c5df-4522-91b0-f5d0ac0917f5",
   "metadata": {},
   "outputs": [],
   "source": [
    "plotted_var = diff_box1_all_CVisf.mean('nemo_run').sel(profile_domain=50,param=param_list_of_int,Nisf=nisf_by_reg_list)\n",
    "\n",
    "\n",
    "x = np.arange(len(plotted_var.param))\n",
    "y = np.arange(len(plotted_var.Nisf))\n",
    "\n",
    "fig, axs = plt.subplots(1, 1,figsize=((len(y)+1)/4,(len(x)+2)/2.75))\n",
    "ax0 = axs.imshow(plotted_var.values, cmap=plt.cm.coolwarm, vmin=-3, vmax=3)\n",
    "axs.set_yticklabels(labels=np.round(RMSE_box1_all_CVisf.sel(profile_domain=50,param=param_list_of_int).values,2))\n",
    "\n",
    "for j, dom in enumerate([50]):\n",
    "    axs.yaxis.tick_right()\n",
    "    axs.set_yticks(x)\n",
    "    axs.yaxis.tick_right()\n",
    "\n",
    "    axs.xaxis.tick_top()    \n",
    "    axs.set_xticks(y)\n",
    "    axs.set_xticklabels(labels=isf_names.sel(Nisf=plotted_var.Nisf).values, rotation=90)\n",
    "\n",
    "\n",
    "cb_ax = fig.add_axes([0.15, 0.08, 0.7, 0.02])\n",
    "cbar = fig.colorbar(ax0, cax=cb_ax, extend='both',orientation='horizontal')\n",
    "plt.tight_layout()\n",
    "fig.savefig(plot_path+'heatmap_meandiff_box1_CVisf_allruns.pdf')"
   ]
  }
 ],
 "metadata": {
  "kernelspec": {
   "display_name": "ice_shelf_mask",
   "language": "python",
   "name": "ice_shelf_mask"
  },
  "language_info": {
   "codemirror_mode": {
    "name": "ipython",
    "version": 3
   },
   "file_extension": ".py",
   "mimetype": "text/x-python",
   "name": "python",
   "nbconvert_exporter": "python",
   "pygments_lexer": "ipython3",
   "version": "3.8.5"
  }
 },
 "nbformat": 4,
 "nbformat_minor": 5
}
